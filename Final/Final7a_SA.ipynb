{
 "cells": [
  {
   "cell_type": "code",
   "execution_count": 53,
   "metadata": {},
   "outputs": [],
   "source": [
    "import numpy  as np\n",
    "import pandas as pd\n",
    "import matplotlib.pyplot as plt\n",
    "import sys\n",
    "import sa\n",
    "from random import choice, shuffle, sample, uniform\n",
    "import math"
   ]
  },
  {
   "cell_type": "code",
   "execution_count": 54,
   "metadata": {},
   "outputs": [
    {
     "name": "stdout",
     "output_type": "stream",
     "text": [
      "[[0.     0.6347 0.3231 0.251  0.2727 0.4968 0.5144 0.2105]\n",
      " [0.6347 0.     0.9375 0.5755 0.6472 0.2507 0.2808 0.7916]\n",
      " [0.3231 0.9375 0.     0.4092 0.3636 0.8195 0.7615 0.1527]\n",
      " [0.251  0.5755 0.4092 0.     0.073  0.5427 0.3577 0.2577]\n",
      " [0.2727 0.6472 0.3636 0.073  0.     0.6136 0.4204 0.2187]\n",
      " [0.4968 0.2507 0.8195 0.5427 0.6136 0.     0.4048 0.6918]\n",
      " [0.5144 0.2808 0.7615 0.3577 0.4204 0.4048 0.     0.6088]\n",
      " [0.2105 0.7916 0.1527 0.2577 0.2187 0.6918 0.6088 0.    ]]\n",
      "8\n"
     ]
    }
   ],
   "source": [
    "tmp_list = []\n",
    "with open('p7.txt', 'r') as file:\n",
    "    for row in file:\n",
    "        tmp_list.append(row.split())\n",
    "distance = np.array(tmp_list).astype('float')\n",
    "print(distance)\n",
    "\n",
    "N = len(distance)\n",
    "print(N)\n",
    "start = 0"
   ]
  },
  {
   "cell_type": "markdown",
   "metadata": {},
   "source": [
    "### Question 7a"
   ]
  },
  {
   "cell_type": "code",
   "execution_count": 55,
   "metadata": {},
   "outputs": [],
   "source": [
    "def SimulatedAnnealing(curnode, nextnodeList, t):\n",
    "\n",
    "    if nextnodeList == None or len(nextnodeList) < 1:\n",
    "        return 0\n",
    "    maxcost = sys.maxsize\n",
    "    retnode = 0\n",
    "\n",
    "    for node in nextnodeList:\n",
    "        t *= 0.98\n",
    "        if distance[curnode][node] < maxcost:\n",
    "            maxcost = distance[curnode][node]\n",
    "            retnode = node\n",
    "        else:\n",
    "            r = math.exp((distance[curnode][node] - maxcost)/t)\n",
    "            if distance[curnode][node] > maxcost and t > t_min and math.exp((distance[curnode][node] - maxcost) / t) > r:\n",
    "                retnode = node\n",
    "                maxcost = distance[curnode][node]\n",
    "                return(retnode, maxcost, t)\n",
    "\n",
    "    return (retnode, maxcost, t)"
   ]
  },
  {
   "cell_type": "code",
   "execution_count": 56,
   "metadata": {},
   "outputs": [],
   "source": [
    "num_cities = len(distance)\n",
    "indexList = [i for i in range(num_cities)]\n",
    "tripList = []\n",
    "\n",
    "# Starting from city 1:\n",
    "tripList.append(0)\n",
    "indexList.remove(0)\n",
    "\n",
    "mincost = 0\n",
    "count = 0\n",
    "t = 100\n",
    "t_min = 50\n",
    "\n",
    "while count < num_cities-1:\n",
    "    count += 1\n",
    "    leftItemNum = len(indexList)\n",
    "    if leftItemNum < 2:\n",
    "        leftItemNum = 1\n",
    "    else:\n",
    "        leftItemNum -= 1\n",
    "    \n",
    "    nextnodeList = sample(indexList, leftItemNum)\n",
    "    \n",
    "    if len(tripList) == 0:\n",
    "        item = choice(nextnodeList)\n",
    "        tripList.append(item)\n",
    "        indexList.remove(item)\n",
    "        mincost = 0\n",
    "        continue\n",
    "    \n",
    "    curnode = tripList[len(tripList) - 1]\n",
    "    nextnode, maxcost, t = SimulatedAnnealing(curnode, indexList, t)\n",
    "\n",
    "    mincost += maxcost\n",
    "    indexList.remove(nextnode)\n",
    "    tripList.append(nextnode)"
   ]
  },
  {
   "cell_type": "code",
   "execution_count": 57,
   "metadata": {},
   "outputs": [
    {
     "name": "stdout",
     "output_type": "stream",
     "text": [
      "For TSP of cities 1 to 8:\n",
      "Optimum tour =  [1 8 3 5 4 7 2 6]\n",
      "Minimum trip length =  1.6889999999999996\n"
     ]
    }
   ],
   "source": [
    "tripNames = np.array(tripList) + 1\n",
    "print(\"For TSP of cities 1 to 8:\")\n",
    "print(\"Optimum tour = \", tripNames)\n",
    "print(\"Minimum trip length = \", mincost)"
   ]
  },
  {
   "cell_type": "code",
   "execution_count": null,
   "metadata": {},
   "outputs": [],
   "source": []
  }
 ],
 "metadata": {
  "kernelspec": {
   "display_name": "Python 3",
   "language": "python",
   "name": "python3"
  },
  "language_info": {
   "codemirror_mode": {
    "name": "ipython",
    "version": 3
   },
   "file_extension": ".py",
   "mimetype": "text/x-python",
   "name": "python",
   "nbconvert_exporter": "python",
   "pygments_lexer": "ipython3",
   "version": "3.6.9"
  },
  "varInspector": {
   "cols": {
    "lenName": 16,
    "lenType": 16,
    "lenVar": 40
   },
   "kernels_config": {
    "python": {
     "delete_cmd_postfix": "",
     "delete_cmd_prefix": "del ",
     "library": "var_list.py",
     "varRefreshCmd": "print(var_dic_list())"
    },
    "r": {
     "delete_cmd_postfix": ") ",
     "delete_cmd_prefix": "rm(",
     "library": "var_list.r",
     "varRefreshCmd": "cat(var_dic_list()) "
    }
   },
   "types_to_exclude": [
    "module",
    "function",
    "builtin_function_or_method",
    "instance",
    "_Feature"
   ],
   "window_display": false
  }
 },
 "nbformat": 4,
 "nbformat_minor": 2
}
