{
 "cells": [
  {
   "cell_type": "markdown",
   "metadata": {},
   "source": [
    "## The results here may be different from the results in the total file of final exam. I rerunned for several times. So take the results here as the final results please."
   ]
  },
  {
   "cell_type": "code",
   "execution_count": 1,
   "metadata": {},
   "outputs": [],
   "source": [
    "import pandas as pd\n",
    "import numpy as np"
   ]
  },
  {
   "cell_type": "markdown",
   "metadata": {},
   "source": [
    "## Data reading"
   ]
  },
  {
   "cell_type": "code",
   "execution_count": 2,
   "metadata": {},
   "outputs": [],
   "source": [
    "train = pd.read_csv('ctrain.csv', header = None)"
   ]
  },
  {
   "cell_type": "code",
   "execution_count": 3,
   "metadata": {},
   "outputs": [
    {
     "data": {
      "text/html": [
       "<div>\n",
       "<style scoped>\n",
       "    .dataframe tbody tr th:only-of-type {\n",
       "        vertical-align: middle;\n",
       "    }\n",
       "\n",
       "    .dataframe tbody tr th {\n",
       "        vertical-align: top;\n",
       "    }\n",
       "\n",
       "    .dataframe thead th {\n",
       "        text-align: right;\n",
       "    }\n",
       "</style>\n",
       "<table border=\"1\" class=\"dataframe\">\n",
       "  <thead>\n",
       "    <tr style=\"text-align: right;\">\n",
       "      <th></th>\n",
       "      <th>0</th>\n",
       "      <th>1</th>\n",
       "      <th>2</th>\n",
       "      <th>3</th>\n",
       "      <th>4</th>\n",
       "      <th>5</th>\n",
       "    </tr>\n",
       "  </thead>\n",
       "  <tbody>\n",
       "    <tr>\n",
       "      <th>0</th>\n",
       "      <td>0.585385</td>\n",
       "      <td>0.518833</td>\n",
       "      <td>0.457810</td>\n",
       "      <td>0.094280</td>\n",
       "      <td>0</td>\n",
       "      <td>1</td>\n",
       "    </tr>\n",
       "    <tr>\n",
       "      <th>1</th>\n",
       "      <td>0.705958</td>\n",
       "      <td>0.654958</td>\n",
       "      <td>0.514878</td>\n",
       "      <td>0.219656</td>\n",
       "      <td>0</td>\n",
       "      <td>1</td>\n",
       "    </tr>\n",
       "    <tr>\n",
       "      <th>2</th>\n",
       "      <td>0.579268</td>\n",
       "      <td>0.863228</td>\n",
       "      <td>0.437027</td>\n",
       "      <td>0.869473</td>\n",
       "      <td>0</td>\n",
       "      <td>1</td>\n",
       "    </tr>\n",
       "    <tr>\n",
       "      <th>3</th>\n",
       "      <td>0.951644</td>\n",
       "      <td>0.770822</td>\n",
       "      <td>0.078296</td>\n",
       "      <td>0.428559</td>\n",
       "      <td>0</td>\n",
       "      <td>1</td>\n",
       "    </tr>\n",
       "    <tr>\n",
       "      <th>4</th>\n",
       "      <td>0.499662</td>\n",
       "      <td>0.560521</td>\n",
       "      <td>0.630058</td>\n",
       "      <td>0.618843</td>\n",
       "      <td>0</td>\n",
       "      <td>1</td>\n",
       "    </tr>\n",
       "    <tr>\n",
       "      <th>...</th>\n",
       "      <td>...</td>\n",
       "      <td>...</td>\n",
       "      <td>...</td>\n",
       "      <td>...</td>\n",
       "      <td>...</td>\n",
       "      <td>...</td>\n",
       "    </tr>\n",
       "    <tr>\n",
       "      <th>145</th>\n",
       "      <td>0.752897</td>\n",
       "      <td>0.173620</td>\n",
       "      <td>0.718863</td>\n",
       "      <td>0.975656</td>\n",
       "      <td>1</td>\n",
       "      <td>0</td>\n",
       "    </tr>\n",
       "    <tr>\n",
       "      <th>146</th>\n",
       "      <td>0.601106</td>\n",
       "      <td>0.969755</td>\n",
       "      <td>0.590008</td>\n",
       "      <td>0.775430</td>\n",
       "      <td>1</td>\n",
       "      <td>0</td>\n",
       "    </tr>\n",
       "    <tr>\n",
       "      <th>147</th>\n",
       "      <td>0.095425</td>\n",
       "      <td>0.871820</td>\n",
       "      <td>0.114290</td>\n",
       "      <td>0.777152</td>\n",
       "      <td>1</td>\n",
       "      <td>0</td>\n",
       "    </tr>\n",
       "    <tr>\n",
       "      <th>148</th>\n",
       "      <td>0.284756</td>\n",
       "      <td>0.346061</td>\n",
       "      <td>0.534890</td>\n",
       "      <td>0.823065</td>\n",
       "      <td>1</td>\n",
       "      <td>0</td>\n",
       "    </tr>\n",
       "    <tr>\n",
       "      <th>149</th>\n",
       "      <td>0.190595</td>\n",
       "      <td>0.716755</td>\n",
       "      <td>0.101199</td>\n",
       "      <td>0.804759</td>\n",
       "      <td>1</td>\n",
       "      <td>0</td>\n",
       "    </tr>\n",
       "  </tbody>\n",
       "</table>\n",
       "<p>150 rows × 6 columns</p>\n",
       "</div>"
      ],
      "text/plain": [
       "            0         1         2         3  4  5\n",
       "0    0.585385  0.518833  0.457810  0.094280  0  1\n",
       "1    0.705958  0.654958  0.514878  0.219656  0  1\n",
       "2    0.579268  0.863228  0.437027  0.869473  0  1\n",
       "3    0.951644  0.770822  0.078296  0.428559  0  1\n",
       "4    0.499662  0.560521  0.630058  0.618843  0  1\n",
       "..        ...       ...       ...       ... .. ..\n",
       "145  0.752897  0.173620  0.718863  0.975656  1  0\n",
       "146  0.601106  0.969755  0.590008  0.775430  1  0\n",
       "147  0.095425  0.871820  0.114290  0.777152  1  0\n",
       "148  0.284756  0.346061  0.534890  0.823065  1  0\n",
       "149  0.190595  0.716755  0.101199  0.804759  1  0\n",
       "\n",
       "[150 rows x 6 columns]"
      ]
     },
     "execution_count": 3,
     "metadata": {},
     "output_type": "execute_result"
    }
   ],
   "source": [
    "train"
   ]
  },
  {
   "cell_type": "code",
   "execution_count": 4,
   "metadata": {},
   "outputs": [],
   "source": [
    "test = pd.read_csv('ctest.csv', header = None)"
   ]
  },
  {
   "cell_type": "code",
   "execution_count": 5,
   "metadata": {},
   "outputs": [
    {
     "data": {
      "text/html": [
       "<div>\n",
       "<style scoped>\n",
       "    .dataframe tbody tr th:only-of-type {\n",
       "        vertical-align: middle;\n",
       "    }\n",
       "\n",
       "    .dataframe tbody tr th {\n",
       "        vertical-align: top;\n",
       "    }\n",
       "\n",
       "    .dataframe thead th {\n",
       "        text-align: right;\n",
       "    }\n",
       "</style>\n",
       "<table border=\"1\" class=\"dataframe\">\n",
       "  <thead>\n",
       "    <tr style=\"text-align: right;\">\n",
       "      <th></th>\n",
       "      <th>0</th>\n",
       "      <th>1</th>\n",
       "      <th>2</th>\n",
       "      <th>3</th>\n",
       "    </tr>\n",
       "  </thead>\n",
       "  <tbody>\n",
       "    <tr>\n",
       "      <th>0</th>\n",
       "      <td>0.248782</td>\n",
       "      <td>0.876835</td>\n",
       "      <td>0.806854</td>\n",
       "      <td>0.020668</td>\n",
       "    </tr>\n",
       "    <tr>\n",
       "      <th>1</th>\n",
       "      <td>-0.057214</td>\n",
       "      <td>0.828857</td>\n",
       "      <td>0.617800</td>\n",
       "      <td>0.550427</td>\n",
       "    </tr>\n",
       "    <tr>\n",
       "      <th>2</th>\n",
       "      <td>0.735268</td>\n",
       "      <td>0.744176</td>\n",
       "      <td>0.792611</td>\n",
       "      <td>0.483154</td>\n",
       "    </tr>\n",
       "    <tr>\n",
       "      <th>3</th>\n",
       "      <td>0.352746</td>\n",
       "      <td>0.588804</td>\n",
       "      <td>0.404354</td>\n",
       "      <td>0.391265</td>\n",
       "    </tr>\n",
       "    <tr>\n",
       "      <th>4</th>\n",
       "      <td>0.219141</td>\n",
       "      <td>0.316855</td>\n",
       "      <td>0.104997</td>\n",
       "      <td>0.422342</td>\n",
       "    </tr>\n",
       "    <tr>\n",
       "      <th>5</th>\n",
       "      <td>0.661438</td>\n",
       "      <td>0.485857</td>\n",
       "      <td>0.738860</td>\n",
       "      <td>0.102217</td>\n",
       "    </tr>\n",
       "    <tr>\n",
       "      <th>6</th>\n",
       "      <td>1.013455</td>\n",
       "      <td>0.257351</td>\n",
       "      <td>0.868043</td>\n",
       "      <td>0.413509</td>\n",
       "    </tr>\n",
       "    <tr>\n",
       "      <th>7</th>\n",
       "      <td>0.417482</td>\n",
       "      <td>0.031578</td>\n",
       "      <td>0.337873</td>\n",
       "      <td>0.144518</td>\n",
       "    </tr>\n",
       "    <tr>\n",
       "      <th>8</th>\n",
       "      <td>0.520585</td>\n",
       "      <td>0.654922</td>\n",
       "      <td>0.126455</td>\n",
       "      <td>0.616839</td>\n",
       "    </tr>\n",
       "    <tr>\n",
       "      <th>9</th>\n",
       "      <td>0.581897</td>\n",
       "      <td>0.978328</td>\n",
       "      <td>0.727973</td>\n",
       "      <td>0.830095</td>\n",
       "    </tr>\n",
       "    <tr>\n",
       "      <th>10</th>\n",
       "      <td>0.900494</td>\n",
       "      <td>0.030310</td>\n",
       "      <td>0.202013</td>\n",
       "      <td>0.399285</td>\n",
       "    </tr>\n",
       "    <tr>\n",
       "      <th>11</th>\n",
       "      <td>0.704471</td>\n",
       "      <td>0.813321</td>\n",
       "      <td>0.862429</td>\n",
       "      <td>0.344971</td>\n",
       "    </tr>\n",
       "    <tr>\n",
       "      <th>12</th>\n",
       "      <td>0.418720</td>\n",
       "      <td>0.004539</td>\n",
       "      <td>0.505358</td>\n",
       "      <td>0.931148</td>\n",
       "    </tr>\n",
       "    <tr>\n",
       "      <th>13</th>\n",
       "      <td>0.658997</td>\n",
       "      <td>0.608391</td>\n",
       "      <td>0.101166</td>\n",
       "      <td>0.881753</td>\n",
       "    </tr>\n",
       "    <tr>\n",
       "      <th>14</th>\n",
       "      <td>0.363557</td>\n",
       "      <td>0.405741</td>\n",
       "      <td>0.610332</td>\n",
       "      <td>0.891676</td>\n",
       "    </tr>\n",
       "    <tr>\n",
       "      <th>15</th>\n",
       "      <td>0.273678</td>\n",
       "      <td>0.541985</td>\n",
       "      <td>0.585266</td>\n",
       "      <td>0.598478</td>\n",
       "    </tr>\n",
       "    <tr>\n",
       "      <th>16</th>\n",
       "      <td>0.701861</td>\n",
       "      <td>0.570724</td>\n",
       "      <td>0.089177</td>\n",
       "      <td>0.618180</td>\n",
       "    </tr>\n",
       "    <tr>\n",
       "      <th>17</th>\n",
       "      <td>0.586715</td>\n",
       "      <td>0.599143</td>\n",
       "      <td>0.200613</td>\n",
       "      <td>0.187981</td>\n",
       "    </tr>\n",
       "    <tr>\n",
       "      <th>18</th>\n",
       "      <td>0.986905</td>\n",
       "      <td>0.988455</td>\n",
       "      <td>0.803123</td>\n",
       "      <td>0.430194</td>\n",
       "    </tr>\n",
       "    <tr>\n",
       "      <th>19</th>\n",
       "      <td>0.092717</td>\n",
       "      <td>0.250469</td>\n",
       "      <td>0.680692</td>\n",
       "      <td>0.423106</td>\n",
       "    </tr>\n",
       "  </tbody>\n",
       "</table>\n",
       "</div>"
      ],
      "text/plain": [
       "           0         1         2         3\n",
       "0   0.248782  0.876835  0.806854  0.020668\n",
       "1  -0.057214  0.828857  0.617800  0.550427\n",
       "2   0.735268  0.744176  0.792611  0.483154\n",
       "3   0.352746  0.588804  0.404354  0.391265\n",
       "4   0.219141  0.316855  0.104997  0.422342\n",
       "5   0.661438  0.485857  0.738860  0.102217\n",
       "6   1.013455  0.257351  0.868043  0.413509\n",
       "7   0.417482  0.031578  0.337873  0.144518\n",
       "8   0.520585  0.654922  0.126455  0.616839\n",
       "9   0.581897  0.978328  0.727973  0.830095\n",
       "10  0.900494  0.030310  0.202013  0.399285\n",
       "11  0.704471  0.813321  0.862429  0.344971\n",
       "12  0.418720  0.004539  0.505358  0.931148\n",
       "13  0.658997  0.608391  0.101166  0.881753\n",
       "14  0.363557  0.405741  0.610332  0.891676\n",
       "15  0.273678  0.541985  0.585266  0.598478\n",
       "16  0.701861  0.570724  0.089177  0.618180\n",
       "17  0.586715  0.599143  0.200613  0.187981\n",
       "18  0.986905  0.988455  0.803123  0.430194\n",
       "19  0.092717  0.250469  0.680692  0.423106"
      ]
     },
     "execution_count": 5,
     "metadata": {},
     "output_type": "execute_result"
    }
   ],
   "source": [
    "test"
   ]
  },
  {
   "cell_type": "markdown",
   "metadata": {},
   "source": [
    "## Data partitioning"
   ]
  },
  {
   "cell_type": "code",
   "execution_count": 6,
   "metadata": {},
   "outputs": [],
   "source": [
    "from sklearn.model_selection import train_test_split"
   ]
  },
  {
   "cell_type": "code",
   "execution_count": 7,
   "metadata": {},
   "outputs": [],
   "source": [
    "mlp_train, mlp_val = train_test_split(train, test_size=0.1)"
   ]
  },
  {
   "cell_type": "code",
   "execution_count": 8,
   "metadata": {},
   "outputs": [
    {
     "data": {
      "text/plain": [
       "(135, 6)"
      ]
     },
     "execution_count": 8,
     "metadata": {},
     "output_type": "execute_result"
    }
   ],
   "source": [
    "mlp_train.shape"
   ]
  },
  {
   "cell_type": "code",
   "execution_count": 9,
   "metadata": {
    "scrolled": true
   },
   "outputs": [
    {
     "data": {
      "text/plain": [
       "(15, 6)"
      ]
     },
     "execution_count": 9,
     "metadata": {},
     "output_type": "execute_result"
    }
   ],
   "source": [
    "mlp_val.shape"
   ]
  },
  {
   "cell_type": "code",
   "execution_count": 10,
   "metadata": {},
   "outputs": [],
   "source": [
    "mlp_train = mlp_train.to_numpy()\n",
    "mlp_val = mlp_val.to_numpy()"
   ]
  },
  {
   "cell_type": "markdown",
   "metadata": {},
   "source": [
    "## MLP Class"
   ]
  },
  {
   "cell_type": "code",
   "execution_count": 11,
   "metadata": {},
   "outputs": [],
   "source": [
    "import torch\n",
    "import torch.nn as nn\n",
    "import torch.nn.functional as F\n",
    "import torch.optim as optim\n",
    "import matplotlib.pyplot as plt"
   ]
  },
  {
   "cell_type": "code",
   "execution_count": 12,
   "metadata": {},
   "outputs": [],
   "source": [
    "class MLP(torch.nn.Module):\n",
    "    def __init__(self):\n",
    "        super(MLP,self).__init__()\n",
    "        self.fc1 = torch.nn.Linear(4,40)\n",
    "        self.fc2 = torch.nn.Linear(40,30)\n",
    "        self.fc3 = torch.nn.Linear(30,20)\n",
    "        self.fc4 = torch.nn.Linear(20,2)\n",
    "        \n",
    "    def forward(self,X):\n",
    "        out1 = F.tanh(self.fc1(X))\n",
    "        out2 = F.tanh(self.fc2(out1))\n",
    "        out3 = F.tanh(self.fc3(out2))\n",
    "        predict = F.softmax(self.fc4(out3))\n",
    "        return predict"
   ]
  },
  {
   "cell_type": "code",
   "execution_count": 13,
   "metadata": {},
   "outputs": [
    {
     "name": "stdout",
     "output_type": "stream",
     "text": [
      "MLP(\n",
      "  (fc1): Linear(in_features=4, out_features=40, bias=True)\n",
      "  (fc2): Linear(in_features=40, out_features=30, bias=True)\n",
      "  (fc3): Linear(in_features=30, out_features=20, bias=True)\n",
      "  (fc4): Linear(in_features=20, out_features=2, bias=True)\n",
      ")\n"
     ]
    }
   ],
   "source": [
    "model = MLP()\n",
    "print(model)"
   ]
  },
  {
   "cell_type": "code",
   "execution_count": 14,
   "metadata": {},
   "outputs": [],
   "source": [
    "train_input_tensor = torch.tensor(mlp_train[:,0:4].copy())\n",
    "train_output_tensor = torch.tensor(mlp_train[:,4:6].copy())\n",
    "val_input_tensor = torch.tensor(mlp_val[:,0:4].copy())\n",
    "val_output_tensor = torch.tensor(mlp_val[:,4:6].copy())"
   ]
  },
  {
   "cell_type": "code",
   "execution_count": 15,
   "metadata": {},
   "outputs": [
    {
     "data": {
      "text/plain": [
       "torch.Size([135, 4])"
      ]
     },
     "execution_count": 15,
     "metadata": {},
     "output_type": "execute_result"
    }
   ],
   "source": [
    "train_input_tensor.shape"
   ]
  },
  {
   "cell_type": "code",
   "execution_count": 16,
   "metadata": {},
   "outputs": [
    {
     "data": {
      "text/plain": [
       "torch.Size([135, 2])"
      ]
     },
     "execution_count": 16,
     "metadata": {},
     "output_type": "execute_result"
    }
   ],
   "source": [
    "train_output_tensor.shape"
   ]
  },
  {
   "cell_type": "markdown",
   "metadata": {},
   "source": [
    "## MLP Training"
   ]
  },
  {
   "cell_type": "code",
   "execution_count": 17,
   "metadata": {},
   "outputs": [
    {
     "name": "stdout",
     "output_type": "stream",
     "text": [
      "Epoch:  0 | train loss: 0.2340\n",
      "Epoch:  10 | train loss: 0.2262\n"
     ]
    },
    {
     "name": "stderr",
     "output_type": "stream",
     "text": [
      "E:\\Anaconda\\lib\\site-packages\\torch\\nn\\functional.py:1794: UserWarning: nn.functional.tanh is deprecated. Use torch.tanh instead.\n",
      "  warnings.warn(\"nn.functional.tanh is deprecated. Use torch.tanh instead.\")\n",
      "C:\\Users\\yaoqi\\AppData\\Local\\Temp/ipykernel_19952/2803515142.py:13: UserWarning: Implicit dimension choice for softmax has been deprecated. Change the call to include dim=X as an argument.\n",
      "  predict = F.softmax(self.fc4(out3))\n"
     ]
    },
    {
     "name": "stdout",
     "output_type": "stream",
     "text": [
      "Epoch:  20 | train loss: 0.2219\n",
      "Epoch:  30 | train loss: 0.2078\n",
      "Epoch:  40 | train loss: 0.1796\n",
      "Epoch:  50 | train loss: 0.1632\n",
      "Epoch:  60 | train loss: 0.1360\n",
      "Epoch:  70 | train loss: 0.1023\n",
      "Epoch:  80 | train loss: 0.0740\n",
      "Epoch:  90 | train loss: 0.0564\n",
      "Epoch:  100 | train loss: 0.0381\n",
      "Epoch:  110 | train loss: 0.0270\n",
      "Epoch:  120 | train loss: 0.0217\n",
      "Epoch:  130 | train loss: 0.0185\n",
      "Epoch:  140 | train loss: 0.0163\n",
      "Epoch:  150 | train loss: 0.0145\n",
      "Epoch:  160 | train loss: 0.0125\n",
      "Epoch:  170 | train loss: 0.0072\n",
      "Epoch:  180 | train loss: 0.0040\n",
      "Epoch:  190 | train loss: 0.0022\n",
      "Epoch:  200 | train loss: 0.0013\n",
      "Epoch:  210 | train loss: 0.0009\n",
      "Epoch:  220 | train loss: 0.0006\n",
      "Epoch:  230 | train loss: 0.0005\n",
      "Epoch:  240 | train loss: 0.0004\n",
      "Epoch:  250 | train loss: 0.0003\n",
      "Epoch:  260 | train loss: 0.0003\n",
      "Epoch:  270 | train loss: 0.0003\n",
      "Epoch:  280 | train loss: 0.0002\n",
      "Epoch:  290 | train loss: 0.0002\n"
     ]
    }
   ],
   "source": [
    "EPOCH = 300\n",
    "#BATCH_SIZE = 10\n",
    "LR = 0.02\n",
    "\n",
    "criterion = nn.CrossEntropyLoss()\n",
    "optimizer = optim.Adam(model.parameters(), lr=LR)\n",
    "loss_func = nn.MSELoss()\n",
    "\n",
    "error = pd.DataFrame(columns=['epoch', 'error'])\n",
    "\n",
    "# start training and illustrate the\n",
    "for epoch in range(EPOCH):\n",
    "    # input data to predict\n",
    "    prediction = model(train_input_tensor.float())\n",
    "    \n",
    "    # error between expected data and predicted data, pay attention on consequence\n",
    "    # first is predicted, second is real value\n",
    "    loss = loss_func(prediction, train_output_tensor.float())\n",
    "    \n",
    "    # start optimization\n",
    "    # set gradient as 0 before each optimization\n",
    "    optimizer.zero_grad()\n",
    "    \n",
    "    # error packpropogation\n",
    "    loss.backward()\n",
    "    \n",
    "    # optimize parameters based on minimum loss\n",
    "    optimizer.step()\n",
    "    \n",
    "    if epoch > 0:\n",
    "        error = error.append(pd.DataFrame({'epoch':[epoch], 'error':[loss.data.numpy()]}))\n",
    "    \n",
    "    if epoch % 10 == 0:\n",
    "        print('Epoch: ', epoch, '| train loss: %.4f' % loss.data)"
   ]
  },
  {
   "cell_type": "code",
   "execution_count": 18,
   "metadata": {
    "scrolled": true
   },
   "outputs": [
    {
     "data": {
      "text/html": [
       "<div>\n",
       "<style scoped>\n",
       "    .dataframe tbody tr th:only-of-type {\n",
       "        vertical-align: middle;\n",
       "    }\n",
       "\n",
       "    .dataframe tbody tr th {\n",
       "        vertical-align: top;\n",
       "    }\n",
       "\n",
       "    .dataframe thead th {\n",
       "        text-align: right;\n",
       "    }\n",
       "</style>\n",
       "<table border=\"1\" class=\"dataframe\">\n",
       "  <thead>\n",
       "    <tr style=\"text-align: right;\">\n",
       "      <th></th>\n",
       "      <th>epoch</th>\n",
       "      <th>error</th>\n",
       "    </tr>\n",
       "  </thead>\n",
       "  <tbody>\n",
       "    <tr>\n",
       "      <th>0</th>\n",
       "      <td>1</td>\n",
       "      <td>0.25432786</td>\n",
       "    </tr>\n",
       "    <tr>\n",
       "      <th>0</th>\n",
       "      <td>2</td>\n",
       "      <td>0.23143417</td>\n",
       "    </tr>\n",
       "    <tr>\n",
       "      <th>0</th>\n",
       "      <td>3</td>\n",
       "      <td>0.23881508</td>\n",
       "    </tr>\n",
       "    <tr>\n",
       "      <th>0</th>\n",
       "      <td>4</td>\n",
       "      <td>0.23259243</td>\n",
       "    </tr>\n",
       "    <tr>\n",
       "      <th>0</th>\n",
       "      <td>5</td>\n",
       "      <td>0.23030117</td>\n",
       "    </tr>\n",
       "    <tr>\n",
       "      <th>...</th>\n",
       "      <td>...</td>\n",
       "      <td>...</td>\n",
       "    </tr>\n",
       "    <tr>\n",
       "      <th>0</th>\n",
       "      <td>295</td>\n",
       "      <td>0.00018705899</td>\n",
       "    </tr>\n",
       "    <tr>\n",
       "      <th>0</th>\n",
       "      <td>296</td>\n",
       "      <td>0.00018505836</td>\n",
       "    </tr>\n",
       "    <tr>\n",
       "      <th>0</th>\n",
       "      <td>297</td>\n",
       "      <td>0.00018309239</td>\n",
       "    </tr>\n",
       "    <tr>\n",
       "      <th>0</th>\n",
       "      <td>298</td>\n",
       "      <td>0.00018116</td>\n",
       "    </tr>\n",
       "    <tr>\n",
       "      <th>0</th>\n",
       "      <td>299</td>\n",
       "      <td>0.00017926031</td>\n",
       "    </tr>\n",
       "  </tbody>\n",
       "</table>\n",
       "<p>299 rows × 2 columns</p>\n",
       "</div>"
      ],
      "text/plain": [
       "   epoch          error\n",
       "0      1     0.25432786\n",
       "0      2     0.23143417\n",
       "0      3     0.23881508\n",
       "0      4     0.23259243\n",
       "0      5     0.23030117\n",
       "..   ...            ...\n",
       "0    295  0.00018705899\n",
       "0    296  0.00018505836\n",
       "0    297  0.00018309239\n",
       "0    298     0.00018116\n",
       "0    299  0.00017926031\n",
       "\n",
       "[299 rows x 2 columns]"
      ]
     },
     "execution_count": 18,
     "metadata": {},
     "output_type": "execute_result"
    }
   ],
   "source": [
    "error"
   ]
  },
  {
   "cell_type": "code",
   "execution_count": 19,
   "metadata": {},
   "outputs": [
    {
     "data": {
      "text/plain": [
       "<matplotlib.collections.PathCollection at 0x243da9c9610>"
      ]
     },
     "execution_count": 19,
     "metadata": {},
     "output_type": "execute_result"
    },
    {
     "data": {
      "image/png": "[encoded data removed]",
      "text/plain": [
       "<Figure size 576x576 with 1 Axes>"
      ]
     },
     "metadata": {
      "needs_background": "light"
     },
     "output_type": "display_data"
    }
   ],
   "source": [
    "fig, ax = plt.subplots(figsize=(8,8))\n",
    "ax.set_ylabel('Error', fontsize=20)\n",
    "ax.set_xlabel('Epoch', fontsize=20)\n",
    "plt.tick_params(labelsize=20)\n",
    "ax.scatter(error['epoch'],error['error'])"
   ]
  },
  {
   "cell_type": "markdown",
   "metadata": {},
   "source": [
    "# Post-proccessing on training set"
   ]
  },
  {
   "cell_type": "code",
   "execution_count": 20,
   "metadata": {},
   "outputs": [
    {
     "name": "stderr",
     "output_type": "stream",
     "text": [
      "E:\\Anaconda\\lib\\site-packages\\torch\\nn\\functional.py:1794: UserWarning: nn.functional.tanh is deprecated. Use torch.tanh instead.\n",
      "  warnings.warn(\"nn.functional.tanh is deprecated. Use torch.tanh instead.\")\n",
      "C:\\Users\\yaoqi\\AppData\\Local\\Temp/ipykernel_19952/2803515142.py:13: UserWarning: Implicit dimension choice for softmax has been deprecated. Change the call to include dim=X as an argument.\n",
      "  predict = F.softmax(self.fc4(out3))\n"
     ]
    }
   ],
   "source": [
    "prediction = model(train_input_tensor.float())\n",
    "prediction = prediction.detach().numpy()\n",
    "#prediction"
   ]
  },
  {
   "cell_type": "code",
   "execution_count": 21,
   "metadata": {
    "scrolled": false
   },
   "outputs": [
    {
     "data": {
      "text/plain": [
       "array([[0., 1.],\n",
       "       [0., 1.],\n",
       "       [1., 0.],\n",
       "       [1., 0.],\n",
       "       [0., 1.],\n",
       "       [1., 0.],\n",
       "       [1., 0.],\n",
       "       [1., 0.],\n",
       "       [0., 1.],\n",
       "       [0., 1.],\n",
       "       [0., 1.],\n",
       "       [1., 0.],\n",
       "       [0., 1.],\n",
       "       [0., 1.],\n",
       "       [1., 0.],\n",
       "       [0., 1.],\n",
       "       [1., 0.],\n",
       "       [0., 1.],\n",
       "       [0., 1.],\n",
       "       [1., 0.],\n",
       "       [0., 1.],\n",
       "       [0., 1.],\n",
       "       [1., 0.],\n",
       "       [0., 1.],\n",
       "       [0., 1.],\n",
       "       [0., 1.],\n",
       "       [0., 1.],\n",
       "       [1., 0.],\n",
       "       [1., 0.],\n",
       "       [0., 1.],\n",
       "       [0., 1.],\n",
       "       [0., 1.],\n",
       "       [1., 0.],\n",
       "       [0., 1.],\n",
       "       [1., 0.],\n",
       "       [1., 0.],\n",
       "       [0., 1.],\n",
       "       [0., 1.],\n",
       "       [0., 1.],\n",
       "       [0., 1.],\n",
       "       [1., 0.],\n",
       "       [1., 0.],\n",
       "       [1., 0.],\n",
       "       [0., 1.],\n",
       "       [1., 0.],\n",
       "       [0., 1.],\n",
       "       [1., 0.],\n",
       "       [1., 0.],\n",
       "       [1., 0.],\n",
       "       [1., 0.],\n",
       "       [0., 1.],\n",
       "       [0., 1.],\n",
       "       [1., 0.],\n",
       "       [0., 1.],\n",
       "       [0., 1.],\n",
       "       [0., 1.],\n",
       "       [1., 0.],\n",
       "       [0., 1.],\n",
       "       [1., 0.],\n",
       "       [0., 1.],\n",
       "       [1., 0.],\n",
       "       [0., 1.],\n",
       "       [0., 1.],\n",
       "       [0., 1.],\n",
       "       [0., 1.],\n",
       "       [0., 1.],\n",
       "       [1., 0.],\n",
       "       [0., 1.],\n",
       "       [0., 1.],\n",
       "       [1., 0.],\n",
       "       [0., 1.],\n",
       "       [1., 0.],\n",
       "       [1., 0.],\n",
       "       [1., 0.],\n",
       "       [1., 0.],\n",
       "       [0., 1.],\n",
       "       [0., 1.],\n",
       "       [0., 1.],\n",
       "       [0., 1.],\n",
       "       [0., 1.],\n",
       "       [0., 1.],\n",
       "       [0., 1.],\n",
       "       [0., 1.],\n",
       "       [1., 0.],\n",
       "       [0., 1.],\n",
       "       [1., 0.],\n",
       "       [0., 1.],\n",
       "       [1., 0.],\n",
       "       [1., 0.],\n",
       "       [0., 1.],\n",
       "       [0., 1.],\n",
       "       [0., 1.],\n",
       "       [1., 0.],\n",
       "       [1., 0.],\n",
       "       [1., 0.],\n",
       "       [0., 1.],\n",
       "       [1., 0.],\n",
       "       [0., 1.],\n",
       "       [0., 1.],\n",
       "       [1., 0.],\n",
       "       [0., 1.],\n",
       "       [0., 1.],\n",
       "       [0., 1.],\n",
       "       [1., 0.],\n",
       "       [0., 1.],\n",
       "       [0., 1.],\n",
       "       [0., 1.],\n",
       "       [0., 1.],\n",
       "       [0., 1.],\n",
       "       [0., 1.],\n",
       "       [0., 1.],\n",
       "       [0., 1.],\n",
       "       [0., 1.],\n",
       "       [1., 0.],\n",
       "       [0., 1.],\n",
       "       [0., 1.],\n",
       "       [0., 1.],\n",
       "       [0., 1.],\n",
       "       [0., 1.],\n",
       "       [1., 0.],\n",
       "       [0., 1.],\n",
       "       [0., 1.],\n",
       "       [0., 1.],\n",
       "       [0., 1.],\n",
       "       [0., 1.],\n",
       "       [0., 1.],\n",
       "       [0., 1.],\n",
       "       [1., 0.],\n",
       "       [0., 1.],\n",
       "       [0., 1.],\n",
       "       [1., 0.],\n",
       "       [1., 0.],\n",
       "       [1., 0.],\n",
       "       [1., 0.],\n",
       "       [0., 1.]], dtype=float32)"
      ]
     },
     "execution_count": 21,
     "metadata": {},
     "output_type": "execute_result"
    }
   ],
   "source": [
    "for i in range(prediction.shape[0]):\n",
    "    if prediction[i,0] > prediction[i,1]:\n",
    "        prediction[i,0] = 1\n",
    "        prediction[i,1] = 0\n",
    "    else:\n",
    "        prediction[i,0] = 0\n",
    "        prediction[i,1] = 1\n",
    "prediction"
   ]
  },
  {
   "cell_type": "code",
   "execution_count": 22,
   "metadata": {},
   "outputs": [
    {
     "name": "stdout",
     "output_type": "stream",
     "text": [
      "The number of errors we meet after training:\n"
     ]
    },
    {
     "data": {
      "text/plain": [
       "0.0"
      ]
     },
     "execution_count": 22,
     "metadata": {},
     "output_type": "execute_result"
    }
   ],
   "source": [
    "print('The number of errors we meet after training:')\n",
    "np.sum(np.absolute(prediction - mlp_train[:,4:6]))/2"
   ]
  },
  {
   "cell_type": "code",
   "execution_count": 23,
   "metadata": {},
   "outputs": [
    {
     "name": "stdout",
     "output_type": "stream",
     "text": [
      "The confusion matrix of training set is:\n",
      "[[85.  0.]\n",
      " [ 0. 50.]]\n"
     ]
    }
   ],
   "source": [
    "# confusion matrix\n",
    "cmat = np.zeros((2,2))\n",
    "for i in range(prediction.shape[0]):\n",
    "    cmat[int(prediction[i,0]),int(mlp_train[i,4])] += 1\n",
    "print('The confusion matrix of training set is:')\n",
    "print(cmat)"
   ]
  },
  {
   "cell_type": "markdown",
   "metadata": {},
   "source": [
    "# Validation"
   ]
  },
  {
   "cell_type": "code",
   "execution_count": 24,
   "metadata": {},
   "outputs": [
    {
     "name": "stderr",
     "output_type": "stream",
     "text": [
      "C:\\Users\\yaoqi\\AppData\\Local\\Temp/ipykernel_19952/2803515142.py:13: UserWarning: Implicit dimension choice for softmax has been deprecated. Change the call to include dim=X as an argument.\n",
      "  predict = F.softmax(self.fc4(out3))\n"
     ]
    }
   ],
   "source": [
    "# validation\n",
    "prediction = model(val_input_tensor.float())\n",
    "prediction = prediction.detach().numpy()\n",
    "#prediction"
   ]
  },
  {
   "cell_type": "code",
   "execution_count": 25,
   "metadata": {},
   "outputs": [
    {
     "name": "stdout",
     "output_type": "stream",
     "text": [
      "The number of errors we meet after training:\n"
     ]
    },
    {
     "data": {
      "text/plain": [
       "6.0"
      ]
     },
     "execution_count": 25,
     "metadata": {},
     "output_type": "execute_result"
    }
   ],
   "source": [
    "for i in range(prediction.shape[0]):\n",
    "    if prediction[i,0] > prediction[i,1]:\n",
    "        prediction[i,0] = 1\n",
    "        prediction[i,1] = 0\n",
    "    else:\n",
    "        prediction[i,0] = 0\n",
    "        prediction[i,1] = 1\n",
    "print('The number of errors we meet after training:')\n",
    "np.sum(np.absolute(prediction - mlp_val[:,4:6]))/2"
   ]
  },
  {
   "cell_type": "code",
   "execution_count": 26,
   "metadata": {},
   "outputs": [
    {
     "name": "stdout",
     "output_type": "stream",
     "text": [
      "The confusion matrix of training set is:\n",
      "[[5. 5.]\n",
      " [1. 4.]]\n"
     ]
    }
   ],
   "source": [
    "# confusion matrix\n",
    "cmat = np.zeros((2,2))\n",
    "for i in range(prediction.shape[0]):\n",
    "    cmat[int(prediction[i,0]),int(mlp_val[i,4])] += 1\n",
    "print('The confusion matrix of training set is:')\n",
    "print(cmat)"
   ]
  },
  {
   "cell_type": "markdown",
   "metadata": {},
   "source": [
    "# Testing"
   ]
  },
  {
   "cell_type": "code",
   "execution_count": 27,
   "metadata": {},
   "outputs": [],
   "source": [
    "test_input_tensor = torch.tensor(test.to_numpy())"
   ]
  },
  {
   "cell_type": "code",
   "execution_count": 28,
   "metadata": {},
   "outputs": [
    {
     "data": {
      "text/html": [
       "<div>\n",
       "<style scoped>\n",
       "    .dataframe tbody tr th:only-of-type {\n",
       "        vertical-align: middle;\n",
       "    }\n",
       "\n",
       "    .dataframe tbody tr th {\n",
       "        vertical-align: top;\n",
       "    }\n",
       "\n",
       "    .dataframe thead th {\n",
       "        text-align: right;\n",
       "    }\n",
       "</style>\n",
       "<table border=\"1\" class=\"dataframe\">\n",
       "  <thead>\n",
       "    <tr style=\"text-align: right;\">\n",
       "      <th></th>\n",
       "      <th>0</th>\n",
       "      <th>1</th>\n",
       "      <th>2</th>\n",
       "      <th>3</th>\n",
       "    </tr>\n",
       "  </thead>\n",
       "  <tbody>\n",
       "    <tr>\n",
       "      <th>0</th>\n",
       "      <td>0.248782</td>\n",
       "      <td>0.876835</td>\n",
       "      <td>0.806854</td>\n",
       "      <td>0.020668</td>\n",
       "    </tr>\n",
       "    <tr>\n",
       "      <th>1</th>\n",
       "      <td>-0.057214</td>\n",
       "      <td>0.828857</td>\n",
       "      <td>0.617800</td>\n",
       "      <td>0.550427</td>\n",
       "    </tr>\n",
       "    <tr>\n",
       "      <th>2</th>\n",
       "      <td>0.735268</td>\n",
       "      <td>0.744176</td>\n",
       "      <td>0.792611</td>\n",
       "      <td>0.483154</td>\n",
       "    </tr>\n",
       "    <tr>\n",
       "      <th>3</th>\n",
       "      <td>0.352746</td>\n",
       "      <td>0.588804</td>\n",
       "      <td>0.404354</td>\n",
       "      <td>0.391265</td>\n",
       "    </tr>\n",
       "    <tr>\n",
       "      <th>4</th>\n",
       "      <td>0.219141</td>\n",
       "      <td>0.316855</td>\n",
       "      <td>0.104997</td>\n",
       "      <td>0.422342</td>\n",
       "    </tr>\n",
       "    <tr>\n",
       "      <th>5</th>\n",
       "      <td>0.661438</td>\n",
       "      <td>0.485857</td>\n",
       "      <td>0.738860</td>\n",
       "      <td>0.102217</td>\n",
       "    </tr>\n",
       "    <tr>\n",
       "      <th>6</th>\n",
       "      <td>1.013455</td>\n",
       "      <td>0.257351</td>\n",
       "      <td>0.868043</td>\n",
       "      <td>0.413509</td>\n",
       "    </tr>\n",
       "    <tr>\n",
       "      <th>7</th>\n",
       "      <td>0.417482</td>\n",
       "      <td>0.031578</td>\n",
       "      <td>0.337873</td>\n",
       "      <td>0.144518</td>\n",
       "    </tr>\n",
       "    <tr>\n",
       "      <th>8</th>\n",
       "      <td>0.520585</td>\n",
       "      <td>0.654922</td>\n",
       "      <td>0.126455</td>\n",
       "      <td>0.616839</td>\n",
       "    </tr>\n",
       "    <tr>\n",
       "      <th>9</th>\n",
       "      <td>0.581897</td>\n",
       "      <td>0.978328</td>\n",
       "      <td>0.727973</td>\n",
       "      <td>0.830095</td>\n",
       "    </tr>\n",
       "    <tr>\n",
       "      <th>10</th>\n",
       "      <td>0.900494</td>\n",
       "      <td>0.030310</td>\n",
       "      <td>0.202013</td>\n",
       "      <td>0.399285</td>\n",
       "    </tr>\n",
       "    <tr>\n",
       "      <th>11</th>\n",
       "      <td>0.704471</td>\n",
       "      <td>0.813321</td>\n",
       "      <td>0.862429</td>\n",
       "      <td>0.344971</td>\n",
       "    </tr>\n",
       "    <tr>\n",
       "      <th>12</th>\n",
       "      <td>0.418720</td>\n",
       "      <td>0.004539</td>\n",
       "      <td>0.505358</td>\n",
       "      <td>0.931148</td>\n",
       "    </tr>\n",
       "    <tr>\n",
       "      <th>13</th>\n",
       "      <td>0.658997</td>\n",
       "      <td>0.608391</td>\n",
       "      <td>0.101166</td>\n",
       "      <td>0.881753</td>\n",
       "    </tr>\n",
       "    <tr>\n",
       "      <th>14</th>\n",
       "      <td>0.363557</td>\n",
       "      <td>0.405741</td>\n",
       "      <td>0.610332</td>\n",
       "      <td>0.891676</td>\n",
       "    </tr>\n",
       "    <tr>\n",
       "      <th>15</th>\n",
       "      <td>0.273678</td>\n",
       "      <td>0.541985</td>\n",
       "      <td>0.585266</td>\n",
       "      <td>0.598478</td>\n",
       "    </tr>\n",
       "    <tr>\n",
       "      <th>16</th>\n",
       "      <td>0.701861</td>\n",
       "      <td>0.570724</td>\n",
       "      <td>0.089177</td>\n",
       "      <td>0.618180</td>\n",
       "    </tr>\n",
       "    <tr>\n",
       "      <th>17</th>\n",
       "      <td>0.586715</td>\n",
       "      <td>0.599143</td>\n",
       "      <td>0.200613</td>\n",
       "      <td>0.187981</td>\n",
       "    </tr>\n",
       "    <tr>\n",
       "      <th>18</th>\n",
       "      <td>0.986905</td>\n",
       "      <td>0.988455</td>\n",
       "      <td>0.803123</td>\n",
       "      <td>0.430194</td>\n",
       "    </tr>\n",
       "    <tr>\n",
       "      <th>19</th>\n",
       "      <td>0.092717</td>\n",
       "      <td>0.250469</td>\n",
       "      <td>0.680692</td>\n",
       "      <td>0.423106</td>\n",
       "    </tr>\n",
       "  </tbody>\n",
       "</table>\n",
       "</div>"
      ],
      "text/plain": [
       "           0         1         2         3\n",
       "0   0.248782  0.876835  0.806854  0.020668\n",
       "1  -0.057214  0.828857  0.617800  0.550427\n",
       "2   0.735268  0.744176  0.792611  0.483154\n",
       "3   0.352746  0.588804  0.404354  0.391265\n",
       "4   0.219141  0.316855  0.104997  0.422342\n",
       "5   0.661438  0.485857  0.738860  0.102217\n",
       "6   1.013455  0.257351  0.868043  0.413509\n",
       "7   0.417482  0.031578  0.337873  0.144518\n",
       "8   0.520585  0.654922  0.126455  0.616839\n",
       "9   0.581897  0.978328  0.727973  0.830095\n",
       "10  0.900494  0.030310  0.202013  0.399285\n",
       "11  0.704471  0.813321  0.862429  0.344971\n",
       "12  0.418720  0.004539  0.505358  0.931148\n",
       "13  0.658997  0.608391  0.101166  0.881753\n",
       "14  0.363557  0.405741  0.610332  0.891676\n",
       "15  0.273678  0.541985  0.585266  0.598478\n",
       "16  0.701861  0.570724  0.089177  0.618180\n",
       "17  0.586715  0.599143  0.200613  0.187981\n",
       "18  0.986905  0.988455  0.803123  0.430194\n",
       "19  0.092717  0.250469  0.680692  0.423106"
      ]
     },
     "execution_count": 28,
     "metadata": {},
     "output_type": "execute_result"
    }
   ],
   "source": [
    "test"
   ]
  },
  {
   "cell_type": "code",
   "execution_count": 29,
   "metadata": {},
   "outputs": [
    {
     "name": "stderr",
     "output_type": "stream",
     "text": [
      "E:\\Anaconda\\lib\\site-packages\\torch\\nn\\functional.py:1794: UserWarning: nn.functional.tanh is deprecated. Use torch.tanh instead.\n",
      "  warnings.warn(\"nn.functional.tanh is deprecated. Use torch.tanh instead.\")\n",
      "C:\\Users\\yaoqi\\AppData\\Local\\Temp/ipykernel_19952/2803515142.py:13: UserWarning: Implicit dimension choice for softmax has been deprecated. Change the call to include dim=X as an argument.\n",
      "  predict = F.softmax(self.fc4(out3))\n"
     ]
    },
    {
     "data": {
      "text/plain": [
       "array([[1.0092394e-08, 1.0000000e+00],\n",
       "       [7.1091478e-07, 9.9999928e-01],\n",
       "       [6.5680681e-04, 9.9934322e-01],\n",
       "       [4.4079153e-03, 9.9559206e-01],\n",
       "       [9.9991679e-01, 8.3148734e-05],\n",
       "       [9.9996579e-01, 3.4256533e-05],\n",
       "       [9.5123160e-01, 4.8768390e-02],\n",
       "       [9.9964368e-01, 3.5633278e-04],\n",
       "       [9.8623812e-01, 1.3761877e-02],\n",
       "       [5.1464154e-03, 9.9485356e-01],\n",
       "       [1.7445565e-04, 9.9982554e-01],\n",
       "       [9.9809688e-01, 1.9030763e-03],\n",
       "       [9.9997616e-01, 2.3824879e-05],\n",
       "       [1.7871274e-07, 9.9999988e-01],\n",
       "       [9.1791445e-01, 8.2085550e-02],\n",
       "       [1.7766207e-01, 8.2233787e-01],\n",
       "       [2.2359261e-06, 9.9999774e-01],\n",
       "       [1.3270065e-01, 8.6729938e-01],\n",
       "       [3.5974868e-02, 9.6402508e-01],\n",
       "       [1.0970445e-04, 9.9989033e-01]], dtype=float32)"
      ]
     },
     "execution_count": 29,
     "metadata": {},
     "output_type": "execute_result"
    }
   ],
   "source": [
    "prediction = model(test_input_tensor.float())\n",
    "prediction = prediction.detach().numpy()\n",
    "prediction"
   ]
  },
  {
   "cell_type": "code",
   "execution_count": 30,
   "metadata": {},
   "outputs": [
    {
     "data": {
      "text/plain": [
       "array([[0., 1.],\n",
       "       [0., 1.],\n",
       "       [0., 1.],\n",
       "       [0., 1.],\n",
       "       [1., 0.],\n",
       "       [1., 0.],\n",
       "       [1., 0.],\n",
       "       [1., 0.],\n",
       "       [1., 0.],\n",
       "       [0., 1.],\n",
       "       [0., 1.],\n",
       "       [1., 0.],\n",
       "       [1., 0.],\n",
       "       [0., 1.],\n",
       "       [1., 0.],\n",
       "       [0., 1.],\n",
       "       [0., 1.],\n",
       "       [0., 1.],\n",
       "       [0., 1.],\n",
       "       [0., 1.]], dtype=float32)"
      ]
     },
     "execution_count": 30,
     "metadata": {},
     "output_type": "execute_result"
    }
   ],
   "source": [
    "for i in range(prediction.shape[0]):\n",
    "    if prediction[i,0] > prediction[i,1]:\n",
    "        prediction[i,0] = 1\n",
    "        prediction[i,1] = 0\n",
    "    else:\n",
    "        prediction[i,0] = 0\n",
    "        prediction[i,1] = 1\n",
    "prediction"
   ]
  },
  {
   "cell_type": "code",
   "execution_count": 31,
   "metadata": {},
   "outputs": [],
   "source": [
    "test = pd.read_csv('ctest.csv', header = None)\n",
    "test['4'] = None\n",
    "test['4'] = prediction[:,0]"
   ]
  },
  {
   "cell_type": "markdown",
   "metadata": {},
   "source": [
    "## Final answer for the testing section:"
   ]
  },
  {
   "cell_type": "code",
   "execution_count": 32,
   "metadata": {},
   "outputs": [
    {
     "data": {
      "text/html": [
       "<div>\n",
       "<style scoped>\n",
       "    .dataframe tbody tr th:only-of-type {\n",
       "        vertical-align: middle;\n",
       "    }\n",
       "\n",
       "    .dataframe tbody tr th {\n",
       "        vertical-align: top;\n",
       "    }\n",
       "\n",
       "    .dataframe thead th {\n",
       "        text-align: right;\n",
       "    }\n",
       "</style>\n",
       "<table border=\"1\" class=\"dataframe\">\n",
       "  <thead>\n",
       "    <tr style=\"text-align: right;\">\n",
       "      <th></th>\n",
       "      <th>0</th>\n",
       "      <th>1</th>\n",
       "      <th>2</th>\n",
       "      <th>3</th>\n",
       "      <th>4</th>\n",
       "    </tr>\n",
       "  </thead>\n",
       "  <tbody>\n",
       "    <tr>\n",
       "      <th>0</th>\n",
       "      <td>0.248782</td>\n",
       "      <td>0.876835</td>\n",
       "      <td>0.806854</td>\n",
       "      <td>0.020668</td>\n",
       "      <td>0.0</td>\n",
       "    </tr>\n",
       "    <tr>\n",
       "      <th>1</th>\n",
       "      <td>-0.057214</td>\n",
       "      <td>0.828857</td>\n",
       "      <td>0.617800</td>\n",
       "      <td>0.550427</td>\n",
       "      <td>0.0</td>\n",
       "    </tr>\n",
       "    <tr>\n",
       "      <th>2</th>\n",
       "      <td>0.735268</td>\n",
       "      <td>0.744176</td>\n",
       "      <td>0.792611</td>\n",
       "      <td>0.483154</td>\n",
       "      <td>0.0</td>\n",
       "    </tr>\n",
       "    <tr>\n",
       "      <th>3</th>\n",
       "      <td>0.352746</td>\n",
       "      <td>0.588804</td>\n",
       "      <td>0.404354</td>\n",
       "      <td>0.391265</td>\n",
       "      <td>0.0</td>\n",
       "    </tr>\n",
       "    <tr>\n",
       "      <th>4</th>\n",
       "      <td>0.219141</td>\n",
       "      <td>0.316855</td>\n",
       "      <td>0.104997</td>\n",
       "      <td>0.422342</td>\n",
       "      <td>1.0</td>\n",
       "    </tr>\n",
       "    <tr>\n",
       "      <th>5</th>\n",
       "      <td>0.661438</td>\n",
       "      <td>0.485857</td>\n",
       "      <td>0.738860</td>\n",
       "      <td>0.102217</td>\n",
       "      <td>1.0</td>\n",
       "    </tr>\n",
       "    <tr>\n",
       "      <th>6</th>\n",
       "      <td>1.013455</td>\n",
       "      <td>0.257351</td>\n",
       "      <td>0.868043</td>\n",
       "      <td>0.413509</td>\n",
       "      <td>1.0</td>\n",
       "    </tr>\n",
       "    <tr>\n",
       "      <th>7</th>\n",
       "      <td>0.417482</td>\n",
       "      <td>0.031578</td>\n",
       "      <td>0.337873</td>\n",
       "      <td>0.144518</td>\n",
       "      <td>1.0</td>\n",
       "    </tr>\n",
       "    <tr>\n",
       "      <th>8</th>\n",
       "      <td>0.520585</td>\n",
       "      <td>0.654922</td>\n",
       "      <td>0.126455</td>\n",
       "      <td>0.616839</td>\n",
       "      <td>1.0</td>\n",
       "    </tr>\n",
       "    <tr>\n",
       "      <th>9</th>\n",
       "      <td>0.581897</td>\n",
       "      <td>0.978328</td>\n",
       "      <td>0.727973</td>\n",
       "      <td>0.830095</td>\n",
       "      <td>0.0</td>\n",
       "    </tr>\n",
       "    <tr>\n",
       "      <th>10</th>\n",
       "      <td>0.900494</td>\n",
       "      <td>0.030310</td>\n",
       "      <td>0.202013</td>\n",
       "      <td>0.399285</td>\n",
       "      <td>0.0</td>\n",
       "    </tr>\n",
       "    <tr>\n",
       "      <th>11</th>\n",
       "      <td>0.704471</td>\n",
       "      <td>0.813321</td>\n",
       "      <td>0.862429</td>\n",
       "      <td>0.344971</td>\n",
       "      <td>1.0</td>\n",
       "    </tr>\n",
       "    <tr>\n",
       "      <th>12</th>\n",
       "      <td>0.418720</td>\n",
       "      <td>0.004539</td>\n",
       "      <td>0.505358</td>\n",
       "      <td>0.931148</td>\n",
       "      <td>1.0</td>\n",
       "    </tr>\n",
       "    <tr>\n",
       "      <th>13</th>\n",
       "      <td>0.658997</td>\n",
       "      <td>0.608391</td>\n",
       "      <td>0.101166</td>\n",
       "      <td>0.881753</td>\n",
       "      <td>0.0</td>\n",
       "    </tr>\n",
       "    <tr>\n",
       "      <th>14</th>\n",
       "      <td>0.363557</td>\n",
       "      <td>0.405741</td>\n",
       "      <td>0.610332</td>\n",
       "      <td>0.891676</td>\n",
       "      <td>1.0</td>\n",
       "    </tr>\n",
       "    <tr>\n",
       "      <th>15</th>\n",
       "      <td>0.273678</td>\n",
       "      <td>0.541985</td>\n",
       "      <td>0.585266</td>\n",
       "      <td>0.598478</td>\n",
       "      <td>0.0</td>\n",
       "    </tr>\n",
       "    <tr>\n",
       "      <th>16</th>\n",
       "      <td>0.701861</td>\n",
       "      <td>0.570724</td>\n",
       "      <td>0.089177</td>\n",
       "      <td>0.618180</td>\n",
       "      <td>0.0</td>\n",
       "    </tr>\n",
       "    <tr>\n",
       "      <th>17</th>\n",
       "      <td>0.586715</td>\n",
       "      <td>0.599143</td>\n",
       "      <td>0.200613</td>\n",
       "      <td>0.187981</td>\n",
       "      <td>0.0</td>\n",
       "    </tr>\n",
       "    <tr>\n",
       "      <th>18</th>\n",
       "      <td>0.986905</td>\n",
       "      <td>0.988455</td>\n",
       "      <td>0.803123</td>\n",
       "      <td>0.430194</td>\n",
       "      <td>0.0</td>\n",
       "    </tr>\n",
       "    <tr>\n",
       "      <th>19</th>\n",
       "      <td>0.092717</td>\n",
       "      <td>0.250469</td>\n",
       "      <td>0.680692</td>\n",
       "      <td>0.423106</td>\n",
       "      <td>0.0</td>\n",
       "    </tr>\n",
       "  </tbody>\n",
       "</table>\n",
       "</div>"
      ],
      "text/plain": [
       "           0         1         2         3    4\n",
       "0   0.248782  0.876835  0.806854  0.020668  0.0\n",
       "1  -0.057214  0.828857  0.617800  0.550427  0.0\n",
       "2   0.735268  0.744176  0.792611  0.483154  0.0\n",
       "3   0.352746  0.588804  0.404354  0.391265  0.0\n",
       "4   0.219141  0.316855  0.104997  0.422342  1.0\n",
       "5   0.661438  0.485857  0.738860  0.102217  1.0\n",
       "6   1.013455  0.257351  0.868043  0.413509  1.0\n",
       "7   0.417482  0.031578  0.337873  0.144518  1.0\n",
       "8   0.520585  0.654922  0.126455  0.616839  1.0\n",
       "9   0.581897  0.978328  0.727973  0.830095  0.0\n",
       "10  0.900494  0.030310  0.202013  0.399285  0.0\n",
       "11  0.704471  0.813321  0.862429  0.344971  1.0\n",
       "12  0.418720  0.004539  0.505358  0.931148  1.0\n",
       "13  0.658997  0.608391  0.101166  0.881753  0.0\n",
       "14  0.363557  0.405741  0.610332  0.891676  1.0\n",
       "15  0.273678  0.541985  0.585266  0.598478  0.0\n",
       "16  0.701861  0.570724  0.089177  0.618180  0.0\n",
       "17  0.586715  0.599143  0.200613  0.187981  0.0\n",
       "18  0.986905  0.988455  0.803123  0.430194  0.0\n",
       "19  0.092717  0.250469  0.680692  0.423106  0.0"
      ]
     },
     "execution_count": 32,
     "metadata": {},
     "output_type": "execute_result"
    }
   ],
   "source": [
    "test"
   ]
  },
  {
   "cell_type": "code",
   "execution_count": null,
   "metadata": {},
   "outputs": [],
   "source": []
  }
 ],
 "metadata": {
  "kernelspec": {
   "display_name": "Python 3 (ipykernel)",
   "language": "python",
   "name": "python3"
  },
  "language_info": {
   "codemirror_mode": {
    "name": "ipython",
    "version": 3
   },
   "file_extension": ".py",
   "mimetype": "text/x-python",
   "name": "python",
   "nbconvert_exporter": "python",
   "pygments_lexer": "ipython3",
   "version": "3.8.11"
  },
  "varInspector": {
   "cols": {
    "lenName": 16,
    "lenType": 16,
    "lenVar": 40
   },
   "kernels_config": {
    "python": {
     "delete_cmd_postfix": "",
     "delete_cmd_prefix": "del ",
     "library": "var_list.py",
     "varRefreshCmd": "print(var_dic_list())"
    },
    "r": {
     "delete_cmd_postfix": ") ",
     "delete_cmd_prefix": "rm(",
     "library": "var_list.r",
     "varRefreshCmd": "cat(var_dic_list()) "
    }
   },
   "types_to_exclude": [
    "module",
    "function",
    "builtin_function_or_method",
    "instance",
    "_Feature"
   ],
   "window_display": false
  }
 },
 "nbformat": 4,
 "nbformat_minor": 4
}
