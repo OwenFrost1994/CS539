{
 "cells": [
  {
   "cell_type": "code",
   "execution_count": 1,
   "metadata": {},
   "outputs": [],
   "source": [
    "import numpy as np\n",
    "import pandas as pd"
   ]
  },
  {
   "cell_type": "code",
   "execution_count": 2,
   "metadata": {},
   "outputs": [],
   "source": [
    "train = pd.read_csv('p5train.csv',header=None).to_numpy()"
   ]
  },
  {
   "cell_type": "code",
   "execution_count": 3,
   "metadata": {},
   "outputs": [],
   "source": [
    "test = pd.read_csv('p5test.csv',header=None).to_numpy()"
   ]
  },
  {
   "cell_type": "code",
   "execution_count": 4,
   "metadata": {},
   "outputs": [],
   "source": [
    "from sklearn import svm"
   ]
  },
  {
   "cell_type": "code",
   "execution_count": 5,
   "metadata": {},
   "outputs": [
    {
     "data": {
      "text/plain": [
       "SVC(C=0.25, kernel='linear')"
      ]
     },
     "execution_count": 5,
     "metadata": {},
     "output_type": "execute_result"
    }
   ],
   "source": [
    "clf = svm.SVC(kernel='linear',C=0.25)\n",
    "clf.fit(train[:,0:8], train[:,8])"
   ]
  },
  {
   "cell_type": "code",
   "execution_count": 6,
   "metadata": {},
   "outputs": [],
   "source": [
    "yhat = clf.predict(train[:,0:8])"
   ]
  },
  {
   "cell_type": "code",
   "execution_count": 7,
   "metadata": {},
   "outputs": [
    {
     "data": {
      "text/plain": [
       "array([-1., -1., -1., -1., -1., -1., -1., -1., -1., -1., -1., -1., -1.,\n",
       "       -1., -1., -1., -1., -1., -1., -1., -1., -1., -1., -1., -1., -1.,\n",
       "       -1., -1., -1., -1., -1., -1., -1., -1., -1., -1., -1., -1., -1.,\n",
       "       -1., -1., -1., -1., -1., -1., -1., -1., -1., -1., -1., -1., -1.,\n",
       "       -1., -1., -1., -1., -1., -1., -1., -1., -1., -1., -1., -1., -1.,\n",
       "        1.,  1.,  1.,  1.,  1.,  1.,  1.,  1.,  1.,  1.,  1.,  1.,  1.,\n",
       "        1.,  1.,  1.,  1.,  1.,  1.,  1.,  1.,  1.,  1.,  1.,  1.,  1.,\n",
       "        1.,  1.,  1.,  1.,  1.,  1.,  1.,  1.,  1.,  1.,  1.,  1.,  1.,\n",
       "        1.,  1.,  1.,  1.,  1.,  1.,  1.,  1.,  1.,  1.,  1.,  1.,  1.,\n",
       "        1.,  1.,  1.,  1.,  1.,  1.,  1.,  1.,  1.,  1.,  1.,  1.,  1.,\n",
       "        1.,  1.,  1.,  1.,  1.,  1.,  1.,  1.,  1.,  1.])"
      ]
     },
     "execution_count": 7,
     "metadata": {},
     "output_type": "execute_result"
    }
   ],
   "source": [
    "yhat"
   ]
  },
  {
   "cell_type": "code",
   "execution_count": 8,
   "metadata": {},
   "outputs": [
    {
     "name": "stdout",
     "output_type": "stream",
     "text": [
      "The confusion matrix of training set is:\n",
      "[[65.  0.]\n",
      " [ 0. 75.]]\n"
     ]
    }
   ],
   "source": [
    "# confusion matrix\n",
    "cmat = np.zeros((2,2))\n",
    "for i in range(train[:,8].shape[0]):\n",
    "    cmat[int((yhat[i]+1)/2),int((train[i,8]+1)/2)] += 1\n",
    "    \n",
    "print('The confusion matrix of training set is:')\n",
    "print(cmat)"
   ]
  },
  {
   "cell_type": "code",
   "execution_count": 9,
   "metadata": {},
   "outputs": [],
   "source": [
    "yhat = clf.predict(test[:,0:8])"
   ]
  },
  {
   "cell_type": "code",
   "execution_count": 10,
   "metadata": {},
   "outputs": [
    {
     "data": {
      "text/plain": [
       "array([-1., -1., -1., -1., -1., -1., -1., -1., -1., -1., -1., -1., -1.,\n",
       "       -1., -1., -1., -1., -1., -1., -1., -1., -1., -1., -1., -1., -1.,\n",
       "       -1., -1.,  1.,  1.,  1.,  1.,  1.,  1.,  1.,  1.,  1.,  1.,  1.,\n",
       "        1.,  1.,  1.,  1.,  1.,  1.,  1.,  1.,  1.,  1.,  1.,  1.,  1.,\n",
       "        1.,  1.,  1.,  1.,  1.,  1.,  1.,  1.])"
      ]
     },
     "execution_count": 10,
     "metadata": {},
     "output_type": "execute_result"
    }
   ],
   "source": [
    "yhat"
   ]
  },
  {
   "cell_type": "code",
   "execution_count": 11,
   "metadata": {},
   "outputs": [
    {
     "name": "stdout",
     "output_type": "stream",
     "text": [
      "The confusion matrix of testing set is:\n",
      "[[28.  0.]\n",
      " [ 0. 32.]]\n"
     ]
    }
   ],
   "source": [
    "# confusion matrix\n",
    "cmat = np.zeros((2,2))\n",
    "for i in range(test[:,8].shape[0]):\n",
    "    cmat[int((yhat[i]+1)/2),int((test[i,8]+1)/2)] += 1\n",
    "    \n",
    "print('The confusion matrix of testing set is:')\n",
    "print(cmat)"
   ]
  },
  {
   "cell_type": "code",
   "execution_count": 12,
   "metadata": {},
   "outputs": [
    {
     "name": "stdout",
     "output_type": "stream",
     "text": [
      "Number of Support Vectors for each class: [4 5]\n"
     ]
    }
   ],
   "source": [
    "nsv = clf.n_support_       # number of support vectors in class 0 and class 1\n",
    "print(\"Number of Support Vectors for each class: \" + str(nsv))"
   ]
  },
  {
   "cell_type": "code",
   "execution_count": 13,
   "metadata": {},
   "outputs": [
    {
     "name": "stdout",
     "output_type": "stream",
     "text": [
      "f: [[-0.06532213 -0.13230728 -0.00409878 -0.04775899  0.08876163  0.08683246\n",
      "   0.00932338  0.05316429  0.01140542]]\n"
     ]
    }
   ],
   "source": [
    "f = clf.dual_coef_        # this is the vector f = alpha.*d\n",
    "print(\"f: \" + str(f))"
   ]
  },
  {
   "cell_type": "code",
   "execution_count": 14,
   "metadata": {},
   "outputs": [
    {
     "name": "stdout",
     "output_type": "stream",
     "text": [
      "Index of chosen Support Vectors: [ 17  47  51  63  70 100 102 124 137]\n"
     ]
    }
   ],
   "source": [
    "i0 = clf.support_          # indices of support vectors\n",
    "print(\"Index of chosen Support Vectors: \" + str(i0))"
   ]
  },
  {
   "cell_type": "code",
   "execution_count": 15,
   "metadata": {},
   "outputs": [
    {
     "name": "stdout",
     "output_type": "stream",
     "text": [
      "Chosen Support Vectors: \n",
      "[[-17.12136701  11.12136701 -20.69658248  -5.08091134   1.14159484\n",
      "   -0.08091134  19.16182268   1.26296185]\n",
      " [  6.87863299   4.12136701   6.30341752  -7.08091134   0.14159484\n",
      "    5.91908866  -6.83817732   0.26296185]\n",
      " [ 10.87863299  -6.87863299   2.30341752  -2.08091134  16.14159484\n",
      "    2.91908866   8.16182268  -2.73703815]\n",
      " [ -6.12136701   1.12136701  -2.69658248  -6.08091134   5.14159484\n",
      "    6.91908866 -13.83817732  11.26296185]\n",
      " [-14.87863299  18.87863299 -21.30341752 -15.91908866  11.85840516\n",
      "    3.08091134  -4.16182268  -0.26296185]\n",
      " [  7.12136701  -9.12136701   3.69658248  -0.91908866 -14.14159484\n",
      "    2.08091134   5.83817732   5.73703815]\n",
      " [  1.12136701  -5.12136701  -3.30341752 -10.91908866  -7.14159484\n",
      "   -5.91908866  -2.16182268   5.73703815]\n",
      " [  9.12136701   3.87863299   7.69658248   4.08091134   8.85840516\n",
      "   12.08091134 -10.16182268  -2.26296185]\n",
      " [-10.87863299   1.87863299  10.69658248  -5.91908866   0.85840516\n",
      "   16.08091134  -8.16182268 -11.26296185]]\n"
     ]
    }
   ],
   "source": [
    "sv = clf.support_vectors_  # Support Vectors\n",
    "print(\"Chosen Support Vectors: \\n\" + str(sv))"
   ]
  },
  {
   "cell_type": "code",
   "execution_count": 17,
   "metadata": {},
   "outputs": [
    {
     "name": "stdout",
     "output_type": "stream",
     "text": [
      "Labels of Support Vectors: [-1. -1. -1. -1.  1.  1.  1.  1.  1.]\n"
     ]
    }
   ],
   "source": [
    "print(\"Labels of Support Vectors: \" + str(train[:,8][i0]))"
   ]
  },
  {
   "cell_type": "code",
   "execution_count": null,
   "metadata": {},
   "outputs": [],
   "source": []
  }
 ],
 "metadata": {
  "kernelspec": {
   "display_name": "Python 3",
   "language": "python",
   "name": "python3"
  },
  "language_info": {
   "codemirror_mode": {
    "name": "ipython",
    "version": 3
   },
   "file_extension": ".py",
   "mimetype": "text/x-python",
   "name": "python",
   "nbconvert_exporter": "python",
   "pygments_lexer": "ipython3",
   "version": "3.6.9"
  },
  "varInspector": {
   "cols": {
    "lenName": 16,
    "lenType": 16,
    "lenVar": 40
   },
   "kernels_config": {
    "python": {
     "delete_cmd_postfix": "",
     "delete_cmd_prefix": "del ",
     "library": "var_list.py",
     "varRefreshCmd": "print(var_dic_list())"
    },
    "r": {
     "delete_cmd_postfix": ") ",
     "delete_cmd_prefix": "rm(",
     "library": "var_list.r",
     "varRefreshCmd": "cat(var_dic_list()) "
    }
   },
   "types_to_exclude": [
    "module",
    "function",
    "builtin_function_or_method",
    "instance",
    "_Feature"
   ],
   "window_display": false
  }
 },
 "nbformat": 4,
 "nbformat_minor": 4
}
