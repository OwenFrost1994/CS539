{
 "cells": [
  {
   "cell_type": "markdown",
   "metadata": {},
   "source": [
    "## (b) Stochastic Optimization: Genetic Algorithm on TSP"
   ]
  },
  {
   "cell_type": "code",
   "execution_count": 2,
   "metadata": {},
   "outputs": [],
   "source": [
    "from math import cos\n",
    "from math import sin\n",
    "from math import pi\n",
    "from random import shuffle\n",
    "from sklearn.metrics.pairwise import euclidean_distances\n",
    "import numpy as np"
   ]
  },
  {
   "cell_type": "code",
   "execution_count": 3,
   "metadata": {},
   "outputs": [],
   "source": [
    "N = 8\n",
    "citynames = ['1', '2', '3', '4', '5', '6', '7', '8']\n",
    "citydistances = np.array([[0, 0.6347, 0.3231, 0.2510, 0.2727, 0.4968, 0.5144, 0.2105],\n",
    " [0.6347, 0, 0.9375, 0.5755, 0.6472, 0.2507, 0.2808, 0.7916],\n",
    " [0.3231, 0.9375, 0, 0.4092, 0.3636, 0.8195, 0.7615, 0.1527],\n",
    " [0.2510, 0.5755, 0.4092, 0, 0.0730, 0.5427, 0.3577, 0.2577],\n",
    " [0.2727, 0.6472, 0.3636, 0.0730, 0, 0.6136, 0.4204, 0.2187],\n",
    " [0.4968, 0.2507, 0.8195, 0.5427, 0.6136, 0, 0.4048, 0.6918],\n",
    " [0.5144, 0.2808, 0.7615, 0.3577, 0.4204, 0.4048, 0, 0.6088],\n",
    " [0.2105, 0.7916, 0.1527, 0.2577, 0.2187, 0.6918, 0.6088, 0]]) # a matrix containing city to city distance"
   ]
  },
  {
   "cell_type": "code",
   "execution_count": 4,
   "metadata": {},
   "outputs": [
    {
     "data": {
      "text/plain": [
       "array([[0.    , 0.6347, 0.3231, 0.251 , 0.2727, 0.4968, 0.5144, 0.2105],\n",
       "       [0.6347, 0.    , 0.9375, 0.5755, 0.6472, 0.2507, 0.2808, 0.7916],\n",
       "       [0.3231, 0.9375, 0.    , 0.4092, 0.3636, 0.8195, 0.7615, 0.1527],\n",
       "       [0.251 , 0.5755, 0.4092, 0.    , 0.073 , 0.5427, 0.3577, 0.2577],\n",
       "       [0.2727, 0.6472, 0.3636, 0.073 , 0.    , 0.6136, 0.4204, 0.2187],\n",
       "       [0.4968, 0.2507, 0.8195, 0.5427, 0.6136, 0.    , 0.4048, 0.6918],\n",
       "       [0.5144, 0.2808, 0.7615, 0.3577, 0.4204, 0.4048, 0.    , 0.6088],\n",
       "       [0.2105, 0.7916, 0.1527, 0.2577, 0.2187, 0.6918, 0.6088, 0.    ]])"
      ]
     },
     "execution_count": 4,
     "metadata": {},
     "output_type": "execute_result"
    }
   ],
   "source": [
    "citydistances"
   ]
  },
  {
   "cell_type": "code",
   "execution_count": 16,
   "metadata": {},
   "outputs": [],
   "source": [
    "# Genetic Search\n",
    "ngen = 1000\n",
    "ngpool = N\n",
    "\n",
    "gpool = np.zeros((ngpool,N)).astype('int')\n",
    " \n",
    "for i in range(ngpool):\n",
    "  # We ensure that the first element remains 0\n",
    "#  if i == 0:\n",
    "#    gpool[i] = range(N)\n",
    "#  else:\n",
    "    gpool[i,1:] = (np.random.permutation(N-1) + 1)\n",
    "\n",
    "    costmin = N\n",
    "    tourmin = np.zeros(N)\n",
    "    cost = np.zeros(ngpool)\n",
    "for i in range(ngen):\n",
    "    # step 1. evaluate the fitness of current chromosomes\n",
    "    # for tsp problem it is the trip length. the smaller the better\n",
    "    for j in range(ngpool):\n",
    "        id_shift = gpool[j,-1:].tolist() + gpool[j,:-1].tolist()\n",
    "        cost[j] = np.sum(np.diag(citydistances[gpool[j,:].tolist(),id_shift]))\n",
    "\n",
    "    # Record the current best solution\n",
    "    costmin = np.amin(cost)\n",
    "    idx = np.argmin(cost)\n",
    "    tourmin = gpool[idx,:]\n",
    "\n",
    "    #print(cost)\n",
    "    #print(costmin)\n",
    "    # step 2. cross breeding and mutation\n",
    "    # since each chromosome is an integer vector, cross breeding\n",
    "    # can not be done simply by combining binary vectors. \n",
    "    # Instead, we let the off-spring to keep the common genes of\n",
    "    # the parents, and randomly shuffle genes when parents disagree\n",
    "    # for simplicity, we only cross-breed the two best solutions. \n",
    "\n",
    "    ridx = sorted(range(len(cost)), key=lambda k: cost[k])\n",
    "\n",
    "\n",
    "    # parents\n",
    "    mother = gpool[ridx[0],:]\n",
    "    father = gpool[ridx[1],:]\n",
    "    # find index of genes that are the same in father and mother\n",
    "    sameidx = father == mother\n",
    "    diffidx = np.nonzero(1 - sameidx)[0]\n",
    "\n",
    "\n",
    "    if len(diffidx <= 4): # father and mother too close!\n",
    "      # do mutation\n",
    "        boy = [0] + (np.random.permutation(N-1) + 1).tolist()\n",
    "        girl = [0] + (np.random.permutation(N-1) + 1).tolist()\n",
    "    else:\n",
    "        boy = father * sameidx\n",
    "        boy[diffidx] = father[diffidx[np.random.permutation(len(diffidx))]]\n",
    "        girl = mother * sameidx\n",
    "        girl[diffidx] = mother[diffidx[np.random.permutation(len(diffidx))]]\n",
    "  \n",
    "    #Replace the worst two\n",
    "    gpool[ridx[-2]] = boy\n",
    "    gpool[ridx[-1]] = girl"
   ]
  },
  {
   "cell_type": "code",
   "execution_count": 17,
   "metadata": {},
   "outputs": [
    {
     "name": "stdout",
     "output_type": "stream",
     "text": [
      "cost function evaluation: 2008 times!\n",
      "Minimum trip length = 2.1535\n",
      "optimum tour = [0 2 7 4 3 6 1 5]\n"
     ]
    }
   ],
   "source": [
    "print(\"cost function evaluation: \" + str(ngen*2 + ngpool) + \" times!\")\n",
    "print(\"Minimum trip length = \" + str(costmin))\n",
    "print(\"optimum tour = \" + str(tourmin))"
   ]
  },
  {
   "cell_type": "code",
   "execution_count": 18,
   "metadata": {},
   "outputs": [],
   "source": [
    "citylist = [];\n",
    "for i in range(N):\n",
    "    citylist.append(citynames[tourmin[i]])"
   ]
  },
  {
   "cell_type": "code",
   "execution_count": 19,
   "metadata": {},
   "outputs": [
    {
     "name": "stdout",
     "output_type": "stream",
     "text": [
      "The corresponding cities ['1', '3', '8', '5', '4', '7', '2', '6']\n"
     ]
    }
   ],
   "source": [
    "print(\"The corresponding cities\",citylist)"
   ]
  },
  {
   "cell_type": "code",
   "execution_count": null,
   "metadata": {},
   "outputs": [],
   "source": []
  }
 ],
 "metadata": {
  "kernelspec": {
   "display_name": "Python 3",
   "language": "python",
   "name": "python3"
  },
  "language_info": {
   "codemirror_mode": {
    "name": "ipython",
    "version": 3
   },
   "file_extension": ".py",
   "mimetype": "text/x-python",
   "name": "python",
   "nbconvert_exporter": "python",
   "pygments_lexer": "ipython3",
   "version": "3.6.9"
  },
  "varInspector": {
   "cols": {
    "lenName": 16,
    "lenType": 16,
    "lenVar": 40
   },
   "kernels_config": {
    "python": {
     "delete_cmd_postfix": "",
     "delete_cmd_prefix": "del ",
     "library": "var_list.py",
     "varRefreshCmd": "print(var_dic_list())"
    },
    "r": {
     "delete_cmd_postfix": ") ",
     "delete_cmd_prefix": "rm(",
     "library": "var_list.r",
     "varRefreshCmd": "cat(var_dic_list()) "
    }
   },
   "types_to_exclude": [
    "module",
    "function",
    "builtin_function_or_method",
    "instance",
    "_Feature"
   ],
   "window_display": false
  }
 },
 "nbformat": 4,
 "nbformat_minor": 4
}
