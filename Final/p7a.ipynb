{
 "cells": [
  {
   "cell_type": "markdown",
   "metadata": {},
   "source": [
    "## (a) Stochastic Optimization: Simulated Annealing on TSP"
   ]
  },
  {
   "cell_type": "code",
   "execution_count": 1,
   "metadata": {},
   "outputs": [
    {
     "name": "stderr",
     "output_type": "stream",
     "text": [
      "In /home/hp/.local/lib/python3.6/site-packages/matplotlib/mpl-data/stylelib/_classic_test.mplstyle: \n",
      "The text.latex.preview rcparam was deprecated in Matplotlib 3.3 and will be removed two minor releases later.\n",
      "In /home/hp/.local/lib/python3.6/site-packages/matplotlib/mpl-data/stylelib/_classic_test.mplstyle: \n",
      "The mathtext.fallback_to_cm rcparam was deprecated in Matplotlib 3.3 and will be removed two minor releases later.\n",
      "In /home/hp/.local/lib/python3.6/site-packages/matplotlib/mpl-data/stylelib/_classic_test.mplstyle: Support for setting the 'mathtext.fallback_to_cm' rcParam is deprecated since 3.3 and will be removed two minor releases later; use 'mathtext.fallback : 'cm' instead.\n",
      "In /home/hp/.local/lib/python3.6/site-packages/matplotlib/mpl-data/stylelib/_classic_test.mplstyle: \n",
      "The validate_bool_maybe_none function was deprecated in Matplotlib 3.3 and will be removed two minor releases later.\n",
      "In /home/hp/.local/lib/python3.6/site-packages/matplotlib/mpl-data/stylelib/_classic_test.mplstyle: \n",
      "The savefig.jpeg_quality rcparam was deprecated in Matplotlib 3.3 and will be removed two minor releases later.\n",
      "In /home/hp/.local/lib/python3.6/site-packages/matplotlib/mpl-data/stylelib/_classic_test.mplstyle: \n",
      "The keymap.all_axes rcparam was deprecated in Matplotlib 3.3 and will be removed two minor releases later.\n",
      "In /home/hp/.local/lib/python3.6/site-packages/matplotlib/mpl-data/stylelib/_classic_test.mplstyle: \n",
      "The animation.avconv_path rcparam was deprecated in Matplotlib 3.3 and will be removed two minor releases later.\n",
      "In /home/hp/.local/lib/python3.6/site-packages/matplotlib/mpl-data/stylelib/_classic_test.mplstyle: \n",
      "The animation.avconv_args rcparam was deprecated in Matplotlib 3.3 and will be removed two minor releases later.\n"
     ]
    }
   ],
   "source": [
    "import os\n",
    "import sys\n",
    "import math\n",
    "import numpy as np\n",
    "\n",
    "import matplotlib.pyplot as plt\n",
    "from random import choice, shuffle, sample, uniform"
   ]
  },
  {
   "cell_type": "code",
   "execution_count": 2,
   "metadata": {},
   "outputs": [],
   "source": [
    "names = ['1', '2', '3', '4', '5', '6', '7', '8']\n",
    "arr = ([0, 0.6347, 0.3231, 0.2510, 0.2727, 0.4968, 0.5144, 0.2105],\n",
    " [0.6347, 0, 0.9375, 0.5755, 0.6472, 0.2507, 0.2808, 0.7916],\n",
    " [0.3231, 0.9375, 0, 0.4092, 0.3636, 0.8195, 0.7615, 0.1527],\n",
    " [0.2510, 0.5755, 0.4092, 0, 0.0730, 0.5427, 0.3577, 0.2577],\n",
    " [0.2727, 0.6472, 0.3636, 0.0730, 0, 0.6136, 0.4204, 0.2187],\n",
    " [0.4968, 0.2507, 0.8195, 0.5427, 0.6136, 0, 0.4048, 0.6918],\n",
    " [0.5144, 0.2808, 0.7615, 0.3577, 0.4204, 0.4048, 0, 0.6088],\n",
    " [0.2105, 0.7916, 0.1527, 0.2577, 0.2187, 0.6918, 0.6088, 0])"
   ]
  },
  {
   "cell_type": "code",
   "execution_count": 3,
   "metadata": {},
   "outputs": [],
   "source": [
    "num = len(arr)\n",
    "\n",
    "def valSimulateAnnealSum(curnode, nextnodeList, t):\n",
    "\n",
    "    if nextnodeList == None or len(nextnodeList) < 1:\n",
    "        print(\"empty\")\n",
    "        return 0\n",
    "\n",
    "    maxcost = sys.maxsize\n",
    "    retnode = 0\n",
    "\n",
    "    for node in nextnodeList:\n",
    "        # print \"curnode : \",curnode ,\" node: \" ,node ,\" mincost : \",mincost\n",
    "\n",
    "        t *= 0.98  ## 退火因子\n",
    "        if arr[curnode][node] < maxcost:\n",
    "            maxcost = arr[curnode][node]\n",
    "            retnode = node\n",
    "        else:#r = uniform(0, 1)\n",
    "            r = math.exp((arr[curnode][node] - maxcost)/t)\n",
    "            if arr[curnode][node] > maxcost and t > t_min and math.exp((arr[curnode][node] - maxcost) / t) > r:\n",
    "                #print \" t = \" ,t , \"maxcost = \", maxcost , \" arr = \" ,arr[curnode][node],   \"  exp = \",math.exp((arr[curnode][node] - maxcost)/t)  ,  \" r = \",r , \"t_min = \" ,t_min\n",
    "                retnode = node\n",
    "                maxcost = arr[curnode][node]\n",
    "                return(retnode, maxcost, t)\n",
    "\n",
    "    return (retnode, maxcost, t)\n",
    "\n",
    "\n",
    "indexList = [i for i in range(num)]\n",
    "selectedList = []\n",
    "\n",
    "# Starting from city 1:\n",
    "selectedList.append(0)\n",
    "indexList.remove(0)\n",
    "\n",
    "mincost = 0\n",
    "\n",
    "count = 0\n",
    "t = 100\n",
    "t_min = 50\n",
    "while count < num-1:\n",
    "    count += 1\n",
    "    leftItemNum = len(indexList)\n",
    "    #  print \"leftItemNum:\" ,leftItemNum\n",
    "    #nextnum = leftItemNum // 10 if leftItemNum >= 10 else leftItemNum % 10\n",
    "    #nextnodeList = sample(indexList, nextnum)\n",
    "    if leftItemNum < 2:\n",
    "        leftItemNum = 1\n",
    "    else:\n",
    "        leftItemNum -= 1\n",
    "    \n",
    "    nextnodeList = sample(indexList, leftItemNum)\n",
    "    \n",
    "    if len(selectedList) == 0:\n",
    "        item = choice(nextnodeList)\n",
    "        selectedList.append(item)\n",
    "        indexList.remove(item)\n",
    "        mincost = 0\n",
    "        continue\n",
    "\n",
    "    curnode = selectedList[len(selectedList) - 1]\n",
    "    # print \"nextnodeList:\" ,nextnodeList\n",
    "    nextnode, maxcost, t = valSimulateAnnealSum(curnode, indexList, t)\n",
    "    \n",
    "    mincost += maxcost\n",
    "    indexList.remove(nextnode)\n",
    "    selectedList.append(nextnode)"
   ]
  },
  {
   "cell_type": "code",
   "execution_count": 4,
   "metadata": {},
   "outputs": [
    {
     "name": "stdout",
     "output_type": "stream",
     "text": [
      "Simulated Annealing Algorithm for shortest path：\n",
      "The best path is： [0, 7, 2, 4, 3, 6, 1, 5]\n",
      "The corresponding cities ['1', '8', '3', '5', '4', '7', '2', '6']\n",
      "The number of nodes in path： 8\n",
      "The minimum length is： 1.6889999999999996\n"
     ]
    }
   ],
   "source": [
    "citynames = []\n",
    "for i in range(num):\n",
    "    citynames.append(names[selectedList[i]])\n",
    "print(\"Simulated Annealing Algorithm for shortest path：\")\n",
    "print(\"The best path is：\", selectedList)\n",
    "print(\"The corresponding cities\",citynames)\n",
    "print(\"The number of nodes in path：\", len(selectedList))\n",
    "print(\"The minimum length is：\", mincost)"
   ]
  },
  {
   "cell_type": "code",
   "execution_count": null,
   "metadata": {},
   "outputs": [],
   "source": []
  }
 ],
 "metadata": {
  "kernelspec": {
   "display_name": "Python 3",
   "language": "python",
   "name": "python3"
  },
  "language_info": {
   "codemirror_mode": {
    "name": "ipython",
    "version": 3
   },
   "file_extension": ".py",
   "mimetype": "text/x-python",
   "name": "python",
   "nbconvert_exporter": "python",
   "pygments_lexer": "ipython3",
   "version": "3.6.9"
  },
  "varInspector": {
   "cols": {
    "lenName": 16,
    "lenType": 16,
    "lenVar": 40
   },
   "kernels_config": {
    "python": {
     "delete_cmd_postfix": "",
     "delete_cmd_prefix": "del ",
     "library": "var_list.py",
     "varRefreshCmd": "print(var_dic_list())"
    },
    "r": {
     "delete_cmd_postfix": ") ",
     "delete_cmd_prefix": "rm(",
     "library": "var_list.r",
     "varRefreshCmd": "cat(var_dic_list()) "
    }
   },
   "types_to_exclude": [
    "module",
    "function",
    "builtin_function_or_method",
    "instance",
    "_Feature"
   ],
   "window_display": false
  }
 },
 "nbformat": 4,
 "nbformat_minor": 4
}
