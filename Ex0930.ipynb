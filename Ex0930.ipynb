{
 "cells": [
  {
   "cell_type": "markdown",
   "metadata": {},
   "source": [
    "# Ex_0930P1\n",
    "### (a) Manually evaluate the 3 x 3 confusion matrix C."
   ]
  },
  {
   "cell_type": "code",
   "execution_count": 14,
   "metadata": {},
   "outputs": [
    {
     "name": "stdout",
     "output_type": "stream",
     "text": [
      "Confusion matrix is: \n",
      "[[1 0 1]\n",
      " [1 1 0]\n",
      " [0 0 1]]\n"
     ]
    }
   ],
   "source": [
    "ConfusionMatrix = np.mat([[1, 0, 1], [1, 1, 0], [0, 0, 1]])\n",
    "print('Confusion matrix is: ')\n",
    "print(ConfusionMatrix)"
   ]
  },
  {
   "cell_type": "code",
   "execution_count": 18,
   "metadata": {},
   "outputs": [
    {
     "data": {
      "text/plain": [
       "matrix([[1, 0, 0, 0, 1],\n",
       "        [0, 1, 0, 1, 0],\n",
       "        [0, 0, 1, 0, 0]])"
      ]
     },
     "execution_count": 18,
     "metadata": {},
     "output_type": "execute_result"
    }
   ],
   "source": [
    "L = np.mat([[1, 0, 0], [0, 1, 0], [0, 0, 1], [0, 1, 0], [1, 0, 0]])\n",
    "L.T"
   ]
  },
  {
   "cell_type": "code",
   "execution_count": 19,
   "metadata": {},
   "outputs": [
    {
     "name": "stdout",
     "output_type": "stream",
     "text": [
      "The P is: \n",
      "[[1 0 1]\n",
      " [1 1 0]\n",
      " [0 0 1]\n",
      " [0 0 0]\n",
      " [0 0 0]]\n"
     ]
    }
   ],
   "source": [
    "P = np.mat([[1, 0, 1], [1, 1, 0], [0, 0, 1], [0, 0, 0], [0, 0, 0]])\n",
    "print('The P is: ')\n",
    "print(P)"
   ]
  },
  {
   "cell_type": "code",
   "execution_count": 20,
   "metadata": {},
   "outputs": [
    {
     "data": {
      "text/plain": [
       "matrix([[1, 0, 1],\n",
       "        [1, 1, 0],\n",
       "        [0, 0, 1]])"
      ]
     },
     "execution_count": 20,
     "metadata": {},
     "output_type": "execute_result"
    }
   ],
   "source": [
    "L.T*P"
   ]
  },
  {
   "cell_type": "markdown",
   "metadata": {
    "id": "CSz_Jyy5RSSj"
   },
   "source": [
    "# Ex_0930P2\n",
    "\n",
    "1) Load Iris data set, we use only the 1st and 2nd feature as feature vectors X, and partition it into 3-way cross validation. We create a 150 x 3 Label matrix so that a class 1 sample is labeled as 1 0 0 , a class 2 sample 0 1 0 and a class 3 sample 0 0 1. "
   ]
  },
  {
   "cell_type": "code",
   "execution_count": 1,
   "metadata": {
    "colab": {
     "base_uri": "https://localhost:8080/",
     "height": 295
    },
    "id": "CN2Q69u0RCc1",
    "outputId": "ff5d6290-6a7f-43b0-9e2f-a9b4638943f7"
   },
   "outputs": [
    {
     "data": {
      "image/png": "[encoded data removed]",
      "text/plain": [
       "<Figure size 432x288 with 1 Axes>"
      ]
     },
     "metadata": {
      "needs_background": "light"
     },
     "output_type": "display_data"
    }
   ],
   "source": [
    "import numpy  as np\n",
    "import pandas as pd\n",
    "import matplotlib.pyplot as plt\n",
    "\n",
    "tmp = pd.read_csv('iris.csv',header=None).to_numpy()\n",
    "X = tmp[:,0:2]        # 150 x 2\n",
    "K = np.shape(tmp)[0]  # K = 150 = # of feature vectors, size of training data set.\n",
    "C = 3     # Number of class labels\n",
    "# tmp[:,4] contains labels 1,2, or 3.\n",
    "# Below, we convert the label vector tmp[:,4] to a K x 3 matrix label. \n",
    "# Each row is a 1 in 3 encoding of the corresponding label. \n",
    "Label = [tmp[:,4] == 1, tmp[:,4] == 2, tmp[:,4] == 3]\n",
    "\n",
    "# Scatter plot the 2D data.\n",
    "\n",
    "plt.scatter(X[Label[0],0],X[Label[0],1],c='white', edgecolors = 'red')\n",
    "plt.scatter(X[Label[1],0],X[Label[1],1],c='white',edgecolors = 'green')\n",
    "plt.scatter(X[Label[2],0],X[Label[2],1],c='white',edgecolors ='blue')\n",
    "plt.xlabel('1st Feature'), plt.ylabel('2nd Feature')\n",
    "plt.title('1st and 2nd dimension of the iris dataset')\n",
    "plt.legend([1,2,3])\n",
    "plt.show()"
   ]
  },
  {
   "cell_type": "markdown",
   "metadata": {
    "id": "H5NWChzyNtDg"
   },
   "source": [
    "First, we use the entire Iris dataset as training data and develop a Naive Bayesian classifier, nbc, and visualize the decision region the classifier implements."
   ]
  },
  {
   "cell_type": "code",
   "execution_count": 5,
   "metadata": {
    "colab": {
     "base_uri": "https://localhost:8080/",
     "height": 90
    },
    "id": "lJD-bnianqsT",
    "outputId": "161d921a-8904-4451-8d07-fa07ab04718c"
   },
   "outputs": [
    {
     "name": "stdout",
     "output_type": "stream",
     "text": [
      "Confusion Matrix when substituting training data for testing: \n",
      "[[49.  1.  0.]\n",
      " [ 0. 37. 13.]\n",
      " [ 0. 16. 34.]]\n"
     ]
    }
   ],
   "source": [
    "#######################################################\n",
    "nbmodel = nbc(X,np.mat(Label).T)\n",
    "out = nbclassify(nbmodel, X)\n",
    "Cmat = np.mat(Label)*out\n",
    "#######################################################\n",
    "\n",
    "\n",
    "print('Confusion Matrix when substituting training data for testing: ')\n",
    "print(Cmat)"
   ]
  },
  {
   "cell_type": "markdown",
   "metadata": {
    "id": "3YVQe_5oSIAW"
   },
   "source": [
    "Resubstitution error (a.k.a. training error) is the probability of mis-classification when the training data is also used as testing (or validation) data. "
   ]
  },
  {
   "cell_type": "code",
   "execution_count": 6,
   "metadata": {
    "colab": {
     "base_uri": "https://localhost:8080/",
     "height": 35
    },
    "id": "5Jb0tWzpouir",
    "outputId": "66615967-56ba-4fa9-d070-9a7c69587ede"
   },
   "outputs": [
    {
     "name": "stdout",
     "output_type": "stream",
     "text": [
      "Resubstitution Error: 0.19999999999999996\n"
     ]
    }
   ],
   "source": [
    "Er_resubstitution = 1 - np.sum(np.diag(Cmat))/np.sum(Cmat)\n",
    "print(\"Resubstitution Error: \" + str(Er_resubstitution))"
   ]
  },
  {
   "cell_type": "markdown",
   "metadata": {
    "id": "gwJ00bYbN1Rr"
   },
   "source": [
    "**Plot training samples that are mis-classified:** \n",
    "\n",
    "First compute a K x C matrix tmp = out - Label; Entries of tmp are all 0 if correctly classified. Otherwise the row will have 1 entry equals to +1 and another entry = -1. \n",
    "\n",
    "Therefore, we sum up each row of the absolute value of tmp will yield a K x 1 vector whose value equals to 0 if that sample is correctly classified, and 2 if not. \n",
    "\n",
    "We use Matlab command find to find indices of those entries equal to 2."
   ]
  },
  {
   "cell_type": "code",
   "execution_count": 7,
   "metadata": {
    "colab": {
     "base_uri": "https://localhost:8080/",
     "height": 332
    },
    "id": "ChmiJO1cSSo7",
    "outputId": "a6cdaf4a-eb10-46a1-89e6-7a0f6c44d7a4"
   },
   "outputs": [
    {
     "name": "stdout",
     "output_type": "stream",
     "text": [
      "[ 41  50  51  52  54  56  58  65  74  75  76  77  86  87 101 103 106 113\n",
      " 114 119 121 123 126 127 133 134 138 142 146 149]\n"
     ]
    },
    {
     "data": {
      "image/png": "[encoded data removed]",
      "text/plain": [
       "<Figure size 432x288 with 1 Axes>"
      ]
     },
     "metadata": {
      "needs_background": "light"
     },
     "output_type": "display_data"
    }
   ],
   "source": [
    "tmp = out - np.mat(Label).T\n",
    "idxmis,_ = np.nonzero(np.sum(np.abs(tmp),1))\n",
    "print(idxmis)\n",
    "\n",
    "plt.scatter(X[Label[0],0],X[Label[0],1],c='white', edgecolors = 'red')\n",
    "plt.scatter(X[Label[1],0],X[Label[1],1],c='white',edgecolors = 'green')\n",
    "plt.scatter(X[Label[2],0],X[Label[2],1],c='white',edgecolors ='blue')\n",
    "plt.scatter(X[idxmis,0],X[idxmis,1],c='black')\n",
    "plt.xlabel('3rd Feature'), plt.ylabel('4th Feature')\n",
    "plt.title('3rd and 4th dimension of the iris dataset')\n",
    "plt.legend([1,2,3,'data1'])\n",
    "plt.show()"
   ]
  },
  {
   "cell_type": "markdown",
   "metadata": {
    "id": "TXnn6s30OBxL"
   },
   "source": [
    "# Naive Bayesian Classification with 3-way Cross Validation\n",
    "\n",
    "Partition indices for 3-way cross validation, stratified with respect to each class. In the iris.csv, the first 50 observations (rows) are class 1, the next 50 class 2 and the last 50 class 3. Each partition should contain all 3 classes with similar prior probability distribution. To verify this partition is properly stratified, we compute the prior probaility using the Label matrix."
   ]
  },
  {
   "cell_type": "code",
   "execution_count": 8,
   "metadata": {
    "id": "47Zcgwv1nxEY"
   },
   "outputs": [],
   "source": [
    "Iv = [[]] * 3\n",
    "Ir = [[]] * 3\n",
    "\n",
    "for m in range(3):\n",
    "  Iv[m] = range(m,K,3) # Indices of 10 validation sets.\n",
    "  Ir[m] = np.setdiff1d(range(K),Iv[m])\n"
   ]
  },
  {
   "cell_type": "markdown",
   "metadata": {
    "id": "U550wxzXOHzs"
   },
   "source": [
    "Call nbc to create the classifier for each training data partition and validate using nbclassify \n",
    "\n",
    "Since there are 3 classes, Give the indices of the training data Ir{m}, and the validation data Iv{m}, the NBC classifier consists of a mean vector mu, a covarince matrix C and a prior probability for each of the 3 classes. "
   ]
  },
  {
   "cell_type": "code",
   "execution_count": 10,
   "metadata": {
    "colab": {
     "base_uri": "https://localhost:8080/",
     "height": 90
    },
    "id": "l4UQA0WPvuzS",
    "outputId": "1caa282e-7407-4669-da31-a42640c9babd"
   },
   "outputs": [
    {
     "name": "stdout",
     "output_type": "stream",
     "text": [
      "Confusion matrix is: \n",
      "[[49.  1.  0.]\n",
      " [ 0. 37. 13.]\n",
      " [ 0. 19. 31.]]\n"
     ]
    }
   ],
   "source": [
    "ConfusionMatrix = np.zeros((C,C))\n",
    "#######################################################\n",
    "for m in range(3):\n",
    "  NBmodel = nbc(X[Ir[m],:],np.mat(Label).T[Ir[m]])\n",
    "  out = nbclassify(NBmodel, X[Iv[m],:])\n",
    "  ConfusionMatrix = ConfusionMatrix + np.mat(Label)[:,Iv[m]]*out\n",
    "#######################################################\n",
    "\n",
    "print('Confusion matrix is: ')\n",
    "print(ConfusionMatrix)"
   ]
  },
  {
   "cell_type": "markdown",
   "metadata": {
    "id": "r2W8K8a-ONKK"
   },
   "source": [
    "This is the function nbc that create a classifier object nbmodel using training data (X, Y). Assume each row of X is a 1 x d feature vector of a sample. Feature dimension = d. Each row of Y is an 1 of C encoding of the class label with C classes. The classifier object is a structured data object defined in the end of the function. "
   ]
  },
  {
   "cell_type": "code",
   "execution_count": 3,
   "metadata": {
    "id": "jgT_Sy6iwv-t"
   },
   "outputs": [],
   "source": [
    "def nbc(X,Y):\n",
    "  # Usage: nbmodel = nbc(X,Y)\n",
    "  # developing a naive Bayesian classifier using\n",
    "  # X: training featuer, K by d matrix. Each row of X is an\n",
    "  #    observation, d is the feature dimension, K is the total\n",
    "  #    number of feature vectors in the training set. \n",
    "  # Y: K x C label matrix encoded in 1 of C format where C is the number\n",
    "  #    of classes\n",
    "\n",
    "  (K,d) = np.shape(X)\n",
    "  C = np.shape(Y)[1]\n",
    "  prp = np.sum(Y,axis=0)/np.sum(Y)\n",
    "  mu = [[]] * C\n",
    "  covmat = [[]] * C\n",
    "  \n",
    "  for c in range(C):\n",
    "    idx = (Y[:,c] == 1).A1\n",
    "    if len(idx) > 1:\n",
    "      mu[c] =np.mean(X[idx,:],axis=0)\n",
    "      covmat[c] = np.cov(X[idx,:].T)\n",
    "    elif len(idx) == 1:\n",
    "      mu[c] = X[idx,:]\n",
    "      covmat[c] = np.eye(d)\n",
    "\n",
    "  nbmodel = {}\n",
    "  nbmodel['Nsamples'] = K\n",
    "  nbmodel['FeatureDimension'] = d\n",
    "  nbmodel['Nclass'] = C\n",
    "  nbmodel['TrainingSamples'] = X\n",
    "  nbmodel['TrainingLabels'] = Y\n",
    "  nbmodel['smean'] = mu\n",
    "  nbmodel['scov'] = covmat\n",
    "  nbmodel['prior'] = prp\n",
    "\n",
    "  return nbmodel"
   ]
  },
  {
   "cell_type": "markdown",
   "metadata": {
    "id": "2jL6gbPDORUp"
   },
   "source": [
    "Applying testing data and label to a trained Naive Bayes Classifier to estimate the testing error. "
   ]
  },
  {
   "cell_type": "code",
   "execution_count": 4,
   "metadata": {
    "id": "yBmNrBl02GOv"
   },
   "outputs": [],
   "source": [
    "import scipy.stats as stats\n",
    "\n",
    "def nbclassify(nbmodel, X):\n",
    "  C = nbmodel['Nclass']\n",
    "  mu = nbmodel['smean']\n",
    "  covmat = nbmodel['scov']\n",
    "  Kt = np.shape(X)[0]\n",
    "  Lh = np.zeros((Kt,C))\n",
    "\n",
    "  for c in range(C):\n",
    "    Lh[:,c] = stats.multivariate_normal(mu[c],covmat[c]).pdf(X)\n",
    "\n",
    "  PosP = np.mat(Lh *  np.diag(nbmodel['prior']))\n",
    "  out = (PosP - np.max(PosP,axis=1)*np.ones((1,C)) == 0).astype('double')\n",
    "  \n",
    "  return out"
   ]
  },
  {
   "cell_type": "markdown",
   "metadata": {},
   "source": [
    "# Ex_0930P3Sol\n",
    "\n",
    "K-nearest neighbor classifier demonstration\n",
    "\n",
    "1) Load Iris data set, we use ALL 4 features as feature vectors X, and partition it into 3-way cross validation. We create a 150 x 3 Label matrix so that a class 1 sample  is labeled as 1 0 0 , a class 2 sample 0 1 0 and a class 3 sample 0 0 1.  "
   ]
  },
  {
   "cell_type": "code",
   "execution_count": 30,
   "metadata": {},
   "outputs": [
    {
     "data": {
      "image/png": "[encoded data removed]",
      "text/plain": [
       "<Figure size 432x288 with 1 Axes>"
      ]
     },
     "metadata": {
      "needs_background": "light"
     },
     "output_type": "display_data"
    }
   ],
   "source": [
    "tmp = pd.read_csv('iris.csv',header=None).to_numpy()\n",
    "#####################################################################\n",
    "X = tmp[:,0:4]        # 150 x 2\n",
    "K = np.shape(tmp)[0]  # K = 150 = # of feature vectors, size of training data set.\n",
    "C = 3     # Number of class labels\n",
    "# tmp[:,4] contains labels 1,2, or 3.\n",
    "# Below, we convert the label vector tmp[:,4] to a K x 3 matrix label. \n",
    "# Each row is a 1 in 3 encoding of the corresponding label. \n",
    "Label = [tmp[:,4] == 1, tmp[:,4] == 2, tmp[:,4] == 3]\n",
    "\n",
    "# Scatter plot the 2D data.\n",
    "\n",
    "plt.scatter(X[Label[0],0],X[Label[0],1],c='red')\n",
    "plt.scatter(X[Label[1],0],X[Label[1],1],c='green')\n",
    "plt.scatter(X[Label[2],0],X[Label[2],1],c='blue')\n",
    "plt.xlabel('3rd Feature'), plt.ylabel('4th Feature')\n",
    "plt.title('3rd and 4th dimension of the iris dataset')\n",
    "plt.legend([1,2,3])\n",
    "plt.show()\n",
    "#####################################################################"
   ]
  },
  {
   "cell_type": "markdown",
   "metadata": {},
   "source": [
    "2) Use 3 way cross validation to check the Knn performance with above feature and labels. \n",
    "\n",
    "First we partition the indices into 3 nonoverlap partitions"
   ]
  },
  {
   "cell_type": "code",
   "execution_count": 31,
   "metadata": {},
   "outputs": [],
   "source": [
    "Iv = [[]] * 3\n",
    "Ir = [[]] * 3\n",
    "\n",
    "for m in range(3):\n",
    "  Iv[m] = range(m,K,3) # Indices of 10 validation sets.\n",
    "  Ir[m] = np.setdiff1d(range(K),Iv[m])"
   ]
  },
  {
   "cell_type": "markdown",
   "metadata": {},
   "source": [
    "Next apply knn to Ir{m} and validate on Iv{m}"
   ]
  },
  {
   "cell_type": "code",
   "execution_count": 32,
   "metadata": {},
   "outputs": [
    {
     "name": "stdout",
     "output_type": "stream",
     "text": [
      "['CV3: Confusion Matrix of 1 neighbors = ']\n",
      "[[50.  0.  0.]\n",
      " [ 0. 47.  3.]\n",
      " [ 0.  3. 47.]]\n",
      "['   Pr. Classification = 96.0']\n",
      "['CV3: Confusion Matrix of 2 neighbors = ']\n",
      "[[50.  0.  0.]\n",
      " [ 0. 47.  3.]\n",
      " [ 0.  4. 46.]]\n",
      "['   Pr. Classification = 95.33333333333333']\n",
      "['CV3: Confusion Matrix of 3 neighbors = ']\n",
      "[[50.  0.  0.]\n",
      " [ 0. 47.  3.]\n",
      " [ 0.  2. 48.]]\n",
      "['   Pr. Classification = 96.66666666666667']\n",
      "['CV3: Confusion Matrix of 4 neighbors = ']\n",
      "[[50.  0.  0.]\n",
      " [ 0. 47.  3.]\n",
      " [ 0.  3. 47.]]\n",
      "['   Pr. Classification = 96.0']\n",
      "['CV3: Confusion Matrix of 5 neighbors = ']\n",
      "[[50.  0.  0.]\n",
      " [ 0. 46.  4.]\n",
      " [ 0.  3. 47.]]\n",
      "['   Pr. Classification = 95.33333333333333']\n",
      "['CV3: Confusion Matrix of 6 neighbors = ']\n",
      "[[50.  0.  0.]\n",
      " [ 0. 49.  1.]\n",
      " [ 0.  3. 47.]]\n",
      "['   Pr. Classification = 97.33333333333333']\n",
      "['CV3: Confusion Matrix of 7 neighbors = ']\n",
      "[[50.  0.  0.]\n",
      " [ 0. 48.  2.]\n",
      " [ 0.  3. 47.]]\n",
      "['   Pr. Classification = 96.66666666666667']\n",
      "['CV3: Confusion Matrix of 8 neighbors = ']\n",
      "[[50.  0.  0.]\n",
      " [ 0. 48.  2.]\n",
      " [ 0.  4. 46.]]\n",
      "['   Pr. Classification = 96.0']\n",
      "['CV3: Confusion Matrix of 9 neighbors = ']\n",
      "[[50.  0.  0.]\n",
      " [ 0. 48.  2.]\n",
      " [ 0.  1. 49.]]\n",
      "['   Pr. Classification = 98.0']\n"
     ]
    }
   ],
   "source": [
    "Neighbors = 9\n",
    "Label_mat = np.mat(Label).T.astype('int')\n",
    "\n",
    "for n in range(Neighbors):\n",
    "  ConfMatcv3 = np.zeros((C,1))\n",
    "  for m in range(3):\n",
    "    Xtemp = X[Ir[m],:]\n",
    "    Ltemp = Label_mat[Ir[m],:]\n",
    "    KNNmdl = knnc(Xtemp, Ltemp)\n",
    "    out = knnclassifier(KNNmdl, X[Iv[m],:], n+1)\n",
    "\n",
    "    ConfMatcv3 = ConfMatcv3 + Label_mat[Iv[m],:].T*out\n",
    "  print(['CV3: Confusion Matrix of ' + str(n+1) + ' neighbors = '])\n",
    "  print(ConfMatcv3)\n",
    "  print(['   Pr. Classification = ' + str(100*np.sum(np.diag(ConfMatcv3))/np.shape(X)[0])])"
   ]
  },
  {
   "cell_type": "markdown",
   "metadata": {},
   "source": [
    "This is the function nbc that create a classifier object nbmodel using training data (X, Y). Assume each row of X is a 1 x d feature vector of a sample. Feature dimension = d. Each row of Y is an 1 of C encoding of the class label with C classes. The classifier object is a structured data object defined in the end of the function. "
   ]
  },
  {
   "cell_type": "code",
   "execution_count": 29,
   "metadata": {},
   "outputs": [],
   "source": [
    "def knnc(X,Y):\n",
    "  # Usage: knnmodel = knnc(X,Y)\n",
    "  # developing a K-nearest neighbor classifier using\n",
    "  # X: training features, K by d matrix. Each row of X is an\n",
    "  #    observation, d is the feature dimension, K is the total\n",
    "  #    number of feature vectors in the training set. \n",
    "  # Y: Kx C label matrix encoded in 1 of C format where C is the number of classes. \n",
    "  (K,d) = np.shape(X)\n",
    "  C = np.shape(Y)[1]\n",
    "  prp = np.sum(Y,1)/np.sum(Y)\n",
    "\n",
    "  knnmodel = {}\n",
    "  knnmodel['Nsamples'] = K\n",
    "  knnmodel['Feature Dimension'] = d\n",
    "  knnmodel['Nclass'] = C\n",
    "  knnmodel['TrainingSamples'] = X\n",
    "  knnmodel['TrainingLabels'] = Y\n",
    "\n",
    "  return knnmodel"
   ]
  },
  {
   "cell_type": "markdown",
   "metadata": {},
   "source": [
    "Applying testing data and label to a trained Naive Bayes Classifier to estimate the testing error. \n",
    "\n",
    "Compute distance between X and knnmodel.TrainingSamples using matlab built-in function dist(W,P) where W is K x d and P is a d x N matrix. The output D = dist(W,P) is a K x N matrix. The (k,n)-th element of the D matrix is the Eucledian distance between k-th row of the W matrix and n-th column of the P matrix \n",
    "In the current application, P = knnmodel.TrainingSamples', d x Kr where Kr is the number of training samples. W = X, a K x d testing/validation feature matrix. Thus, \n",
    "\n",
    "Rank order the nearest neighbors. This requires sorting each row of the D matrix using Matlab command [B,Idx]=sort(D); where B is the sorted distance from small to large and Idx is the index of the training samples. \n",
    "\n",
    "Compute classifier output out. \n",
    "If Knn = 1 (nearest neighbor classifier), the indices of nearest training sample is the first column of the Idx matrix. The NN classifier thus will return the training sample's labels of these indexed training samples. \n",
    "If Knn > 1 (K nearest neighbor classifier), the indices of Knn closest neighbors are in the first Knn columns of the Idx matrix. To let the corresponding labels take majority vote. For example, if the nearest three neighbors of the first testing sample have labels [1 0 0], [0 1 0] and [1 0 0], they will add to [2 1 0]. Hence the majority voted output will be [1 0 0]. We create a K x C matrix tmp initialized as a zero matrix. In each of the knn = 3 iterations, its first row will be added to [1 0 0], [0 1 0] and [1 0 0] respectively and ended with [2 1 0]. Then we will use [~,I] = max([2  0 0],[],2) command to obtain I = 1 (class 1) as the voted result. Thus the corresponding row of out  = Lmat(I,:) where Lmat = eye(C) is a C x C identity matrix that gives the 1 in C encoding of class labels. "
   ]
  },
  {
   "cell_type": "code",
   "execution_count": 26,
   "metadata": {},
   "outputs": [],
   "source": [
    "\n",
    "\n",
    "def knnclassifier(knnmodel,X,Kn = 1):\n",
    "  # Usage: out = knnclassifier(knnmodel, X, Knn, distype)\n",
    "  # Given a KNN Classifier model knnmodel,\n",
    "  # X: Testing Feature,\n",
    "  # Kn: k nearest neighbor, default (if ignored ) = 1. A positive integer.\n",
    "  # disttype: type of distance metric, default: L2 Norm. \n",
    "  # out: predicted output using Knnmodel (1 in C format)\n",
    "  # knnmodel has the following structure:\n",
    "  #    knnmodel['Nsamples'] = K            # Number of training samples\n",
    "  #    knnmodel['Feature Dimension'] = d   # Feature space Dimension\n",
    "  #    knnmodel['Nclass'] = C              # Number of Classes\n",
    "  #    knnmodel['TrainingSamples']\n",
    "  #    knnmodel['TrainingLabels']\n",
    "\n",
    "  out = []\n",
    "  D = dist(X,knnmodel[\"TrainingSamples\"].T)\n",
    "  Idx = np.argsort(D,-1)\n",
    "\n",
    "  if Kn == 1:\n",
    "    out = knnmodel[\"TrainingLabels\"][Idx[:,0],:]\n",
    "  elif Kn > 1:\n",
    "    Lmat = np.eye(knnmodel[\"Nclass\"])  # Class label Matrix\n",
    "    tmp = np.zeros((np.shape(X)[0],knnmodel[\"Nclass\"]))     # to compute cumulated output labels\n",
    "    for k in range(Kn):\n",
    "\n",
    "      tmp = tmp + knnmodel[\"TrainingLabels\"][Idx[:,k],:] # Adding these labels\n",
    "      # finding the index of the maximum entry in each row of the tmp matrix.\n",
    "      Imax = np.argmax(tmp,axis=1 )\n",
    "      out = Lmat[Imax,:]\n",
    "      #print(out)\n",
    "\n",
    "  return out\n"
   ]
  },
  {
   "cell_type": "code",
   "execution_count": 27,
   "metadata": {},
   "outputs": [],
   "source": [
    "def dist(W,P):\n",
    "  K,d1 = np.shape(W)\n",
    "  d2,N = np.shape(P)\n",
    "\n",
    "  d = np.zeros((K,N))\n",
    "  for k in range(K):\n",
    "    for n in range(N):\n",
    "      x = W[k,:]\n",
    "      y = P[:,n]\n",
    "      d[k,n] = np.linalg.norm(x - y,2)\n",
    "  return d"
   ]
  },
  {
   "cell_type": "code",
   "execution_count": null,
   "metadata": {},
   "outputs": [],
   "source": []
  }
 ],
 "metadata": {
  "colab": {
   "collapsed_sections": [],
   "name": "ex_0930P2.ipynb",
   "provenance": [],
   "toc_visible": true
  },
  "kernelspec": {
   "display_name": "Python 3",
   "language": "python",
   "name": "python3"
  },
  "language_info": {
   "codemirror_mode": {
    "name": "ipython",
    "version": 3
   },
   "file_extension": ".py",
   "mimetype": "text/x-python",
   "name": "python",
   "nbconvert_exporter": "python",
   "pygments_lexer": "ipython3",
   "version": "3.6.9"
  }
 },
 "nbformat": 4,
 "nbformat_minor": 1
}
