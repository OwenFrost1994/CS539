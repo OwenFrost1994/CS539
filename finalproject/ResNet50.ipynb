{
 "cells": [
  {
   "cell_type": "markdown",
   "metadata": {},
   "source": [
    "## Extract Rock Data\n",
    "First collect the dataset from the folder."
   ]
  },
  {
   "cell_type": "code",
   "execution_count": 1,
   "metadata": {},
   "outputs": [],
   "source": [
    "import shutil\n",
    "import zipfile\n",
    "import os\n",
    "shutil.rmtree('DataResNet')\n",
    "os.mkdir('DataResNet')\n",
    "f = zipfile.ZipFile('dataimgs.zip')# 读取zip文件\n",
    "f.extractall('')#提取zip文件\n",
    "shutil.move('dataimgs/carbonate', 'DataResNet')\n",
    "shutil.move('dataimgs/igneous', 'DataResNet')\n",
    "shutil.move('dataimgs/sandstone', 'DataResNet')\n",
    "shutil.move('dataimgs/shale', 'DataResNet')\n",
    "shutil.rmtree('dataimgs')"
   ]
  },
  {
   "cell_type": "code",
   "execution_count": 2,
   "metadata": {},
   "outputs": [
    {
     "data": {
      "text/plain": [
       "'!rm -rf DataResNet\\n!rmdir dataimgs\\n!mkdir DataResNet\\n!unzip dataimgs.zip\\n!mv dataimgs/carbonate DataResNet\\n!mv dataimgs/igneous DataResNet\\n!mv dataimgs/sandstone DataResNet\\n!mv dataimgs/shale DataResNet\\n!rmdir dataimgs'"
      ]
     },
     "execution_count": 2,
     "metadata": {},
     "output_type": "execute_result"
    }
   ],
   "source": [
    "'''!rm -rf DataResNet\n",
    "!rmdir dataimgs\n",
    "!mkdir DataResNet\n",
    "!unzip dataimgs.zip\n",
    "!mv dataimgs/carbonate DataResNet\n",
    "!mv dataimgs/igneous DataResNet\n",
    "!mv dataimgs/sandstone DataResNet\n",
    "!mv dataimgs/shale DataResNet\n",
    "!rmdir dataimgs'''"
   ]
  },
  {
   "cell_type": "code",
   "execution_count": 3,
   "metadata": {},
   "outputs": [
    {
     "name": "stdout",
     "output_type": "stream",
     "text": [
      "['DataResNet\\\\carbonate', 'DataResNet\\\\igneous', 'DataResNet\\\\sandstone', 'DataResNet\\\\shale']\n"
     ]
    }
   ],
   "source": [
    "from glob import glob\n",
    "from sklearn.model_selection import train_test_split\n",
    "## Randomly Split data into training, validation and testing sets.\n",
    "## This code randomly chooses 20% of all data for testing and 30% of the training data for validation.\n",
    "## Then creates folders for sets of data.\n",
    "\n",
    "dirs = glob('DataResNet/*')\n",
    "print(dirs)\n",
    "carbonate = glob('DataResNet/carbonate/*.JPG')\n",
    "igneous = glob('DataResNet/igneous/*.JPG')\n",
    "sandstone = glob('DataResNet/sandstone/*.JPG')\n",
    "shale = glob('DataResNet/shale/*.JPG')\n",
    "\n",
    "# Split into train and test sets.\n",
    "carbonate_train, carbonate_test = train_test_split(carbonate, test_size=0.2)\n",
    "igneous_train, igneous_test = train_test_split(igneous, test_size=0.2)\n",
    "sandstone_train, sandstone_test = train_test_split(sandstone, test_size=0.2)\n",
    "shale_train, shale_test = train_test_split(shale, test_size=0.2)\n",
    "\n",
    "carbonate_train, carbonate_val = train_test_split(carbonate_train, test_size=0.3)\n",
    "igneous_train, igneous_val = train_test_split(igneous_train, test_size=0.3)\n",
    "sandstone_train, sandstone_val = train_test_split(sandstone_train, test_size=0.3)\n",
    "shale_train, shale_val = train_test_split(shale_train, test_size=0.3)"
   ]
  },
  {
   "cell_type": "code",
   "execution_count": 4,
   "metadata": {},
   "outputs": [],
   "source": [
    "# This code moves the validation files out of the train directory and over to \n",
    "# the val directory.\n",
    "os.mkdir('DataResNet/val')\n",
    "os.mkdir('DataResNet/test')\n",
    "os.mkdir('DataResNet/train')\n",
    "\n",
    "os.mkdir('DataResNet/val/carbonate')\n",
    "for i in range(len(carbonate_val)):\n",
    "    shutil.move(carbonate_val[i], 'DataResNet/val/carbonate')\n",
    "\n",
    "os.mkdir('DataResNet/val/igneous')\n",
    "for i in range(len(igneous_val)):\n",
    "    shutil.move(igneous_val[i], 'DataResNet/val/igneous')\n",
    "\n",
    "os.mkdir('DataResNet/val/sandstone')\n",
    "for i in range(len(sandstone_val)):\n",
    "    shutil.move(sandstone_val[i], 'DataResNet/val/sandstone')\n",
    "\n",
    "os.mkdir('DataResNet/val/shale')\n",
    "for i in range(len(shale_val)):\n",
    "    shutil.move(shale_val[i], 'DataResNet/val/shale')\n",
    "\n",
    "os.mkdir('DataResNet/test/carbonate')\n",
    "for i in range(len(carbonate_test)):\n",
    "    shutil.move(carbonate_test[i], 'DataResNet/test/carbonate')\n",
    "\n",
    "os.mkdir('DataResNet/test/igneous')\n",
    "for i in range(len(igneous_test)):\n",
    "    shutil.move(igneous_test[i], 'DataResNet/test/igneous')\n",
    "\n",
    "os.mkdir('DataResNet/test/sandstone')\n",
    "for i in range(len(sandstone_test)):\n",
    "    shutil.move(sandstone_test[i], 'DataResNet/test/sandstone')\n",
    "\n",
    "os.mkdir('DataResNet/test/shale')\n",
    "for i in range(len(shale_test)):\n",
    "    shutil.move(shale_test[i], 'DataResNet/test/shale')\n",
    "\n",
    "os.mkdir('DataResNet/train/carbonate')\n",
    "for i in range(len(carbonate_train)):\n",
    "    shutil.move(carbonate_train[i], 'DataResNet/train/carbonate')\n",
    "\n",
    "os.mkdir('DataResNet/train/igneous')\n",
    "for i in range(len(igneous_train)):\n",
    "    shutil.move(igneous_train[i], 'DataResNet/train/igneous')\n",
    "\n",
    "os.mkdir('DataResNet/train/sandstone')\n",
    "for i in range(len(sandstone_train)):\n",
    "    shutil.move(sandstone_train[i], 'DataResNet/train/sandstone')\n",
    "\n",
    "os.mkdir('DataResNet/train/shale')\n",
    "for i in range(len(shale_train)):\n",
    "    shutil.move(shale_train[i], 'DataResNet/train/shale')\n",
    "    \n",
    "shutil.rmtree('DataResNet/carbonate')\n",
    "shutil.rmtree('DataResNet/igneous')\n",
    "shutil.rmtree('DataResNet/sandstone')\n",
    "shutil.rmtree('DataResNet/shale')"
   ]
  },
  {
   "cell_type": "code",
   "execution_count": 5,
   "metadata": {},
   "outputs": [
    {
     "data": {
      "text/plain": [
       "\"!rm -rf DataResNet/val\\n!mkdir DataResNet/val\\n!rm -rf DataResNet/test\\n!mkdir DataResNet/test\\n!rm -rf DataResNet/train\\n!mkdir DataResNet/train\\n\\n!mkdir DataResNet/val/carbonate\\nfiles = ' '.join(carbonate_val)\\n!mv -t DataResNet/val/carbonate $files\\n\\n!mkdir DataResNet/val/igneous\\nfiles = ' '.join(igneous_val)\\n!mv -t DataResNet/val/igneous $files\\n\\n!mkdir DataResNet/val/sandstone\\nfiles = ' '.join(sandstone_val)\\n!mv -t DataResNet/val/sandstone $files\\n\\n!mkdir DataResNet/val/shale\\nfiles = ' '.join(shale_val)\\n!mv -t DataResNet/val/shale $files\\n\\n!mkdir DataResNet/test/carbonate\\nfiles = ' '.join(carbonate_test)\\n!mv -t DataResNet/test/carbonate $files\\n\\n!mkdir DataResNet/test/igneous\\nfiles = ' '.join(igneous_test)\\n!mv -t DataResNet/test/igneous $files\\n\\n!mkdir DataResNet/test/sandstone\\nfiles = ' '.join(sandstone_test)\\n!mv -t DataResNet/test/sandstone $files\\n\\n!mkdir DataResNet/test/shale\\nfiles = ' '.join(shale_test)\\n!mv -t DataResNet/test/shale $files\\n\\n!mkdir DataResNet/train/carbonate\\nfiles = ' '.join(carbonate_train)\\n!mv -t DataResNet/train/carbonate $files\\n\\n!mkdir DataResNet/train/igneous\\nfiles = ' '.join(igneous_train)\\n!mv -t DataResNet/train/igneous $files\\n\\n!mkdir DataResNet/train/sandstone\\nfiles = ' '.join(sandstone_train)\\n!mv -t DataResNet/train/sandstone $files\\n\\n!mkdir DataResNet/train/shale\\nfiles = ' '.join(shale_train)\\n!mv -t DataResNet/train/shale $files\\n\\n!rmdir DataResNet/carbonate\\n!rmdir DataResNet/igneous\\n!rmdir DataResNet/sandstone\\n!rmdir DataResNet/shale\""
      ]
     },
     "execution_count": 5,
     "metadata": {},
     "output_type": "execute_result"
    }
   ],
   "source": [
    "# This code moves the validation files out of the train directory and over to \n",
    "# the val directory.\n",
    "'''!rm -rf DataResNet/val\n",
    "!mkdir DataResNet/val\n",
    "!rm -rf DataResNet/test\n",
    "!mkdir DataResNet/test\n",
    "!rm -rf DataResNet/train\n",
    "!mkdir DataResNet/train\n",
    "\n",
    "!mkdir DataResNet/val/carbonate\n",
    "files = ' '.join(carbonate_val)\n",
    "!mv -t DataResNet/val/carbonate $files\n",
    "\n",
    "!mkdir DataResNet/val/igneous\n",
    "files = ' '.join(igneous_val)\n",
    "!mv -t DataResNet/val/igneous $files\n",
    "\n",
    "!mkdir DataResNet/val/sandstone\n",
    "files = ' '.join(sandstone_val)\n",
    "!mv -t DataResNet/val/sandstone $files\n",
    "\n",
    "!mkdir DataResNet/val/shale\n",
    "files = ' '.join(shale_val)\n",
    "!mv -t DataResNet/val/shale $files\n",
    "\n",
    "!mkdir DataResNet/test/carbonate\n",
    "files = ' '.join(carbonate_test)\n",
    "!mv -t DataResNet/test/carbonate $files\n",
    "\n",
    "!mkdir DataResNet/test/igneous\n",
    "files = ' '.join(igneous_test)\n",
    "!mv -t DataResNet/test/igneous $files\n",
    "\n",
    "!mkdir DataResNet/test/sandstone\n",
    "files = ' '.join(sandstone_test)\n",
    "!mv -t DataResNet/test/sandstone $files\n",
    "\n",
    "!mkdir DataResNet/test/shale\n",
    "files = ' '.join(shale_test)\n",
    "!mv -t DataResNet/test/shale $files\n",
    "\n",
    "!mkdir DataResNet/train/carbonate\n",
    "files = ' '.join(carbonate_train)\n",
    "!mv -t DataResNet/train/carbonate $files\n",
    "\n",
    "!mkdir DataResNet/train/igneous\n",
    "files = ' '.join(igneous_train)\n",
    "!mv -t DataResNet/train/igneous $files\n",
    "\n",
    "!mkdir DataResNet/train/sandstone\n",
    "files = ' '.join(sandstone_train)\n",
    "!mv -t DataResNet/train/sandstone $files\n",
    "\n",
    "!mkdir DataResNet/train/shale\n",
    "files = ' '.join(shale_train)\n",
    "!mv -t DataResNet/train/shale $files\n",
    "\n",
    "!rmdir DataResNet/carbonate\n",
    "!rmdir DataResNet/igneous\n",
    "!rmdir DataResNet/sandstone\n",
    "!rmdir DataResNet/shale'''"
   ]
  },
  {
   "cell_type": "code",
   "execution_count": 6,
   "metadata": {},
   "outputs": [],
   "source": [
    "# Jupyter keeps checkpoint files that may screw up the ImageDataGenerator class\n",
    "# So we delete those here. \n",
    "#!rm -rf train/.ipynb_checkpoints\n",
    "#!rm -rf val/.ipynb_checkpoints"
   ]
  },
  {
   "cell_type": "markdown",
   "metadata": {},
   "source": [
    "## Augment Data for Training"
   ]
  },
  {
   "cell_type": "code",
   "execution_count": 7,
   "metadata": {},
   "outputs": [
    {
     "name": "stdout",
     "output_type": "stream",
     "text": [
      "Found 823 images belonging to 4 classes.\n",
      "Found 355 images belonging to 4 classes.\n"
     ]
    }
   ],
   "source": [
    "from tensorflow.keras.preprocessing.image import ImageDataGenerator\n",
    "from tensorflow.keras.applications.resnet50 import preprocess_input\n",
    "\n",
    "TRAIN_DIR = 'DataResNet/train'\n",
    "VAL_DIR = 'DataResNet/val'\n",
    "WIDTH = 299\n",
    "HEIGHT = 299\n",
    "BATCH_SIZE = 10\n",
    "\n",
    "# data prep\n",
    "train_datagen = ImageDataGenerator(\n",
    "    preprocessing_function=preprocess_input,\n",
    "    rotation_range=90,\n",
    "    zoom_range=[1,2],\n",
    "    horizontal_flip=True,\n",
    "    fill_mode='nearest')\n",
    "\n",
    "validation_datagen = ImageDataGenerator(\n",
    "    preprocessing_function=preprocess_input,\n",
    "    rotation_range=90,\n",
    "    zoom_range=[1,2],\n",
    "    horizontal_flip=True,\n",
    "    fill_mode='nearest')\n",
    "\n",
    "train_generator = train_datagen.flow_from_directory(\n",
    "    TRAIN_DIR,\n",
    "    target_size=(HEIGHT, WIDTH),\n",
    "    batch_size=BATCH_SIZE,\n",
    "    class_mode='categorical')\n",
    "    \n",
    "validation_generator = validation_datagen.flow_from_directory(\n",
    "    VAL_DIR,\n",
    "    target_size=(HEIGHT, WIDTH),\n",
    "    batch_size=BATCH_SIZE,\n",
    "    class_mode='categorical')"
   ]
  },
  {
   "cell_type": "markdown",
   "metadata": {},
   "source": [
    "## Load Pre-trained model"
   ]
  },
  {
   "cell_type": "code",
   "execution_count": 8,
   "metadata": {},
   "outputs": [
    {
     "name": "stdout",
     "output_type": "stream",
     "text": [
      "Downloading data from https://storage.googleapis.com/tensorflow/keras-applications/resnet/resnet50_weights_tf_dim_ordering_tf_kernels_notop.h5\n",
      "94773248/94765736 [==============================] - 4s 0us/step\n"
     ]
    }
   ],
   "source": [
    "from tensorflow.keras.models import Model\n",
    "from tensorflow.keras.applications.resnet50 import ResNet50, preprocess_input\n",
    "\n",
    "base_model = ResNet50(weights='imagenet', include_top=False)"
   ]
  },
  {
   "cell_type": "markdown",
   "metadata": {},
   "source": [
    "## Replace classification layer"
   ]
  },
  {
   "cell_type": "code",
   "execution_count": 9,
   "metadata": {},
   "outputs": [],
   "source": [
    "from tensorflow.keras.layers import Dense, GlobalAveragePooling2D, Dropout\n",
    "\n",
    "\n",
    "CLASSES = 4\n",
    "# These layers were removed by setting include_top=false, but we still want them\n",
    "x = base_model.output                          # The output layer of the googleNet\n",
    "x = GlobalAveragePooling2D(name='avg_pool')(x) # This layer is used to downsample the features\n",
    "x = Dropout(0.4)(x)                            # This layer is used to enforce feature redundancy \n",
    "\n",
    "# This layer specifies our classifier output\n",
    "predictions = Dense(CLASSES, activation='softmax')(x)\n",
    "#\n",
    "model = Model(inputs=base_model.input, outputs=predictions)"
   ]
  },
  {
   "cell_type": "code",
   "execution_count": 10,
   "metadata": {},
   "outputs": [],
   "source": [
    "for layer in base_model.layers:\n",
    "    layer.trainable = False # Set this to True if you want to re-train the entire network."
   ]
  },
  {
   "cell_type": "code",
   "execution_count": 11,
   "metadata": {},
   "outputs": [],
   "source": [
    "model.compile(optimizer='rmsprop',\n",
    "              loss='categorical_crossentropy',\n",
    "              metrics=['accuracy'])"
   ]
  },
  {
   "cell_type": "markdown",
   "metadata": {},
   "source": [
    "## Train the network"
   ]
  },
  {
   "cell_type": "code",
   "execution_count": 12,
   "metadata": {
    "scrolled": false
   },
   "outputs": [
    {
     "name": "stdout",
     "output_type": "stream",
     "text": [
      "Epoch 1/60\n",
      "5/5 [==============================] - 4s 899ms/step - loss: 2.1700 - accuracy: 0.2400 - val_loss: 1.9394 - val_accuracy: 0.2500\n",
      "Epoch 2/60\n",
      "5/5 [==============================] - 4s 755ms/step - loss: 1.8534 - accuracy: 0.2200 - val_loss: 2.0346 - val_accuracy: 0.2000\n",
      "Epoch 3/60\n",
      "5/5 [==============================] - 4s 748ms/step - loss: 1.8625 - accuracy: 0.3800 - val_loss: 1.5708 - val_accuracy: 0.4000\n",
      "Epoch 4/60\n",
      "5/5 [==============================] - 3s 685ms/step - loss: 1.5376 - accuracy: 0.3200 - val_loss: 1.0449 - val_accuracy: 0.4500\n",
      "Epoch 5/60\n",
      "5/5 [==============================] - 4s 703ms/step - loss: 1.6355 - accuracy: 0.3800 - val_loss: 1.2160 - val_accuracy: 0.4000\n",
      "Epoch 6/60\n",
      "5/5 [==============================] - 3s 688ms/step - loss: 1.3813 - accuracy: 0.4000 - val_loss: 1.0268 - val_accuracy: 0.6500\n",
      "Epoch 7/60\n",
      "5/5 [==============================] - 4s 700ms/step - loss: 1.5815 - accuracy: 0.4000 - val_loss: 1.4514 - val_accuracy: 0.3000\n",
      "Epoch 8/60\n",
      "5/5 [==============================] - 4s 708ms/step - loss: 1.2605 - accuracy: 0.5600 - val_loss: 1.3660 - val_accuracy: 0.4000\n",
      "Epoch 9/60\n",
      "5/5 [==============================] - 3s 676ms/step - loss: 1.4520 - accuracy: 0.4400 - val_loss: 0.7487 - val_accuracy: 0.7000\n",
      "Epoch 10/60\n",
      "5/5 [==============================] - 4s 711ms/step - loss: 1.3850 - accuracy: 0.5000 - val_loss: 0.9320 - val_accuracy: 0.7000\n",
      "Epoch 11/60\n",
      "5/5 [==============================] - 3s 689ms/step - loss: 0.9979 - accuracy: 0.6200 - val_loss: 1.3532 - val_accuracy: 0.4000\n",
      "Epoch 12/60\n",
      "5/5 [==============================] - 4s 707ms/step - loss: 1.1337 - accuracy: 0.5400 - val_loss: 0.8503 - val_accuracy: 0.6500\n",
      "Epoch 13/60\n",
      "5/5 [==============================] - 3s 683ms/step - loss: 1.4040 - accuracy: 0.4200 - val_loss: 1.2909 - val_accuracy: 0.4000\n",
      "Epoch 14/60\n",
      "5/5 [==============================] - 4s 709ms/step - loss: 1.0477 - accuracy: 0.5800 - val_loss: 0.8844 - val_accuracy: 0.6000\n",
      "Epoch 15/60\n",
      "5/5 [==============================] - 3s 691ms/step - loss: 0.8689 - accuracy: 0.6200 - val_loss: 0.6740 - val_accuracy: 0.8000\n",
      "Epoch 16/60\n",
      "5/5 [==============================] - 4s 745ms/step - loss: 1.0267 - accuracy: 0.6400 - val_loss: 0.7894 - val_accuracy: 0.8000\n",
      "Epoch 17/60\n",
      "5/5 [==============================] - 4s 820ms/step - loss: 1.5667 - accuracy: 0.4400 - val_loss: 1.0115 - val_accuracy: 0.6000\n",
      "Epoch 18/60\n",
      "5/5 [==============================] - 4s 722ms/step - loss: 1.1529 - accuracy: 0.5116 - val_loss: 1.1885 - val_accuracy: 0.4500\n",
      "Epoch 19/60\n",
      "5/5 [==============================] - 4s 727ms/step - loss: 1.2231 - accuracy: 0.4884 - val_loss: 0.9828 - val_accuracy: 0.5500\n",
      "Epoch 20/60\n",
      "5/5 [==============================] - 4s 761ms/step - loss: 0.7761 - accuracy: 0.7000 - val_loss: 0.7922 - val_accuracy: 0.7000\n",
      "Epoch 21/60\n",
      "5/5 [==============================] - 4s 746ms/step - loss: 0.9205 - accuracy: 0.6400 - val_loss: 0.7650 - val_accuracy: 0.7000\n",
      "Epoch 22/60\n",
      "5/5 [==============================] - 3s 687ms/step - loss: 1.0369 - accuracy: 0.6000 - val_loss: 0.8848 - val_accuracy: 0.5500\n",
      "Epoch 23/60\n",
      "5/5 [==============================] - 4s 706ms/step - loss: 0.9941 - accuracy: 0.5800 - val_loss: 0.6653 - val_accuracy: 0.7000\n",
      "Epoch 24/60\n",
      "5/5 [==============================] - 3s 667ms/step - loss: 1.0764 - accuracy: 0.6600 - val_loss: 0.9275 - val_accuracy: 0.6000\n",
      "Epoch 25/60\n",
      "5/5 [==============================] - 3s 645ms/step - loss: 1.2171 - accuracy: 0.5349 - val_loss: 0.8822 - val_accuracy: 0.6500\n",
      "Epoch 26/60\n",
      "5/5 [==============================] - 3s 667ms/step - loss: 1.2471 - accuracy: 0.5200 - val_loss: 0.7667 - val_accuracy: 0.6500\n",
      "Epoch 27/60\n",
      "5/5 [==============================] - 4s 703ms/step - loss: 0.9866 - accuracy: 0.6000 - val_loss: 0.6267 - val_accuracy: 0.7500\n",
      "Epoch 28/60\n",
      "5/5 [==============================] - 4s 701ms/step - loss: 0.9968 - accuracy: 0.6000 - val_loss: 0.8572 - val_accuracy: 0.5500\n",
      "Epoch 29/60\n",
      "5/5 [==============================] - 3s 693ms/step - loss: 0.9236 - accuracy: 0.7442 - val_loss: 1.0125 - val_accuracy: 0.6000\n",
      "Epoch 30/60\n",
      "5/5 [==============================] - 4s 754ms/step - loss: 0.7622 - accuracy: 0.6800 - val_loss: 0.4261 - val_accuracy: 0.8000\n",
      "Epoch 31/60\n",
      "5/5 [==============================] - 4s 712ms/step - loss: 1.1304 - accuracy: 0.5814 - val_loss: 0.6351 - val_accuracy: 0.6500\n",
      "Epoch 32/60\n",
      "5/5 [==============================] - 4s 728ms/step - loss: 0.7931 - accuracy: 0.6744 - val_loss: 0.8005 - val_accuracy: 0.7500\n",
      "Epoch 33/60\n",
      "5/5 [==============================] - 4s 700ms/step - loss: 0.9278 - accuracy: 0.6000 - val_loss: 0.7495 - val_accuracy: 0.6500\n",
      "Epoch 34/60\n",
      "5/5 [==============================] - 4s 705ms/step - loss: 0.7583 - accuracy: 0.6400 - val_loss: 1.3302 - val_accuracy: 0.5000\n",
      "Epoch 35/60\n",
      "5/5 [==============================] - 3s 672ms/step - loss: 0.9339 - accuracy: 0.6000 - val_loss: 1.1965 - val_accuracy: 0.4000\n",
      "Epoch 36/60\n",
      "5/5 [==============================] - 4s 703ms/step - loss: 0.7180 - accuracy: 0.7000 - val_loss: 0.8161 - val_accuracy: 0.6000\n",
      "Epoch 37/60\n",
      "5/5 [==============================] - 4s 713ms/step - loss: 0.8295 - accuracy: 0.6400 - val_loss: 0.7344 - val_accuracy: 0.7500\n",
      "Epoch 38/60\n",
      "5/5 [==============================] - 3s 694ms/step - loss: 0.7390 - accuracy: 0.7200 - val_loss: 0.4137 - val_accuracy: 0.8500\n",
      "Epoch 39/60\n",
      "5/5 [==============================] - 4s 714ms/step - loss: 0.6461 - accuracy: 0.8000 - val_loss: 0.7725 - val_accuracy: 0.6500\n",
      "Epoch 40/60\n",
      "5/5 [==============================] - 3s 689ms/step - loss: 0.8109 - accuracy: 0.6400 - val_loss: 0.8650 - val_accuracy: 0.6500\n",
      "Epoch 41/60\n",
      "5/5 [==============================] - 4s 752ms/step - loss: 0.9681 - accuracy: 0.6000 - val_loss: 0.4117 - val_accuracy: 0.8000\n",
      "Epoch 42/60\n",
      "5/5 [==============================] - 4s 756ms/step - loss: 0.9379 - accuracy: 0.6200 - val_loss: 1.0018 - val_accuracy: 0.5500\n",
      "Epoch 43/60\n",
      "5/5 [==============================] - 4s 749ms/step - loss: 0.8421 - accuracy: 0.6600 - val_loss: 0.5959 - val_accuracy: 0.7500\n",
      "Epoch 44/60\n",
      "5/5 [==============================] - 4s 736ms/step - loss: 0.9550 - accuracy: 0.6600 - val_loss: 0.9146 - val_accuracy: 0.7000\n",
      "Epoch 45/60\n",
      "5/5 [==============================] - 4s 707ms/step - loss: 0.6847 - accuracy: 0.7000 - val_loss: 0.5899 - val_accuracy: 0.8500\n",
      "Epoch 46/60\n",
      "5/5 [==============================] - 3s 696ms/step - loss: 0.6956 - accuracy: 0.7000 - val_loss: 0.4989 - val_accuracy: 0.7500\n",
      "Epoch 47/60\n",
      "5/5 [==============================] - 3s 682ms/step - loss: 0.7090 - accuracy: 0.6200 - val_loss: 0.9969 - val_accuracy: 0.5500\n",
      "Epoch 48/60\n",
      "5/5 [==============================] - 3s 699ms/step - loss: 0.7955 - accuracy: 0.7200 - val_loss: 0.4767 - val_accuracy: 0.9000\n",
      "Epoch 49/60\n",
      "5/5 [==============================] - 3s 650ms/step - loss: 0.8978 - accuracy: 0.6600 - val_loss: 1.1357 - val_accuracy: 0.5500\n",
      "Epoch 50/60\n",
      "5/5 [==============================] - 3s 664ms/step - loss: 0.8641 - accuracy: 0.6400 - val_loss: 0.6119 - val_accuracy: 0.8000\n",
      "Epoch 51/60\n",
      "5/5 [==============================] - 3s 658ms/step - loss: 0.7275 - accuracy: 0.6977 - val_loss: 0.9693 - val_accuracy: 0.6500\n",
      "Epoch 52/60\n",
      "5/5 [==============================] - 3s 689ms/step - loss: 0.8369 - accuracy: 0.7200 - val_loss: 0.6626 - val_accuracy: 0.7500\n",
      "Epoch 53/60\n",
      "5/5 [==============================] - 3s 642ms/step - loss: 0.6629 - accuracy: 0.8000 - val_loss: 0.7642 - val_accuracy: 0.7000\n",
      "Epoch 54/60\n",
      "5/5 [==============================] - 4s 714ms/step - loss: 0.9263 - accuracy: 0.6600 - val_loss: 0.7423 - val_accuracy: 0.7500\n",
      "Epoch 55/60\n",
      "5/5 [==============================] - 3s 691ms/step - loss: 0.8759 - accuracy: 0.6744 - val_loss: 0.7630 - val_accuracy: 0.7500\n",
      "Epoch 56/60\n",
      "5/5 [==============================] - 3s 665ms/step - loss: 0.7003 - accuracy: 0.6800 - val_loss: 0.6798 - val_accuracy: 0.7500\n",
      "Epoch 57/60\n",
      "5/5 [==============================] - 3s 674ms/step - loss: 0.7571 - accuracy: 0.6800 - val_loss: 0.5773 - val_accuracy: 0.8000\n",
      "Epoch 58/60\n",
      "5/5 [==============================] - 3s 686ms/step - loss: 0.8519 - accuracy: 0.6400 - val_loss: 0.7220 - val_accuracy: 0.6500\n",
      "Epoch 59/60\n"
     ]
    },
    {
     "name": "stdout",
     "output_type": "stream",
     "text": [
      "5/5 [==============================] - 3s 671ms/step - loss: 0.8850 - accuracy: 0.6400 - val_loss: 0.6525 - val_accuracy: 0.7500\n",
      "Epoch 60/60\n",
      "5/5 [==============================] - 3s 691ms/step - loss: 0.8623 - accuracy: 0.6600 - val_loss: 0.6346 - val_accuracy: 0.7500\n",
      "WARNING:tensorflow:From E:\\Anaconda\\lib\\site-packages\\tensorflow\\python\\training\\tracking\\tracking.py:111: Model.state_updates (from tensorflow.python.keras.engine.training) is deprecated and will be removed in a future version.\n",
      "Instructions for updating:\n",
      "This property should not be used in TensorFlow 2.0, as updates are applied automatically.\n",
      "WARNING:tensorflow:From E:\\Anaconda\\lib\\site-packages\\tensorflow\\python\\training\\tracking\\tracking.py:111: Layer.updates (from tensorflow.python.keras.engine.base_layer) is deprecated and will be removed in a future version.\n",
      "Instructions for updating:\n",
      "This property should not be used in TensorFlow 2.0, as updates are applied automatically.\n",
      "INFO:tensorflow:Assets written to: savedmodel/ResNet50model\\assets\n"
     ]
    }
   ],
   "source": [
    "EPOCHS = 60\n",
    "BATCH_SIZE = 20\n",
    "STEPS_PER_EPOCH = 5\n",
    "VALIDATION_STEPS = 2\n",
    "#MODEL_FILE = 'ResNet50.model'\n",
    "MODEL_FILE = 'savedmodel/ResNet50model'\n",
    "\n",
    "history = model.fit(\n",
    "    train_generator,\n",
    "    epochs=EPOCHS,\n",
    "    steps_per_epoch=STEPS_PER_EPOCH,\n",
    "    validation_data=validation_generator,\n",
    "    validation_steps=VALIDATION_STEPS)\n",
    "  ## Test Trained Network\n",
    "model.save(MODEL_FILE)"
   ]
  },
  {
   "cell_type": "code",
   "execution_count": 13,
   "metadata": {},
   "outputs": [
    {
     "data": {
      "image/png": "[encoded data removed]",
      "text/plain": [
       "<Figure size 432x288 with 1 Axes>"
      ]
     },
     "metadata": {
      "needs_background": "light"
     },
     "output_type": "display_data"
    },
    {
     "data": {
      "image/png": "[encoded data removed]",
      "text/plain": [
       "<Figure size 432x288 with 1 Axes>"
      ]
     },
     "metadata": {
      "needs_background": "light"
     },
     "output_type": "display_data"
    }
   ],
   "source": [
    "import matplotlib.pyplot as plt\n",
    "acc = history.history['accuracy']\n",
    "loss = history.history['loss']\n",
    "val_acc = history.history['val_accuracy']\n",
    "val_loss = history.history['val_loss']\n",
    "epochs = range(1,len(acc)+1)\n",
    "\n",
    "plt.plot(epochs, val_acc,'r')\n",
    "plt.plot(epochs, acc,'r.')\n",
    "plt.title(\"Training Accuracy\")\n",
    "\n",
    "plt.figure()\n",
    "plt.plot(epochs, val_loss,'r')\n",
    "plt.plot(epochs,loss,'r.')\n",
    "plt.title(\"Training Loss\")\n",
    "plt.show()"
   ]
  },
  {
   "cell_type": "code",
   "execution_count": 14,
   "metadata": {},
   "outputs": [
    {
     "data": {
      "text/plain": [
       "0.800000011920929"
      ]
     },
     "execution_count": 14,
     "metadata": {},
     "output_type": "execute_result"
    }
   ],
   "source": [
    "max(acc)"
   ]
  },
  {
   "cell_type": "code",
   "execution_count": 15,
   "metadata": {},
   "outputs": [
    {
     "data": {
      "text/plain": [
       "0.8999999761581421"
      ]
     },
     "execution_count": 15,
     "metadata": {},
     "output_type": "execute_result"
    }
   ],
   "source": [
    "max(val_acc)"
   ]
  },
  {
   "cell_type": "markdown",
   "metadata": {},
   "source": [
    "## Test Trained Network"
   ]
  },
  {
   "cell_type": "code",
   "execution_count": 16,
   "metadata": {},
   "outputs": [],
   "source": [
    "import numpy as np\n",
    "from tensorflow.keras.preprocessing import image\n",
    "from tensorflow.keras.models import load_model\n",
    "import seaborn as sn"
   ]
  },
  {
   "cell_type": "code",
   "execution_count": 17,
   "metadata": {},
   "outputs": [],
   "source": [
    "from glob import glob\n",
    "carbonate_test = glob('DataResNet/test/carbonate/*.JPG')\n",
    "igneous_test = glob('DataResNet/test/igneous/*.JPG')\n",
    "sandstone_test = glob('DataResNet/test/sandstone/*.JPG')\n",
    "shale_test = glob('DataResNet/test/shale/*.JPG')"
   ]
  },
  {
   "cell_type": "code",
   "execution_count": 18,
   "metadata": {},
   "outputs": [
    {
     "name": "stdout",
     "output_type": "stream",
     "text": [
      "Found 297 images belonging to 4 classes.\n"
     ]
    }
   ],
   "source": [
    "# data prep\n",
    "TEST_DIR = 'DataResNet/test'\n",
    "WIDTH = 299\n",
    "HEIGHT = 299\n",
    "\n",
    "test_datagen = ImageDataGenerator(preprocessing_function=preprocess_input,fill_mode='nearest')\n",
    "test_generator = validation_datagen.flow_from_directory(TEST_DIR,target_size=(HEIGHT, WIDTH),class_mode='categorical')"
   ]
  },
  {
   "cell_type": "code",
   "execution_count": 19,
   "metadata": {},
   "outputs": [],
   "source": [
    "model = load_model(MODEL_FILE)"
   ]
  },
  {
   "cell_type": "code",
   "execution_count": 20,
   "metadata": {},
   "outputs": [],
   "source": [
    "pred_label = list()\n",
    "for i in range(len(test_generator.filenames)):\n",
    "    img = image.load_img(test_generator.directory+'/'+test_generator.filenames[i], target_size=(HEIGHT, WIDTH))\n",
    "    x = image.img_to_array(img)\n",
    "    x = np.expand_dims(x, axis=0)\n",
    "    x = preprocess_input(x)\n",
    "    pred_label.append(np.argmax(model.predict(x)[0]))"
   ]
  },
  {
   "cell_type": "code",
   "execution_count": 21,
   "metadata": {},
   "outputs": [],
   "source": [
    "pred_labels = np.array(pred_label).astype(np.int32)"
   ]
  },
  {
   "cell_type": "code",
   "execution_count": 22,
   "metadata": {},
   "outputs": [
    {
     "name": "stdout",
     "output_type": "stream",
     "text": [
      "Confusion matrix:\n",
      "[[47. 12.  2. 13.]\n",
      " [ 3. 67.  2.  0.]\n",
      " [10.  8. 56.  7.]\n",
      " [ 5. 15.  6. 44.]]\n"
     ]
    },
    {
     "data": {
      "image/png": "[encoded data removed]",
      "text/plain": [
       "<Figure size 864x720 with 2 Axes>"
      ]
     },
     "metadata": {
      "needs_background": "light"
     },
     "output_type": "display_data"
    }
   ],
   "source": [
    "#plot confusion matrix\n",
    "c_mat = np.zeros((4,4))\n",
    "for i in range(test_generator.labels.shape[0]):\n",
    "    c_mat[pred_labels[i], test_generator.labels[i]] += 1\n",
    "\n",
    "print(\"Confusion matrix:\\n\" + str(c_mat))\n",
    "\n",
    "group_counts = [\"{0:0.0f}\".format(value) for value in c_mat.flatten()]\n",
    "group_percentages = [\"{0:.2%}\".format(value) for value in c_mat.flatten()/np.sum(c_mat)]\n",
    "labels = [f\"{v1}\\n{v2}\" for v1, v2 in zip(group_counts, group_percentages)]\n",
    "labels = np.asarray(labels).reshape(c_mat.shape[0], c_mat.shape[1])\n",
    "\n",
    "accuracy = (np.sum(np.logical_and(pred_labels, test_generator.labels))/ len(test_generator.labels)) * 100\n",
    "\n",
    "plt.figure(figsize=(12,10))\n",
    "sn.heatmap(c_mat, annot=labels, fmt='', cmap='rocket_r')\n",
    "plt.title(\"Confusion Matrix\")\n",
    "plt.ylabel('Output Class')\n",
    "_ = plt.xlabel('Target Class \\n Accuracy: ' + '%.2f'%accuracy + \"%\")"
   ]
  },
  {
   "cell_type": "markdown",
   "metadata": {},
   "source": [
    "## Influence of FC layer depth"
   ]
  },
  {
   "cell_type": "code",
   "execution_count": 23,
   "metadata": {},
   "outputs": [
    {
     "name": "stdout",
     "output_type": "stream",
     "text": [
      "Found 823 images belonging to 4 classes.\n",
      "Found 355 images belonging to 4 classes.\n"
     ]
    }
   ],
   "source": [
    "from tensorflow.keras.preprocessing.image import ImageDataGenerator\n",
    "from tensorflow.keras.applications.resnet50 import preprocess_input\n",
    "\n",
    "TRAIN_DIR = 'DataResNet/train'\n",
    "VAL_DIR = 'DataResNet/val'\n",
    "WIDTH = 299\n",
    "HEIGHT = 299\n",
    "BATCH_SIZE = 10\n",
    "\n",
    "# data prep\n",
    "train_datagen = ImageDataGenerator(\n",
    "    preprocessing_function=preprocess_input,\n",
    "    rotation_range=90,\n",
    "    zoom_range=[1,2],\n",
    "    horizontal_flip=True,\n",
    "    fill_mode='nearest')\n",
    "\n",
    "validation_datagen = ImageDataGenerator(\n",
    "    preprocessing_function=preprocess_input,\n",
    "    rotation_range=90,\n",
    "    zoom_range=[1,2],\n",
    "    horizontal_flip=True,\n",
    "    fill_mode='nearest')\n",
    "\n",
    "train_generator = train_datagen.flow_from_directory(\n",
    "    TRAIN_DIR,\n",
    "    target_size=(HEIGHT, WIDTH),\n",
    "    batch_size=BATCH_SIZE,\n",
    "    class_mode='categorical')\n",
    "    \n",
    "validation_generator = validation_datagen.flow_from_directory(\n",
    "    VAL_DIR,\n",
    "    target_size=(HEIGHT, WIDTH),\n",
    "    batch_size=BATCH_SIZE,\n",
    "    class_mode='categorical')"
   ]
  },
  {
   "cell_type": "code",
   "execution_count": 24,
   "metadata": {},
   "outputs": [],
   "source": [
    "from tensorflow.keras.models import Model\n",
    "from tensorflow.keras.applications.resnet50 import ResNet50, preprocess_input\n",
    "\n",
    "base_model = ResNet50(weights='imagenet', include_top=False)"
   ]
  },
  {
   "cell_type": "code",
   "execution_count": 25,
   "metadata": {},
   "outputs": [],
   "source": [
    "from tensorflow.keras.layers import Dense, GlobalAveragePooling2D, Dropout\n",
    "\n",
    "\n",
    "CLASSES = 4\n",
    "# These layers were removed by setting include_top=false, but we still want them\n",
    "x = base_model.output                          # The output layer of the googleNet\n",
    "x = GlobalAveragePooling2D(name='avg_pool')(x) # This layer is used to downsample the features\n",
    "x = Dropout(0.4)(x)                            # This layer is used to enforce feature redundancy \n",
    "\n",
    "# This layer specifies our classifier output\n",
    "x = Dense(20, activation='relu')(x)\n",
    "predictions = Dense(CLASSES, activation='relu')(x)\n",
    "#\n",
    "model = Model(inputs=base_model.input, outputs=predictions)"
   ]
  },
  {
   "cell_type": "code",
   "execution_count": 26,
   "metadata": {},
   "outputs": [],
   "source": [
    "for layer in base_model.layers:\n",
    "    layer.trainable = False # Set this to True if you want to re-train the entire network."
   ]
  },
  {
   "cell_type": "code",
   "execution_count": 27,
   "metadata": {},
   "outputs": [],
   "source": [
    "model.compile(optimizer='rmsprop',\n",
    "              loss='categorical_crossentropy',\n",
    "              metrics=['accuracy'])"
   ]
  },
  {
   "cell_type": "code",
   "execution_count": 28,
   "metadata": {
    "scrolled": false
   },
   "outputs": [
    {
     "name": "stdout",
     "output_type": "stream",
     "text": [
      "Epoch 1/60\n",
      "5/5 [==============================] - 5s 1s/step - loss: 3.9162 - accuracy: 0.2800 - val_loss: 4.0734 - val_accuracy: 0.3000\n",
      "Epoch 2/60\n",
      "5/5 [==============================] - 4s 763ms/step - loss: 3.5090 - accuracy: 0.3200 - val_loss: 2.5833 - val_accuracy: 0.5000\n",
      "Epoch 3/60\n",
      "5/5 [==============================] - 4s 843ms/step - loss: 2.5970 - accuracy: 0.3000 - val_loss: 6.3127 - val_accuracy: 0.3000\n",
      "Epoch 4/60\n",
      "5/5 [==============================] - 4s 731ms/step - loss: 4.1194 - accuracy: 0.3400 - val_loss: 1.9761 - val_accuracy: 0.4000\n",
      "Epoch 5/60\n",
      "5/5 [==============================] - 4s 792ms/step - loss: 6.1498 - accuracy: 0.3400 - val_loss: 6.4125 - val_accuracy: 0.1500\n",
      "Epoch 6/60\n",
      "5/5 [==============================] - 4s 721ms/step - loss: 3.1641 - accuracy: 0.3800 - val_loss: 4.8103 - val_accuracy: 0.2500\n",
      "Epoch 7/60\n",
      "5/5 [==============================] - 4s 725ms/step - loss: 3.7339 - accuracy: 0.3600 - val_loss: 3.1694 - val_accuracy: 0.4500\n",
      "Epoch 8/60\n",
      "5/5 [==============================] - 4s 751ms/step - loss: 3.7367 - accuracy: 0.4200 - val_loss: 2.9361 - val_accuracy: 0.3000\n",
      "Epoch 9/60\n",
      "5/5 [==============================] - 4s 737ms/step - loss: 3.2711 - accuracy: 0.3600 - val_loss: 1.3870 - val_accuracy: 0.2000\n",
      "Epoch 10/60\n",
      "5/5 [==============================] - 4s 705ms/step - loss: 1.7377 - accuracy: 0.3600 - val_loss: 1.2782 - val_accuracy: 0.4000\n",
      "Epoch 11/60\n",
      "5/5 [==============================] - 3s 676ms/step - loss: 1.7934 - accuracy: 0.4600 - val_loss: 1.4851 - val_accuracy: 0.3000\n",
      "Epoch 12/60\n",
      "5/5 [==============================] - 3s 699ms/step - loss: 1.1531 - accuracy: 0.5200 - val_loss: 1.1272 - val_accuracy: 0.7000\n",
      "Epoch 13/60\n",
      "5/5 [==============================] - 4s 712ms/step - loss: 1.4335 - accuracy: 0.5400 - val_loss: 1.1304 - val_accuracy: 0.4500\n",
      "Epoch 14/60\n",
      "5/5 [==============================] - 4s 728ms/step - loss: 1.3198 - accuracy: 0.4800 - val_loss: 1.1537 - val_accuracy: 0.3000\n",
      "Epoch 15/60\n",
      "5/5 [==============================] - 4s 758ms/step - loss: 1.1547 - accuracy: 0.4800 - val_loss: 0.9651 - val_accuracy: 0.6500\n",
      "Epoch 16/60\n",
      "5/5 [==============================] - 5s 922ms/step - loss: 1.3131 - accuracy: 0.5800 - val_loss: 1.8884 - val_accuracy: 0.2500\n",
      "Epoch 17/60\n",
      "5/5 [==============================] - 4s 754ms/step - loss: 1.1805 - accuracy: 0.4000 - val_loss: 1.4937 - val_accuracy: 0.3000\n",
      "Epoch 18/60\n",
      "5/5 [==============================] - 4s 838ms/step - loss: 1.2295 - accuracy: 0.5200 - val_loss: 1.0918 - val_accuracy: 0.6000\n",
      "Epoch 19/60\n",
      "5/5 [==============================] - 4s 770ms/step - loss: 0.9860 - accuracy: 0.6200 - val_loss: 0.8900 - val_accuracy: 0.7000\n",
      "Epoch 20/60\n",
      "5/5 [==============================] - 4s 754ms/step - loss: 1.2508 - accuracy: 0.6200 - val_loss: 0.7395 - val_accuracy: 0.7500\n",
      "Epoch 21/60\n",
      "5/5 [==============================] - 4s 813ms/step - loss: 1.0020 - accuracy: 0.5200 - val_loss: 1.0928 - val_accuracy: 0.4000\n",
      "Epoch 22/60\n",
      "5/5 [==============================] - 4s 759ms/step - loss: 1.1055 - accuracy: 0.6000 - val_loss: 0.8980 - val_accuracy: 0.4500\n",
      "Epoch 23/60\n",
      "5/5 [==============================] - 4s 772ms/step - loss: 1.6056 - accuracy: 0.4800 - val_loss: 1.6786 - val_accuracy: 0.6000\n",
      "Epoch 24/60\n",
      "5/5 [==============================] - 3s 699ms/step - loss: 1.1993 - accuracy: 0.6400 - val_loss: 1.5812 - val_accuracy: 0.7500\n",
      "Epoch 25/60\n",
      "5/5 [==============================] - 4s 703ms/step - loss: 1.5933 - accuracy: 0.5600 - val_loss: 0.9184 - val_accuracy: 0.4000\n",
      "Epoch 26/60\n",
      "5/5 [==============================] - 3s 697ms/step - loss: 1.9077 - accuracy: 0.6200 - val_loss: 2.9603 - val_accuracy: 0.6500\n",
      "Epoch 27/60\n",
      "5/5 [==============================] - 4s 741ms/step - loss: 3.9989 - accuracy: 0.5400 - val_loss: 3.2067 - val_accuracy: 0.5000\n",
      "Epoch 28/60\n",
      "5/5 [==============================] - 3s 688ms/step - loss: 0.7830 - accuracy: 0.6800 - val_loss: 1.6050 - val_accuracy: 0.6500\n",
      "Epoch 29/60\n",
      "5/5 [==============================] - 3s 692ms/step - loss: 1.4705 - accuracy: 0.6600 - val_loss: 0.8466 - val_accuracy: 0.7000\n",
      "Epoch 30/60\n",
      "5/5 [==============================] - 4s 706ms/step - loss: 2.0504 - accuracy: 0.5600 - val_loss: 1.5682 - val_accuracy: 0.7000\n",
      "Epoch 31/60\n",
      "5/5 [==============================] - 4s 794ms/step - loss: 1.1440 - accuracy: 0.6200 - val_loss: 2.2706 - val_accuracy: 0.4500\n",
      "Epoch 32/60\n",
      "5/5 [==============================] - 4s 765ms/step - loss: 1.7394 - accuracy: 0.6000 - val_loss: 1.2465 - val_accuracy: 0.4000\n",
      "Epoch 33/60\n",
      "5/5 [==============================] - 3s 685ms/step - loss: 1.6371 - accuracy: 0.6800 - val_loss: 1.6488 - val_accuracy: 0.4500\n",
      "Epoch 34/60\n",
      "5/5 [==============================] - 3s 653ms/step - loss: 1.4591 - accuracy: 0.6047 - val_loss: 1.8912 - val_accuracy: 0.5500\n",
      "Epoch 35/60\n",
      "5/5 [==============================] - 3s 682ms/step - loss: nan - accuracy: 0.5000 - val_loss: nan - val_accuracy: 0.1500\n",
      "Epoch 36/60\n",
      "5/5 [==============================] - 4s 744ms/step - loss: nan - accuracy: 0.1400 - val_loss: nan - val_accuracy: 0.1000\n",
      "Epoch 37/60\n",
      "5/5 [==============================] - 3s 658ms/step - loss: nan - accuracy: 0.1600 - val_loss: nan - val_accuracy: 0.2500\n",
      "Epoch 38/60\n",
      "5/5 [==============================] - 3s 686ms/step - loss: nan - accuracy: 0.2400 - val_loss: nan - val_accuracy: 0.4000\n",
      "Epoch 39/60\n",
      "5/5 [==============================] - 4s 750ms/step - loss: nan - accuracy: 0.1600 - val_loss: nan - val_accuracy: 0.1500\n",
      "Epoch 40/60\n",
      "5/5 [==============================] - 4s 734ms/step - loss: nan - accuracy: 0.1800 - val_loss: nan - val_accuracy: 0.3000\n",
      "Epoch 41/60\n",
      "5/5 [==============================] - 4s 722ms/step - loss: nan - accuracy: 0.2200 - val_loss: nan - val_accuracy: 0.1000\n",
      "Epoch 42/60\n",
      "5/5 [==============================] - 4s 716ms/step - loss: nan - accuracy: 0.1800 - val_loss: nan - val_accuracy: 0.1000\n",
      "Epoch 43/60\n",
      "5/5 [==============================] - 4s 718ms/step - loss: nan - accuracy: 0.1200 - val_loss: nan - val_accuracy: 0.3000\n",
      "Epoch 44/60\n",
      "5/5 [==============================] - 4s 724ms/step - loss: nan - accuracy: 0.1600 - val_loss: nan - val_accuracy: 0.2000\n",
      "Epoch 45/60\n",
      "5/5 [==============================] - 3s 690ms/step - loss: nan - accuracy: 0.2800 - val_loss: nan - val_accuracy: 0.1500\n",
      "Epoch 46/60\n",
      "5/5 [==============================] - 4s 701ms/step - loss: nan - accuracy: 0.2200 - val_loss: nan - val_accuracy: 0.2000\n",
      "Epoch 47/60\n",
      "5/5 [==============================] - 3s 689ms/step - loss: nan - accuracy: 0.2800 - val_loss: nan - val_accuracy: 0.2500\n",
      "Epoch 48/60\n",
      "5/5 [==============================] - 4s 722ms/step - loss: nan - accuracy: 0.1400 - val_loss: nan - val_accuracy: 0.1500\n",
      "Epoch 49/60\n",
      "5/5 [==============================] - 4s 708ms/step - loss: nan - accuracy: 0.1800 - val_loss: nan - val_accuracy: 0.1000\n",
      "Epoch 50/60\n",
      "5/5 [==============================] - 4s 851ms/step - loss: nan - accuracy: 0.3000 - val_loss: nan - val_accuracy: 0.0500\n",
      "Epoch 51/60\n",
      "5/5 [==============================] - 4s 790ms/step - loss: nan - accuracy: 0.1400 - val_loss: nan - val_accuracy: 0.1500\n",
      "Epoch 52/60\n",
      "5/5 [==============================] - 4s 819ms/step - loss: nan - accuracy: 0.2093 - val_loss: nan - val_accuracy: 0.1500\n",
      "Epoch 53/60\n",
      "5/5 [==============================] - 4s 758ms/step - loss: nan - accuracy: 0.1800 - val_loss: nan - val_accuracy: 0.2000\n",
      "Epoch 54/60\n",
      "5/5 [==============================] - 4s 770ms/step - loss: nan - accuracy: 0.2200 - val_loss: nan - val_accuracy: 0.3000\n",
      "Epoch 55/60\n",
      "5/5 [==============================] - 3s 686ms/step - loss: nan - accuracy: 0.2400 - val_loss: nan - val_accuracy: 0.3000\n",
      "Epoch 56/60\n",
      "5/5 [==============================] - 4s 703ms/step - loss: nan - accuracy: 0.2400 - val_loss: nan - val_accuracy: 0.3500\n",
      "Epoch 57/60\n",
      "5/5 [==============================] - 4s 712ms/step - loss: nan - accuracy: 0.2000 - val_loss: nan - val_accuracy: 0.2000\n",
      "Epoch 58/60\n",
      "5/5 [==============================] - 4s 705ms/step - loss: nan - accuracy: 0.2800 - val_loss: nan - val_accuracy: 0.2500\n",
      "Epoch 59/60\n",
      "5/5 [==============================] - 4s 730ms/step - loss: nan - accuracy: 0.2000 - val_loss: nan - val_accuracy: 0.2000\n",
      "Epoch 60/60\n"
     ]
    },
    {
     "name": "stdout",
     "output_type": "stream",
     "text": [
      "5/5 [==============================] - 4s 729ms/step - loss: nan - accuracy: 0.0400 - val_loss: nan - val_accuracy: 0.4500\n",
      "INFO:tensorflow:Assets written to: savedmodel/ResNet50model\\assets\n"
     ]
    }
   ],
   "source": [
    "EPOCHS = 60\n",
    "BATCH_SIZE = 20\n",
    "STEPS_PER_EPOCH = 5\n",
    "VALIDATION_STEPS = 2\n",
    "#MODEL_FILE = 'ResNet50.model'\n",
    "MODEL_FILE = 'savedmodel/ResNet50model'\n",
    "\n",
    "history = model.fit(\n",
    "    train_generator,\n",
    "    epochs=EPOCHS,\n",
    "    steps_per_epoch=STEPS_PER_EPOCH,\n",
    "    validation_data=validation_generator,\n",
    "    validation_steps=VALIDATION_STEPS)\n",
    "  ## Test Trained Network\n",
    "model.save(MODEL_FILE)"
   ]
  },
  {
   "cell_type": "code",
   "execution_count": null,
   "metadata": {},
   "outputs": [],
   "source": []
  }
 ],
 "metadata": {
  "kernelspec": {
   "display_name": "Python 3 (ipykernel)",
   "language": "python",
   "name": "python3"
  },
  "language_info": {
   "codemirror_mode": {
    "name": "ipython",
    "version": 3
   },
   "file_extension": ".py",
   "mimetype": "text/x-python",
   "name": "python",
   "nbconvert_exporter": "python",
   "pygments_lexer": "ipython3",
   "version": "3.8.11"
  },
  "varInspector": {
   "cols": {
    "lenName": 16,
    "lenType": 16,
    "lenVar": 40
   },
   "kernels_config": {
    "python": {
     "delete_cmd_postfix": "",
     "delete_cmd_prefix": "del ",
     "library": "var_list.py",
     "varRefreshCmd": "print(var_dic_list())"
    },
    "r": {
     "delete_cmd_postfix": ") ",
     "delete_cmd_prefix": "rm(",
     "library": "var_list.r",
     "varRefreshCmd": "cat(var_dic_list()) "
    }
   },
   "types_to_exclude": [
    "module",
    "function",
    "builtin_function_or_method",
    "instance",
    "_Feature"
   ],
   "window_display": false
  }
 },
 "nbformat": 4,
 "nbformat_minor": 4
}
