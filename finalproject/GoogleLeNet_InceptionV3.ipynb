{
 "cells": [
  {
   "cell_type": "markdown",
   "metadata": {},
   "source": [
    "## Extract Rock Data\n",
    "First collect the dataset from the folder."
   ]
  },
  {
   "cell_type": "code",
   "execution_count": 1,
   "metadata": {},
   "outputs": [],
   "source": [
    "import shutil\n",
    "import zipfile\n",
    "import os\n",
    "shutil.rmtree('DataV3')\n",
    "os.mkdir('DataV3')\n",
    "f = zipfile.ZipFile('dataimgs.zip')# 读取zip文件\n",
    "f.extractall('')#提取zip文件\n",
    "shutil.move('dataimgs/carbonate', 'DataV3')\n",
    "shutil.move('dataimgs/igneous', 'DataV3')\n",
    "shutil.move('dataimgs/sandstone', 'DataV3')\n",
    "shutil.move('dataimgs/shale', 'DataV3')\n",
    "shutil.rmtree('dataimgs')"
   ]
  },
  {
   "cell_type": "code",
   "execution_count": 2,
   "metadata": {
    "scrolled": true
   },
   "outputs": [],
   "source": [
    "#!rm -rf DataV3\n",
    "#!rmdir dataimgs\n",
    "#!mkdir DataV3\n",
    "#!unzip dataimgs.zip\n",
    "#!mv dataimgs/carbonate DataV3\n",
    "#!mv dataimgs/igneous DataV3\n",
    "#!mv dataimgs/sandstone DataV3\n",
    "#!mv dataimgs/shale DataV3\n",
    "#!rmdir dataimgs"
   ]
  },
  {
   "cell_type": "code",
   "execution_count": 3,
   "metadata": {},
   "outputs": [
    {
     "name": "stdout",
     "output_type": "stream",
     "text": [
      "['DataV3\\\\carbonate', 'DataV3\\\\igneous', 'DataV3\\\\sandstone', 'DataV3\\\\shale']\n"
     ]
    }
   ],
   "source": [
    "from glob import glob\n",
    "from sklearn.model_selection import train_test_split\n",
    "## Randomly Split data into training, validation and testing sets.\n",
    "## This code randomly chooses 20% of all data for testing and 30% of the training data for validation.\n",
    "## Then creates folders for sets of data.\n",
    "\n",
    "dirs = glob('DataV3/*')\n",
    "print(dirs)\n",
    "carbonate = glob('DataV3/carbonate/*.JPG')\n",
    "igneous = glob('DataV3/igneous/*.JPG')\n",
    "sandstone = glob('DataV3/sandstone/*.JPG')\n",
    "shale = glob('DataV3/shale/*.JPG')\n",
    "\n",
    "# Split into train and test sets.\n",
    "carbonate_train, carbonate_test = train_test_split(carbonate, test_size=0.2)\n",
    "igneous_train, igneous_test = train_test_split(igneous, test_size=0.2)\n",
    "sandstone_train, sandstone_test = train_test_split(sandstone, test_size=0.2)\n",
    "shale_train, shale_test = train_test_split(shale, test_size=0.2)\n",
    "\n",
    "carbonate_train, carbonate_val = train_test_split(carbonate_train, test_size=0.3)\n",
    "igneous_train, igneous_val = train_test_split(igneous_train, test_size=0.3)\n",
    "sandstone_train, sandstone_val = train_test_split(sandstone_train, test_size=0.3)\n",
    "shale_train, shale_val = train_test_split(shale_train, test_size=0.3)"
   ]
  },
  {
   "cell_type": "code",
   "execution_count": 4,
   "metadata": {},
   "outputs": [],
   "source": [
    "# This code moves the validation files out of the train directory and over to \n",
    "# the val directory.\n",
    "os.mkdir('DataV3/val')\n",
    "os.mkdir('DataV3/test')\n",
    "os.mkdir('DataV3/train')\n",
    "\n",
    "os.mkdir('DataV3/val/carbonate')\n",
    "for i in range(len(carbonate_val)):\n",
    "    shutil.move(carbonate_val[i], 'DataV3/val/carbonate')\n",
    "\n",
    "os.mkdir('DataV3/val/igneous')\n",
    "for i in range(len(igneous_val)):\n",
    "    shutil.move(igneous_val[i], 'DataV3/val/igneous')\n",
    "\n",
    "os.mkdir('DataV3/val/sandstone')\n",
    "for i in range(len(sandstone_val)):\n",
    "    shutil.move(sandstone_val[i], 'DataV3/val/sandstone')\n",
    "\n",
    "os.mkdir('DataV3/val/shale')\n",
    "for i in range(len(shale_val)):\n",
    "    shutil.move(shale_val[i], 'DataV3/val/shale')\n",
    "\n",
    "os.mkdir('DataV3/test/carbonate')\n",
    "for i in range(len(carbonate_test)):\n",
    "    shutil.move(carbonate_test[i], 'DataV3/test/carbonate')\n",
    "\n",
    "os.mkdir('DataV3/test/igneous')\n",
    "for i in range(len(igneous_test)):\n",
    "    shutil.move(igneous_test[i], 'DataV3/test/igneous')\n",
    "\n",
    "os.mkdir('DataV3/test/sandstone')\n",
    "for i in range(len(sandstone_test)):\n",
    "    shutil.move(sandstone_test[i], 'DataV3/test/sandstone')\n",
    "\n",
    "os.mkdir('DataV3/test/shale')\n",
    "for i in range(len(shale_test)):\n",
    "    shutil.move(shale_test[i], 'DataV3/test/shale')\n",
    "\n",
    "os.mkdir('DataV3/train/carbonate')\n",
    "for i in range(len(carbonate_train)):\n",
    "    shutil.move(carbonate_train[i], 'DataV3/train/carbonate')\n",
    "\n",
    "os.mkdir('DataV3/train/igneous')\n",
    "for i in range(len(igneous_train)):\n",
    "    shutil.move(igneous_train[i], 'DataV3/train/igneous')\n",
    "\n",
    "os.mkdir('DataV3/train/sandstone')\n",
    "for i in range(len(sandstone_train)):\n",
    "    shutil.move(sandstone_train[i], 'DataV3/train/sandstone')\n",
    "\n",
    "os.mkdir('DataV3/train/shale')\n",
    "for i in range(len(shale_train)):\n",
    "    shutil.move(shale_train[i], 'DataV3/train/shale')\n",
    "    \n",
    "shutil.rmtree('DataV3/carbonate')\n",
    "shutil.rmtree('DataV3/igneous')\n",
    "shutil.rmtree('DataV3/sandstone')\n",
    "shutil.rmtree('DataV3/shale')"
   ]
  },
  {
   "cell_type": "code",
   "execution_count": 5,
   "metadata": {},
   "outputs": [],
   "source": [
    "# This code moves the validation files out of the train directory and over to \n",
    "# the val directory.\n",
    "#!rm -rf DataV3/val\n",
    "#!mkdir DataV3/val\n",
    "#!rm -rf DataV3/test\n",
    "#!mkdir DataV3/test\n",
    "#!rm -rf DataV3/train\n",
    "#!mkdir DataV3/train\n",
    "\n",
    "#!mkdir DataV3/val/carbonate\n",
    "#files = ' '.join(carbonate_val)\n",
    "#!mv -t DataV3/val/carbonate $files\n",
    "\n",
    "#!mkdir DataV3/val/igneous\n",
    "#files = ' '.join(igneous_val)\n",
    "#!mv -t DataV3/val/igneous $files\n",
    "\n",
    "#!mkdir DataV3/val/sandstone\n",
    "#files = ' '.join(sandstone_val)\n",
    "#!mv -t DataV3/val/sandstone $files\n",
    "\n",
    "#!mkdir DataV3/val/shale\n",
    "#files = ' '.join(shale_val)\n",
    "#!mv -t DataV3/val/shale $files\n",
    "\n",
    "#!mkdir DataV3/test/carbonate\n",
    "#files = ' '.join(carbonate_test)\n",
    "#!mv -t DataV3/test/carbonate $files\n",
    "\n",
    "#!mkdir DataV3/test/igneous\n",
    "#files = ' '.join(igneous_test)\n",
    "#!mv -t DataV3/test/igneous $files\n",
    "\n",
    "#!mkdir DataV3/test/sandstone\n",
    "#files = ' '.join(sandstone_test)\n",
    "#!mv -t DataV3/test/sandstone $files\n",
    "\n",
    "#!mkdir DataV3/test/shale\n",
    "#files = ' '.join(shale_test)\n",
    "#!mv -t DataV3/test/shale $files\n",
    "\n",
    "#!mkdir DataV3/train/carbonate\n",
    "#files = ' '.join(carbonate_train)\n",
    "#!mv -t DataV3/train/carbonate $files\n",
    "\n",
    "#!mkdir DataV3/train/igneous\n",
    "#files = ' '.join(igneous_train)\n",
    "#!mv -t DataV3/train/igneous $files\n",
    "\n",
    "#!mkdir DataV3/train/sandstone\n",
    "#files = ' '.join(sandstone_train)\n",
    "#!mv -t DataV3/train/sandstone $files\n",
    "\n",
    "#!mkdir DataV3/train/shale\n",
    "#files = ' '.join(shale_train)\n",
    "#!mv -t DataV3/train/shale $files\n",
    "\n",
    "#!rmdir DataV3/carbonate\n",
    "#!rmdir DataV3/igneous\n",
    "#!rmdir DataV3/sandstone\n",
    "#!rmdir DataV3/shale"
   ]
  },
  {
   "cell_type": "code",
   "execution_count": 6,
   "metadata": {},
   "outputs": [],
   "source": [
    "# Jupyter keeps checkpoint files that may screw up the ImageDataGenerator class\n",
    "# So we delete those here. \n",
    "#!rm -rf train/.ipynb_checkpoints\n",
    "#!rm -rf val/.ipynb_checkpoints"
   ]
  },
  {
   "cell_type": "markdown",
   "metadata": {},
   "source": [
    "## Augment Data for Training"
   ]
  },
  {
   "cell_type": "code",
   "execution_count": 7,
   "metadata": {},
   "outputs": [
    {
     "name": "stdout",
     "output_type": "stream",
     "text": [
      "Found 823 images belonging to 4 classes.\n",
      "Found 355 images belonging to 4 classes.\n"
     ]
    }
   ],
   "source": [
    "from tensorflow.keras.preprocessing.image import ImageDataGenerator\n",
    "from tensorflow.keras.applications.inception_v3 import preprocess_input\n",
    "\n",
    "TRAIN_DIR = 'DataV3/train'\n",
    "VAL_DIR = 'DataV3/val'\n",
    "WIDTH = 299\n",
    "HEIGHT = 299\n",
    "BATCH_SIZE = 10\n",
    "\n",
    "# data prep\n",
    "train_datagen = ImageDataGenerator(\n",
    "    preprocessing_function=preprocess_input,\n",
    "    rotation_range=90,\n",
    "    zoom_range=[1,2],\n",
    "    horizontal_flip=True,\n",
    "    fill_mode='nearest')\n",
    "\n",
    "validation_datagen = ImageDataGenerator(\n",
    "    preprocessing_function=preprocess_input,\n",
    "    rotation_range=90,\n",
    "    zoom_range=[1,2],\n",
    "    horizontal_flip=True,\n",
    "    fill_mode='nearest')\n",
    "\n",
    "train_generator = train_datagen.flow_from_directory(\n",
    "    TRAIN_DIR,\n",
    "    target_size=(HEIGHT, WIDTH),\n",
    "    batch_size=BATCH_SIZE,\n",
    "    class_mode='categorical')\n",
    "    \n",
    "validation_generator = validation_datagen.flow_from_directory(\n",
    "    VAL_DIR,\n",
    "    target_size=(HEIGHT, WIDTH),\n",
    "    batch_size=BATCH_SIZE,\n",
    "    class_mode='categorical')"
   ]
  },
  {
   "cell_type": "markdown",
   "metadata": {},
   "source": [
    "## Load Pre-trained model"
   ]
  },
  {
   "cell_type": "code",
   "execution_count": 8,
   "metadata": {},
   "outputs": [],
   "source": [
    "from tensorflow.keras.models import Model\n",
    "from tensorflow.keras.applications.inception_v3 import InceptionV3, preprocess_input\n",
    "\n",
    "base_model = InceptionV3(weights='imagenet', include_top=False)"
   ]
  },
  {
   "cell_type": "markdown",
   "metadata": {},
   "source": [
    "## Replace classification layer"
   ]
  },
  {
   "cell_type": "code",
   "execution_count": 9,
   "metadata": {},
   "outputs": [],
   "source": [
    "from tensorflow.keras.layers import Dense, GlobalAveragePooling2D, Dropout\n",
    "\n",
    "\n",
    "CLASSES = 4\n",
    "# These layers were removed by setting include_top=false, but we still want them\n",
    "x = base_model.output                          # The output layer of the googleNet\n",
    "x = GlobalAveragePooling2D(name='avg_pool')(x) # This layer is used to downsample the features\n",
    "x = Dropout(0.4)(x)                            # This layer is used to enforce feature redundancy \n",
    "\n",
    "# This layer specifies our classifier output\n",
    "predictions = Dense(CLASSES, activation='softmax')(x)\n",
    "#\n",
    "model = Model(inputs=base_model.input, outputs=predictions)"
   ]
  },
  {
   "cell_type": "code",
   "execution_count": 10,
   "metadata": {},
   "outputs": [],
   "source": [
    "for layer in base_model.layers:\n",
    "    layer.trainable = False # Set this to True if you want to re-train the entire network."
   ]
  },
  {
   "cell_type": "code",
   "execution_count": 11,
   "metadata": {},
   "outputs": [],
   "source": [
    "model.compile(optimizer='rmsprop',\n",
    "              loss='categorical_crossentropy',\n",
    "              metrics=['accuracy'])"
   ]
  },
  {
   "cell_type": "markdown",
   "metadata": {},
   "source": [
    "## Train the network"
   ]
  },
  {
   "cell_type": "code",
   "execution_count": 12,
   "metadata": {
    "scrolled": false
   },
   "outputs": [
    {
     "name": "stdout",
     "output_type": "stream",
     "text": [
      "Epoch 1/60\n",
      "5/5 [==============================] - 4s 859ms/step - loss: 1.9598 - accuracy: 0.2400 - val_loss: 1.4602 - val_accuracy: 0.2500\n",
      "Epoch 2/60\n",
      "5/5 [==============================] - 3s 530ms/step - loss: 1.5543 - accuracy: 0.2800 - val_loss: 1.4195 - val_accuracy: 0.3000\n",
      "Epoch 3/60\n",
      "5/5 [==============================] - 3s 567ms/step - loss: 1.5308 - accuracy: 0.2600 - val_loss: 1.5504 - val_accuracy: 0.3500\n",
      "Epoch 4/60\n",
      "5/5 [==============================] - 3s 563ms/step - loss: 1.6068 - accuracy: 0.3000 - val_loss: 1.3481 - val_accuracy: 0.3000\n",
      "Epoch 5/60\n",
      "5/5 [==============================] - 3s 549ms/step - loss: 1.5007 - accuracy: 0.3400 - val_loss: 1.6073 - val_accuracy: 0.3500\n",
      "Epoch 6/60\n",
      "5/5 [==============================] - 3s 561ms/step - loss: 1.4744 - accuracy: 0.3600 - val_loss: 1.6139 - val_accuracy: 0.2000\n",
      "Epoch 7/60\n",
      "5/5 [==============================] - 3s 570ms/step - loss: 1.4013 - accuracy: 0.4000 - val_loss: 1.4104 - val_accuracy: 0.2500\n",
      "Epoch 8/60\n",
      "5/5 [==============================] - 3s 585ms/step - loss: 1.3712 - accuracy: 0.3800 - val_loss: 0.9252 - val_accuracy: 0.7000\n",
      "Epoch 9/60\n",
      "5/5 [==============================] - 3s 559ms/step - loss: 1.3679 - accuracy: 0.2600 - val_loss: 1.4662 - val_accuracy: 0.3000\n",
      "Epoch 10/60\n",
      "5/5 [==============================] - 3s 571ms/step - loss: 1.1860 - accuracy: 0.4200 - val_loss: 1.3161 - val_accuracy: 0.5000\n",
      "Epoch 11/60\n",
      "5/5 [==============================] - 3s 574ms/step - loss: 1.5498 - accuracy: 0.3000 - val_loss: 1.4445 - val_accuracy: 0.4500\n",
      "Epoch 12/60\n",
      "5/5 [==============================] - 3s 589ms/step - loss: 1.7407 - accuracy: 0.3200 - val_loss: 0.9789 - val_accuracy: 0.6000\n",
      "Epoch 13/60\n",
      "5/5 [==============================] - 3s 563ms/step - loss: 1.5677 - accuracy: 0.3200 - val_loss: 0.8848 - val_accuracy: 0.6000\n",
      "Epoch 14/60\n",
      "5/5 [==============================] - 3s 573ms/step - loss: 1.3678 - accuracy: 0.4000 - val_loss: 1.1394 - val_accuracy: 0.4000\n",
      "Epoch 15/60\n",
      "5/5 [==============================] - 3s 598ms/step - loss: 1.2077 - accuracy: 0.4000 - val_loss: 1.2300 - val_accuracy: 0.4000\n",
      "Epoch 16/60\n",
      "5/5 [==============================] - 3s 574ms/step - loss: 1.4455 - accuracy: 0.3000 - val_loss: 1.1828 - val_accuracy: 0.5000\n",
      "Epoch 17/60\n",
      "5/5 [==============================] - 3s 585ms/step - loss: 1.1229 - accuracy: 0.5200 - val_loss: 0.9903 - val_accuracy: 0.5500\n",
      "Epoch 18/60\n",
      "5/5 [==============================] - 3s 568ms/step - loss: 1.2465 - accuracy: 0.4600 - val_loss: 1.3172 - val_accuracy: 0.3000\n",
      "Epoch 19/60\n",
      "5/5 [==============================] - 3s 568ms/step - loss: 1.2066 - accuracy: 0.4400 - val_loss: 0.7030 - val_accuracy: 0.6000\n",
      "Epoch 20/60\n",
      "5/5 [==============================] - 3s 535ms/step - loss: 1.4069 - accuracy: 0.4000 - val_loss: 1.3553 - val_accuracy: 0.3500\n",
      "Epoch 21/60\n",
      "5/5 [==============================] - 3s 577ms/step - loss: 1.3815 - accuracy: 0.3800 - val_loss: 1.2190 - val_accuracy: 0.4500\n",
      "Epoch 22/60\n",
      "5/5 [==============================] - 3s 537ms/step - loss: 1.0657 - accuracy: 0.6000 - val_loss: 1.0213 - val_accuracy: 0.6000\n",
      "Epoch 23/60\n",
      "5/5 [==============================] - 3s 531ms/step - loss: 1.2206 - accuracy: 0.4800 - val_loss: 1.1798 - val_accuracy: 0.5500\n",
      "Epoch 24/60\n",
      "5/5 [==============================] - 3s 552ms/step - loss: 0.9776 - accuracy: 0.5600 - val_loss: 0.7801 - val_accuracy: 0.7500\n",
      "Epoch 25/60\n",
      "5/5 [==============================] - 3s 549ms/step - loss: 0.9746 - accuracy: 0.5400 - val_loss: 1.2648 - val_accuracy: 0.6000\n",
      "Epoch 26/60\n",
      "5/5 [==============================] - 3s 518ms/step - loss: 1.0089 - accuracy: 0.5581 - val_loss: 1.0308 - val_accuracy: 0.5500\n",
      "Epoch 27/60\n",
      "5/5 [==============================] - 3s 536ms/step - loss: 1.3483 - accuracy: 0.4800 - val_loss: 1.0942 - val_accuracy: 0.5000\n",
      "Epoch 28/60\n",
      "5/5 [==============================] - 3s 542ms/step - loss: 0.9999 - accuracy: 0.6047 - val_loss: 0.7964 - val_accuracy: 0.5000\n",
      "Epoch 29/60\n",
      "5/5 [==============================] - 3s 539ms/step - loss: 1.2378 - accuracy: 0.4600 - val_loss: 0.8753 - val_accuracy: 0.6500\n",
      "Epoch 30/60\n",
      "5/5 [==============================] - 3s 545ms/step - loss: 1.2031 - accuracy: 0.5400 - val_loss: 1.1840 - val_accuracy: 0.5000\n",
      "Epoch 31/60\n",
      "5/5 [==============================] - 3s 547ms/step - loss: 1.0247 - accuracy: 0.5600 - val_loss: 1.1614 - val_accuracy: 0.6000\n",
      "Epoch 32/60\n",
      "5/5 [==============================] - 3s 547ms/step - loss: 1.2299 - accuracy: 0.4600 - val_loss: 0.8168 - val_accuracy: 0.6000\n",
      "Epoch 33/60\n",
      "5/5 [==============================] - 3s 538ms/step - loss: 1.1570 - accuracy: 0.5200 - val_loss: 0.6574 - val_accuracy: 0.8500\n",
      "Epoch 34/60\n",
      "5/5 [==============================] - 3s 535ms/step - loss: 0.9379 - accuracy: 0.6000 - val_loss: 1.1263 - val_accuracy: 0.5000\n",
      "Epoch 35/60\n",
      "5/5 [==============================] - 3s 522ms/step - loss: 1.2853 - accuracy: 0.5200 - val_loss: 1.1854 - val_accuracy: 0.6500\n",
      "Epoch 36/60\n",
      "5/5 [==============================] - 3s 557ms/step - loss: 0.8044 - accuracy: 0.7000 - val_loss: 0.9686 - val_accuracy: 0.6500\n",
      "Epoch 37/60\n",
      "5/5 [==============================] - 3s 543ms/step - loss: 1.1079 - accuracy: 0.6400 - val_loss: 1.0994 - val_accuracy: 0.7000\n",
      "Epoch 38/60\n",
      "5/5 [==============================] - 3s 549ms/step - loss: 1.1068 - accuracy: 0.5400 - val_loss: 1.1950 - val_accuracy: 0.5000\n",
      "Epoch 39/60\n",
      "5/5 [==============================] - 3s 519ms/step - loss: 1.0818 - accuracy: 0.5200 - val_loss: 0.8019 - val_accuracy: 0.7000\n",
      "Epoch 40/60\n",
      "5/5 [==============================] - 3s 549ms/step - loss: 1.1738 - accuracy: 0.5000 - val_loss: 1.2405 - val_accuracy: 0.5000\n",
      "Epoch 41/60\n",
      "5/5 [==============================] - 3s 534ms/step - loss: 1.0687 - accuracy: 0.5000 - val_loss: 0.7987 - val_accuracy: 0.7000\n",
      "Epoch 42/60\n",
      "5/5 [==============================] - 3s 529ms/step - loss: 0.7731 - accuracy: 0.6400 - val_loss: 1.1541 - val_accuracy: 0.4500\n",
      "Epoch 43/60\n",
      "5/5 [==============================] - 3s 559ms/step - loss: 1.0046 - accuracy: 0.6000 - val_loss: 0.9290 - val_accuracy: 0.6500\n",
      "Epoch 44/60\n",
      "5/5 [==============================] - 3s 553ms/step - loss: 0.9887 - accuracy: 0.6000 - val_loss: 1.2746 - val_accuracy: 0.3500\n",
      "Epoch 45/60\n",
      "5/5 [==============================] - 3s 551ms/step - loss: 1.0238 - accuracy: 0.5800 - val_loss: 0.8853 - val_accuracy: 0.7500\n",
      "Epoch 46/60\n",
      "5/5 [==============================] - 3s 554ms/step - loss: 0.9590 - accuracy: 0.6000 - val_loss: 0.7777 - val_accuracy: 0.6500\n",
      "Epoch 47/60\n",
      "5/5 [==============================] - 3s 585ms/step - loss: 0.9721 - accuracy: 0.6200 - val_loss: 1.0123 - val_accuracy: 0.4500\n",
      "Epoch 48/60\n",
      "5/5 [==============================] - 3s 615ms/step - loss: 1.1650 - accuracy: 0.5200 - val_loss: 1.0581 - val_accuracy: 0.6500\n",
      "Epoch 49/60\n",
      "5/5 [==============================] - 3s 571ms/step - loss: 1.0004 - accuracy: 0.5400 - val_loss: 1.1203 - val_accuracy: 0.5500\n",
      "Epoch 50/60\n",
      "5/5 [==============================] - 3s 588ms/step - loss: 1.1291 - accuracy: 0.5000 - val_loss: 0.9227 - val_accuracy: 0.6500\n",
      "Epoch 51/60\n",
      "5/5 [==============================] - 3s 610ms/step - loss: 1.1899 - accuracy: 0.4600 - val_loss: 0.7031 - val_accuracy: 0.7500\n",
      "Epoch 52/60\n",
      "5/5 [==============================] - 3s 587ms/step - loss: 0.8304 - accuracy: 0.6600 - val_loss: 1.0346 - val_accuracy: 0.7000\n",
      "Epoch 53/60\n",
      "5/5 [==============================] - 3s 551ms/step - loss: 0.8814 - accuracy: 0.7000 - val_loss: 0.9120 - val_accuracy: 0.7000\n",
      "Epoch 54/60\n",
      "5/5 [==============================] - 3s 650ms/step - loss: 1.0410 - accuracy: 0.5400 - val_loss: 0.9030 - val_accuracy: 0.8000\n",
      "Epoch 55/60\n",
      "5/5 [==============================] - 3s 577ms/step - loss: 1.2981 - accuracy: 0.4400 - val_loss: 0.4979 - val_accuracy: 0.7500\n",
      "Epoch 56/60\n",
      "5/5 [==============================] - 3s 566ms/step - loss: 0.8159 - accuracy: 0.6800 - val_loss: 0.9927 - val_accuracy: 0.5000\n",
      "Epoch 57/60\n",
      "5/5 [==============================] - 3s 597ms/step - loss: 0.7351 - accuracy: 0.7400 - val_loss: 0.5854 - val_accuracy: 0.7000\n",
      "Epoch 58/60\n",
      "5/5 [==============================] - 3s 594ms/step - loss: 0.9455 - accuracy: 0.6800 - val_loss: 0.9651 - val_accuracy: 0.5000\n",
      "Epoch 59/60\n"
     ]
    },
    {
     "name": "stdout",
     "output_type": "stream",
     "text": [
      "5/5 [==============================] - 3s 574ms/step - loss: 0.9213 - accuracy: 0.6400 - val_loss: 0.8380 - val_accuracy: 0.6500\n",
      "Epoch 60/60\n",
      "5/5 [==============================] - 3s 528ms/step - loss: 1.0322 - accuracy: 0.5200 - val_loss: 1.0779 - val_accuracy: 0.5500\n",
      "WARNING:tensorflow:From E:\\Anaconda\\lib\\site-packages\\tensorflow\\python\\training\\tracking\\tracking.py:111: Model.state_updates (from tensorflow.python.keras.engine.training) is deprecated and will be removed in a future version.\n",
      "Instructions for updating:\n",
      "This property should not be used in TensorFlow 2.0, as updates are applied automatically.\n",
      "WARNING:tensorflow:From E:\\Anaconda\\lib\\site-packages\\tensorflow\\python\\training\\tracking\\tracking.py:111: Layer.updates (from tensorflow.python.keras.engine.base_layer) is deprecated and will be removed in a future version.\n",
      "Instructions for updating:\n",
      "This property should not be used in TensorFlow 2.0, as updates are applied automatically.\n",
      "INFO:tensorflow:Assets written to: savedmodel/InceptionV3model\\assets\n"
     ]
    }
   ],
   "source": [
    "EPOCHS = 60\n",
    "BATCH_SIZE = 20\n",
    "STEPS_PER_EPOCH = 5\n",
    "VALIDATION_STEPS = 2\n",
    "#MODEL_FILE = 'InceptionV3.model'\n",
    "MODEL_FILE = 'savedmodel/InceptionV3model'\n",
    "\n",
    "history = model.fit(\n",
    "    train_generator,\n",
    "    epochs=EPOCHS,\n",
    "    steps_per_epoch=STEPS_PER_EPOCH,\n",
    "    validation_data=validation_generator,\n",
    "    validation_steps=VALIDATION_STEPS)\n",
    "  ## Test Trained Network\n",
    "model.save(MODEL_FILE)"
   ]
  },
  {
   "cell_type": "code",
   "execution_count": 13,
   "metadata": {},
   "outputs": [
    {
     "data": {
      "image/png": "[encoded data removed]",
      "text/plain": [
       "<Figure size 432x288 with 1 Axes>"
      ]
     },
     "metadata": {
      "needs_background": "light"
     },
     "output_type": "display_data"
    },
    {
     "data": {
      "image/png": "[encoded data removed]",
      "text/plain": [
       "<Figure size 432x288 with 1 Axes>"
      ]
     },
     "metadata": {
      "needs_background": "light"
     },
     "output_type": "display_data"
    }
   ],
   "source": [
    "import matplotlib.pyplot as plt\n",
    "acc = history.history['accuracy']\n",
    "loss = history.history['loss']\n",
    "val_acc = history.history['val_accuracy']\n",
    "val_loss = history.history['val_loss']\n",
    "epochs = range(1,len(acc)+1)\n",
    "\n",
    "plt.plot(epochs, val_acc,'r')\n",
    "plt.plot(epochs, acc,'r.')\n",
    "plt.title(\"Training Accuracy\")\n",
    "\n",
    "plt.figure()\n",
    "plt.plot(epochs, val_loss,'r')\n",
    "plt.plot(epochs,loss,'r.')\n",
    "plt.title(\"Training Loss\")\n",
    "plt.show()"
   ]
  },
  {
   "cell_type": "code",
   "execution_count": 14,
   "metadata": {},
   "outputs": [
    {
     "data": {
      "text/plain": [
       "0.7400000095367432"
      ]
     },
     "execution_count": 14,
     "metadata": {},
     "output_type": "execute_result"
    }
   ],
   "source": [
    "max(acc)"
   ]
  },
  {
   "cell_type": "code",
   "execution_count": 15,
   "metadata": {},
   "outputs": [
    {
     "data": {
      "text/plain": [
       "0.8500000238418579"
      ]
     },
     "execution_count": 15,
     "metadata": {},
     "output_type": "execute_result"
    }
   ],
   "source": [
    "max(val_acc)"
   ]
  },
  {
   "cell_type": "markdown",
   "metadata": {},
   "source": [
    "## Test Trained Network"
   ]
  },
  {
   "cell_type": "code",
   "execution_count": 16,
   "metadata": {},
   "outputs": [],
   "source": [
    "import numpy as np\n",
    "from tensorflow.keras.preprocessing import image\n",
    "from tensorflow.keras.models import load_model\n",
    "import seaborn as sn"
   ]
  },
  {
   "cell_type": "code",
   "execution_count": 17,
   "metadata": {},
   "outputs": [],
   "source": [
    "from glob import glob\n",
    "carbonate_test = glob('DataV3/test/carbonate/*.JPG')\n",
    "igneous_test = glob('DataV3/test/igneous/*.JPG')\n",
    "sandstone_test = glob('DataV3/test/sandstone/*.JPG')\n",
    "shale_test = glob('DataV3/test/shale/*.JPG')"
   ]
  },
  {
   "cell_type": "code",
   "execution_count": 18,
   "metadata": {},
   "outputs": [
    {
     "name": "stdout",
     "output_type": "stream",
     "text": [
      "Found 297 images belonging to 4 classes.\n"
     ]
    }
   ],
   "source": [
    "# data prep\n",
    "TEST_DIR = 'DataV3/test'\n",
    "WIDTH = 299\n",
    "HEIGHT = 299\n",
    "\n",
    "test_datagen = ImageDataGenerator(preprocessing_function=preprocess_input,fill_mode='nearest')\n",
    "test_generator = validation_datagen.flow_from_directory(TEST_DIR,target_size=(HEIGHT, WIDTH),class_mode='categorical')"
   ]
  },
  {
   "cell_type": "code",
   "execution_count": 20,
   "metadata": {},
   "outputs": [],
   "source": [
    "model = load_model(MODEL_FILE)"
   ]
  },
  {
   "cell_type": "code",
   "execution_count": 21,
   "metadata": {},
   "outputs": [],
   "source": [
    "pred_label = list()\n",
    "for i in range(len(test_generator.filenames)):\n",
    "    img = image.load_img(test_generator.directory+'/'+test_generator.filenames[i], target_size=(HEIGHT, WIDTH))\n",
    "    x = image.img_to_array(img)\n",
    "    x = np.expand_dims(x, axis=0)\n",
    "    x = preprocess_input(x)\n",
    "    pred_label.append(np.argmax(model.predict(x)[0]))"
   ]
  },
  {
   "cell_type": "code",
   "execution_count": 22,
   "metadata": {},
   "outputs": [],
   "source": [
    "pred_labels = np.array(pred_label).astype(np.int32)"
   ]
  },
  {
   "cell_type": "code",
   "execution_count": 23,
   "metadata": {},
   "outputs": [
    {
     "name": "stdout",
     "output_type": "stream",
     "text": [
      "Confusion matrix:\n",
      "[[38.  5.  0.  3.]\n",
      " [16. 75.  3.  6.]\n",
      " [ 6. 12. 56. 14.]\n",
      " [ 5. 10.  7. 41.]]\n"
     ]
    },
    {
     "data": {
      "image/png": "[encoded data removed]",
      "text/plain": [
       "<Figure size 864x720 with 2 Axes>"
      ]
     },
     "metadata": {
      "needs_background": "light"
     },
     "output_type": "display_data"
    }
   ],
   "source": [
    "#plot confusion matrix\n",
    "c_mat = np.zeros((4,4))\n",
    "for i in range(test_generator.labels.shape[0]):\n",
    "    c_mat[pred_labels[i], test_generator.labels[i]] += 1\n",
    "\n",
    "print(\"Confusion matrix:\\n\" + str(c_mat))\n",
    "\n",
    "group_counts = [\"{0:0.0f}\".format(value) for value in c_mat.flatten()]\n",
    "group_percentages = [\"{0:.2%}\".format(value) for value in c_mat.flatten()/np.sum(c_mat)]\n",
    "labels = [f\"{v1}\\n{v2}\" for v1, v2 in zip(group_counts, group_percentages)]\n",
    "labels = np.asarray(labels).reshape(c_mat.shape[0], c_mat.shape[1])\n",
    "\n",
    "accuracy = (np.sum(np.logical_and(pred_labels, test_generator.labels))/ len(test_generator.labels)) * 100\n",
    "\n",
    "plt.figure(figsize=(12,10))\n",
    "sn.heatmap(c_mat, annot=labels, fmt='', cmap='rocket_r')\n",
    "plt.title(\"Confusion Matrix\")\n",
    "plt.ylabel('Output Class')\n",
    "_ = plt.xlabel('Target Class \\n Accuracy: ' + '%.2f'%accuracy + \"%\")"
   ]
  },
  {
   "cell_type": "markdown",
   "metadata": {},
   "source": [
    "## Influence of FC layer depth"
   ]
  },
  {
   "cell_type": "code",
   "execution_count": 24,
   "metadata": {},
   "outputs": [],
   "source": [
    "from tensorflow.keras.models import Model\n",
    "from tensorflow.keras.applications.inception_v3 import InceptionV3, preprocess_input\n",
    "\n",
    "base_model = InceptionV3(weights='imagenet', include_top=False)\n",
    "\n",
    "from tensorflow.keras.layers import Dense, GlobalAveragePooling2D, Dropout\n",
    "CLASSES = 4\n",
    "# These layers were removed by setting include_top=false, but we still want them\n",
    "x = base_model.output                          # The output layer of the googleNet\n",
    "x = GlobalAveragePooling2D(name='avg_pool')(x) # This layer is used to downsample the features\n",
    "x = Dropout(0.4)(x)                            # This layer is used to enforce feature redundancy \n",
    "\n",
    "# This layer specifies our classifier output\n",
    "x = Dense(20, activation='relu')(x)\n",
    "predictions = Dense(CLASSES, activation='relu')(x)\n",
    "#\n",
    "model = Model(inputs=base_model.input, outputs=predictions)"
   ]
  },
  {
   "cell_type": "code",
   "execution_count": 25,
   "metadata": {},
   "outputs": [],
   "source": [
    "for layer in base_model.layers:\n",
    "    layer.trainable = False # Set this to True if you want to re-train the entire network."
   ]
  },
  {
   "cell_type": "code",
   "execution_count": 26,
   "metadata": {},
   "outputs": [],
   "source": [
    "model.compile(optimizer='rmsprop',\n",
    "              loss='categorical_crossentropy',\n",
    "              metrics=['accuracy'])"
   ]
  },
  {
   "cell_type": "code",
   "execution_count": 27,
   "metadata": {},
   "outputs": [
    {
     "name": "stdout",
     "output_type": "stream",
     "text": [
      "Found 823 images belonging to 4 classes.\n",
      "Found 355 images belonging to 4 classes.\n"
     ]
    }
   ],
   "source": [
    "from tensorflow.keras.preprocessing.image import ImageDataGenerator\n",
    "from tensorflow.keras.applications.inception_v3 import preprocess_input\n",
    "\n",
    "TRAIN_DIR = 'DataV3/train'\n",
    "VAL_DIR = 'DataV3/val'\n",
    "WIDTH = 299\n",
    "HEIGHT = 299\n",
    "BATCH_SIZE = 10\n",
    "\n",
    "# data prep\n",
    "train_datagen = ImageDataGenerator(\n",
    "    preprocessing_function=preprocess_input,\n",
    "    rotation_range=90,\n",
    "    zoom_range=[1,2],\n",
    "    horizontal_flip=True,\n",
    "    fill_mode='nearest')\n",
    "\n",
    "validation_datagen = ImageDataGenerator(\n",
    "    preprocessing_function=preprocess_input,\n",
    "    rotation_range=90,\n",
    "    zoom_range=[1,2],\n",
    "    horizontal_flip=True,\n",
    "    fill_mode='nearest')\n",
    "\n",
    "train_generator = train_datagen.flow_from_directory(\n",
    "    TRAIN_DIR,\n",
    "    target_size=(HEIGHT, WIDTH),\n",
    "    batch_size=BATCH_SIZE,\n",
    "    class_mode='categorical')\n",
    "    \n",
    "validation_generator = validation_datagen.flow_from_directory(\n",
    "    VAL_DIR,\n",
    "    target_size=(HEIGHT, WIDTH),\n",
    "    batch_size=BATCH_SIZE,\n",
    "    class_mode='categorical')"
   ]
  },
  {
   "cell_type": "code",
   "execution_count": 28,
   "metadata": {
    "scrolled": false
   },
   "outputs": [
    {
     "name": "stdout",
     "output_type": "stream",
     "text": [
      "Epoch 1/60\n",
      "5/5 [==============================] - 4s 843ms/step - loss: nan - accuracy: 0.1800 - val_loss: nan - val_accuracy: 0.3000\n",
      "Epoch 2/60\n",
      "5/5 [==============================] - 3s 539ms/step - loss: nan - accuracy: 0.1600 - val_loss: nan - val_accuracy: 0.1500\n",
      "Epoch 3/60\n",
      "5/5 [==============================] - 3s 541ms/step - loss: nan - accuracy: 0.3000 - val_loss: nan - val_accuracy: 0.1000\n",
      "Epoch 4/60\n",
      "5/5 [==============================] - 3s 514ms/step - loss: nan - accuracy: 0.2400 - val_loss: nan - val_accuracy: 0.1500\n",
      "Epoch 5/60\n",
      "5/5 [==============================] - 3s 553ms/step - loss: nan - accuracy: 0.2200 - val_loss: nan - val_accuracy: 0.1500\n",
      "Epoch 6/60\n",
      "5/5 [==============================] - 3s 521ms/step - loss: nan - accuracy: 0.2400 - val_loss: nan - val_accuracy: 0.2000\n",
      "Epoch 7/60\n",
      "5/5 [==============================] - 3s 615ms/step - loss: nan - accuracy: 0.2400 - val_loss: nan - val_accuracy: 0.0500\n",
      "Epoch 8/60\n",
      "5/5 [==============================] - 3s 601ms/step - loss: nan - accuracy: 0.1800 - val_loss: nan - val_accuracy: 0.1500\n",
      "Epoch 9/60\n",
      "5/5 [==============================] - 3s 692ms/step - loss: nan - accuracy: 0.2200 - val_loss: nan - val_accuracy: 0.3500\n",
      "Epoch 10/60\n",
      "5/5 [==============================] - 3s 618ms/step - loss: nan - accuracy: 0.1800 - val_loss: nan - val_accuracy: 0.2000\n",
      "Epoch 11/60\n",
      "5/5 [==============================] - 3s 567ms/step - loss: nan - accuracy: 0.2600 - val_loss: nan - val_accuracy: 0.0500\n",
      "Epoch 12/60\n",
      "5/5 [==============================] - 3s 576ms/step - loss: nan - accuracy: 0.2800 - val_loss: nan - val_accuracy: 0.2000\n",
      "Epoch 13/60\n",
      "5/5 [==============================] - 3s 576ms/step - loss: nan - accuracy: 0.3400 - val_loss: nan - val_accuracy: 0.2000\n",
      "Epoch 14/60\n",
      "5/5 [==============================] - 3s 600ms/step - loss: nan - accuracy: 0.2600 - val_loss: nan - val_accuracy: 0.2500\n",
      "Epoch 15/60\n",
      "5/5 [==============================] - 3s 542ms/step - loss: nan - accuracy: 0.1000 - val_loss: nan - val_accuracy: 0.1500\n",
      "Epoch 16/60\n",
      "5/5 [==============================] - 3s 579ms/step - loss: nan - accuracy: 0.2000 - val_loss: nan - val_accuracy: 0.3500\n",
      "Epoch 17/60\n",
      "5/5 [==============================] - 3s 521ms/step - loss: nan - accuracy: 0.1628 - val_loss: nan - val_accuracy: 0.2500\n",
      "Epoch 18/60\n",
      "5/5 [==============================] - 3s 569ms/step - loss: nan - accuracy: 0.1600 - val_loss: nan - val_accuracy: 0.3000\n",
      "Epoch 19/60\n",
      "5/5 [==============================] - 3s 559ms/step - loss: nan - accuracy: 0.1600 - val_loss: nan - val_accuracy: 0.4000\n",
      "Epoch 20/60\n",
      "5/5 [==============================] - 3s 547ms/step - loss: nan - accuracy: 0.2200 - val_loss: nan - val_accuracy: 0.3000\n",
      "Epoch 21/60\n",
      "5/5 [==============================] - 3s 582ms/step - loss: nan - accuracy: 0.2200 - val_loss: nan - val_accuracy: 0.2500\n",
      "Epoch 22/60\n",
      "5/5 [==============================] - 3s 531ms/step - loss: nan - accuracy: 0.2600 - val_loss: nan - val_accuracy: 0.0000e+00\n",
      "Epoch 23/60\n",
      "5/5 [==============================] - 3s 528ms/step - loss: nan - accuracy: 0.1800 - val_loss: nan - val_accuracy: 0.2500\n",
      "Epoch 24/60\n",
      "5/5 [==============================] - 3s 580ms/step - loss: nan - accuracy: 0.1400 - val_loss: nan - val_accuracy: 0.1500\n",
      "Epoch 25/60\n",
      "5/5 [==============================] - 3s 580ms/step - loss: nan - accuracy: 0.2000 - val_loss: nan - val_accuracy: 0.1500\n",
      "Epoch 26/60\n",
      "5/5 [==============================] - 3s 574ms/step - loss: nan - accuracy: 0.2200 - val_loss: nan - val_accuracy: 0.1000\n",
      "Epoch 27/60\n",
      "5/5 [==============================] - 3s 553ms/step - loss: nan - accuracy: 0.1400 - val_loss: nan - val_accuracy: 0.1000\n",
      "Epoch 28/60\n",
      "5/5 [==============================] - 3s 553ms/step - loss: nan - accuracy: 0.3000 - val_loss: nan - val_accuracy: 0.3500\n",
      "Epoch 29/60\n",
      "5/5 [==============================] - 3s 563ms/step - loss: nan - accuracy: 0.2600 - val_loss: nan - val_accuracy: 0.3500\n",
      "Epoch 30/60\n",
      "5/5 [==============================] - 3s 550ms/step - loss: nan - accuracy: 0.2800 - val_loss: nan - val_accuracy: 0.1000\n",
      "Epoch 31/60\n",
      "5/5 [==============================] - 3s 527ms/step - loss: nan - accuracy: 0.2000 - val_loss: nan - val_accuracy: 0.1500\n",
      "Epoch 32/60\n",
      "5/5 [==============================] - 3s 537ms/step - loss: nan - accuracy: 0.2600 - val_loss: nan - val_accuracy: 0.2000\n",
      "Epoch 33/60\n",
      "5/5 [==============================] - 3s 559ms/step - loss: nan - accuracy: 0.1800 - val_loss: nan - val_accuracy: 0.1000\n",
      "Epoch 34/60\n",
      "5/5 [==============================] - 3s 564ms/step - loss: nan - accuracy: 0.2600 - val_loss: nan - val_accuracy: 0.2500\n",
      "Epoch 35/60\n",
      "5/5 [==============================] - 3s 553ms/step - loss: nan - accuracy: 0.2800 - val_loss: nan - val_accuracy: 0.4000\n",
      "Epoch 36/60\n",
      "5/5 [==============================] - 3s 541ms/step - loss: nan - accuracy: 0.2800 - val_loss: nan - val_accuracy: 0.2000\n",
      "Epoch 37/60\n",
      "5/5 [==============================] - 3s 559ms/step - loss: nan - accuracy: 0.2600 - val_loss: nan - val_accuracy: 0.3500\n",
      "Epoch 38/60\n",
      "5/5 [==============================] - 3s 576ms/step - loss: nan - accuracy: 0.2400 - val_loss: nan - val_accuracy: 0.4500\n",
      "Epoch 39/60\n",
      "5/5 [==============================] - 3s 579ms/step - loss: nan - accuracy: 0.1600 - val_loss: nan - val_accuracy: 0.2000\n",
      "Epoch 40/60\n",
      "5/5 [==============================] - 3s 614ms/step - loss: nan - accuracy: 0.1800 - val_loss: nan - val_accuracy: 0.2000\n",
      "Epoch 41/60\n",
      "5/5 [==============================] - 3s 553ms/step - loss: nan - accuracy: 0.2200 - val_loss: nan - val_accuracy: 0.1500\n",
      "Epoch 42/60\n",
      "5/5 [==============================] - 3s 567ms/step - loss: nan - accuracy: 0.3000 - val_loss: nan - val_accuracy: 0.2000\n",
      "Epoch 43/60\n",
      "5/5 [==============================] - 3s 543ms/step - loss: nan - accuracy: 0.2000 - val_loss: nan - val_accuracy: 0.3000\n",
      "Epoch 44/60\n",
      "5/5 [==============================] - 2s 499ms/step - loss: nan - accuracy: 0.2326 - val_loss: nan - val_accuracy: 0.1000\n",
      "Epoch 45/60\n",
      "5/5 [==============================] - 3s 565ms/step - loss: nan - accuracy: 0.2000 - val_loss: nan - val_accuracy: 0.2500\n",
      "Epoch 46/60\n",
      "5/5 [==============================] - 3s 544ms/step - loss: nan - accuracy: 0.1800 - val_loss: nan - val_accuracy: 0.2500\n",
      "Epoch 47/60\n",
      "5/5 [==============================] - 3s 573ms/step - loss: nan - accuracy: 0.2200 - val_loss: nan - val_accuracy: 0.1500\n",
      "Epoch 48/60\n",
      "5/5 [==============================] - 3s 553ms/step - loss: nan - accuracy: 0.2600 - val_loss: nan - val_accuracy: 0.4000\n",
      "Epoch 49/60\n",
      "5/5 [==============================] - 3s 561ms/step - loss: nan - accuracy: 0.2400 - val_loss: nan - val_accuracy: 0.2500\n",
      "Epoch 50/60\n",
      "5/5 [==============================] - 3s 566ms/step - loss: nan - accuracy: 0.1400 - val_loss: nan - val_accuracy: 0.3000\n",
      "Epoch 51/60\n",
      "5/5 [==============================] - 3s 501ms/step - loss: nan - accuracy: 0.3023 - val_loss: nan - val_accuracy: 0.2000\n",
      "Epoch 52/60\n",
      "5/5 [==============================] - 3s 542ms/step - loss: nan - accuracy: 0.2400 - val_loss: nan - val_accuracy: 0.1500\n",
      "Epoch 53/60\n",
      "5/5 [==============================] - 3s 541ms/step - loss: nan - accuracy: 0.2000 - val_loss: nan - val_accuracy: 0.2500\n",
      "Epoch 54/60\n",
      "5/5 [==============================] - 3s 572ms/step - loss: nan - accuracy: 0.1400 - val_loss: nan - val_accuracy: 0.3000\n",
      "Epoch 55/60\n",
      "5/5 [==============================] - 3s 540ms/step - loss: nan - accuracy: 0.1800 - val_loss: nan - val_accuracy: 0.3000\n",
      "Epoch 56/60\n",
      "5/5 [==============================] - 3s 531ms/step - loss: nan - accuracy: 0.1800 - val_loss: nan - val_accuracy: 0.2500\n",
      "Epoch 57/60\n",
      "5/5 [==============================] - 3s 572ms/step - loss: nan - accuracy: 0.2000 - val_loss: nan - val_accuracy: 0.4500\n",
      "Epoch 58/60\n",
      "5/5 [==============================] - 3s 558ms/step - loss: nan - accuracy: 0.2200 - val_loss: nan - val_accuracy: 0.3000\n",
      "Epoch 59/60\n",
      "5/5 [==============================] - 3s 601ms/step - loss: nan - accuracy: 0.2000 - val_loss: nan - val_accuracy: 0.2500\n",
      "Epoch 60/60\n",
      "5/5 [==============================] - 3s 554ms/step - loss: nan - accuracy: 0.1800 - val_loss: nan - val_accuracy: 0.1000\n",
      "INFO:tensorflow:Assets written to: savedmodel/InceptionV-1model\\assets\n"
     ]
    }
   ],
   "source": [
    "EPOCHS = 60\n",
    "BATCH_SIZE = 20\n",
    "STEPS_PER_EPOCH = 5\n",
    "VALIDATION_STEPS = 2\n",
    "#MODEL_FILE = 'InceptionV3-1.model'\n",
    "MODEL_FILE = 'savedmodel/InceptionV-1model'\n",
    "\n",
    "history = model.fit(\n",
    "    train_generator,\n",
    "    epochs=EPOCHS,\n",
    "    steps_per_epoch=STEPS_PER_EPOCH,\n",
    "    validation_data=validation_generator,\n",
    "    validation_steps=VALIDATION_STEPS)\n",
    "  ## Test Trained Network\n",
    "model.save(MODEL_FILE)"
   ]
  },
  {
   "cell_type": "code",
   "execution_count": 33,
   "metadata": {},
   "outputs": [
    {
     "data": {
      "image/png": "[encoded data removed]",
      "text/plain": [
       "<Figure size 432x288 with 1 Axes>"
      ]
     },
     "metadata": {
      "needs_background": "light"
     },
     "output_type": "display_data"
    },
    {
     "data": {
      "image/png": "[encoded data removed]",
      "text/plain": [
       "<Figure size 432x288 with 1 Axes>"
      ]
     },
     "metadata": {
      "needs_background": "light"
     },
     "output_type": "display_data"
    }
   ],
   "source": [
    "import matplotlib.pyplot as plt\n",
    "acc = history.history['accuracy']\n",
    "loss = history.history['loss']\n",
    "val_acc = history.history['val_accuracy']\n",
    "val_loss = history.history['val_loss']\n",
    "epochs = range(1,len(acc)+1)\n",
    "\n",
    "plt.plot(epochs, val_acc,'r')\n",
    "plt.plot(epochs, acc,'r.')\n",
    "plt.title(\"Training Accuracy\")\n",
    "\n",
    "plt.figure()\n",
    "plt.plot(epochs, val_loss,'r')\n",
    "plt.plot(epochs,loss,'r.')\n",
    "plt.title(\"Training Loss\")\n",
    "plt.show()"
   ]
  },
  {
   "cell_type": "code",
   "execution_count": 34,
   "metadata": {},
   "outputs": [],
   "source": [
    "import numpy as np\n",
    "from tensorflow.keras.preprocessing import image\n",
    "from tensorflow.keras.models import load_model\n",
    "import seaborn as sn"
   ]
  },
  {
   "cell_type": "code",
   "execution_count": 35,
   "metadata": {},
   "outputs": [],
   "source": [
    "from glob import glob\n",
    "carbonate_test = glob('DataV3/test/carbonate/*.JPG')\n",
    "igneous_test = glob('DataV3/test/igneous/*.JPG')\n",
    "sandstone_test = glob('DataV3/test/sandstone/*.JPG')\n",
    "shale_test = glob('DataV3/test/shale/*.JPG')"
   ]
  },
  {
   "cell_type": "code",
   "execution_count": 36,
   "metadata": {},
   "outputs": [
    {
     "name": "stdout",
     "output_type": "stream",
     "text": [
      "Found 297 images belonging to 4 classes.\n"
     ]
    }
   ],
   "source": [
    "# data prep\n",
    "TEST_DIR = 'DataV3/test'\n",
    "WIDTH = 299\n",
    "HEIGHT = 299\n",
    "\n",
    "test_datagen = ImageDataGenerator(preprocessing_function=preprocess_input,fill_mode='nearest')\n",
    "test_generator = validation_datagen.flow_from_directory(TEST_DIR,target_size=(HEIGHT, WIDTH),class_mode='categorical')"
   ]
  },
  {
   "cell_type": "code",
   "execution_count": 37,
   "metadata": {},
   "outputs": [],
   "source": [
    "MODEL_FILE = 'InceptionV3-1.model'\n",
    "model = load_model(MODEL_FILE)"
   ]
  },
  {
   "cell_type": "code",
   "execution_count": 38,
   "metadata": {},
   "outputs": [],
   "source": [
    "pred_label = list()\n",
    "for i in range(len(test_generator.filenames)):\n",
    "    img = image.load_img(test_generator.directory+'/'+test_generator.filenames[i], target_size=(HEIGHT, WIDTH))\n",
    "    x = image.img_to_array(img)\n",
    "    x = np.expand_dims(x, axis=0)\n",
    "    x = preprocess_input(x)\n",
    "    pred_label.append(np.argmax(model.predict(x)[0]))"
   ]
  },
  {
   "cell_type": "code",
   "execution_count": 39,
   "metadata": {},
   "outputs": [],
   "source": [
    "pred_labels = np.array(pred_label).astype(np.int32)"
   ]
  },
  {
   "cell_type": "code",
   "execution_count": 40,
   "metadata": {},
   "outputs": [
    {
     "name": "stdout",
     "output_type": "stream",
     "text": [
      "Confusion matrix:\n",
      "[[ 4.  1.  1.  0.]\n",
      " [38. 92.  7. 20.]\n",
      " [15.  6. 56. 21.]\n",
      " [ 8.  3.  2. 23.]]\n"
     ]
    },
    {
     "data": {
      "image/png": "[encoded data removed]",
      "text/plain": [
       "<Figure size 864x720 with 2 Axes>"
      ]
     },
     "metadata": {
      "needs_background": "light"
     },
     "output_type": "display_data"
    }
   ],
   "source": [
    "import matplotlib.pyplot as plt\n",
    "#plot confusion matrix\n",
    "c_mat = np.zeros((4,4))\n",
    "for i in range(test_generator.labels.shape[0]):\n",
    "    c_mat[pred_labels[i], test_generator.labels[i]] += 1\n",
    "\n",
    "print(\"Confusion matrix:\\n\" + str(c_mat))\n",
    "\n",
    "group_counts = [\"{0:0.0f}\".format(value) for value in c_mat.flatten()]\n",
    "group_percentages = [\"{0:.2%}\".format(value) for value in c_mat.flatten()/np.sum(c_mat)]\n",
    "labels = [f\"{v1}\\n{v2}\" for v1, v2 in zip(group_counts, group_percentages)]\n",
    "labels = np.asarray(labels).reshape(c_mat.shape[0], c_mat.shape[1])\n",
    "\n",
    "accuracy = (np.sum(np.logical_and(pred_labels, test_generator.labels))/ len(test_generator.labels)) * 100\n",
    "\n",
    "plt.figure(figsize=(12,10))\n",
    "sn.heatmap(c_mat, annot=labels, fmt='', cmap='rocket_r')\n",
    "plt.title(\"Confusion Matrix\")\n",
    "plt.ylabel('Output Class')\n",
    "_ = plt.xlabel('Target Class \\n Accuracy: ' + '%.2f'%accuracy + \"%\")"
   ]
  },
  {
   "cell_type": "code",
   "execution_count": null,
   "metadata": {},
   "outputs": [],
   "source": []
  }
 ],
 "metadata": {
  "kernelspec": {
   "display_name": "Python 3 (ipykernel)",
   "language": "python",
   "name": "python3"
  },
  "language_info": {
   "codemirror_mode": {
    "name": "ipython",
    "version": 3
   },
   "file_extension": ".py",
   "mimetype": "text/x-python",
   "name": "python",
   "nbconvert_exporter": "python",
   "pygments_lexer": "ipython3",
   "version": "3.8.11"
  },
  "varInspector": {
   "cols": {
    "lenName": 16,
    "lenType": 16,
    "lenVar": 40
   },
   "kernels_config": {
    "python": {
     "delete_cmd_postfix": "",
     "delete_cmd_prefix": "del ",
     "library": "var_list.py",
     "varRefreshCmd": "print(var_dic_list())"
    },
    "r": {
     "delete_cmd_postfix": ") ",
     "delete_cmd_prefix": "rm(",
     "library": "var_list.r",
     "varRefreshCmd": "cat(var_dic_list()) "
    }
   },
   "position": {
    "height": "356.4px",
    "left": "1281.2px",
    "right": "20px",
    "top": "120px",
    "width": "350px"
   },
   "types_to_exclude": [
    "module",
    "function",
    "builtin_function_or_method",
    "instance",
    "_Feature"
   ],
   "window_display": false
  }
 },
 "nbformat": 4,
 "nbformat_minor": 4
}
