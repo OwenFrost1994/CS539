{
 "cells": [
  {
   "cell_type": "markdown",
   "metadata": {},
   "source": [
    "## Qi Yao\n",
    "### Problem1\n",
    "### According to my comprehension, a class must be built with methods to realize the input and output."
   ]
  },
  {
   "cell_type": "markdown",
   "metadata": {},
   "source": [
    "### a)"
   ]
  },
  {
   "cell_type": "code",
   "execution_count": 1,
   "metadata": {},
   "outputs": [],
   "source": [
    "class neuron:\n",
    "    def __init__(self, N, W, T):\n",
    "        self.N = N\n",
    "        self.W = W\n",
    "        self.T = T\n",
    "        \n",
    "    def act(self, I):\n",
    "        Sum = 0\n",
    "        for i in range(self.N):\n",
    "            Sum = Sum + self.W[i]*I[i]\n",
    "        if Sum < self.T:\n",
    "            O = 0\n",
    "        else:\n",
    "            O = 1\n",
    "            \n",
    "        return O"
   ]
  },
  {
   "cell_type": "code",
   "execution_count": 2,
   "metadata": {},
   "outputs": [],
   "source": [
    "cell1 = neuron(2, [1,1], -1.5)"
   ]
  },
  {
   "cell_type": "code",
   "execution_count": 3,
   "metadata": {},
   "outputs": [
    {
     "data": {
      "text/plain": [
       "2"
      ]
     },
     "execution_count": 3,
     "metadata": {},
     "output_type": "execute_result"
    }
   ],
   "source": [
    "cell1.N"
   ]
  },
  {
   "cell_type": "code",
   "execution_count": 4,
   "metadata": {},
   "outputs": [
    {
     "data": {
      "text/plain": [
       "[1, 1]"
      ]
     },
     "execution_count": 4,
     "metadata": {},
     "output_type": "execute_result"
    }
   ],
   "source": [
    "cell1.W"
   ]
  },
  {
   "cell_type": "code",
   "execution_count": 5,
   "metadata": {},
   "outputs": [
    {
     "data": {
      "text/plain": [
       "-1.5"
      ]
     },
     "execution_count": 5,
     "metadata": {},
     "output_type": "execute_result"
    }
   ],
   "source": [
    "cell1.T"
   ]
  },
  {
   "cell_type": "code",
   "execution_count": 6,
   "metadata": {},
   "outputs": [
    {
     "data": {
      "text/plain": [
       "1"
      ]
     },
     "execution_count": 6,
     "metadata": {},
     "output_type": "execute_result"
    }
   ],
   "source": [
    "cell1.act([0.6, 0.8])"
   ]
  },
  {
   "cell_type": "markdown",
   "metadata": {},
   "source": [
    "### b)"
   ]
  },
  {
   "cell_type": "markdown",
   "metadata": {},
   "source": [
    "### A possible solution is $W = [0.4 -0.6]^T$ and $T=0.1$."
   ]
  },
  {
   "cell_type": "markdown",
   "metadata": {},
   "source": [
    "### For $I = [0, 0]^T$, $Sum = 0$, $y = 0$;\n",
    "### For $I = [0, 1]^T$, $Sum = -0.6$, $y = 0$;\n",
    "### For $I = [1, 0]^T$, $Sum = 0.4$, $y = 1$;\n",
    "### For $I = [1, 1]^T$, $Sum = -0.2$, $y = 0$."
   ]
  },
  {
   "cell_type": "markdown",
   "metadata": {},
   "source": [
    "### Problem2"
   ]
  },
  {
   "cell_type": "markdown",
   "metadata": {},
   "source": [
    "### In my opinion,seeing the symptoms opf Covid-19 such as cough, fever, difficulty in breathing and so on, a classification problem can be identified: classifying the patients into Covid-19 patients or other diseases, like flu. This will be really helpful in assisting the patients to make desicision in testing and self quarantine. For a AI architecture, the input should be the numericalized symptom values and the output should be a binary value with 1 represents likely to be infected with Covid-19 and 0 represents not likely to be infected. Here we need to assume that the patient can precisely describe the symptoms they have. For the data given by Johns Hopkins University, it is not enough for building a good learning machine learning. What we need is enough training case where the input values of symptoms are given and the real infection status of patients are given. "
   ]
  },
  {
   "cell_type": "code",
   "execution_count": null,
   "metadata": {},
   "outputs": [],
   "source": []
  }
 ],
 "metadata": {
  "kernelspec": {
   "display_name": "Python 3 (ipykernel)",
   "language": "python",
   "name": "python3"
  },
  "language_info": {
   "codemirror_mode": {
    "name": "ipython",
    "version": 3
   },
   "file_extension": ".py",
   "mimetype": "text/x-python",
   "name": "python",
   "nbconvert_exporter": "python",
   "pygments_lexer": "ipython3",
   "version": "3.8.11"
  }
 },
 "nbformat": 4,
 "nbformat_minor": 4
}
