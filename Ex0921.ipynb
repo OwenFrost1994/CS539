{
 "cells": [
  {
   "cell_type": "code",
   "execution_count": 1,
   "metadata": {},
   "outputs": [],
   "source": [
    "import pandas as pd\n",
    "import numpy as np\n",
    "import matplotlib.pyplot as plt"
   ]
  },
  {
   "cell_type": "code",
   "execution_count": 2,
   "metadata": {},
   "outputs": [
    {
     "data": {
      "text/html": [
       "<div>\n",
       "<style scoped>\n",
       "    .dataframe tbody tr th:only-of-type {\n",
       "        vertical-align: middle;\n",
       "    }\n",
       "\n",
       "    .dataframe tbody tr th {\n",
       "        vertical-align: top;\n",
       "    }\n",
       "\n",
       "    .dataframe thead th {\n",
       "        text-align: right;\n",
       "    }\n",
       "</style>\n",
       "<table border=\"1\" class=\"dataframe\">\n",
       "  <thead>\n",
       "    <tr style=\"text-align: right;\">\n",
       "      <th></th>\n",
       "      <th>0</th>\n",
       "      <th>1</th>\n",
       "    </tr>\n",
       "  </thead>\n",
       "  <tbody>\n",
       "    <tr>\n",
       "      <th>0</th>\n",
       "      <td>-0.99707</td>\n",
       "      <td>0.187890</td>\n",
       "    </tr>\n",
       "    <tr>\n",
       "      <th>1</th>\n",
       "      <td>-0.98005</td>\n",
       "      <td>0.063013</td>\n",
       "    </tr>\n",
       "    <tr>\n",
       "      <th>2</th>\n",
       "      <td>-0.92997</td>\n",
       "      <td>0.143280</td>\n",
       "    </tr>\n",
       "    <tr>\n",
       "      <th>3</th>\n",
       "      <td>-0.92648</td>\n",
       "      <td>0.137950</td>\n",
       "    </tr>\n",
       "    <tr>\n",
       "      <th>4</th>\n",
       "      <td>-0.92050</td>\n",
       "      <td>0.617300</td>\n",
       "    </tr>\n",
       "    <tr>\n",
       "      <th>...</th>\n",
       "      <td>...</td>\n",
       "      <td>...</td>\n",
       "    </tr>\n",
       "    <tr>\n",
       "      <th>195</th>\n",
       "      <td>0.96199</td>\n",
       "      <td>0.488450</td>\n",
       "    </tr>\n",
       "    <tr>\n",
       "      <th>196</th>\n",
       "      <td>0.97220</td>\n",
       "      <td>0.646670</td>\n",
       "    </tr>\n",
       "    <tr>\n",
       "      <th>197</th>\n",
       "      <td>0.97714</td>\n",
       "      <td>0.683340</td>\n",
       "    </tr>\n",
       "    <tr>\n",
       "      <th>198</th>\n",
       "      <td>0.98669</td>\n",
       "      <td>0.805490</td>\n",
       "    </tr>\n",
       "    <tr>\n",
       "      <th>199</th>\n",
       "      <td>0.98998</td>\n",
       "      <td>0.812240</td>\n",
       "    </tr>\n",
       "  </tbody>\n",
       "</table>\n",
       "<p>200 rows × 2 columns</p>\n",
       "</div>"
      ],
      "text/plain": [
       "           0         1\n",
       "0   -0.99707  0.187890\n",
       "1   -0.98005  0.063013\n",
       "2   -0.92997  0.143280\n",
       "3   -0.92648  0.137950\n",
       "4   -0.92050  0.617300\n",
       "..       ...       ...\n",
       "195  0.96199  0.488450\n",
       "196  0.97220  0.646670\n",
       "197  0.97714  0.683340\n",
       "198  0.98669  0.805490\n",
       "199  0.98998  0.812240\n",
       "\n",
       "[200 rows x 2 columns]"
      ]
     },
     "execution_count": 2,
     "metadata": {},
     "output_type": "execute_result"
    }
   ],
   "source": [
    "data = pd.read_csv('ex_0921data.csv',header=None)\n",
    "data"
   ]
  },
  {
   "cell_type": "code",
   "execution_count": 3,
   "metadata": {},
   "outputs": [],
   "source": [
    "data = data.sample(frac=1.0)  # random divide\n",
    "data1 = data.iloc[0:round(data.shape[0]/3)-1,:]\n",
    "data2 = data.iloc[round(data.shape[0]/3)-1:(2*round(data.shape[0]/3)-2),:]\n",
    "data3 = data.iloc[(2*round(data.shape[0]/3)-2):data.shape[0],:]"
   ]
  },
  {
   "cell_type": "code",
   "execution_count": 4,
   "metadata": {},
   "outputs": [],
   "source": [
    "list1 = [data3, data1, data2]\n",
    "\n",
    "list2 = [[data1, data2], [data2, data3], [data3, data1]]\n",
    "\n",
    "def polynomial(order):\n",
    "    I =[0, 0, 0]\n",
    "    \n",
    "    for i in range(3):\n",
    "        frames = pd.concat(list2[i], axis = 0)\n",
    "        f = np.polyfit(frames.iloc[:,0], frames.iloc[:,1], order)\n",
    "        p = np.poly1d(f)\n",
    "        yvals = p(list1[i].iloc[:,0])\n",
    "        I[i] = np.sum(np.square(list1[i].iloc[:,1]-yvals))/list1[i].shape[0]\n",
    "    \n",
    "    return sum(I)/3"
   ]
  },
  {
   "cell_type": "code",
   "execution_count": 5,
   "metadata": {},
   "outputs": [
    {
     "data": {
      "text/plain": [
       "[0.11333779189067489,\n",
       " 0.11408884272341492,\n",
       " 0.08833102346131814,\n",
       " 0.08711727113255269,\n",
       " 0.08027773175742796,\n",
       " 0.081805600304056,\n",
       " 0.07525173013329572,\n",
       " 0.07423774921191005,\n",
       " 0.07274679659254092,\n",
       " 0.07348577611387909]"
      ]
     },
     "execution_count": 5,
     "metadata": {},
     "output_type": "execute_result"
    }
   ],
   "source": [
    "I = []\n",
    "for i in range(1,11):\n",
    "    I.append(polynomial(i))\n",
    "I"
   ]
  },
  {
   "cell_type": "code",
   "execution_count": 6,
   "metadata": {},
   "outputs": [
    {
     "data": {
      "text/plain": [
       "<matplotlib.legend.Legend at 0x7f0eba8f9518>"
      ]
     },
     "execution_count": 6,
     "metadata": {},
     "output_type": "execute_result"
    },
    {
     "data": {
      "image/png": "[encoded data removed]",
      "text/plain": [
       "<Figure size 576x576 with 1 Axes>"
      ]
     },
     "metadata": {
      "needs_background": "light"
     },
     "output_type": "display_data"
    }
   ],
   "source": [
    "fig, ax = plt.subplots(figsize=(8,8))\n",
    "ax.plot(range(1,11),I, 'o-')\n",
    "ax.set_xlabel('order', fontsize=20)\n",
    "ax.set_ylabel('value', fontsize=20)\n",
    "ax.legend(['Empirical risk'], fontsize=20)"
   ]
  },
  {
   "cell_type": "markdown",
   "metadata": {},
   "source": [
    "## The order of polynomial where the minimum empirical risk appears:"
   ]
  },
  {
   "cell_type": "code",
   "execution_count": 7,
   "metadata": {},
   "outputs": [
    {
     "data": {
      "text/plain": [
       "9"
      ]
     },
     "execution_count": 7,
     "metadata": {},
     "output_type": "execute_result"
    }
   ],
   "source": [
    "I.index(min(I))+1"
   ]
  },
  {
   "cell_type": "code",
   "execution_count": 8,
   "metadata": {},
   "outputs": [
    {
     "data": {
      "text/plain": [
       "<matplotlib.legend.Legend at 0x7f0eba2d5198>"
      ]
     },
     "execution_count": 8,
     "metadata": {},
     "output_type": "execute_result"
    },
    {
     "data": {
      "image/png": "[encoded data removed]",
      "text/plain": [
       "<Figure size 576x576 with 1 Axes>"
      ]
     },
     "metadata": {
      "needs_background": "light"
     },
     "output_type": "display_data"
    }
   ],
   "source": [
    "f = np.polyfit(data.iloc[:,0], data.iloc[:,1], I.index(min(I))+1)\n",
    "p = np.poly1d(f)\n",
    "x =  np.arange(-1,1,0.01)\n",
    "y = p(x)\n",
    "fig, ax = plt.subplots(figsize=(8,8))\n",
    "ax.plot(data.iloc[:,0], data.iloc[:,1], 'ro')\n",
    "ax.plot(x, y, 'b-')\n",
    "ax.set_xlabel('x', fontsize=20)\n",
    "ax.set_ylabel('y', fontsize=20)\n",
    "ax.legend(['Original points','Polynomial'], fontsize=20)"
   ]
  },
  {
   "cell_type": "code",
   "execution_count": null,
   "metadata": {},
   "outputs": [],
   "source": []
  }
 ],
 "metadata": {
  "kernelspec": {
   "display_name": "Python 3",
   "language": "python",
   "name": "python3"
  },
  "language_info": {
   "codemirror_mode": {
    "name": "ipython",
    "version": 3
   },
   "file_extension": ".py",
   "mimetype": "text/x-python",
   "name": "python",
   "nbconvert_exporter": "python",
   "pygments_lexer": "ipython3",
   "version": "3.6.9"
  },
  "varInspector": {
   "cols": {
    "lenName": 16,
    "lenType": 16,
    "lenVar": 40
   },
   "kernels_config": {
    "python": {
     "delete_cmd_postfix": "",
     "delete_cmd_prefix": "del ",
     "library": "var_list.py",
     "varRefreshCmd": "print(var_dic_list())"
    },
    "r": {
     "delete_cmd_postfix": ") ",
     "delete_cmd_prefix": "rm(",
     "library": "var_list.r",
     "varRefreshCmd": "cat(var_dic_list()) "
    }
   },
   "types_to_exclude": [
    "module",
    "function",
    "builtin_function_or_method",
    "instance",
    "_Feature"
   ],
   "window_display": false
  }
 },
 "nbformat": 4,
 "nbformat_minor": 4
}
