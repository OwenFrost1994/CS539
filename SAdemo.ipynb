{
 "cells": [
  {
   "cell_type": "markdown",
   "metadata": {
    "id": "9xy2XCsLViYs"
   },
   "source": [
    "# Simulated Annealing Demonstration\n",
    "\n",
    "use Travelling Salesperson Problem (TSP) as an example.\n",
    "\n",
    "Based on: Nathan Rooy, [Effective Simulated Annealing with Python](https://https://nathanrooy.github.io/posts/2020-05-14/simulated-annealing-with-python/).\n"
   ]
  },
  {
   "cell_type": "markdown",
   "metadata": {
    "id": "vldMHjQprgWv"
   },
   "source": [
    "This notebook requires the landscapes package. So install that with ```pip```"
   ]
  },
  {
   "cell_type": "code",
   "execution_count": 1,
   "metadata": {
    "colab": {
     "base_uri": "https://localhost:8080/"
    },
    "id": "o7xbFpF3mAux",
    "outputId": "80b61729-c9d8-4a3d-85b8-3fb2ddeb38a1"
   },
   "outputs": [
    {
     "name": "stdout",
     "output_type": "stream",
     "text": [
      "Defaulting to user installation because normal site-packages is not writeable\n",
      "Requirement already satisfied: landscapes in /home/hp/.local/lib/python3.6/site-packages (0.0.11)\n",
      "\u001b[33mWARNING: You are using pip version 20.2.4; however, version 20.3 is available.\n",
      "You should consider upgrading via the '/usr/bin/python3 -m pip install --upgrade pip' command.\u001b[0m\n",
      "Note: you may need to restart the kernel to use updated packages.\n"
     ]
    }
   ],
   "source": [
    "pip install landscapes"
   ]
  },
  {
   "cell_type": "markdown",
   "metadata": {
    "id": "jPOSt3xynFsX"
   },
   "source": [
    "This script will require that you place the sa.py file from Canvas in the same directory as this notebook."
   ]
  },
  {
   "cell_type": "code",
   "execution_count": 2,
   "metadata": {
    "id": "U8J7GCWomGL8"
   },
   "outputs": [],
   "source": [
    "import sa"
   ]
  },
  {
   "cell_type": "markdown",
   "metadata": {
    "id": "mgKWkXo8lNPk"
   },
   "source": [
    "For combinatorial problems such as the traveling salesman problem, usage is just as easy. First, let's define a method for calculating the distance between our points. In this case, Euclidean distance is used, but it can be anything..."
   ]
  },
  {
   "cell_type": "code",
   "execution_count": 3,
   "metadata": {
    "id": "XwU5l8vHWadV"
   },
   "outputs": [],
   "source": [
    "def calc_euclidean(p1, p2):    \n",
    "    return ((p1[0] - p2[0])**2 + (p1[1] - p2[1])**2)**0.5"
   ]
  },
  {
   "cell_type": "markdown",
   "metadata": {
    "id": "EFfFkrH6lS30"
   },
   "source": [
    "Next, let's prepare some points. In the intrest of simplicity, we'll just generate 6 points on the perimiter of the unit circle."
   ]
  },
  {
   "cell_type": "code",
   "execution_count": 4,
   "metadata": {
    "id": "iDMHo0_-lTf3"
   },
   "outputs": [],
   "source": [
    "from math import cos\n",
    "from math import sin\n",
    "from math import pi\n",
    "n_pts = 10\n",
    "dr = (2 * pi) / n_pts\n",
    "\n",
    "x0 = []\n",
    "for i in range(0,n_pts):\n",
    "    radians = dr * i  \n",
    "    x0.append([cos(radians), sin(radians)])\n"
   ]
  },
  {
   "cell_type": "markdown",
   "metadata": {
    "id": "PHCcTFSGlVTf"
   },
   "source": [
    "Now, prepare the cost function."
   ]
  },
  {
   "cell_type": "code",
   "execution_count": 5,
   "metadata": {
    "id": "gjZ8PjGjlWmP"
   },
   "outputs": [],
   "source": [
    "from landscapes.single_objective import tsp\n",
    "cost_func = tsp(calc_euclidean, close_loop=True).dist"
   ]
  },
  {
   "cell_type": "code",
   "execution_count": 14,
   "metadata": {},
   "outputs": [
    {
     "data": {
      "text/plain": [
       "<bound method tsp.dist of <landscapes.single_objective.tsp object at 0x7f4f4c2091d0>>"
      ]
     },
     "execution_count": 14,
     "metadata": {},
     "output_type": "execute_result"
    }
   ],
   "source": [
    "cost_func"
   ]
  },
  {
   "cell_type": "markdown",
   "metadata": {
    "id": "Vh31mTamlaHF"
   },
   "source": [
    "Because we generated our perimiter points in rotational order, x0 is already the optimal solution. We can check this with:"
   ]
  },
  {
   "cell_type": "code",
   "execution_count": 6,
   "metadata": {
    "colab": {
     "base_uri": "https://localhost:8080/"
    },
    "id": "E_zCKac6lbLE",
    "outputId": "6b8dd28b-0067-40ed-d34c-68e9b554ff68"
   },
   "outputs": [
    {
     "data": {
      "text/plain": [
       "6.180339887498949"
      ]
     },
     "execution_count": 6,
     "metadata": {},
     "output_type": "execute_result"
    }
   ],
   "source": [
    "cost_func(x0)"
   ]
  },
  {
   "cell_type": "markdown",
   "metadata": {
    "id": "PO_8wFCjll_F"
   },
   "source": [
    "Just under two pi...\n",
    "\n",
    "Now let's optimize this while remembering to shuffle the points prior to running."
   ]
  },
  {
   "cell_type": "code",
   "execution_count": 7,
   "metadata": {
    "colab": {
     "base_uri": "https://localhost:8080/",
     "height": 265
    },
    "id": "0F8jwiK5llum",
    "outputId": "e2f7bd36-5e69-4050-c1cb-402d67f42d79"
   },
   "outputs": [
    {
     "name": "stderr",
     "output_type": "stream",
     "text": [
      "In /home/hp/.local/lib/python3.6/site-packages/matplotlib/mpl-data/stylelib/_classic_test.mplstyle: \n",
      "The text.latex.preview rcparam was deprecated in Matplotlib 3.3 and will be removed two minor releases later.\n",
      "In /home/hp/.local/lib/python3.6/site-packages/matplotlib/mpl-data/stylelib/_classic_test.mplstyle: \n",
      "The mathtext.fallback_to_cm rcparam was deprecated in Matplotlib 3.3 and will be removed two minor releases later.\n",
      "In /home/hp/.local/lib/python3.6/site-packages/matplotlib/mpl-data/stylelib/_classic_test.mplstyle: Support for setting the 'mathtext.fallback_to_cm' rcParam is deprecated since 3.3 and will be removed two minor releases later; use 'mathtext.fallback : 'cm' instead.\n",
      "In /home/hp/.local/lib/python3.6/site-packages/matplotlib/mpl-data/stylelib/_classic_test.mplstyle: \n",
      "The validate_bool_maybe_none function was deprecated in Matplotlib 3.3 and will be removed two minor releases later.\n",
      "In /home/hp/.local/lib/python3.6/site-packages/matplotlib/mpl-data/stylelib/_classic_test.mplstyle: \n",
      "The savefig.jpeg_quality rcparam was deprecated in Matplotlib 3.3 and will be removed two minor releases later.\n",
      "In /home/hp/.local/lib/python3.6/site-packages/matplotlib/mpl-data/stylelib/_classic_test.mplstyle: \n",
      "The keymap.all_axes rcparam was deprecated in Matplotlib 3.3 and will be removed two minor releases later.\n",
      "In /home/hp/.local/lib/python3.6/site-packages/matplotlib/mpl-data/stylelib/_classic_test.mplstyle: \n",
      "The animation.avconv_path rcparam was deprecated in Matplotlib 3.3 and will be removed two minor releases later.\n",
      "In /home/hp/.local/lib/python3.6/site-packages/matplotlib/mpl-data/stylelib/_classic_test.mplstyle: \n",
      "The animation.avconv_args rcparam was deprecated in Matplotlib 3.3 and will be removed two minor releases later.\n"
     ]
    },
    {
     "data": {
      "image/png": "[encoded data removed]",
      "text/plain": [
       "<Figure size 432x288 with 1 Axes>"
      ]
     },
     "metadata": {
      "needs_background": "light"
     },
     "output_type": "display_data"
    }
   ],
   "source": [
    "from random import shuffle\n",
    "import matplotlib.pyplot as plt\n",
    "shuffle(x0)\n",
    "opt = sa.minimize(cost_func, x0, opt_mode='combinatorial', step_max=1000, t_max=1, t_min=0)\n",
    "\n",
    "# Display the shuffled datapoints\n",
    "plt_x,plt_y = zip(*x0)\n",
    "fig, ax = plt.subplots()\n",
    "ax.scatter(plt_x, plt_y)\n",
    "\n",
    "for i in range(n_pts):\n",
    "  ax.annotate(str(i+1), (plt_x[i], plt_y[i]))\n",
    "plt.show()"
   ]
  },
  {
   "cell_type": "markdown",
   "metadata": {
    "id": "5otrk6ZInn29"
   },
   "source": [
    "We can view the results with the following:"
   ]
  },
  {
   "cell_type": "code",
   "execution_count": 8,
   "metadata": {
    "colab": {
     "base_uri": "https://localhost:8080/"
    },
    "id": "faFinLVflp0Q",
    "outputId": "07c58391-8ce5-45f2-f77f-b4880b4dab92"
   },
   "outputs": [
    {
     "name": "stdout",
     "output_type": "stream",
     "text": [
      "+------------------------ RESULTS -------------------------+\n",
      "\n",
      "      opt.mode: combinatorial\n",
      "cooling sched.: linear additive cooling\n",
      "\n",
      "\n",
      "  initial temp: 1\n",
      "    final temp: 0.001000\n",
      "     max steps: 1000\n",
      "    final step: 1000\n",
      "\n",
      "  final energy: 6.180340\n",
      "\n",
      "+-------------------------- END ---------------------------+\n"
     ]
    }
   ],
   "source": [
    "opt.results()"
   ]
  },
  {
   "cell_type": "markdown",
   "metadata": {
    "id": "jTA7lnpepKxY"
   },
   "source": [
    "We can access the optimal solution via:"
   ]
  },
  {
   "cell_type": "code",
   "execution_count": 9,
   "metadata": {
    "colab": {
     "base_uri": "https://localhost:8080/"
    },
    "id": "IQ2pGAjipPBB",
    "outputId": "19aec768-9a5f-41ab-96cb-1c5cf67be302"
   },
   "outputs": [
    {
     "data": {
      "text/plain": [
       "[[-1.0, 1.2246467991473532e-16],\n",
       " [-0.8090169943749476, -0.587785252292473],\n",
       " [-0.30901699437494756, -0.9510565162951535],\n",
       " [0.30901699437494723, -0.9510565162951536],\n",
       " [0.8090169943749473, -0.5877852522924734],\n",
       " [1.0, 0.0],\n",
       " [0.8090169943749475, 0.5877852522924731],\n",
       " [0.30901699437494745, 0.9510565162951535],\n",
       " [-0.30901699437494734, 0.9510565162951536],\n",
       " [-0.8090169943749473, 0.5877852522924732]]"
      ]
     },
     "execution_count": 9,
     "metadata": {},
     "output_type": "execute_result"
    }
   ],
   "source": [
    "opt.best_state"
   ]
  },
  {
   "cell_type": "markdown",
   "metadata": {
    "id": "g5VWqCJjpGjU"
   },
   "source": [
    "And then plot it to further validate that we have indeed achieved the global minimum. "
   ]
  },
  {
   "cell_type": "code",
   "execution_count": 10,
   "metadata": {
    "colab": {
     "base_uri": "https://localhost:8080/",
     "height": 545
    },
    "id": "kNfpFr3guJRb",
    "outputId": "1957e66c-cefb-428d-bdde-08bda674c7b6"
   },
   "outputs": [
    {
     "data": {
      "image/png": "[encoded data removed]",
      "text/plain": [
       "<Figure size 432x288 with 1 Axes>"
      ]
     },
     "metadata": {
      "needs_background": "light"
     },
     "output_type": "display_data"
    },
    {
     "data": {
      "image/png": "[encoded data removed]",
      "text/plain": [
       "<Figure size 432x288 with 1 Axes>"
      ]
     },
     "metadata": {
      "needs_background": "light"
     },
     "output_type": "display_data"
    }
   ],
   "source": [
    "# Display the original datapoints\n",
    "plt_x,plt_y = zip(*x0)\n",
    "fig, ax = plt.subplots()\n",
    "ax.plot(plt_x,plt_y)\n",
    "ax.scatter(plt_x, plt_y)\n",
    "plt.title(\"Initial\")\n",
    "for i in range(n_pts):\n",
    "  ax.annotate(str(i+1), (plt_x[i], plt_y[i]))\n",
    "plt.show()\n",
    "\n",
    "# Display the SA Solution\n",
    "plt_x,plt_y = zip(*opt.best_state)\n",
    "fig, ax = plt.subplots()\n",
    "ax.plot(plt_x,plt_y)\n",
    "ax.scatter(plt_x, plt_y)\n",
    "plt.title(\"Final\")\n",
    "for i in range(n_pts):\n",
    "  ax.annotate(str(i+1), (plt_x[i], plt_y[i]))\n",
    "plt.show()"
   ]
  },
  {
   "cell_type": "code",
   "execution_count": 11,
   "metadata": {
    "id": "tAXL1UTasXJi"
   },
   "outputs": [
    {
     "name": "stdout",
     "output_type": "stream",
     "text": [
      "模拟退火算法查找最短路径：\n",
      "最合适的路径为： [3, 0, 4, 1, 2]\n",
      "对应城市 ['重庆', '上海', '北京', '广州', '昆明']\n",
      "路径节点个数： 5\n",
      "最小花费为： 110\n"
     ]
    }
   ],
   "source": [
    "import os\n",
    "import sys\n",
    "import math\n",
    "import numpy as np\n",
    "\n",
    "import matplotlib.pyplot as plt\n",
    "from random import choice, shuffle, sample, uniform\n",
    "\n",
    "#假设下面是五个地点的距离对称矩阵(Wij = Wji)\n",
    "names = ['重庆','上海','北京','广州','昆明']\n",
    "arr = ([0,50,30,10,10],\n",
    "       [50,0,60,30,20],\n",
    "       [30,60,0,80,70],\n",
    "       [20,30,80,0,60],\n",
    "       [10,20,70,60,0])\n",
    "\n",
    "num = len(arr)\n",
    "\n",
    "print(\"模拟退火算法查找最短路径：\")\n",
    "### 参数：最小路径的最后一个节点和邻域\n",
    "def valSimulateAnnealSum(curnode, nextnodeList, t):\n",
    "\n",
    "  if nextnodeList == None or len(nextnodeList) < 1:\n",
    "    print(\"empty\")\n",
    "    return 0\n",
    "\n",
    "  maxcost = sys.maxsize\n",
    "  retnode = 0\n",
    "\n",
    "  for node in nextnodeList:\n",
    "    # print \"curnode : \",curnode ,\" node: \" ,node ,\" mincost : \",mincost\n",
    "\n",
    "    t *= 0.98  ## 退火因子\n",
    "    if arr[curnode][node] < maxcost:\n",
    "      maxcost = arr[curnode][node]\n",
    "      retnode = node\n",
    "    ## 以一定的概率接受较差的解\n",
    "    else:\n",
    "      #r = uniform(0, 1)\n",
    "      r = math.exp((arr[curnode][node] - maxcost)/t)\n",
    "      if arr[curnode][node] > maxcost and t > t_min and math.exp((arr[curnode][node] - maxcost) / t) > r:\n",
    "        #print \" t = \" ,t , \"maxcost = \", maxcost , \" arr = \" ,arr[curnode][node],   \"  exp = \",math.exp((arr[curnode][node] - maxcost)/t)  ,  \" r = \",r , \"t_min = \" ,t_min\n",
    "        retnode = node\n",
    "        maxcost = arr[curnode][node]\n",
    "        return(retnode, maxcost, t)\n",
    "\n",
    "  return (retnode, maxcost, t)\n",
    "\n",
    "\n",
    "indexList = [i for i in range(num)]  ### 原始的节点序列\n",
    "selectedList = []  ## 选择好的元素\n",
    "\n",
    "### 具体思想是： 从剩余的元素中随机选择十分之一的元素，作为邻域。然后从邻域中选择一个元素作为已经构建好的最小路径的下一个节点，\n",
    "#  使得该路径\n",
    "mincost = sys.maxsize  ###最小的花费\n",
    "\n",
    "count = 0  ### 计数器\n",
    "t = 100  ## 初始温度\n",
    "t_min = 50  ## 最小温度\n",
    "while count < num:\n",
    "  count += 1\n",
    "  ### 构建一个邻域: 如果indexList中元素个数大于10个，则取样的个数为剩余元素个数的十分之一的整数。否则为剩余元素个数对10的取余数\n",
    "  leftItemNum = len(indexList)\n",
    "  #  print \"leftItemNum:\" ,leftItemNum\n",
    "  #nextnum = leftItemNum // 10 if leftItemNum >= 10 else leftItemNum % 10\n",
    "  #nextnodeList = sample(indexList, nextnum)  ### 从剩余的节点中选出nextnum个节点\n",
    "  if leftItemNum < 2:\n",
    "    leftItemNum = 1\n",
    "  else:\n",
    "    leftItemNum -= 1\n",
    "\n",
    "  nextnodeList = sample(indexList, leftItemNum)\n",
    "\n",
    "  if len(selectedList) == 0:\n",
    "    item = choice(nextnodeList)\n",
    "    selectedList.append(item)\n",
    "    indexList.remove(item)\n",
    "    mincost = 0\n",
    "    continue\n",
    "\n",
    "  curnode = selectedList[len(selectedList) - 1]\n",
    "  # print \"nextnodeList:\" ,nextnodeList\n",
    "  nextnode, maxcost, t = valSimulateAnnealSum(curnode, indexList, t)  ### 对待选的序列路径求和\n",
    "\n",
    "  ### 将返回的路径值添加到原来的路径值上，同时，在剩余的节点序列中，删除nextnode节点\n",
    "  mincost += maxcost\n",
    "  indexList.remove(nextnode)\n",
    "  selectedList.append(nextnode)\n",
    "\n",
    "print(\"最合适的路径为：\", selectedList)\n",
    "print(\"对应城市\",names)\n",
    "print(\"路径节点个数：\", len(selectedList))\n",
    "print(\"最小花费为：\", mincost)"
   ]
  },
  {
   "cell_type": "code",
   "execution_count": null,
   "metadata": {},
   "outputs": [],
   "source": []
  }
 ],
 "metadata": {
  "colab": {
   "collapsed_sections": [],
   "name": "SAdemo.ipynb",
   "provenance": [],
   "toc_visible": true
  },
  "kernelspec": {
   "display_name": "Python 3",
   "language": "python",
   "name": "python3"
  },
  "language_info": {
   "codemirror_mode": {
    "name": "ipython",
    "version": 3
   },
   "file_extension": ".py",
   "mimetype": "text/x-python",
   "name": "python",
   "nbconvert_exporter": "python",
   "pygments_lexer": "ipython3",
   "version": "3.6.9"
  },
  "varInspector": {
   "cols": {
    "lenName": 16,
    "lenType": 16,
    "lenVar": 40
   },
   "kernels_config": {
    "python": {
     "delete_cmd_postfix": "",
     "delete_cmd_prefix": "del ",
     "library": "var_list.py",
     "varRefreshCmd": "print(var_dic_list())"
    },
    "r": {
     "delete_cmd_postfix": ") ",
     "delete_cmd_prefix": "rm(",
     "library": "var_list.r",
     "varRefreshCmd": "cat(var_dic_list()) "
    }
   },
   "types_to_exclude": [
    "module",
    "function",
    "builtin_function_or_method",
    "instance",
    "_Feature"
   ],
   "window_display": false
  }
 },
 "nbformat": 4,
 "nbformat_minor": 1
}
