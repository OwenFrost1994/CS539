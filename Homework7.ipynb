{
 "cells": [
  {
   "cell_type": "markdown",
   "metadata": {},
   "source": [
    "## Problem 1"
   ]
  },
  {
   "cell_type": "code",
   "execution_count": 1,
   "metadata": {},
   "outputs": [],
   "source": [
    "import pandas as pd\n",
    "import numpy as np\n",
    "import scipy as sp\n",
    "from sklearn.model_selection import train_test_split"
   ]
  },
  {
   "cell_type": "code",
   "execution_count": 2,
   "metadata": {},
   "outputs": [],
   "source": [
    "train = pd.read_csv('hw07train.csv',header=None).to_numpy()\n",
    "test = pd.read_csv('hw07test.csv',header=None).to_numpy()"
   ]
  },
  {
   "cell_type": "code",
   "execution_count": 3,
   "metadata": {
    "scrolled": true
   },
   "outputs": [
    {
     "data": {
      "text/plain": [
       "array([[-1.1994, -1.6741,  1.    ,  0.    ],\n",
       "       [ 1.6387,  0.8442,  1.    ,  0.    ],\n",
       "       [-0.859 , -2.0612,  1.    ,  0.    ],\n",
       "       ...,\n",
       "       [ 2.7615, -1.1492,  0.    ,  1.    ],\n",
       "       [ 0.3856,  0.8318,  0.    ,  1.    ],\n",
       "       [-0.6849,  0.8582,  0.    ,  1.    ]])"
      ]
     },
     "execution_count": 3,
     "metadata": {},
     "output_type": "execute_result"
    }
   ],
   "source": [
    "train"
   ]
  },
  {
   "cell_type": "code",
   "execution_count": 4,
   "metadata": {
    "scrolled": true
   },
   "outputs": [
    {
     "data": {
      "text/plain": [
       "array([[ 0.4288,  0.6433,  1.    ,  0.    ],\n",
       "       [ 1.3545,  1.1607,  1.    ,  0.    ],\n",
       "       [-1.1   , -0.1392,  1.    ,  0.    ],\n",
       "       ...,\n",
       "       [ 3.1781, -1.2834,  0.    ,  1.    ],\n",
       "       [ 0.8916, -0.7417,  0.    ,  1.    ],\n",
       "       [ 0.2892, -2.4596,  0.    ,  1.    ]])"
      ]
     },
     "execution_count": 4,
     "metadata": {},
     "output_type": "execute_result"
    }
   ],
   "source": [
    "test"
   ]
  },
  {
   "cell_type": "code",
   "execution_count": 5,
   "metadata": {},
   "outputs": [],
   "source": [
    "X = train[:,0:2]\n",
    "[K,d]  = np.shape(X)\n",
    "\n",
    "C = 2\n",
    "\n",
    "Label = np.mat([train[:,2] == 1, train[:,2] == 0]).T"
   ]
  },
  {
   "cell_type": "code",
   "execution_count": 6,
   "metadata": {},
   "outputs": [],
   "source": [
    "Iv = [[]] * 5\n",
    "Ir = [[]] * 5\n",
    "for m in range(5):\n",
    "    Iv[m] = range(m,K,5) # Indices of 10 validation sets.\n",
    "    Ir[m] = np.setdiff1d(range(K),Iv[m])"
   ]
  },
  {
   "cell_type": "code",
   "execution_count": 7,
   "metadata": {},
   "outputs": [
    {
     "data": {
      "text/plain": [
       "range(0, 500, 5)"
      ]
     },
     "execution_count": 7,
     "metadata": {},
     "output_type": "execute_result"
    }
   ],
   "source": [
    "Iv[0]"
   ]
  },
  {
   "cell_type": "code",
   "execution_count": 8,
   "metadata": {},
   "outputs": [
    {
     "data": {
      "text/plain": [
       "array([  1,   2,   3,   4,   6,   7,   8,   9,  11,  12,  13,  14,  16,\n",
       "        17,  18,  19,  21,  22,  23,  24,  26,  27,  28,  29,  31,  32,\n",
       "        33,  34,  36,  37,  38,  39,  41,  42,  43,  44,  46,  47,  48,\n",
       "        49,  51,  52,  53,  54,  56,  57,  58,  59,  61,  62,  63,  64,\n",
       "        66,  67,  68,  69,  71,  72,  73,  74,  76,  77,  78,  79,  81,\n",
       "        82,  83,  84,  86,  87,  88,  89,  91,  92,  93,  94,  96,  97,\n",
       "        98,  99, 101, 102, 103, 104, 106, 107, 108, 109, 111, 112, 113,\n",
       "       114, 116, 117, 118, 119, 121, 122, 123, 124, 126, 127, 128, 129,\n",
       "       131, 132, 133, 134, 136, 137, 138, 139, 141, 142, 143, 144, 146,\n",
       "       147, 148, 149, 151, 152, 153, 154, 156, 157, 158, 159, 161, 162,\n",
       "       163, 164, 166, 167, 168, 169, 171, 172, 173, 174, 176, 177, 178,\n",
       "       179, 181, 182, 183, 184, 186, 187, 188, 189, 191, 192, 193, 194,\n",
       "       196, 197, 198, 199, 201, 202, 203, 204, 206, 207, 208, 209, 211,\n",
       "       212, 213, 214, 216, 217, 218, 219, 221, 222, 223, 224, 226, 227,\n",
       "       228, 229, 231, 232, 233, 234, 236, 237, 238, 239, 241, 242, 243,\n",
       "       244, 246, 247, 248, 249, 251, 252, 253, 254, 256, 257, 258, 259,\n",
       "       261, 262, 263, 264, 266, 267, 268, 269, 271, 272, 273, 274, 276,\n",
       "       277, 278, 279, 281, 282, 283, 284, 286, 287, 288, 289, 291, 292,\n",
       "       293, 294, 296, 297, 298, 299, 301, 302, 303, 304, 306, 307, 308,\n",
       "       309, 311, 312, 313, 314, 316, 317, 318, 319, 321, 322, 323, 324,\n",
       "       326, 327, 328, 329, 331, 332, 333, 334, 336, 337, 338, 339, 341,\n",
       "       342, 343, 344, 346, 347, 348, 349, 351, 352, 353, 354, 356, 357,\n",
       "       358, 359, 361, 362, 363, 364, 366, 367, 368, 369, 371, 372, 373,\n",
       "       374, 376, 377, 378, 379, 381, 382, 383, 384, 386, 387, 388, 389,\n",
       "       391, 392, 393, 394, 396, 397, 398, 399, 401, 402, 403, 404, 406,\n",
       "       407, 408, 409, 411, 412, 413, 414, 416, 417, 418, 419, 421, 422,\n",
       "       423, 424, 426, 427, 428, 429, 431, 432, 433, 434, 436, 437, 438,\n",
       "       439, 441, 442, 443, 444, 446, 447, 448, 449, 451, 452, 453, 454,\n",
       "       456, 457, 458, 459, 461, 462, 463, 464, 466, 467, 468, 469, 471,\n",
       "       472, 473, 474, 476, 477, 478, 479, 481, 482, 483, 484, 486, 487,\n",
       "       488, 489, 491, 492, 493, 494, 496, 497, 498, 499])"
      ]
     },
     "execution_count": 8,
     "metadata": {},
     "output_type": "execute_result"
    }
   ],
   "source": [
    "Ir[0]"
   ]
  },
  {
   "cell_type": "code",
   "execution_count": 9,
   "metadata": {
    "scrolled": true
   },
   "outputs": [],
   "source": [
    "  def actfn(u,tp=1, par=1):\n",
    "    # Usage: [y,yp]=actfunp(u, tp, par)\n",
    "    # Compute activation functions and their derivatives\n",
    "    # u: net function, a K x N matrix\n",
    "    # y: activation function, a K x N matrix\n",
    "    # tp: 1 - sigmoid, 2 - tanh, 3- linear, 4 - radial 5 - softmax\n",
    "    #       6 - ReLu,  7, Hardlim (step)\n",
    "    # par: parameter list\n",
    "    #    sigmoid: T,  y=1/(1+exp(-u/T)), yp=y*(1-y)/T\n",
    "    #    tanh: T,     y=(exp(u/T)-exp(-u/T))/(exp(u/T)+exp(-u/T))\n",
    "    #                 yp=(1-y*y)/T\n",
    "    #    linear:m,b   y=au+b, yp=a\n",
    "    #    radial:m,sig y=exp(-(u-m)^2/sig^2), yp=-2(u-m)*y/sig^2\n",
    "    #    softmax: y = exp(u)/sum(exp(u(k,:)), yp(k) = y(k)*(1-y(k))\n",
    "    #    ReLU:  y = u if u >0 and = 0 otherwise.  yp = 1 if u > 0 and = 0 o.w.\n",
    "    #    Step, hardlim: y = 1 if u>=0, = 0 if u < 0, yp = 0 for all u\n",
    "\n",
    "    (K,N) = np.shape(u)\n",
    "\n",
    "    if tp == 1:\n",
    "        T = 1\n",
    "        y = np.reciprocal(1 + np.exp(-u/T))\n",
    "        yp  = np.multiply(y, np.ones(np.shape(y)) - y)/T\n",
    "    if tp == 2:\n",
    "        T = 1\n",
    "        tmp = np.exp(u/T)\n",
    "        y = np.divide(tmp - np.reciprocal(tmp),tmp + np.reciprocal(tmp))\n",
    "        yp = (np.ones(np.shape(y)) - np.multiply(y, y))/T\n",
    "    if tp == 3:\n",
    "        a = 1\n",
    "        b = 0\n",
    "        y = a*u + b\n",
    "        yp = a* np.ones(np.shape(y))\n",
    "    if tp == 4:\n",
    "        m = 0\n",
    "        sig = 1\n",
    "        s = sig**2\n",
    "        tmp = np.multiply(u - m, u - m)\n",
    "        y = np.exp(-tmp/s)\n",
    "        yp = np.multiply((-2/s) * (u - m), y)\n",
    "    if tp == 5:\n",
    "        eu = np.exp(u)\n",
    "        sv = np.mat(np.sum(eu,axis=1)).T\n",
    "        y = np.divide(eu, sv*np.ones((1,N)))\n",
    "        yp = np.multiply(y,np.ones((K,N)) - y)\n",
    "    if tp == 6:\n",
    "        yp = (u > 0).astype(int)\n",
    "        y = np.multiply(u, yp)\n",
    "    if tp == 7:\n",
    "        yp = np.zeros(np.shape(u))\n",
    "        y = (u >= 0).astype(int)\n",
    " \n",
    "    return y, yp"
   ]
  },
  {
   "cell_type": "code",
   "execution_count": 10,
   "metadata": {},
   "outputs": [],
   "source": [
    "class mlpdef:\n",
    "    def __init__(self, d,C,Lsize = [],ActFn=[2,1]):\n",
    "        if len(Lsize) == 0:\n",
    "            Lsize = [2, C]\n",
    "        self.Nlayers = len(Lsize)\n",
    "        self.Lsize = Lsize\n",
    "        self.ActFn = ActFn\n",
    "        self.FeatureDim = d\n",
    "        self.OutDim = C\n",
    "\n",
    "        self.W = [[]] * self.Nlayers\n",
    "        self.W[0] = 0.01 * np.random.randn(d+1, self.Lsize[0])\n",
    "        for n in range(1,self.Nlayers):\n",
    "            self.W[n] = 0.01 * np.random.randn(self.Lsize[n-1] + 1, self.Lsize[n])\n",
    "        \n",
    "        self.A = [[]] * self.Nlayers\n",
    "        self.Ap = [[]] * self.Nlayers\n",
    "\n",
    "    def train(self, X, y, para):\n",
    "        #Train the network using the backpropagation algorithm.\n",
    "        #1. setup parameters\n",
    "        K,d = np.shape(X)\n",
    "        Kr = para[\"epoch\"]\n",
    "        dw = [[]] * self.Nlayers\n",
    "        delta = [[]] * self.Nlayers\n",
    "        # 2. Start each epoch\n",
    "        for m in range(para[\"Nepoch\"]):\n",
    "            # 2a. Draw Kr samples randomly from X for current epoch\n",
    "            ide  = np.random.choice(range(K),Kr)\n",
    "            Xr = X[ide,:]\n",
    "            Lr = y[ide,:]\n",
    "\n",
    "            # 2b. feed forward output and error\n",
    "            self.ffnet(Xr)\n",
    "            # 2c. Delta Error Back-Propagation\n",
    "            # compute output error and delta errors at each layer\n",
    "            # delta error is computed for each neuron. The bias input is a constant\n",
    "            # and has no parent node. and has no delta error. \n",
    "            error = Lr - self.A[self.Nlayers - 1]\n",
    "            delta[self.Nlayers - 1] = np.multiply(self.Ap[self.Nlayers - 1], error)\n",
    "            for n in reversed(range(self.Nlayers-1)):\n",
    "              # delta{n}=mlp.Ap{n}.*(delta{n+1}*(mlp.W{n+1}(2:end,:))');\n",
    "              delta[n] =np.multiply(self.Ap[n],np.dot(delta[n+1], self.W[n+1][1:,:].T))\n",
    "            # 2d. Weight update\n",
    "            # initialize weight updates dw using delta error\n",
    "            dw[0] = np.zeros((d+1, self.Lsize[0]))\n",
    "            for n in range(1,self.Nlayers):\n",
    "                dw[n] = np.zeros((self.Lsize[n-1] + 1, self.Lsize[n]))\n",
    "\n",
    "            one_mat = np.ones((Kr,1))\n",
    "            dw[0] = np.dot(para[\"LR\"]*np.concatenate((one_mat,Xr),axis=1).T,delta[0]) + np.dot(para[\"Mom\"],dw[0]) + 0.01 * np.random.randn(np.shape(dw[0])[0],np.shape(dw[0])[1])\n",
    "            self.W[0] += dw[0]\n",
    "            for n in range(1,self.Nlayers):\n",
    "                dw[n] = np.dot(para[\"LR\"]*np.concatenate((one_mat,self.A[n - 1]),axis=1).T,delta[n]) + np.dot(para[\"Mom\"],dw[n]) + 0.01 * np.random.randn(np.shape(dw[n])[0],np.shape(dw[n])[1])\n",
    "                self.W[n] += dw[n]\n",
    "                                              \n",
    "\n",
    "    def eval(self, Xr, Lr, Xv, Lv):\n",
    "        # Evaluate the classification error of the network.\n",
    "        Kr, C = np.shape(Lr)\n",
    "        Kv = np.shape(Lv)[0]\n",
    "        Ic = np.eye(C)\n",
    "    \n",
    "        self.ffnet(Xr)\n",
    "        out = self.A[self.Nlayers -1]\n",
    "        err_train  = Lr - out\n",
    "        er = np.sum(np.square(np.sum(err_train))) / np.dot(Kr, C)\n",
    "        idx = np.argmax(out,axis=1).flatten()\n",
    "        Cmatr = np.dot(Lr.T, Ic[idx, :])\n",
    "\n",
    "        self.ffnet(Xv)\n",
    "        out = self.A[self.Nlayers - 1]\n",
    "        err_test = Lv - out\n",
    "        et = np.sum(np.square(np.sum(err_test))) / np.dot(Kv, C)\n",
    "        idx = np.argmax(out,axis=1).flatten()\n",
    "        Cmatt = np.dot(Lv.T, Ic[idx,:])\n",
    "\n",
    "        return er, et, Cmatr, Cmatt\n",
    "  \n",
    "    def ffnet(self, X):\n",
    "        # Feed data forward through the network.\n",
    "        K = np.shape(X)[0]\n",
    "        one_mat = np.ones((K,1))\n",
    "        u = np.dot(np.concatenate((one_mat,X),axis=1),self.W[0])\n",
    "        self.A[0], self.Ap[0] = actfn(u,self.ActFn[0])\n",
    "        for n in range(1,self.Nlayers):\n",
    "            u = np.dot(np.concatenate((one_mat,self.A[n-1]),axis=1),self.W[n])\n",
    "            self.A[n], self.Ap[n] = actfn(u,self.ActFn[n])"
   ]
  },
  {
   "cell_type": "code",
   "execution_count": 11,
   "metadata": {},
   "outputs": [],
   "source": [
    "para = {}\n",
    "para[\"LR\"] = 0.1\n",
    "para[\"Mom\"] = 0.8\n",
    "para[\"epoch\"] = 10\n",
    "para[\"Nepoch\"] = 10"
   ]
  },
  {
   "cell_type": "code",
   "execution_count": 12,
   "metadata": {
    "scrolled": false
   },
   "outputs": [
    {
     "name": "stdout",
     "output_type": "stream",
     "text": [
      "Training Confusion Matrix: \n",
      "[[172.  28.]\n",
      " [ 54. 146.]]\n",
      "Epoch #: 100\n",
      "Validation Confusion Matrix: \n",
      "[[48.  2.]\n",
      " [14. 36.]]\n",
      "Training Confusion Matrix: \n",
      "[[172.  28.]\n",
      " [ 58. 142.]]\n",
      "Epoch #: 200\n",
      "Validation Confusion Matrix: \n",
      "[[47.  3.]\n",
      " [14. 36.]]\n",
      "Training Confusion Matrix: \n",
      "[[172.  28.]\n",
      " [ 53. 147.]]\n",
      "Epoch #: 300\n",
      "Validation Confusion Matrix: \n",
      "[[47.  3.]\n",
      " [13. 37.]]\n",
      "Training Confusion Matrix: \n",
      "[[184.  16.]\n",
      " [ 59. 141.]]\n",
      "Epoch #: 400\n",
      "Validation Confusion Matrix: \n",
      "[[48.  2.]\n",
      " [19. 31.]]\n",
      "Training Confusion Matrix: \n",
      "[[172.  28.]\n",
      " [ 42. 158.]]\n",
      "Epoch #: 500\n",
      "Validation Confusion Matrix: \n",
      "[[46.  4.]\n",
      " [14. 36.]]\n",
      "Training Confusion Matrix: \n",
      "[[157.  43.]\n",
      " [ 35. 165.]]\n",
      "Epoch #: 600\n",
      "Validation Confusion Matrix: \n",
      "[[45.  5.]\n",
      " [12. 38.]]\n",
      "Training Confusion Matrix: \n",
      "[[174.  26.]\n",
      " [ 45. 155.]]\n",
      "Epoch #: 700\n",
      "Validation Confusion Matrix: \n",
      "[[47.  3.]\n",
      " [18. 32.]]\n",
      "Training Confusion Matrix: \n",
      "[[180.  20.]\n",
      " [ 47. 153.]]\n",
      "Epoch #: 800\n",
      "Validation Confusion Matrix: \n",
      "[[48.  2.]\n",
      " [17. 33.]]\n",
      "Training Confusion Matrix: \n",
      "[[172.  28.]\n",
      " [ 45. 155.]]\n",
      "Epoch #: 900\n",
      "Validation Confusion Matrix: \n",
      "[[47.  3.]\n",
      " [17. 33.]]\n",
      "Reached Max iteration #: 99, Stop!\n"
     ]
    },
    {
     "data": {
      "image/png": "[encoded data removed]",
      "text/plain": [
       "<Figure size 432x288 with 1 Axes>"
      ]
     },
     "metadata": {
      "needs_background": "light"
     },
     "output_type": "display_data"
    }
   ],
   "source": [
    "import matplotlib.pyplot as plt\n",
    "\n",
    "fnet = mlpdef(d,C,[4, C], [2,1])\n",
    "\n",
    "Xr = X[Ir[0],:]\n",
    "Lr = Label[Ir[0],:]\n",
    "Xv = X[Iv[0],:]\n",
    "Lv = Label[Iv[0],:]\n",
    "\n",
    "Converged = False\n",
    "iter = 0\n",
    "itermax = 100\n",
    "Er = np.zeros(itermax)\n",
    "Et = np.zeros(itermax)\n",
    "while not Converged:\n",
    "    iter = iter + 1\n",
    "    fnet.train(Xr, Lr, para)\n",
    "    Er[iter], Et[iter],Cmatr, Cmatt = fnet.eval(Xr,Lr, Xv, Lv)\n",
    "    if (iter % 10) == 0:\n",
    "        print(\"Training Confusion Matrix: \\n\" + str(Cmatr))\n",
    "        print(\"Epoch #: \" + str(iter * para[\"Nepoch\"]))\n",
    "        print(\"Validation Confusion Matrix: \\n\" + str(Cmatt))\n",
    "\n",
    "    if iter >= itermax - 1:\n",
    "        Converged = True\n",
    "        print(\"Reached Max iteration #: \" + str(iter) + \", Stop!\")\n",
    "\n",
    "plt.plot(range(iter), Er[range(iter)],'r')\n",
    "plt.plot(range(iter), Et[range(iter)],'b')\n",
    "plt.show()"
   ]
  },
  {
   "cell_type": "code",
   "execution_count": 13,
   "metadata": {},
   "outputs": [
    {
     "name": "stdout",
     "output_type": "stream",
     "text": [
      "Testing Confusion Matrix: \n",
      "[[221.  29.]\n",
      " [ 73. 177.]]\n"
     ]
    }
   ],
   "source": [
    "X = test[:,0:2]\n",
    "[K,d]  = np.shape(X)\n",
    "\n",
    "C = 2\n",
    "\n",
    "Label = np.mat([test[:,2] == 1, test[:,2] == 0]).T\n",
    "\n",
    "Er, Et,Cmatr, Cmatt = fnet.eval(X,Label, X, Label)\n",
    "print(\"Testing Confusion Matrix: \\n\" + str(Cmatr))"
   ]
  },
  {
   "cell_type": "markdown",
   "metadata": {},
   "source": [
    "## Problem 2"
   ]
  },
  {
   "cell_type": "code",
   "execution_count": 14,
   "metadata": {},
   "outputs": [],
   "source": [
    "from sklearn.neural_network import MLPClassifier"
   ]
  },
  {
   "cell_type": "code",
   "execution_count": 15,
   "metadata": {},
   "outputs": [
    {
     "name": "stderr",
     "output_type": "stream",
     "text": [
      "/home/hp/.local/lib/python3.6/site-packages/sklearn/neural_network/_multilayer_perceptron.py:934: DataConversionWarning: A column-vector y was passed when a 1d array was expected. Please change the shape of y to (n_samples, ), for example using ravel().\n",
      "  y = column_or_1d(y, warn=True)\n"
     ]
    },
    {
     "data": {
      "text/plain": [
       "MLPClassifier(activation='relu', alpha=0.0001, batch_size='auto', beta_1=0.9,\n",
       "              beta_2=0.999, early_stopping=False, epsilon=1e-08,\n",
       "              hidden_layer_sizes=(4, 4), learning_rate='constant',\n",
       "              learning_rate_init=0.001, max_fun=15000, max_iter=200,\n",
       "              momentum=0.9, n_iter_no_change=10, nesterovs_momentum=True,\n",
       "              power_t=0.5, random_state=1, shuffle=True, solver='lbfgs',\n",
       "              tol=0.0001, validation_fraction=0.1, verbose=False,\n",
       "              warm_start=False)"
      ]
     },
     "execution_count": 15,
     "metadata": {},
     "output_type": "execute_result"
    }
   ],
   "source": [
    "X = train[:,0:2]\n",
    "\n",
    "Label = train[:,2:3]\n",
    "\n",
    "clf = MLPClassifier(solver='lbfgs', alpha=1e-4, hidden_layer_sizes=(4, 4), random_state=1)\n",
    "\n",
    "clf.fit(X, Label)"
   ]
  },
  {
   "cell_type": "code",
   "execution_count": 16,
   "metadata": {},
   "outputs": [
    {
     "data": {
      "text/plain": [
       "array([1., 0., 1., 1., 1., 1., 1., 1., 1., 1., 1., 0., 1., 1., 1., 1., 1.,\n",
       "       1., 1., 1., 1., 1., 1., 1., 1., 1., 1., 1., 1., 1., 1., 1., 1., 1.,\n",
       "       1., 1., 1., 1., 1., 1., 1., 1., 1., 0., 1., 1., 1., 1., 1., 1., 0.,\n",
       "       1., 1., 1., 1., 1., 1., 1., 1., 1., 0., 1., 1., 1., 1., 1., 1., 1.,\n",
       "       1., 1., 0., 1., 1., 1., 1., 1., 1., 1., 0., 1., 0., 1., 0., 1., 1.,\n",
       "       1., 1., 1., 1., 1., 1., 1., 1., 1., 1., 1., 1., 1., 1., 1., 1., 1.,\n",
       "       1., 1., 1., 1., 0., 1., 1., 1., 0., 1., 1., 1., 0., 1., 0., 1., 1.,\n",
       "       1., 0., 1., 1., 1., 1., 1., 1., 1., 1., 1., 1., 1., 1., 1., 1., 1.,\n",
       "       1., 1., 1., 0., 1., 1., 1., 1., 0., 1., 1., 1., 1., 1., 1., 1., 1.,\n",
       "       1., 1., 1., 1., 1., 1., 1., 0., 1., 1., 1., 1., 1., 1., 1., 1., 1.,\n",
       "       0., 1., 1., 1., 1., 1., 1., 1., 1., 1., 1., 0., 1., 1., 0., 1., 1.,\n",
       "       1., 0., 1., 1., 1., 1., 1., 1., 1., 0., 1., 1., 1., 1., 1., 1., 1.,\n",
       "       1., 0., 1., 0., 1., 1., 1., 1., 1., 1., 1., 1., 0., 1., 1., 1., 1.,\n",
       "       1., 1., 1., 1., 1., 1., 1., 1., 1., 1., 1., 0., 1., 1., 1., 1., 1.,\n",
       "       1., 1., 1., 1., 1., 1., 1., 1., 1., 1., 1., 1., 0., 0., 1., 1., 0.,\n",
       "       0., 0., 1., 1., 0., 0., 0., 1., 0., 0., 0., 0., 0., 0., 0., 0., 0.,\n",
       "       1., 1., 1., 0., 0., 0., 1., 0., 0., 0., 0., 1., 0., 0., 0., 1., 0.,\n",
       "       0., 0., 1., 1., 0., 1., 0., 1., 1., 0., 0., 0., 1., 0., 1., 0., 1.,\n",
       "       1., 1., 0., 1., 0., 1., 0., 1., 0., 0., 0., 0., 1., 1., 0., 0., 0.,\n",
       "       0., 0., 1., 1., 1., 0., 0., 0., 0., 0., 0., 0., 0., 1., 0., 0., 0.,\n",
       "       0., 0., 0., 0., 1., 0., 0., 0., 1., 1., 0., 0., 1., 0., 1., 1., 0.,\n",
       "       0., 0., 1., 0., 0., 0., 0., 0., 1., 0., 1., 1., 0., 0., 0., 0., 1.,\n",
       "       0., 0., 0., 0., 0., 0., 0., 0., 0., 1., 0., 0., 0., 0., 1., 0., 0.,\n",
       "       0., 1., 0., 0., 0., 0., 0., 0., 0., 0., 0., 0., 0., 0., 1., 0., 0.,\n",
       "       0., 0., 0., 0., 0., 0., 1., 0., 0., 1., 1., 0., 0., 0., 1., 0., 0.,\n",
       "       0., 0., 1., 0., 0., 0., 0., 0., 0., 0., 0., 0., 1., 0., 0., 1., 0.,\n",
       "       0., 0., 0., 1., 0., 0., 0., 0., 0., 0., 1., 0., 1., 0., 0., 0., 0.,\n",
       "       1., 1., 1., 1., 0., 0., 0., 0., 1., 0., 1., 0., 0., 0., 0., 0., 0.,\n",
       "       0., 0., 0., 0., 1., 0., 0., 0., 0., 1., 0., 0., 1., 0., 1., 0., 0.,\n",
       "       0., 0., 0., 0., 0., 1., 0.])"
      ]
     },
     "execution_count": 16,
     "metadata": {},
     "output_type": "execute_result"
    }
   ],
   "source": [
    "X = test[:,0:2]\n",
    "\n",
    "Label = test[:,2:3]\n",
    "\n",
    "y = clf.predict(X)\n",
    "\n",
    "y"
   ]
  },
  {
   "cell_type": "code",
   "execution_count": 17,
   "metadata": {},
   "outputs": [
    {
     "data": {
      "text/plain": [
       "array([[184,  66],\n",
       "       [ 26, 224]])"
      ]
     },
     "execution_count": 17,
     "metadata": {},
     "output_type": "execute_result"
    }
   ],
   "source": [
    "from sklearn.metrics import confusion_matrix\n",
    "confusion_matrix(Label, y)"
   ]
  },
  {
   "cell_type": "code",
   "execution_count": null,
   "metadata": {},
   "outputs": [],
   "source": []
  }
 ],
 "metadata": {
  "kernelspec": {
   "display_name": "Python 3 (ipykernel)",
   "language": "python",
   "name": "python3"
  },
  "language_info": {
   "codemirror_mode": {
    "name": "ipython",
    "version": 3
   },
   "file_extension": ".py",
   "mimetype": "text/x-python",
   "name": "python",
   "nbconvert_exporter": "python",
   "pygments_lexer": "ipython3",
   "version": "3.8.11"
  }
 },
 "nbformat": 4,
 "nbformat_minor": 4
}
