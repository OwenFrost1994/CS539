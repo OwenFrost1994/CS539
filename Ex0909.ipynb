{
 "cells": [
  {
   "cell_type": "code",
   "execution_count": 87,
   "metadata": {},
   "outputs": [],
   "source": [
    "import pandas as pd\n",
    "import numpy as np\n",
    "from matplotlib import pyplot as plt\n",
    "from scipy.signal import convolve2d\n",
    "from scipy.io import loadmat"
   ]
  },
  {
   "cell_type": "markdown",
   "metadata": {},
   "source": [
    "## Problem 1\n",
    "## (a)"
   ]
  },
  {
   "cell_type": "code",
   "execution_count": 9,
   "metadata": {},
   "outputs": [],
   "source": [
    "data = pd.read_csv('iris.csv',header=None)"
   ]
  },
  {
   "cell_type": "code",
   "execution_count": 10,
   "metadata": {},
   "outputs": [
    {
     "data": {
      "text/html": [
       "<div>\n",
       "<style scoped>\n",
       "    .dataframe tbody tr th:only-of-type {\n",
       "        vertical-align: middle;\n",
       "    }\n",
       "\n",
       "    .dataframe tbody tr th {\n",
       "        vertical-align: top;\n",
       "    }\n",
       "\n",
       "    .dataframe thead th {\n",
       "        text-align: right;\n",
       "    }\n",
       "</style>\n",
       "<table border=\"1\" class=\"dataframe\">\n",
       "  <thead>\n",
       "    <tr style=\"text-align: right;\">\n",
       "      <th></th>\n",
       "      <th>0</th>\n",
       "      <th>1</th>\n",
       "      <th>2</th>\n",
       "      <th>3</th>\n",
       "      <th>4</th>\n",
       "    </tr>\n",
       "  </thead>\n",
       "  <tbody>\n",
       "    <tr>\n",
       "      <th>0</th>\n",
       "      <td>5.1</td>\n",
       "      <td>3.5</td>\n",
       "      <td>1.4</td>\n",
       "      <td>0.2</td>\n",
       "      <td>1</td>\n",
       "    </tr>\n",
       "    <tr>\n",
       "      <th>1</th>\n",
       "      <td>4.9</td>\n",
       "      <td>3.0</td>\n",
       "      <td>1.4</td>\n",
       "      <td>0.2</td>\n",
       "      <td>1</td>\n",
       "    </tr>\n",
       "    <tr>\n",
       "      <th>2</th>\n",
       "      <td>4.7</td>\n",
       "      <td>3.2</td>\n",
       "      <td>1.3</td>\n",
       "      <td>0.2</td>\n",
       "      <td>1</td>\n",
       "    </tr>\n",
       "    <tr>\n",
       "      <th>3</th>\n",
       "      <td>4.6</td>\n",
       "      <td>3.1</td>\n",
       "      <td>1.5</td>\n",
       "      <td>0.2</td>\n",
       "      <td>1</td>\n",
       "    </tr>\n",
       "    <tr>\n",
       "      <th>4</th>\n",
       "      <td>5.0</td>\n",
       "      <td>3.6</td>\n",
       "      <td>1.4</td>\n",
       "      <td>0.2</td>\n",
       "      <td>1</td>\n",
       "    </tr>\n",
       "    <tr>\n",
       "      <th>...</th>\n",
       "      <td>...</td>\n",
       "      <td>...</td>\n",
       "      <td>...</td>\n",
       "      <td>...</td>\n",
       "      <td>...</td>\n",
       "    </tr>\n",
       "    <tr>\n",
       "      <th>145</th>\n",
       "      <td>6.7</td>\n",
       "      <td>3.0</td>\n",
       "      <td>5.2</td>\n",
       "      <td>2.3</td>\n",
       "      <td>3</td>\n",
       "    </tr>\n",
       "    <tr>\n",
       "      <th>146</th>\n",
       "      <td>6.3</td>\n",
       "      <td>2.5</td>\n",
       "      <td>5.0</td>\n",
       "      <td>1.9</td>\n",
       "      <td>3</td>\n",
       "    </tr>\n",
       "    <tr>\n",
       "      <th>147</th>\n",
       "      <td>6.5</td>\n",
       "      <td>3.0</td>\n",
       "      <td>5.2</td>\n",
       "      <td>2.0</td>\n",
       "      <td>3</td>\n",
       "    </tr>\n",
       "    <tr>\n",
       "      <th>148</th>\n",
       "      <td>6.2</td>\n",
       "      <td>3.4</td>\n",
       "      <td>5.4</td>\n",
       "      <td>2.3</td>\n",
       "      <td>3</td>\n",
       "    </tr>\n",
       "    <tr>\n",
       "      <th>149</th>\n",
       "      <td>5.9</td>\n",
       "      <td>3.0</td>\n",
       "      <td>5.1</td>\n",
       "      <td>1.8</td>\n",
       "      <td>3</td>\n",
       "    </tr>\n",
       "  </tbody>\n",
       "</table>\n",
       "<p>150 rows × 5 columns</p>\n",
       "</div>"
      ],
      "text/plain": [
       "       0    1    2    3  4\n",
       "0    5.1  3.5  1.4  0.2  1\n",
       "1    4.9  3.0  1.4  0.2  1\n",
       "2    4.7  3.2  1.3  0.2  1\n",
       "3    4.6  3.1  1.5  0.2  1\n",
       "4    5.0  3.6  1.4  0.2  1\n",
       "..   ...  ...  ...  ... ..\n",
       "145  6.7  3.0  5.2  2.3  3\n",
       "146  6.3  2.5  5.0  1.9  3\n",
       "147  6.5  3.0  5.2  2.0  3\n",
       "148  6.2  3.4  5.4  2.3  3\n",
       "149  5.9  3.0  5.1  1.8  3\n",
       "\n",
       "[150 rows x 5 columns]"
      ]
     },
     "execution_count": 10,
     "metadata": {},
     "output_type": "execute_result"
    }
   ],
   "source": [
    "data"
   ]
  },
  {
   "cell_type": "code",
   "execution_count": 37,
   "metadata": {},
   "outputs": [],
   "source": [
    "M1 = data[data.iloc[:,4] == 1].iloc[:,0:4]\n",
    "M2 = data[data.iloc[:,4] == 2].iloc[:,0:4]\n",
    "M3 = data[data.iloc[:,4] == 3].iloc[:,0:4]"
   ]
  },
  {
   "cell_type": "markdown",
   "metadata": {},
   "source": [
    "## (b)"
   ]
  },
  {
   "cell_type": "code",
   "execution_count": 38,
   "metadata": {},
   "outputs": [
    {
     "data": {
      "text/plain": [
       "(50, 4)"
      ]
     },
     "execution_count": 38,
     "metadata": {},
     "output_type": "execute_result"
    }
   ],
   "source": [
    "M1.shape"
   ]
  },
  {
   "cell_type": "code",
   "execution_count": 39,
   "metadata": {},
   "outputs": [
    {
     "data": {
      "text/plain": [
       "(50, 4)"
      ]
     },
     "execution_count": 39,
     "metadata": {},
     "output_type": "execute_result"
    }
   ],
   "source": [
    "M2.shape"
   ]
  },
  {
   "cell_type": "code",
   "execution_count": 40,
   "metadata": {},
   "outputs": [
    {
     "data": {
      "text/plain": [
       "(50, 4)"
      ]
     },
     "execution_count": 40,
     "metadata": {},
     "output_type": "execute_result"
    }
   ],
   "source": [
    "M3.shape"
   ]
  },
  {
   "cell_type": "code",
   "execution_count": 42,
   "metadata": {},
   "outputs": [
    {
     "data": {
      "text/plain": [
       "0    5.8\n",
       "1    4.4\n",
       "2    1.9\n",
       "3    0.6\n",
       "dtype: float64"
      ]
     },
     "execution_count": 42,
     "metadata": {},
     "output_type": "execute_result"
    }
   ],
   "source": [
    "M1.max()"
   ]
  },
  {
   "cell_type": "code",
   "execution_count": 43,
   "metadata": {},
   "outputs": [
    {
     "data": {
      "text/plain": [
       "0    4.3\n",
       "1    2.3\n",
       "2    1.0\n",
       "3    0.1\n",
       "dtype: float64"
      ]
     },
     "execution_count": 43,
     "metadata": {},
     "output_type": "execute_result"
    }
   ],
   "source": [
    "M1.min()"
   ]
  },
  {
   "cell_type": "code",
   "execution_count": 44,
   "metadata": {},
   "outputs": [
    {
     "data": {
      "text/plain": [
       "0    5.006\n",
       "1    3.418\n",
       "2    1.464\n",
       "3    0.244\n",
       "dtype: float64"
      ]
     },
     "execution_count": 44,
     "metadata": {},
     "output_type": "execute_result"
    }
   ],
   "source": [
    "M1.mean()"
   ]
  },
  {
   "cell_type": "code",
   "execution_count": 45,
   "metadata": {},
   "outputs": [
    {
     "data": {
      "text/plain": [
       "0    7.0\n",
       "1    3.4\n",
       "2    5.1\n",
       "3    1.8\n",
       "dtype: float64"
      ]
     },
     "execution_count": 45,
     "metadata": {},
     "output_type": "execute_result"
    }
   ],
   "source": [
    "M2.max()"
   ]
  },
  {
   "cell_type": "code",
   "execution_count": 46,
   "metadata": {},
   "outputs": [
    {
     "data": {
      "text/plain": [
       "0    4.9\n",
       "1    2.0\n",
       "2    3.0\n",
       "3    1.0\n",
       "dtype: float64"
      ]
     },
     "execution_count": 46,
     "metadata": {},
     "output_type": "execute_result"
    }
   ],
   "source": [
    "M2.min()"
   ]
  },
  {
   "cell_type": "code",
   "execution_count": 47,
   "metadata": {},
   "outputs": [
    {
     "data": {
      "text/plain": [
       "0    5.936\n",
       "1    2.770\n",
       "2    4.260\n",
       "3    1.326\n",
       "dtype: float64"
      ]
     },
     "execution_count": 47,
     "metadata": {},
     "output_type": "execute_result"
    }
   ],
   "source": [
    "M2.mean()"
   ]
  },
  {
   "cell_type": "code",
   "execution_count": 48,
   "metadata": {},
   "outputs": [
    {
     "data": {
      "text/plain": [
       "0    7.9\n",
       "1    3.8\n",
       "2    6.9\n",
       "3    2.5\n",
       "dtype: float64"
      ]
     },
     "execution_count": 48,
     "metadata": {},
     "output_type": "execute_result"
    }
   ],
   "source": [
    "M3.max()"
   ]
  },
  {
   "cell_type": "code",
   "execution_count": 49,
   "metadata": {},
   "outputs": [
    {
     "data": {
      "text/plain": [
       "0    4.9\n",
       "1    2.2\n",
       "2    4.5\n",
       "3    1.4\n",
       "dtype: float64"
      ]
     },
     "execution_count": 49,
     "metadata": {},
     "output_type": "execute_result"
    }
   ],
   "source": [
    "M3.min()"
   ]
  },
  {
   "cell_type": "code",
   "execution_count": 50,
   "metadata": {},
   "outputs": [
    {
     "data": {
      "text/plain": [
       "0    6.588\n",
       "1    2.974\n",
       "2    5.552\n",
       "3    2.026\n",
       "dtype: float64"
      ]
     },
     "execution_count": 50,
     "metadata": {},
     "output_type": "execute_result"
    }
   ],
   "source": [
    "M3.mean()"
   ]
  },
  {
   "cell_type": "markdown",
   "metadata": {},
   "source": [
    "## (c)"
   ]
  },
  {
   "cell_type": "code",
   "execution_count": 82,
   "metadata": {},
   "outputs": [
    {
     "data": {
      "text/plain": [
       "Text(0.5, 1.0, 'Iris Data (red=setosa,green=versicolor,blue=virginica)')"
      ]
     },
     "execution_count": 82,
     "metadata": {},
     "output_type": "execute_result"
    },
    {
     "data": {
      "image/png": "[encoded data removed]",
      "text/plain": [
       "<Figure size 1152x1152 with 16 Axes>"
      ]
     },
     "metadata": {
      "needs_background": "light"
     },
     "output_type": "display_data"
    }
   ],
   "source": [
    "fig, ax = plt.subplots(4,4,figsize=(16,16))\n",
    "Label = ['Sepal.Length', 'Sepal.Width', 'Petal.Length', 'Petal.Width']\n",
    "for i in range(4):\n",
    "    for j in range(4):\n",
    "        if i != j: \n",
    "            ax[i,j].plot(M1.iloc[:,j],M1.iloc[:,i], 'ro')\n",
    "            ax[i,j].plot(M2.iloc[:,j],M2.iloc[:,i], 'go')\n",
    "            ax[i,j].plot(M3.iloc[:,j],M3.iloc[:,i], 'bo')\n",
    "        else:\n",
    "            ax[i,j].text(0.25, 0.5, Label[i], size = 15)\n",
    "\n",
    "ax[0,1].set_title('Iris Data (red=setosa,green=versicolor,blue=virginica)',fontsize=24,color='k')"
   ]
  },
  {
   "cell_type": "markdown",
   "metadata": {},
   "source": [
    "## Problem 2\n",
    "## (a)"
   ]
  },
  {
   "cell_type": "code",
   "execution_count": 98,
   "metadata": {},
   "outputs": [
    {
     "name": "stdout",
     "output_type": "stream",
     "text": [
      "A = \n",
      "[[4 9 4 5 6]\n",
      " [8 3 6 8 5]\n",
      " [6 8 1 9 0]\n",
      " [5 8 1 1 3]]\n",
      "B = \n",
      "[[ 0 -1  0]\n",
      " [-1  4 -1]\n",
      " [ 0 -1  0]]\n",
      "C = \n",
      "[[ -1  25  -4   2  14]\n",
      " [ 19 -19   8   7   6]\n",
      " [  3  14 -20  26 -17]\n",
      " [  6  18  -6  -9  11]]\n"
     ]
    }
   ],
   "source": [
    "F = 3                 # The size of our filter\n",
    "P = int((F - 1)/2)    # Padding Length\n",
    "\n",
    "H = 4\n",
    "W = 5\n",
    "\n",
    "A = np.mat([[4,9,4,5,6],[8,3,6,8,5],[6,8,1,9,0],[5,8,1,1,3]])\n",
    "# Laplacian Filter\n",
    "B = np.mat([[0,-1,0],[-1,4,-1],[0,-1,0]])\n",
    "\n",
    "print(\"A = \\n\" + str(A))\n",
    "print(\"B = \\n\" + str(B))\n",
    "\n",
    "# Now perform 2D convolution\n",
    "C0 = convolve2d(A,B)\n",
    "C = C0[P:-P,P:-P]\n",
    "\n",
    "print(\"C = \\n\" + str(C))"
   ]
  },
  {
   "cell_type": "markdown",
   "metadata": {},
   "source": [
    "## (b)"
   ]
  },
  {
   "cell_type": "code",
   "execution_count": 89,
   "metadata": {},
   "outputs": [
    {
     "name": "stdout",
     "output_type": "stream",
     "text": [
      "A = \n",
      "[[ 8.  3.  8. 10.  7.]\n",
      " [ 1.  5.  6.  4.  9.]\n",
      " [ 2.  1.  3.  2.  4.]\n",
      " [ 6.  9.  1.  2.  9.]]\n",
      "B = \n",
      "[[ 0 -1  0]\n",
      " [-1  4 -1]\n",
      " [ 0 -1  0]]\n",
      "C = \n",
      "[[ 28.  -9.  13.  21.   9.]\n",
      " [-11.   9.   4. -11.  21.]\n",
      " [  0. -15.   2.  -5.  -4.]\n",
      " [ 13.  28. -10.  -4.  30.]]\n"
     ]
    }
   ],
   "source": [
    "A = np.round(10*np.random.rand(H,W),0)\n",
    "print(\"A = \\n\" + str(A))\n",
    "print(\"B = \\n\" + str(B))\n",
    "\n",
    "# Now perform 2D convolution\n",
    "C0 = convolve2d(A,B)\n",
    "C = C0[P:-P,P:-P]\n",
    "\n",
    "print(\"C = \\n\" + str(C))"
   ]
  },
  {
   "cell_type": "markdown",
   "metadata": {},
   "source": [
    "## Problem 3"
   ]
  },
  {
   "cell_type": "markdown",
   "metadata": {},
   "source": [
    "### $w = [1, 2]^T$ and $b=-1$\n",
    "### $x^*w +b = 3-1=2$\n",
    "### $r = -(x^*w +b)/|w|=-2/\\sqrt5$"
   ]
  },
  {
   "cell_type": "markdown",
   "metadata": {},
   "source": [
    "### $x^*$ is over the line and the $r$ is negative. So the plus sign of the calculated value of $r$ means the $x^*$ is close to the origin point or on the side of line close to the origin point. The minus sign of $r$ means the $x^*$ is on the side of line far from the origin point."
   ]
  },
  {
   "cell_type": "code",
   "execution_count": 100,
   "metadata": {},
   "outputs": [
    {
     "name": "stdout",
     "output_type": "stream",
     "text": [
      "A = \n",
      "[[4 9 4 5 6]\n",
      " [8 3 6 8 5]\n",
      " [6 8 1 9 0]\n",
      " [5 8 1 1 3]]\n",
      "B = \n",
      "[[ 1  0 -1]\n",
      " [ 2  0 -2]\n",
      " [ 1  0 -1]]\n",
      "C = \n",
      "[[ 21  -2  -3   3 -18]\n",
      " [ 23  -9   7  -1 -30]\n",
      " [ 27 -16   0  -1 -27]\n",
      " [ 24 -13 -13   3 -11]]\n"
     ]
    }
   ],
   "source": [
    "F = 3                 # The size of our filter\n",
    "P = int((F - 1)/2)    # Padding Length\n",
    "\n",
    "H = 4\n",
    "W = 5\n",
    "\n",
    "A = np.mat([[4,9,4,5,6],[8,3,6,8,5],[6,8,1,9,0],[5,8,1,1,3]])\n",
    "B = np.mat([[1,0,-1],[2,0,-2],[1,0,-1]])\n",
    "\n",
    "print(\"A = \\n\" + str(A))\n",
    "print(\"B = \\n\" + str(B))\n",
    "\n",
    "# Now perform 2D convolution\n",
    "C0 = convolve2d(A,B)\n",
    "C = C0[P:-P,P:-P]\n",
    "\n",
    "print(\"C = \\n\" + str(C))"
   ]
  },
  {
   "cell_type": "code",
   "execution_count": 95,
   "metadata": {},
   "outputs": [
    {
     "data": {
      "text/plain": [
       "array([[  4,   9,   0,  -4,   2,  -5,  -6],\n",
       "       [ 16,  21,  -2,  -3,   3, -18, -17],\n",
       "       [ 26,  23,  -9,   7,  -1, -30, -16],\n",
       "       [ 25,  27, -16,   0,  -1, -27,  -8],\n",
       "       [ 16,  24, -13, -13,   3, -11,  -6],\n",
       "       [  5,   8,  -4,  -7,   2,  -1,  -3]])"
      ]
     },
     "execution_count": 95,
     "metadata": {},
     "output_type": "execute_result"
    }
   ],
   "source": [
    "C0"
   ]
  },
  {
   "cell_type": "code",
   "execution_count": null,
   "metadata": {},
   "outputs": [],
   "source": []
  },
  {
   "cell_type": "code",
   "execution_count": null,
   "metadata": {},
   "outputs": [],
   "source": []
  }
 ],
 "metadata": {
  "kernelspec": {
   "display_name": "Python 3",
   "language": "python",
   "name": "python3"
  },
  "language_info": {
   "codemirror_mode": {
    "name": "ipython",
    "version": 3
   },
   "file_extension": ".py",
   "mimetype": "text/x-python",
   "name": "python",
   "nbconvert_exporter": "python",
   "pygments_lexer": "ipython3",
   "version": "3.6.9"
  }
 },
 "nbformat": 4,
 "nbformat_minor": 4
}
