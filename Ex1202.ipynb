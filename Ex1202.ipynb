{
 "cells": [
  {
   "cell_type": "code",
   "execution_count": 1,
   "metadata": {},
   "outputs": [],
   "source": [
    "from math import cos\n",
    "from math import sin\n",
    "from math import pi\n",
    "from random import shuffle\n",
    "from sklearn.metrics.pairwise import euclidean_distances\n",
    "import numpy as np\n",
    "\n",
    "N = 5\n",
    "citynames = ['Madison', 'Minneapolis', 'Chicago', 'Greenbay', 'Iowacity']\n",
    "citydistances = np.array([[0,270,150,140,175],\n",
    "       [270,0,408,280,304],\n",
    "       [150,408,0,211,221],\n",
    "       [140,280,211,0,315],\n",
    "       [175,304,221,315,0]]) # a matrix containing city to city distance"
   ]
  },
  {
   "cell_type": "code",
   "execution_count": 2,
   "metadata": {},
   "outputs": [
    {
     "data": {
      "text/plain": [
       "array([[  0, 270, 150, 140, 175],\n",
       "       [270,   0, 408, 280, 304],\n",
       "       [150, 408,   0, 211, 221],\n",
       "       [140, 280, 211,   0, 315],\n",
       "       [175, 304, 221, 315,   0]])"
      ]
     },
     "execution_count": 2,
     "metadata": {},
     "output_type": "execute_result"
    }
   ],
   "source": [
    "citydistances"
   ]
  },
  {
   "cell_type": "code",
   "execution_count": 3,
   "metadata": {},
   "outputs": [],
   "source": [
    "########################################### \n",
    "# Genetic Search\n",
    "ngen = 1000\n",
    "ngpool = N\n",
    "\n",
    "gpool = np.zeros((ngpool,N)).astype('int')\n",
    " \n",
    "for i in range(ngpool):\n",
    "  # We ensure that the first element remains 0\n",
    "#  if i == 0:\n",
    "#    gpool[i] = range(N)\n",
    "#  else:\n",
    "    gpool[i,1:] = (np.random.permutation(N-1) + 1)\n",
    "\n",
    "    costmin = N\n",
    "    tourmin = np.zeros(N)\n",
    "    cost = np.zeros(ngpool)\n",
    "for i in range(ngen):\n",
    "    # step 1. evaluate the fitness of current chromosomes\n",
    "    # for tsp problem it is the trip length. the smaller the better\n",
    "    for j in range(ngpool):\n",
    "        id_shift = gpool[j,-1:].tolist() + gpool[j,:-1].tolist()\n",
    "        cost[j] = np.sum(np.diag(citydistances[gpool[j,:].tolist(),id_shift]))\n",
    "\n",
    "    # Record the current best solution\n",
    "    costmin = np.amin(cost)\n",
    "    idx = np.argmin(cost)\n",
    "    tourmin = gpool[idx,:]\n",
    "\n",
    "    #print(cost)\n",
    "    #print(costmin)\n",
    "    # step 2. cross breeding and mutation\n",
    "    # since each chromosome is an integer vector, cross breeding\n",
    "    # can not be done simply by combining binary vectors. \n",
    "    # Instead, we let the off-spring to keep the common genes of\n",
    "    # the parents, and randomly shuffle genes when parents disagree\n",
    "    # for simplicity, we only cross-breed the two best solutions. \n",
    "\n",
    "    ridx = sorted(range(len(cost)), key=lambda k: cost[k])\n",
    "\n",
    "\n",
    "    # parents\n",
    "    mother = gpool[ridx[0],:]\n",
    "    father = gpool[ridx[1],:]\n",
    "    # find index of genes that are the same in father and mother\n",
    "    sameidx = father == mother\n",
    "    diffidx = np.nonzero(1 - sameidx)[0]\n",
    "\n",
    "\n",
    "    if len(diffidx <= 4): # father and mother too close!\n",
    "      # do mutation\n",
    "        boy = [0] + (np.random.permutation(N-1) + 1).tolist()\n",
    "        girl = [0] + (np.random.permutation(N-1) + 1).tolist()\n",
    "    else:\n",
    "        boy = father * sameidx\n",
    "        boy[diffidx] = father[diffidx[np.random.permutation(len(diffidx))]]\n",
    "        girl = mother * sameidx\n",
    "        girl[diffidx] = mother[diffidx[np.random.permutation(len(diffidx))]]\n",
    "  \n",
    "    #Replace the worst two\n",
    "    gpool[ridx[-2]] = boy\n",
    "    gpool[ridx[-1]] = girl"
   ]
  },
  {
   "cell_type": "code",
   "execution_count": 4,
   "metadata": {},
   "outputs": [
    {
     "name": "stdout",
     "output_type": "stream",
     "text": [
      "cost function evaluation: 2005 times!\n",
      "Minimum trip length = 1095.0\n",
      "optimum tour = [0 2 4 1 3]\n"
     ]
    }
   ],
   "source": [
    "print(\"cost function evaluation: \" + str(ngen*2 + ngpool) + \" times!\")\n",
    "print(\"Minimum trip length = \" + str(costmin))\n",
    "print(\"optimum tour = \" + str(tourmin))"
   ]
  },
  {
   "cell_type": "code",
   "execution_count": 5,
   "metadata": {},
   "outputs": [],
   "source": [
    "citylist = [];\n",
    "for i in range(N):\n",
    "    citylist.append(citynames[tourmin[i]])"
   ]
  },
  {
   "cell_type": "code",
   "execution_count": 6,
   "metadata": {},
   "outputs": [
    {
     "name": "stdout",
     "output_type": "stream",
     "text": [
      "The corresponding cities ['Madison', 'Chicago', 'Iowacity', 'Minneapolis', 'Greenbay']\n"
     ]
    }
   ],
   "source": [
    "print(\"The corresponding cities\",citylist)"
   ]
  },
  {
   "cell_type": "code",
   "execution_count": null,
   "metadata": {},
   "outputs": [],
   "source": []
  }
 ],
 "metadata": {
  "kernelspec": {
   "display_name": "Python 3",
   "language": "python",
   "name": "python3"
  },
  "language_info": {
   "codemirror_mode": {
    "name": "ipython",
    "version": 3
   },
   "file_extension": ".py",
   "mimetype": "text/x-python",
   "name": "python",
   "nbconvert_exporter": "python",
   "pygments_lexer": "ipython3",
   "version": "3.6.9"
  },
  "varInspector": {
   "cols": {
    "lenName": 16,
    "lenType": 16,
    "lenVar": 40
   },
   "kernels_config": {
    "python": {
     "delete_cmd_postfix": "",
     "delete_cmd_prefix": "del ",
     "library": "var_list.py",
     "varRefreshCmd": "print(var_dic_list())"
    },
    "r": {
     "delete_cmd_postfix": ") ",
     "delete_cmd_prefix": "rm(",
     "library": "var_list.r",
     "varRefreshCmd": "cat(var_dic_list()) "
    }
   },
   "types_to_exclude": [
    "module",
    "function",
    "builtin_function_or_method",
    "instance",
    "_Feature"
   ],
   "window_display": false
  }
 },
 "nbformat": 4,
 "nbformat_minor": 4
}
