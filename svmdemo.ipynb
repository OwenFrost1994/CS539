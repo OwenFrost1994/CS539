{
 "cells": [
  {
   "cell_type": "markdown",
   "metadata": {
    "id": "uU_mON-K7doT"
   },
   "source": [
    "#SVM Demo\n",
    "We use LibSVM programs to perform pattern classification using the iris dataset."
   ]
  },
  {
   "cell_type": "code",
   "execution_count": 98,
   "metadata": {
    "id": "Tdctfoub7a8L"
   },
   "outputs": [],
   "source": [
    "import pandas as pd\n",
    "import numpy as  np\n",
    "\n",
    "# Load Data\n",
    "tmp = pd.read_csv('/content/iris.csv',header=None).to_numpy()\n",
    "X = tmp[:,2:4]\n",
    "y = (tmp[:,4] == 1).astype('float')\n",
    "K = X.shape[0]"
   ]
  },
  {
   "cell_type": "markdown",
   "metadata": {
    "id": "t8C9c0KAjfyG"
   },
   "source": []
  },
  {
   "cell_type": "code",
   "execution_count": 96,
   "metadata": {
    "colab": {
     "base_uri": "https://localhost:8080/"
    },
    "id": "eOocQh2-7qsq",
    "outputId": "751df8d2-f784-4eb3-e8f9-f24c09b336f4"
   },
   "outputs": [
    {
     "data": {
      "text/plain": [
       "SVC(C=0.25, break_ties=False, cache_size=200, class_weight=None, coef0=0.0,\n",
       "    decision_function_shape='ovr', degree=3, gamma='scale', kernel='linear',\n",
       "    max_iter=-1, probability=False, random_state=None, shrinking=True,\n",
       "    tol=0.001, verbose=False)"
      ]
     },
     "execution_count": 96,
     "metadata": {
      "tags": []
     },
     "output_type": "execute_result"
    }
   ],
   "source": [
    "from sklearn import svm\n",
    "## Fit an SVM classifier. We can specify the \n",
    "\n",
    "clf = svm.SVC(kernel='linear',C=0.25)\n",
    "clf.fit(X, y)\n"
   ]
  },
  {
   "cell_type": "code",
   "execution_count": 109,
   "metadata": {
    "colab": {
     "base_uri": "https://localhost:8080/"
    },
    "id": "89mL1ijBAkv3",
    "outputId": "5c50b5fa-3bb7-4a38-e26f-630bfaee5f86"
   },
   "outputs": [
    {
     "name": "stdout",
     "output_type": "stream",
     "text": [
      "Number of Support Vectors for each class: [3 3]\n",
      "Chosen Support Vectors: \n",
      "[[3.3 1. ]\n",
      " [3.3 1. ]\n",
      " [3.  1.1]\n",
      " [1.7 0.5]\n",
      " [1.9 0.2]\n",
      " [1.9 0.4]]\n",
      "Index of chosen Support Vectors: [57 93 98 23 24 44]\n",
      "Labels of Support Vectors: [0. 0. 0. 1. 1. 1.]\n",
      "f: [[-0.25 -0.25 -0.25  0.25  0.25  0.25]]\n"
     ]
    }
   ],
   "source": [
    "# We now explore a bit about the model\n",
    "i0 = clf.support_          # indices of support vectors\n",
    "nsv = clf.n_support_       # number of support vectors in class 0 and class 1\n",
    "sv = clf.support_vectors_  # Support Vectors\n",
    "f = clf.dual_coef_        # this is the vector f = alpha.*d\n",
    "\n",
    "\n",
    "print(\"Number of Support Vectors for each class: \" + str(nsv))\n",
    "print(\"Chosen Support Vectors: \\n\" + str(sv))\n",
    "print(\"Index of chosen Support Vectors: \" + str(i0))\n",
    "print(\"Labels of Support Vectors: \" + str(y[i0]))\n",
    "print(\"f: \" + str(f))\n"
   ]
  },
  {
   "cell_type": "code",
   "execution_count": 113,
   "metadata": {
    "colab": {
     "base_uri": "https://localhost:8080/"
    },
    "id": "1rY7ul50scvS",
    "outputId": "fcce51c0-651d-4ede-991a-0446cac24aab"
   },
   "outputs": [
    {
     "name": "stdout",
     "output_type": "stream",
     "text": [
      "w: \n",
      "[[-1.025]\n",
      " [-0.5  ]]\n",
      "b: [2.96750009]\n"
     ]
    }
   ],
   "source": [
    "## Compute hyper-plane parameters\n",
    "w = np.dot(sv.T, f.T)   # Note we need to transpose f as it is stored as a row vector not a column vector\n",
    "b = clf.intercept_\n",
    "\n",
    "print(\"w: \\n\" + str(w))\n",
    "print(\"b: \" + str(b))"
   ]
  },
  {
   "cell_type": "code",
   "execution_count": 100,
   "metadata": {
    "colab": {
     "base_uri": "https://localhost:8080/"
    },
    "id": "vmZ_g9G7DRHT",
    "outputId": "50becb06-5162-4414-c173-23d1bdc86795"
   },
   "outputs": [
    {
     "name": "stdout",
     "output_type": "stream",
     "text": [
      "Accuracy: 100.0%\n"
     ]
    }
   ],
   "source": [
    "## We can test the accuracy of the model using predict\n",
    "# Perform estimation based on the data\n",
    "yhat = clf.predict(X)\n",
    "\n",
    "#Compute Accuracy\n",
    "Acc = 1- np.sum(np.abs(yhat - y))/K\n",
    "print(\"Accuracy: \" + str(100*Acc) + \"%\")"
   ]
  },
  {
   "cell_type": "markdown",
   "metadata": {
    "id": "RxAV-0RPve2K"
   },
   "source": [
    "Finally we can display our decision boundary. We plot the decision boundary, margins, and highlight the support vectors."
   ]
  },
  {
   "cell_type": "code",
   "execution_count": 114,
   "metadata": {
    "colab": {
     "base_uri": "https://localhost:8080/",
     "height": 265
    },
    "id": "HnyzSwZ3NEdJ",
    "outputId": "0f24ef77-fda7-42fe-d358-c4e5c589e77c"
   },
   "outputs": [
    {
     "data": {
      "image/png": "[encoded data removed]",
      "text/plain": [
       "<Figure size 432x288 with 1 Axes>"
      ]
     },
     "metadata": {
      "needs_background": "light",
      "tags": []
     },
     "output_type": "display_data"
    }
   ],
   "source": [
    "plt.scatter(X[:, 0], X[:, 1], c=y, s=30, cmap=plt.cm.Paired)\n",
    "\n",
    "# plot the decision function\n",
    "ax = plt.gca()\n",
    "xlim = ax.get_xlim()\n",
    "ylim = ax.get_ylim()\n",
    "\n",
    "# create grid to evaluate model\n",
    "xx = np.linspace(xlim[0], xlim[1], 30)\n",
    "yy = np.linspace(ylim[0], ylim[1], 30)\n",
    "YY, XX = np.meshgrid(yy, xx)\n",
    "xy = np.vstack([XX.ravel(), YY.ravel()]).T\n",
    "Z = clf.decision_function(xy).reshape(XX.shape)\n",
    "\n",
    "# plot decision boundary and margins\n",
    "ax.contour(XX, YY, Z, colors='k', levels=[-1, 0, 1], alpha=0.5,\n",
    "           linestyles=['--', '-', '--'])\n",
    "# plot support vectors\n",
    "ax.scatter(clf.support_vectors_[:, 0], clf.support_vectors_[:, 1], s=100,\n",
    "           linewidth=1, facecolors='none', edgecolors='k')\n",
    "plt.show()"
   ]
  },
  {
   "cell_type": "markdown",
   "metadata": {
    "id": "qsGedvd5wCLE"
   },
   "source": [
    "For more information about the SVM package, see: \n",
    "\n",
    "https://scikit-learn.org/stable/modules/svm.html\n",
    "\n",
    "https://scikit-learn.org/stable/modules/generated/sklearn.svm.SVC.html"
   ]
  }
 ],
 "metadata": {
  "colab": {
   "collapsed_sections": [],
   "name": "svmdemo.ipynb",
   "provenance": []
  },
  "kernelspec": {
   "display_name": "Python 3",
   "language": "python",
   "name": "python3"
  },
  "language_info": {
   "codemirror_mode": {
    "name": "ipython",
    "version": 3
   },
   "file_extension": ".py",
   "mimetype": "text/x-python",
   "name": "python",
   "nbconvert_exporter": "python",
   "pygments_lexer": "ipython3",
   "version": "3.6.9"
  },
  "varInspector": {
   "cols": {
    "lenName": 16,
    "lenType": 16,
    "lenVar": 40
   },
   "kernels_config": {
    "python": {
     "delete_cmd_postfix": "",
     "delete_cmd_prefix": "del ",
     "library": "var_list.py",
     "varRefreshCmd": "print(var_dic_list())"
    },
    "r": {
     "delete_cmd_postfix": ") ",
     "delete_cmd_prefix": "rm(",
     "library": "var_list.r",
     "varRefreshCmd": "cat(var_dic_list()) "
    }
   },
   "types_to_exclude": [
    "module",
    "function",
    "builtin_function_or_method",
    "instance",
    "_Feature"
   ],
   "window_display": false
  }
 },
 "nbformat": 4,
 "nbformat_minor": 1
}
