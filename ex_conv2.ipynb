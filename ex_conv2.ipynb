{
 "cells": [
  {
   "cell_type": "markdown",
   "metadata": {
    "colab_type": "text",
    "id": "ArlsQOmHQRi3"
   },
   "source": [
    "If using google colab, you need to upload the .mat file before you can use it. This cell won't need to run if you are running jupyter locally. You only need to run it if the ex_conv2data.mat file isn't located where jupyter can find it. "
   ]
  },
  {
   "cell_type": "code",
   "execution_count": null,
   "metadata": {
    "colab": {},
    "colab_type": "code",
    "id": "KDHfZq0yQC3y"
   },
   "outputs": [],
   "source": [
    "from google.colab import files\n",
    "\n",
    "uploaded = files.upload()"
   ]
  },
  {
   "cell_type": "markdown",
   "metadata": {
    "colab_type": "text",
    "id": "IFdBsaHpQrSc"
   },
   "source": [
    "This sell sets up a flag called newdata. When the button is checked, Newdata will return true and we will randomly generate new data. When the button is not checked, we will instead use the .mat file. "
   ]
  },
  {
   "cell_type": "code",
   "execution_count": 9,
   "metadata": {
    "colab": {
     "base_uri": "https://localhost:8080/",
     "height": 49,
     "referenced_widgets": [
      "16fa97ceb24940d0bf8597c2650be5d1",
      "fdc27f8bbbe2409590b9aa2ec0439fa8",
      "99e4e7ee673945a7aff3b251fe3e777a"
     ]
    },
    "colab_type": "code",
    "id": "8BYc7Bu-SfSR",
    "outputId": "b11d03b8-055a-4150-f25e-0a032286ac02"
   },
   "outputs": [
    {
     "data": {
      "application/vnd.jupyter.widget-view+json": {
       "model_id": "16fa97ceb24940d0bf8597c2650be5d1",
       "version_major": 2,
       "version_minor": 0
      },
      "text/plain": [
       "ToggleButton(value=False, description='Randomize Data', icon='check', tooltip='Description')"
      ]
     },
     "metadata": {
      "tags": []
     },
     "output_type": "display_data"
    }
   ],
   "source": [
    "import ipywidgets as widgets\n",
    "\n",
    "# Widget allows us to toggle the randomized data flag on and off. \n",
    "newdata = widgets.ToggleButton(\n",
    "    value=False,\n",
    "    description='Randomize Data',\n",
    "    disabled=False,\n",
    "    button_style='', # 'success', 'info', 'warning', 'danger' or ''\n",
    "    tooltip='Description',\n",
    "    icon='check' # (FontAwesome names without the `fa-` prefix)\n",
    ")\n",
    "newdata\n"
   ]
  },
  {
   "cell_type": "markdown",
   "metadata": {
    "colab_type": "text",
    "id": "KG1ER3GcQ6Bv"
   },
   "source": []
  },
  {
   "cell_type": "code",
   "execution_count": 21,
   "metadata": {
    "colab": {
     "base_uri": "https://localhost:8080/",
     "height": 274
    },
    "colab_type": "code",
    "id": "i4_6GTUyUCIM",
    "outputId": "be8a9abf-5432-409c-81bd-ed475fcc0d91"
   },
   "outputs": [
    {
     "name": "stdout",
     "output_type": "stream",
     "text": [
      "A = \n",
      "[[3. 8. 0. 7. 0.]\n",
      " [4. 5. 0. 2. 1.]\n",
      " [9. 0. 5. 3. 3.]\n",
      " [4. 6. 3. 0. 9.]]\n",
      "B = \n",
      "[[ 0 -1  0]\n",
      " [-1  4 -1]\n",
      " [ 0 -1  0]]\n",
      "C = \n",
      "[[  0.  24. -15.  26.  -8.]\n",
      " [ -1.   8. -12.  -3.  -1.]\n",
      " [ 28. -25.  14.   2.  -1.]\n",
      " [  1.  17.   1. -15.  33.]]\n"
     ]
    }
   ],
   "source": [
    "import numpy as np\n",
    "from scipy.signal import convolve2d\n",
    "from scipy.io import loadmat\n",
    "from google.colab import files\n",
    "\n",
    "\n",
    "F = 3                 # The size of our filter\n",
    "P = int((F - 1)/2)    # Padding Length\n",
    "\n",
    "if newdata.value:\n",
    "  H = 4\n",
    "  W = 5\n",
    "  # Random Matrix\n",
    "  A = np.round(10*np.random.rand(H,W),0)\n",
    "  # Laplacian Filter\n",
    "  B = np.mat([[0,-1,0],[-1,4,-1],[0,-1,0]])\n",
    "else:\n",
    "  # Load from .mat file\n",
    "  mat_dict = loadmat('ex_conv2data.mat')\n",
    "  A = mat_dict['A']\n",
    "  B = mat_dict['B']\n",
    "\n",
    "  \n",
    "\n",
    "\n",
    "print(\"A = \\n\" +str(A))\n",
    "print(\"B = \\n\" + str(B))\n",
    "\n",
    "# Now perform 2D convolution\n",
    "C0 = convolve2d(A,B)\n",
    "C = C0[P:-P,P:-P]\n",
    "\n",
    "print(\"C = \\n\" + str(C))"
   ]
  }
 ],
 "metadata": {
  "colab": {
   "name": "ex_conv2.ipynb",
   "provenance": []
  },
  "kernelspec": {
   "display_name": "Python 3",
   "language": "python",
   "name": "python3"
  },
  "language_info": {
   "codemirror_mode": {
    "name": "ipython",
    "version": 3
   },
   "file_extension": ".py",
   "mimetype": "text/x-python",
   "name": "python",
   "nbconvert_exporter": "python",
   "pygments_lexer": "ipython3",
   "version": "3.6.9"
  },
  "widgets": {
   "application/vnd.jupyter.widget-state+json": {
    "16fa97ceb24940d0bf8597c2650be5d1": {
     "model_module": "@jupyter-widgets/controls",
     "model_name": "ToggleButtonModel",
     "state": {
      "_dom_classes": [],
      "_model_module": "@jupyter-widgets/controls",
      "_model_module_version": "1.5.0",
      "_model_name": "ToggleButtonModel",
      "_view_count": null,
      "_view_module": "@jupyter-widgets/controls",
      "_view_module_version": "1.5.0",
      "_view_name": "ToggleButtonView",
      "button_style": "",
      "description": "Randomize Data",
      "description_tooltip": null,
      "disabled": false,
      "icon": "check",
      "layout": "IPY_MODEL_99e4e7ee673945a7aff3b251fe3e777a",
      "style": "IPY_MODEL_fdc27f8bbbe2409590b9aa2ec0439fa8",
      "tooltip": "Description",
      "value": true
     }
    },
    "99e4e7ee673945a7aff3b251fe3e777a": {
     "model_module": "@jupyter-widgets/base",
     "model_name": "LayoutModel",
     "state": {
      "_model_module": "@jupyter-widgets/base",
      "_model_module_version": "1.2.0",
      "_model_name": "LayoutModel",
      "_view_count": null,
      "_view_module": "@jupyter-widgets/base",
      "_view_module_version": "1.2.0",
      "_view_name": "LayoutView",
      "align_content": null,
      "align_items": null,
      "align_self": null,
      "border": null,
      "bottom": null,
      "display": null,
      "flex": null,
      "flex_flow": null,
      "grid_area": null,
      "grid_auto_columns": null,
      "grid_auto_flow": null,
      "grid_auto_rows": null,
      "grid_column": null,
      "grid_gap": null,
      "grid_row": null,
      "grid_template_areas": null,
      "grid_template_columns": null,
      "grid_template_rows": null,
      "height": null,
      "justify_content": null,
      "justify_items": null,
      "left": null,
      "margin": null,
      "max_height": null,
      "max_width": null,
      "min_height": null,
      "min_width": null,
      "object_fit": null,
      "object_position": null,
      "order": null,
      "overflow": null,
      "overflow_x": null,
      "overflow_y": null,
      "padding": null,
      "right": null,
      "top": null,
      "visibility": null,
      "width": null
     }
    },
    "fdc27f8bbbe2409590b9aa2ec0439fa8": {
     "model_module": "@jupyter-widgets/controls",
     "model_name": "DescriptionStyleModel",
     "state": {
      "_model_module": "@jupyter-widgets/controls",
      "_model_module_version": "1.5.0",
      "_model_name": "DescriptionStyleModel",
      "_view_count": null,
      "_view_module": "@jupyter-widgets/base",
      "_view_module_version": "1.2.0",
      "_view_name": "StyleView",
      "description_width": ""
     }
    }
   }
  }
 },
 "nbformat": 4,
 "nbformat_minor": 1
}
