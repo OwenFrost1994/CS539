{
 "cells": [
  {
   "cell_type": "code",
   "execution_count": 1,
   "metadata": {
    "colab": {
     "base_uri": "https://localhost:8080/",
     "height": 35
    },
    "id": "--G0tntrGhbU",
    "outputId": "4e09bbf7-7160-477e-ff40-4e3053a647d6"
   },
   "outputs": [
    {
     "name": "stdout",
     "output_type": "stream",
     "text": [
      "Mounted at /content/drive\n"
     ]
    }
   ],
   "source": [
    "from google.colab import drive\n",
    "drive.mount('/content/drive')"
   ]
  },
  {
   "cell_type": "markdown",
   "metadata": {
    "id": "6v9-YUXRZds3"
   },
   "source": [
    "# KNN Demo\n",
    "\n",
    "K-nearest neighbor classifier demonstration\n",
    "\n",
    "1) Load Iris data set, we use only the 3rd and 4th feature as feature vectors X, and partition it into 3-way cross validation. We create a 150 x 3 Label matrix so that a class 1 sample  is labeled as 1 0 0 , a class 2 sample 0 1 0 and a class 3 sample 0 0 1.  "
   ]
  },
  {
   "cell_type": "code",
   "execution_count": 30,
   "metadata": {
    "colab": {
     "base_uri": "https://localhost:8080/",
     "height": 295
    },
    "id": "iUht4lhXkzQn",
    "outputId": "4949e472-06bd-442c-cc07-4593d0d566f6"
   },
   "outputs": [
    {
     "data": {
      "image/png": "[encoded data removed]",
      "text/plain": [
       "<Figure size 432x288 with 1 Axes>"
      ]
     },
     "metadata": {
      "needs_background": "light",
      "tags": []
     },
     "output_type": "display_data"
    }
   ],
   "source": [
    "import numpy  as np\n",
    "import pandas as pd\n",
    "import matplotlib.pyplot as plt\n",
    "\n",
    "tmp = pd.read_csv('/content/drive/My Drive/Colab Notebooks/iris.csv',header=None).to_numpy()\n",
    "X = tmp[:,2:4]        # 150 x 2\n",
    "K = np.shape(tmp)[0]  # K = 150 = # of feature vectors, size of training data set.\n",
    "C = 3     # Number of class labels\n",
    "# tmp[:,4] contains labels 1,2, or 3.\n",
    "# Below, we convert the label vector tmp[:,4] to a K x 3 matrix label. \n",
    "# Each row is a 1 in 3 encoding of the corresponding label. \n",
    "Label = [tmp[:,4] == 1, tmp[:,4] == 2, tmp[:,4] == 3]\n",
    "\n",
    "# Scatter plot the 2D data.\n",
    "\n",
    "plt.scatter(X[Label[0],0],X[Label[0],1],c='red')\n",
    "plt.scatter(X[Label[1],0],X[Label[1],1],c='green')\n",
    "plt.scatter(X[Label[2],0],X[Label[2],1],c='blue')\n",
    "plt.xlabel('3rd Feature'), plt.ylabel('4th Feature')\n",
    "plt.title('3rd and 4th dimension of the iris dataset')\n",
    "plt.legend([1,2,3])\n",
    "plt.show()\n",
    "\n"
   ]
  },
  {
   "cell_type": "markdown",
   "metadata": {
    "id": "9TD5rSkFZoJp"
   },
   "source": [
    "2) Use 3 way cross validation to check the Knn performance with above feature and labels. \n",
    "\n",
    "First we partition the indices into 3 nonoverlap partitions"
   ]
  },
  {
   "cell_type": "code",
   "execution_count": 31,
   "metadata": {
    "id": "47Zcgwv1nxEY"
   },
   "outputs": [],
   "source": [
    "Iv = [[]] * 3\n",
    "Ir = [[]] * 3\n",
    "\n",
    "for m in range(3):\n",
    "  Iv[m] = range(m,K,3) # Indices of 10 validation sets.\n",
    "  Ir[m] = np.setdiff1d(range(K),Iv[m])\n"
   ]
  },
  {
   "cell_type": "markdown",
   "metadata": {
    "id": "aV2TH3-WZs7x"
   },
   "source": [
    "Next apply knn to Ir{m} and validate on Iv{m}"
   ]
  },
  {
   "cell_type": "code",
   "execution_count": 32,
   "metadata": {
    "colab": {
     "base_uri": "https://localhost:8080/",
     "height": 844
    },
    "id": "6mUh3t4E5RJU",
    "outputId": "37e224a6-a684-4033-ef70-5d2faf6cf4c2"
   },
   "outputs": [
    {
     "name": "stdout",
     "output_type": "stream",
     "text": [
      "['CV3: Confusion Matrix of 1 neighbors = ']\n",
      "[[50.  0.  0.]\n",
      " [ 0. 47.  3.]\n",
      " [ 0.  4. 46.]]\n",
      "['   Pr. Classification = 95.33333333333333']\n",
      "['CV3: Confusion Matrix of 2 neighbors = ']\n",
      "[[50.  0.  0.]\n",
      " [ 0. 48.  2.]\n",
      " [ 0.  6. 44.]]\n",
      "['   Pr. Classification = 94.66666666666667']\n",
      "['CV3: Confusion Matrix of 3 neighbors = ']\n",
      "[[50.  0.  0.]\n",
      " [ 0. 48.  2.]\n",
      " [ 0.  5. 45.]]\n",
      "['   Pr. Classification = 95.33333333333333']\n",
      "['CV3: Confusion Matrix of 4 neighbors = ']\n",
      "[[50.  0.  0.]\n",
      " [ 0. 48.  2.]\n",
      " [ 0.  6. 44.]]\n",
      "['   Pr. Classification = 94.66666666666667']\n",
      "['CV3: Confusion Matrix of 5 neighbors = ']\n",
      "[[50.  0.  0.]\n",
      " [ 0. 47.  3.]\n",
      " [ 0.  3. 47.]]\n",
      "['   Pr. Classification = 96.0']\n",
      "['CV3: Confusion Matrix of 6 neighbors = ']\n",
      "[[50.  0.  0.]\n",
      " [ 0. 47.  3.]\n",
      " [ 0.  5. 45.]]\n",
      "['   Pr. Classification = 94.66666666666667']\n",
      "['CV3: Confusion Matrix of 7 neighbors = ']\n",
      "[[50.  0.  0.]\n",
      " [ 0. 47.  3.]\n",
      " [ 0.  3. 47.]]\n",
      "['   Pr. Classification = 96.0']\n",
      "['CV3: Confusion Matrix of 8 neighbors = ']\n",
      "[[50.  0.  0.]\n",
      " [ 0. 47.  3.]\n",
      " [ 0.  3. 47.]]\n",
      "['   Pr. Classification = 96.0']\n",
      "['CV3: Confusion Matrix of 9 neighbors = ']\n",
      "[[50.  0.  0.]\n",
      " [ 0. 47.  3.]\n",
      " [ 0.  3. 47.]]\n",
      "['   Pr. Classification = 96.0']\n"
     ]
    }
   ],
   "source": [
    "Neighbors = 9\n",
    "Label_mat = np.mat(Label).T.astype('int')\n",
    "\n",
    "for n in range(Neighbors):\n",
    "  ConfMatcv3 = np.zeros((C,1))\n",
    "  for m in range(3):\n",
    "    Xtemp = X[Ir[m],:]\n",
    "    Ltemp = Label_mat[Ir[m],:]\n",
    "    KNNmdl = knnc(Xtemp, Ltemp)\n",
    "    out = knnclassifier(KNNmdl, X[Iv[m],:], n+1)\n",
    "\n",
    "    ConfMatcv3 = ConfMatcv3 + Label_mat[Iv[m],:].T*out\n",
    "  print(['CV3: Confusion Matrix of ' + str(n+1) + ' neighbors = '])\n",
    "  print(ConfMatcv3)\n",
    "  print(['   Pr. Classification = ' + str(100*np.sum(np.diag(ConfMatcv3))/np.shape(X)[0])])"
   ]
  },
  {
   "cell_type": "markdown",
   "metadata": {
    "id": "kJU7H5RXZvzu"
   },
   "source": [
    "This is the function nbc that create a classifier object nbmodel using training data (X, Y). Assume each row of X is a 1 x d feature vector of a sample. Feature dimension = d. Each row of Y is an 1 of C encoding of the class label with C classes. The classifier object is a structured data object defined in the end of the function. "
   ]
  },
  {
   "cell_type": "code",
   "execution_count": 3,
   "metadata": {
    "id": "TiVdRCPfRJ7A"
   },
   "outputs": [],
   "source": [
    "def knnc(X,Y):\n",
    "  # Usage: knnmodel = knnc(X,Y)\n",
    "  # developing a K-nearest neighbor classifier using\n",
    "  # X: training features, K by d matrix. Each row of X is an\n",
    "  #    observation, d is the feature dimension, K is the total\n",
    "  #    number of feature vectors in the training set. \n",
    "  # Y: Kx C label matrix encoded in 1 of C format where C is the number of classes. \n",
    "  (K,d) = np.shape(X)\n",
    "  C = np.shape(Y)[1]\n",
    "  prp = np.sum(Y,1)/np.sum(Y)\n",
    "\n",
    "  knnmodel = {}\n",
    "  knnmodel['Nsamples'] = K\n",
    "  knnmodel['Feature Dimension'] = d\n",
    "  knnmodel['Nclass'] = C\n",
    "  knnmodel['TrainingSamples'] = X\n",
    "  knnmodel['TrainingLabels'] = Y\n",
    "\n",
    "  return knnmodel"
   ]
  },
  {
   "cell_type": "markdown",
   "metadata": {
    "id": "UsqxYV6ZZ78b"
   },
   "source": [
    "Applying testing data and label to a trained Naive Bayes Classifier to estimate the testing error. \n",
    "\n",
    "Compute distance between X and knnmodel.TrainingSamples using matlab built-in function dist(W,P) where W is K x d and P is a d x N matrix. The output D = dist(W,P) is a K x N matrix. The (k,n)-th element of the D matrix is the Eucledian distance between k-th row of the W matrix and n-th column of the P matrix \n",
    "In the current application, P = knnmodel.TrainingSamples', d x Kr where Kr is the number of training samples. W = X, a K x d testing/validation feature matrix. Thus, \n",
    "\n",
    "Rank order the nearest neighbors. This requires sorting each row of the D matrix using Matlab command [B,Idx]=sort(D); where B is the sorted distance from small to large and Idx is the index of the training samples. \n",
    "\n",
    "Compute classifier output out. \n",
    "If Knn = 1 (nearest neighbor classifier), the indices of nearest training sample is the first column of the Idx matrix. The NN classifier thus will return the training sample's labels of these indexed training samples. \n",
    "If Knn > 1 (K nearest neighbor classifier), the indices of Knn closest neighbors are in the first Knn columns of the Idx matrix. To let the corresponding labels take majority vote. For example, if the nearest three neighbors of the first testing sample have labels [1 0 0], [0 1 0] and [1 0 0], they will add to [2 1 0]. Hence the majority voted output will be [1 0 0]. We create a K x C matrix tmp initialized as a zero matrix. In each of the knn = 3 iterations, its first row will be added to [1 0 0], [0 1 0] and [1 0 0] respectively and ended with [2 1 0]. Then we will use [~,I] = max([2  0 0],[],2) command to obtain I = 1 (class 1) as the voted result. Thus the corresponding row of out  = Lmat(I,:) where Lmat = eye(C) is a C x C identity matrix that gives the 1 in C encoding of class labels. "
   ]
  },
  {
   "cell_type": "code",
   "execution_count": 21,
   "metadata": {
    "id": "MMQH_icDUYYG"
   },
   "outputs": [],
   "source": [
    "\n",
    "\n",
    "def knnclassifier(knnmodel,X,Kn = 1):\n",
    "  # Usage: out = knnclassifier(knnmodel, X, Knn, distype)\n",
    "  # Given a KNN Classifier model knnmodel,\n",
    "  # X: Testing Feature,\n",
    "  # Kn: k nearest neighbor, default (if ignored ) = 1. A positive integer.\n",
    "  # disttype: type of distance metric, default: L2 Norm. \n",
    "  # out: predicted output using Knnmodel (1 in C format)\n",
    "  # knnmodel has the following structure:\n",
    "  #    knnmodel['Nsamples'] = K            # Number of training samples\n",
    "  #    knnmodel['Feature Dimension'] = d   # Feature space Dimension\n",
    "  #    knnmodel['Nclass'] = C              # Number of Classes\n",
    "  #    knnmodel['TrainingSamples']\n",
    "  #    knnmodel['TrainingLabels']\n",
    "\n",
    "  out = []\n",
    "  D = dist(X,knnmodel[\"TrainingSamples\"].T)\n",
    "  Idx = np.argsort(D,-1)\n",
    "\n",
    "  if Kn == 1:\n",
    "    out = knnmodel[\"TrainingLabels\"][Idx[:,0],:]\n",
    "  elif Kn > 1:\n",
    "    Lmat = np.eye(knnmodel[\"Nclass\"])  # Class label Matrix\n",
    "    tmp = np.zeros((np.shape(X)[0],knnmodel[\"Nclass\"]))     # to compute cumulated output labels\n",
    "    for k in range(Kn):\n",
    "\n",
    "      tmp = tmp + knnmodel[\"TrainingLabels\"][Idx[:,k],:] # Adding these labels\n",
    "      # finding the index of the maximum entry in each row of the tmp matrix.\n",
    "      Imax = np.argmax(tmp,axis=1 )\n",
    "      out = Lmat[Imax,:]\n",
    "      #print(out)\n",
    "\n",
    "  return out\n"
   ]
  },
  {
   "cell_type": "code",
   "execution_count": 22,
   "metadata": {
    "id": "EuCpyJ_RFcnJ"
   },
   "outputs": [],
   "source": [
    "def dist(W,P):\n",
    "  K,d1 = np.shape(W)\n",
    "  d2,N = np.shape(P)\n",
    "\n",
    "  d = np.zeros((K,N))\n",
    "  for k in range(K):\n",
    "    for n in range(N):\n",
    "      x = W[k,:]\n",
    "      y = P[:,n]\n",
    "      d[k,n] = np.linalg.norm(x - y,2)\n",
    "  return d"
   ]
  },
  {
   "cell_type": "code",
   "execution_count": null,
   "metadata": {
    "id": "R04V8-9fGqrJ"
   },
   "outputs": [],
   "source": []
  }
 ],
 "metadata": {
  "colab": {
   "collapsed_sections": [],
   "name": "KNNDemo.ipynb",
   "provenance": [],
   "toc_visible": true
  },
  "kernelspec": {
   "display_name": "Python 3",
   "language": "python",
   "name": "python3"
  },
  "language_info": {
   "codemirror_mode": {
    "name": "ipython",
    "version": 3
   },
   "file_extension": ".py",
   "mimetype": "text/x-python",
   "name": "python",
   "nbconvert_exporter": "python",
   "pygments_lexer": "ipython3",
   "version": "3.6.9"
  }
 },
 "nbformat": 4,
 "nbformat_minor": 1
}
