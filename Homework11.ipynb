{
 "cells": [
  {
   "cell_type": "markdown",
   "metadata": {
    "id": "qrl0aEUzBaze"
   },
   "source": [
    "## Homework 11"
   ]
  },
  {
   "cell_type": "markdown",
   "metadata": {
    "id": "kTjQf4VxDrif"
   },
   "source": [
    "First Load the Data files"
   ]
  },
  {
   "cell_type": "code",
   "execution_count": 1,
   "metadata": {},
   "outputs": [],
   "source": [
    "import numpy as np"
   ]
  },
  {
   "cell_type": "code",
   "execution_count": 2,
   "metadata": {
    "id": "14_IBfR-BW48"
   },
   "outputs": [
    {
     "data": {
      "text/plain": [
       "array([[0.3229, 0.5084, 0.2875, ..., 0.146 , 0.474 , 0.    ],\n",
       "       [0.414 , 0.5371, 0.4078, ..., 0.061 , 0.714 , 0.    ],\n",
       "       [0.3913, 0.4426, 0.3863, ..., 0.583 , 0.    , 0.    ],\n",
       "       ...,\n",
       "       [0.6517, 0.3555, 0.7353, ..., 0.6909, 0.    , 1.    ],\n",
       "       [0.6264, 0.3622, 0.6301, ..., 0.7239, 0.    , 1.    ],\n",
       "       [0.5525, 0.314 , 0.8267, ..., 0.7313, 0.    , 1.    ]])"
      ]
     },
     "execution_count": 2,
     "metadata": {},
     "output_type": "execute_result"
    }
   ],
   "source": [
    "# Load Data File 1\n",
    "tmp_list = []\n",
    "with open('xray1of4.txt', 'r') as file:\n",
    "    for row in file:\n",
    "        tmp_list.append(row.split('\\t'))\n",
    "xray1of4 = np.array(tmp_list).astype('float')\n",
    "xray1of4"
   ]
  },
  {
   "cell_type": "code",
   "execution_count": 3,
   "metadata": {},
   "outputs": [
    {
     "data": {
      "text/plain": [
       "(200, 7)"
      ]
     },
     "execution_count": 3,
     "metadata": {},
     "output_type": "execute_result"
    }
   ],
   "source": [
    "# Load Data File 2\n",
    "tmp_list = []\n",
    "with open('xray2of4.txt', 'r') as file:\n",
    "    for row in file:\n",
    "        tmp_list.append(row.split('\\t'))\n",
    "xray2of4 = np.array(tmp_list).astype('float')\n",
    "xray2of4.shape"
   ]
  },
  {
   "cell_type": "code",
   "execution_count": 4,
   "metadata": {},
   "outputs": [
    {
     "data": {
      "text/plain": [
       "(200, 7)"
      ]
     },
     "execution_count": 4,
     "metadata": {},
     "output_type": "execute_result"
    }
   ],
   "source": [
    "# Load Data File 3\n",
    "tmp_list = []\n",
    "with open('xray3of4.txt', 'r') as file:\n",
    "    for row in file:\n",
    "        tmp_list.append(row.split('\\t'))\n",
    "xray3of4 = np.array(tmp_list).astype('float')\n",
    "xray3of4.shape"
   ]
  },
  {
   "cell_type": "code",
   "execution_count": 5,
   "metadata": {},
   "outputs": [
    {
     "data": {
      "text/plain": [
       "(200, 7)"
      ]
     },
     "execution_count": 5,
     "metadata": {},
     "output_type": "execute_result"
    }
   ],
   "source": [
    "# Load Data file 4\n",
    "tmp_list = []\n",
    "with open('xray4of4.txt', 'r') as file:\n",
    "    for row in file:\n",
    "        tmp_list.append(row.split('\\t'))\n",
    "xray4of4 = np.array(tmp_list).astype('float')\n",
    "xray4of4.shape"
   ]
  },
  {
   "cell_type": "markdown",
   "metadata": {
    "id": "EKrDZj4nDuhl"
   },
   "source": [
    "Create the four  training/testing datasets."
   ]
  },
  {
   "cell_type": "code",
   "execution_count": 6,
   "metadata": {
    "id": "Lv1tPsqUCa1O"
   },
   "outputs": [],
   "source": [
    "fdim = 6 # feature dimension. \n",
    "n_samples = xray1of4.shape[0]\n",
    "# Features: \n",
    "p1 = xray1of4[:,0:fdim]\n",
    "p2 = xray2of4[:,0:fdim]\n",
    "p3 = xray3of4[:,0:fdim]\n",
    "p4 = xray4of4[:,0:fdim]\n",
    "#Labels: 0 and 1 need to be converted to +1 and -1\n",
    "t1 = (2*xray1of4[:,-1]-1)\n",
    "t2 = (2*xray2of4[:,-1]-1)\n",
    "t3 = (2*xray3of4[:,-1]-1)\n",
    "t4 = (2*xray4of4[:,-1]-1)\n",
    "\n",
    "#Group into cross validation sets\n",
    "R1 = np.concatenate((p2,p3,p4),axis=0)\n",
    "R2 = np.concatenate((p3,p4,p1),axis=0)\n",
    "R3 = np.concatenate((p4,p1,p2),axis=0)\n",
    "R4 = np.concatenate((p1,p2,p3),axis=0)\n",
    "\n",
    "# Cross Validation Labels\n",
    "y1 = np.concatenate((t2,t3,t4),axis=0)\n",
    "y2 = np.concatenate((t3,t4,t1),axis=0)\n",
    "y3 = np.concatenate((t4,t1,t2),axis=0)\n",
    "y4 = np.concatenate((t1,t2,t3),axis=0)\n",
    "\n",
    "sen = 0 #Sensitivity\n",
    "spe = 0 #Specificity"
   ]
  },
  {
   "cell_type": "markdown",
   "metadata": {
    "id": "xHh0k28ORyIZ"
   },
   "source": [
    "Complete the remaining code to\n",
    "\n",
    "train a libsvm model ```model1``` using p1 to predict pt1 and compare against t1, and compute Cmat1\n",
    "\n",
    "train a libsvm model ```model2``` using p2 to predict pt2 and compare against t2, and compute Cmat2\n",
    "\n",
    "train a libsvm model ```model3``` using p3 to predict pt3 and compare against t3, and compute Cmat3\n",
    "\n",
    "train a libsvm model ```model4``` using p4 to predict pt4 and compare against t4, and compute Cmat4\n",
    "\n",
    "Then the overall cross validation confusion matrix Cmat = Cmat1 + Cmat2 + Cmat3 + Cmat4\n",
    "\n",
    "Evaluate sensitivity and specificity from Cmat\n"
   ]
  },
  {
   "cell_type": "code",
   "execution_count": 7,
   "metadata": {},
   "outputs": [],
   "source": [
    "from sklearn import svm"
   ]
  },
  {
   "cell_type": "markdown",
   "metadata": {},
   "source": [
    "## Model 1"
   ]
  },
  {
   "cell_type": "code",
   "execution_count": 8,
   "metadata": {},
   "outputs": [
    {
     "data": {
      "text/plain": [
       "SVC(C=0.25)"
      ]
     },
     "execution_count": 8,
     "metadata": {},
     "output_type": "execute_result"
    }
   ],
   "source": [
    "model1 = svm.SVC(kernel='rbf',C=0.25)\n",
    "model1.fit(R1,y1)"
   ]
  },
  {
   "cell_type": "code",
   "execution_count": 9,
   "metadata": {
    "scrolled": true
   },
   "outputs": [
    {
     "name": "stdout",
     "output_type": "stream",
     "text": [
      "Number of Support Vectors for each class: [72 79]\n",
      "Chosen Support Vectors: \n",
      "[[0.3336 0.3474 0.334  0.4275 0.0329 0.4269]\n",
      " [0.3397 0.4193 0.3243 0.4658 0.0827 0.5375]\n",
      " [0.3898 0.4155 0.3843 0.4759 0.0306 0.7439]\n",
      " [0.3162 0.4843 0.2774 0.518  0.     0.2632]\n",
      " [0.4067 0.3865 0.4229 0.4543 0.0637 0.5357]\n",
      " [0.3088 0.4426 0.282  0.5037 0.1243 0.4344]\n",
      " [0.3476 0.4425 0.3477 0.4424 0.0605 0.5726]\n",
      " [0.2666 0.3497 0.2355 0.4003 0.0561 0.1708]\n",
      " [0.38   0.4684 0.3815 0.4684 0.05   0.7733]\n",
      " [0.2714 0.3533 0.2511 0.4008 0.046  0.5837]\n",
      " [0.3947 0.3956 0.4002 0.4328 0.0909 0.694 ]\n",
      " [0.2542 0.352  0.2424 0.3747 0.0353 0.3258]\n",
      " [0.2863 0.3439 0.2735 0.3512 0.0495 0.3175]\n",
      " [0.3903 0.8654 0.2434 0.5795 0.     0.2866]\n",
      " [0.4089 0.5559 0.3669 0.6313 0.1363 0.7762]\n",
      " [0.4257 0.7263 0.4172 0.7415 0.0403 1.    ]\n",
      " [0.4861 0.7023 0.4788 0.7122 0.3829 0.9854]\n",
      " [0.2079 0.2906 0.2456 0.4509 0.0516 0.4173]\n",
      " [0.2919 0.3959 0.2823 0.4136 0.522  0.0652]\n",
      " [0.391  0.5633 0.3668 0.5996 0.7568 0.0341]\n",
      " [0.4054 0.4852 0.4013 0.5035 0.6355 0.0979]\n",
      " [0.3685 0.5117 0.3573 0.5654 0.7136 0.0387]\n",
      " [0.3942 0.5477 0.3793 0.5836 0.7365 0.05  ]\n",
      " [0.3764 0.5465 0.3459 0.5885 0.7428 0.039 ]\n",
      " [0.3769 0.5347 0.3511 0.5895 0.744  0.1395]\n",
      " [0.3844 0.583  0.3766 0.5959 0.7522 0.0761]\n",
      " [0.4149 0.5043 0.4154 0.5083 0.6416 0.5223]\n",
      " [0.3503 0.459  0.3177 0.5168 0.6523 0.    ]\n",
      " [0.3872 0.5538 0.3795 0.5658 0.7142 0.0277]\n",
      " [0.3621 0.4433 0.3656 0.4699 0.593  0.0582]\n",
      " [0.3439 0.5462 0.333  0.5685 0.7175 0.0733]\n",
      " [0.3767 0.4548 0.3704 0.4969 0.6271 0.0609]\n",
      " [0.363  0.5326 0.3347 0.5899 0.7445 0.    ]\n",
      " [0.3641 0.531  0.3445 0.5592 0.7058 0.0327]\n",
      " [0.3804 0.5263 0.361  0.5839 0.7369 0.0573]\n",
      " [0.4031 0.4691 0.3922 0.4796 0.6053 0.    ]\n",
      " [0.3658 0.496  0.3551 0.5223 0.6593 0.1756]\n",
      " [0.3065 0.4322 0.3017 0.5117 0.6458 0.0553]\n",
      " [0.3402 0.503  0.3414 0.5026 0.6344 0.0465]\n",
      " [0.5372 0.624  0.5278 0.6349 0.8014 0.046 ]\n",
      " [0.3752 0.4941 0.3539 0.5304 0.6695 0.0413]\n",
      " [0.2881 0.4744 0.2538 0.5074 0.6404 0.    ]\n",
      " [0.2523 0.4778 0.2312 0.4948 0.6245 0.    ]\n",
      " [0.4995 0.6837 0.501  0.6826 0.8616 0.1444]\n",
      " [0.4758 0.7181 0.4621 0.7427 0.9374 0.0333]\n",
      " [0.4932 0.6642 0.4909 0.6606 0.8338 0.    ]\n",
      " [0.5538 0.6167 0.5524 0.6203 0.783  0.1451]\n",
      " [0.5538 0.6167 0.5524 0.6203 0.783  0.1451]\n",
      " [0.4446 0.6632 0.4446 0.6632 0.837  0.0245]\n",
      " [0.4673 0.6305 0.4673 0.6305 0.7958 0.0485]\n",
      " [0.5219 0.6958 0.5134 0.7096 0.8956 0.    ]\n",
      " [0.4915 0.6757 0.4699 0.7065 0.8918 0.1246]\n",
      " [0.5123 0.681  0.5123 0.681  0.8595 0.0296]\n",
      " [0.4777 0.6704 0.4804 0.6681 0.8432 0.    ]\n",
      " [0.5314 0.7172 0.5209 0.7324 0.9244 0.    ]\n",
      " [0.5555 0.6252 0.5577 0.6286 0.7934 0.0489]\n",
      " [0.5264 0.6684 0.5277 0.6679 0.8429 0.2835]\n",
      " [0.6545 0.6811 0.6545 0.681  0.1435 0.9607]\n",
      " [0.4974 0.7816 0.455  0.8337 0.1332 0.634 ]\n",
      " [0.5772 0.6605 0.5772 0.6604 0.159  0.8649]\n",
      " [0.58   0.637  0.58   0.637  0.1621 0.8393]\n",
      " [0.5936 0.6911 0.5936 0.6911 0.1594 0.7868]\n",
      " [0.6159 0.6102 0.616  0.6102 0.0846 0.8725]\n",
      " [0.5584 0.6525 0.5546 0.6516 0.1644 0.832 ]\n",
      " [0.5342 0.5282 0.5158 0.5784 0.0571 0.2374]\n",
      " [0.4928 0.5525 0.5272 0.5703 0.0656 0.3876]\n",
      " [0.6404 0.5183 0.6571 0.5851 0.1956 0.4354]\n",
      " [0.6118 0.4965 0.6315 0.5504 0.0693 0.4159]\n",
      " [0.5851 0.6804 0.5851 0.6804 0.1585 0.8849]\n",
      " [0.6404 0.5395 0.6493 0.5374 0.0822 0.6957]\n",
      " [0.6189 0.5892 0.6019 0.6481 0.171  0.5123]\n",
      " [0.6766 0.6336 0.6766 0.6336 0.1212 0.8426]\n",
      " [0.527  0.5039 0.527  0.5039 0.6786 0.    ]\n",
      " [0.37   0.3556 0.391  0.3638 0.2769 0.    ]\n",
      " [0.4438 0.436  0.5371 0.4813 0.2819 0.    ]\n",
      " [0.6455 0.6405 0.6453 0.6404 1.     0.    ]\n",
      " [0.48   0.505  0.4767 0.5017 0.1508 0.7152]\n",
      " [0.3058 0.2711 0.3212 0.2696 0.4216 0.    ]\n",
      " [0.3128 0.2919 0.3407 0.2803 0.3763 0.    ]\n",
      " [0.4447 0.5452 0.4468 0.5613 0.0322 0.7637]\n",
      " [0.3575 0.451  0.3439 0.4732 0.1152 0.5227]\n",
      " [0.4784 0.4845 0.4784 0.4846 0.6727 0.    ]\n",
      " [0.4508 0.5434 0.4584 0.5563 0.7307 0.    ]\n",
      " [1.215  0.6142 0.595  0.4196 0.6054 0.    ]\n",
      " [0.4341 0.4886 0.45   0.5014 0.5832 0.    ]\n",
      " [0.4082 0.5459 0.4082 0.5647 0.7375 0.    ]\n",
      " [0.4953 0.4961 0.5047 0.5021 0.6356 0.    ]\n",
      " [0.4445 0.485  0.4497 0.4963 0.1872 0.5471]\n",
      " [0.4267 0.4782 0.4293 0.4827 0.5438 0.    ]\n",
      " [0.4845 0.4496 0.4845 0.4498 0.5909 0.    ]\n",
      " [0.391  0.4794 0.3937 0.4822 0.582  0.    ]\n",
      " [0.391  0.4794 0.3937 0.4822 0.582  0.    ]\n",
      " [0.4856 0.5985 0.4857 0.5984 0.0436 0.8984]\n",
      " [0.5099 0.4645 0.5153 0.4652 0.7001 0.    ]\n",
      " [0.4473 0.4656 0.4473 0.4656 0.5816 0.    ]\n",
      " [0.4649 0.5419 0.4648 0.5412 0.6831 0.5046]\n",
      " [0.4551 0.4419 0.457  0.4385 0.5535 0.4898]\n",
      " [0.5298 0.2511 0.5934 0.1937 0.2445 0.4632]\n",
      " [0.4949 0.3369 0.4949 0.3369 0.4252 0.6125]\n",
      " [1.4337 1.7101 0.4775 0.4066 0.5132 0.398 ]\n",
      " [0.5479 0.4237 0.6796 0.3258 0.4113 0.7448]\n",
      " [0.8932 0.1628 0.9281 0.1685 0.2126 0.3272]\n",
      " [1.4913 0.4143 0.8565 0.1462 0.1846 0.6919]\n",
      " [0.7603 0.2727 0.9286 0.1497 0.1889 0.4739]\n",
      " [0.9141 0.2497 0.8136 0.2522 0.3183 0.688 ]\n",
      " [0.5878 0.2253 0.7716 0.1056 0.1333 0.4388]\n",
      " [0.4211 0.3806 0.4392 0.3744 0.4726 0.5681]\n",
      " [0.465  0.3806 0.465  0.3806 0.4804 0.5552]\n",
      " [0.5435 0.6549 0.5436 0.6549 0.8266 0.5902]\n",
      " [0.4948 0.6775 0.4994 0.6796 0.8577 0.3321]\n",
      " [0.7573 0.294  0.8054 0.2553 0.3223 0.7425]\n",
      " [0.6463 0.3004 0.7334 0.2305 0.2909 0.7159]\n",
      " [0.433  0.5502 0.4331 0.5676 0.7164 0.7257]\n",
      " [0.4803 0.743  0.4833 0.7434 0.9383 0.6303]\n",
      " [0.5131 0.7574 0.5099 0.7634 0.9635 0.7881]\n",
      " [0.7779 0.5864 0.8082 0.5564 0.7023 0.9672]\n",
      " [0.5047 0.7276 0.5047 0.7276 0.9183 0.7002]\n",
      " [0.432  0.5101 0.4268 0.5233 0.6605 0.2956]\n",
      " [0.7903 0.566  0.8325 0.5299 0.6688 0.957 ]\n",
      " [0.5866 0.6603 0.5796 0.6716 0.8476 0.5558]\n",
      " [0.4512 0.692  0.4524 0.705  0.8899 0.8097]\n",
      " [0.4664 0.4195 0.4664 0.4195 0.5295 0.5704]\n",
      " [0.4437 0.3954 0.4452 0.3938 0.497  0.5387]\n",
      " [0.5519 0.5976 0.5548 0.5999 0.8598 0.    ]\n",
      " [0.5675 0.6306 0.5732 0.6347 0.6715 0.    ]\n",
      " [0.5942 0.5913 0.5978 0.5944 0.5153 0.    ]\n",
      " [0.6012 0.6047 0.6081 0.6117 0.9234 0.    ]\n",
      " [0.6352 0.6188 0.6352 0.6188 0.     0.8261]\n",
      " [0.6292 0.5917 0.6291 0.5916 0.871  0.    ]\n",
      " [0.6473 0.6635 0.6411 0.6622 0.7211 0.    ]\n",
      " [0.6155 0.5101 0.6156 0.504  0.1436 0.6262]\n",
      " [0.5768 0.524  0.5768 0.524  0.6876 0.    ]\n",
      " [0.3925 0.3843 0.3972 0.3936 0.3777 0.    ]\n",
      " [0.4295 0.4525 0.4916 0.5137 0.6193 0.    ]\n",
      " [0.3604 0.4593 0.3434 0.4773 0.1109 0.5714]\n",
      " [0.3706 0.4469 0.3579 0.4762 0.2699 0.165 ]\n",
      " [0.4583 0.4786 0.4584 0.4784 0.6398 0.    ]\n",
      " [0.4544 0.5015 0.4549 0.501  0.5251 0.    ]\n",
      " [0.5274 0.5437 0.5277 0.5436 0.4488 0.    ]\n",
      " [0.449  0.506  0.6813 0.6439 0.5651 0.    ]\n",
      " [0.3581 0.5613 0.3582 0.8369 0.     0.7515]\n",
      " [0.3159 0.5803 0.3151 0.7379 0.0875 0.6162]\n",
      " [0.3666 0.3431 0.3666 0.3431 0.5367 0.    ]\n",
      " [0.5903 0.4595 0.5901 0.4595 0.01   0.4613]\n",
      " [0.6705 0.5802 0.6701 0.5802 0.9459 0.    ]\n",
      " [0.612  0.6042 0.6125 0.6046 0.9198 0.    ]\n",
      " [0.5415 0.6623 0.5417 0.6617 0.8976 0.    ]\n",
      " [0.5119 0.5382 0.5257 0.5787 0.5511 0.    ]\n",
      " [0.5069 0.4417 0.5199 0.4264 0.7004 0.    ]\n",
      " [1.2171 0.3053 0.7468 0.1812 0.688  0.    ]\n",
      " [0.449  0.5312 0.4417 0.5614 0.0453 0.7161]]\n",
      "Index of chosen Support Vectors: [  4  13  14  15  16  23  36  38  45  47  54  60  62  65  72  74  75  84\n",
      " 206 208 212 213 214 230 231 232 234 240 241 243 246 248 253 254 255 258\n",
      " 261 263 264 267 270 271 272 273 274 275 276 277 283 284 285 290 291 293\n",
      " 294 295 298 406 410 416 419 429 431 433 448 449 454 455 456 466 467 479\n",
      " 108 111 112 117 121 124 125 136 142 145 152 153 154 155 156 165 174 177\n",
      " 178 184 190 194 199 300 301 302 304 307 308 311 318 321 324 331 334 338\n",
      " 340 341 343 345 351 363 365 372 373 374 377 382 386 392 399 500 502 503\n",
      " 508 509 511 512 514 515 518 534 536 542 550 552 553 556 561 562 563 565\n",
      " 578 579 580 586 589 595 599]\n",
      "Labels of Support Vectors: [-1. -1. -1. -1. -1. -1. -1. -1. -1. -1. -1. -1. -1. -1. -1. -1. -1. -1.\n",
      " -1. -1. -1. -1. -1. -1. -1. -1. -1. -1. -1. -1. -1. -1. -1. -1. -1. -1.\n",
      " -1. -1. -1. -1. -1. -1. -1. -1. -1. -1. -1. -1. -1. -1. -1. -1. -1. -1.\n",
      " -1. -1. -1. -1. -1. -1. -1. -1. -1. -1. -1. -1. -1. -1. -1. -1. -1. -1.\n",
      "  1.  1.  1.  1.  1.  1.  1.  1.  1.  1.  1.  1.  1.  1.  1.  1.  1.  1.\n",
      "  1.  1.  1.  1.  1.  1.  1.  1.  1.  1.  1.  1.  1.  1.  1.  1.  1.  1.\n",
      "  1.  1.  1.  1.  1.  1.  1.  1.  1.  1.  1.  1.  1.  1.  1.  1.  1.  1.\n",
      "  1.  1.  1.  1.  1.  1.  1.  1.  1.  1.  1.  1.  1.  1.  1.  1.  1.  1.\n",
      "  1.  1.  1.  1.  1.  1.  1.]\n",
      "f: [[-0.25       -0.25       -0.25       -0.15360199 -0.25       -0.18887898\n",
      "  -0.22238234 -0.25       -0.25       -0.13581456 -0.25       -0.25\n",
      "  -0.25       -0.25       -0.25       -0.25       -0.25       -0.25\n",
      "  -0.25       -0.25       -0.25       -0.25       -0.25       -0.25\n",
      "  -0.25       -0.25       -0.25       -0.25       -0.25       -0.25\n",
      "  -0.25       -0.25       -0.03408002 -0.25       -0.25       -0.25\n",
      "  -0.25       -0.25       -0.25       -0.25       -0.25       -0.25\n",
      "  -0.25       -0.25       -0.25       -0.25       -0.25       -0.25\n",
      "  -0.25       -0.25       -0.25       -0.25       -0.25       -0.25\n",
      "  -0.25       -0.25       -0.25       -0.25       -0.08445047 -0.25\n",
      "  -0.25       -0.2025287  -0.25       -0.25       -0.25       -0.25\n",
      "  -0.25       -0.25       -0.06575001 -0.25       -0.25       -0.25\n",
      "   0.25        0.25        0.15194002  0.25        0.25        0.25\n",
      "   0.25        0.25        0.25        0.25        0.25        0.09411763\n",
      "   0.25        0.25        0.25        0.25        0.25        0.25\n",
      "   0.25        0.25        0.25        0.25        0.25        0.25\n",
      "   0.25        0.03995365  0.09515363  0.25        0.07583745  0.03609442\n",
      "   0.25        0.01330024  0.0597693   0.25        0.25        0.25\n",
      "   0.25        0.25        0.03711356  0.25        0.25        0.25\n",
      "   0.00112831  0.23374838  0.25        0.25        0.25        0.25\n",
      "   0.09862663  0.12686282  0.25        0.25        0.25        0.06074813\n",
      "   0.25        0.25        0.25        0.25        0.25        0.05690008\n",
      "   0.25        0.25        0.25        0.25        0.25        0.25\n",
      "   0.25        0.25        0.25        0.25        0.25        0.25\n",
      "   0.25        0.25        0.25        0.25        0.21734114  0.1888517\n",
      "   0.25      ]]\n"
     ]
    }
   ],
   "source": [
    "i0 = model1.support_          # indices of support vectors\n",
    "nsv = model1.n_support_       # number of support vectors in class 0 and class 1\n",
    "sv = model1.support_vectors_  # Support Vectors\n",
    "f = model1.dual_coef_        # this is the vector f = alpha.*d\n",
    "\n",
    "\n",
    "print(\"Number of Support Vectors for each class: \" + str(nsv))\n",
    "print(\"Chosen Support Vectors: \\n\" + str(sv))\n",
    "print(\"Index of chosen Support Vectors: \" + str(i0))\n",
    "print(\"Labels of Support Vectors: \" + str(y1[i0]))\n",
    "print(\"f: \" + str(f))"
   ]
  },
  {
   "cell_type": "code",
   "execution_count": 10,
   "metadata": {},
   "outputs": [
    {
     "name": "stdout",
     "output_type": "stream",
     "text": [
      "w: \n",
      "[[ 1.66693319]\n",
      " [-0.47306215]\n",
      " [ 1.49641274]\n",
      " [-1.13677498]\n",
      " [ 1.14092192]\n",
      " [-0.1967823 ]]\n",
      "b: [0.22873189]\n"
     ]
    }
   ],
   "source": [
    "## Compute hyper-plane parameters\n",
    "w = np.dot(sv.T, f.T)   # Note we need to transpose f as it is stored as a row vector not a column vector\n",
    "b = model1.intercept_\n",
    "\n",
    "print(\"w: \\n\" + str(w))\n",
    "print(\"b: \" + str(b))"
   ]
  },
  {
   "cell_type": "code",
   "execution_count": 11,
   "metadata": {},
   "outputs": [
    {
     "name": "stdout",
     "output_type": "stream",
     "text": [
      "Accuracy: 92.0%\n"
     ]
    }
   ],
   "source": [
    "yhat = model1.predict(R1)\n",
    "\n",
    "#Compute Accuracy\n",
    "Acc = 1- np.sum(np.abs(yhat - y1))/R1.shape[0]\n",
    "print(\"Accuracy: \" + str(100*Acc) + \"%\")"
   ]
  },
  {
   "cell_type": "code",
   "execution_count": 12,
   "metadata": {},
   "outputs": [],
   "source": [
    "yt1 = model1.predict(p1)"
   ]
  },
  {
   "cell_type": "code",
   "execution_count": 15,
   "metadata": {},
   "outputs": [
    {
     "name": "stdout",
     "output_type": "stream",
     "text": [
      "Confusion matrix:\n",
      "[[98.  6.]\n",
      " [ 2. 94.]]\n"
     ]
    },
    {
     "data": {
      "image/png": "[encoded data removed]",
      "text/plain": [
       "<Figure size 864x720 with 2 Axes>"
      ]
     },
     "metadata": {
      "needs_background": "light"
     },
     "output_type": "display_data"
    }
   ],
   "source": [
    "import seaborn as sn\n",
    "import matplotlib.pyplot as plt\n",
    "#plot confusion matrix\n",
    "c_mat1 = np.zeros((2,2))\n",
    "for i in range(p1.shape[0]):\n",
    "    c_mat1[int((yt1[i]+1)/2), int((t1[i]+1)/2)] += 1\n",
    "\n",
    "print(\"Confusion matrix:\\n\" + str(c_mat1))\n",
    "\n",
    "group_counts = [\"{0:0.0f}\".format(value) for value in c_mat1.flatten()]\n",
    "group_percentages = [\"{0:.2%}\".format(value) for value in c_mat1.flatten()/np.sum(c_mat1)]\n",
    "labels = [f\"{v1}\\n{v2}\" for v1, v2 in zip(group_counts, group_percentages)]\n",
    "labels = np.asarray(labels).reshape(c_mat1.shape[0], c_mat1.shape[1])\n",
    "\n",
    "accuracy = (np.sum(np.logical_and(yt1, t1))/ t1.shape[0]) * 100\n",
    "\n",
    "plt.figure(figsize=(12,10))\n",
    "sn.heatmap(c_mat1, annot=labels, fmt='', cmap='rocket_r')\n",
    "plt.title(\"Confusion Matrix\")\n",
    "plt.ylabel('Output Class')\n",
    "_ = plt.xlabel('Target Class \\n Accuracy: ' + '%.2f'%accuracy + \"%\")"
   ]
  },
  {
   "cell_type": "markdown",
   "metadata": {},
   "source": [
    "## Model 2"
   ]
  },
  {
   "cell_type": "code",
   "execution_count": 16,
   "metadata": {},
   "outputs": [
    {
     "data": {
      "text/plain": [
       "SVC(C=0.25)"
      ]
     },
     "execution_count": 16,
     "metadata": {},
     "output_type": "execute_result"
    }
   ],
   "source": [
    "model2 = svm.SVC(kernel='rbf',C=0.25)\n",
    "model2.fit(R2,y2)"
   ]
  },
  {
   "cell_type": "code",
   "execution_count": 17,
   "metadata": {},
   "outputs": [
    {
     "name": "stdout",
     "output_type": "stream",
     "text": [
      "Number of Support Vectors for each class: [72 72]\n",
      "Chosen Support Vectors: \n",
      "[[0.4252 0.5837 0.4003 0.6695 0.8451 0.0761]\n",
      " [0.2919 0.3959 0.2823 0.4136 0.522  0.0652]\n",
      " [0.391  0.5633 0.3668 0.5996 0.7568 0.0341]\n",
      " [0.4054 0.4852 0.4013 0.5035 0.6355 0.0979]\n",
      " [0.3685 0.5117 0.3573 0.5654 0.7136 0.0387]\n",
      " [0.3942 0.5477 0.3793 0.5836 0.7365 0.05  ]\n",
      " [0.3764 0.5465 0.3459 0.5885 0.7428 0.039 ]\n",
      " [0.3769 0.5347 0.3511 0.5895 0.744  0.1395]\n",
      " [0.3844 0.583  0.3766 0.5959 0.7522 0.0761]\n",
      " [0.4149 0.5043 0.4154 0.5083 0.6416 0.5223]\n",
      " [0.3503 0.459  0.3177 0.5168 0.6523 0.    ]\n",
      " [0.3872 0.5538 0.3795 0.5658 0.7142 0.0277]\n",
      " [0.3621 0.4433 0.3656 0.4699 0.593  0.0582]\n",
      " [0.3767 0.4548 0.3704 0.4969 0.6271 0.0609]\n",
      " [0.3641 0.531  0.3445 0.5592 0.7058 0.0327]\n",
      " [0.3804 0.5263 0.361  0.5839 0.7369 0.0573]\n",
      " [0.4031 0.4691 0.3922 0.4796 0.6053 0.    ]\n",
      " [0.3658 0.496  0.3551 0.5223 0.6593 0.1756]\n",
      " [0.3065 0.4322 0.3017 0.5117 0.6458 0.0553]\n",
      " [0.3402 0.503  0.3414 0.5026 0.6344 0.0465]\n",
      " [0.5372 0.624  0.5278 0.6349 0.8014 0.046 ]\n",
      " [0.3752 0.4941 0.3539 0.5304 0.6695 0.0413]\n",
      " [0.2881 0.4744 0.2538 0.5074 0.6404 0.    ]\n",
      " [0.2523 0.4778 0.2312 0.4948 0.6245 0.    ]\n",
      " [0.4995 0.6837 0.501  0.6826 0.8616 0.1444]\n",
      " [0.4758 0.7181 0.4621 0.7427 0.9374 0.0333]\n",
      " [0.4932 0.6642 0.4909 0.6606 0.8338 0.    ]\n",
      " [0.5538 0.6167 0.5524 0.6203 0.783  0.1451]\n",
      " [0.5538 0.6167 0.5524 0.6203 0.783  0.1451]\n",
      " [0.4446 0.6632 0.4446 0.6632 0.837  0.0245]\n",
      " [0.4673 0.6305 0.4673 0.6305 0.7958 0.0485]\n",
      " [0.5219 0.6958 0.5134 0.7096 0.8956 0.    ]\n",
      " [0.4503 0.7221 0.4496 0.7273 0.9179 0.0618]\n",
      " [0.4915 0.6757 0.4699 0.7065 0.8918 0.1246]\n",
      " [0.5123 0.681  0.5123 0.681  0.8595 0.0296]\n",
      " [0.4777 0.6704 0.4804 0.6681 0.8432 0.    ]\n",
      " [0.5314 0.7172 0.5209 0.7324 0.9244 0.    ]\n",
      " [0.5555 0.6252 0.5577 0.6286 0.7934 0.0489]\n",
      " [0.5264 0.6684 0.5277 0.6679 0.8429 0.2835]\n",
      " [0.4471 0.7371 0.4371 0.7478 0.0188 0.9594]\n",
      " [0.6545 0.6811 0.6545 0.681  0.1435 0.9607]\n",
      " [0.5772 0.6605 0.5772 0.6604 0.159  0.8649]\n",
      " [0.58   0.637  0.58   0.637  0.1621 0.8393]\n",
      " [0.6159 0.6102 0.616  0.6102 0.0846 0.8725]\n",
      " [0.5584 0.6525 0.5546 0.6516 0.1644 0.832 ]\n",
      " [0.5342 0.5282 0.5158 0.5784 0.0571 0.2374]\n",
      " [0.4928 0.5525 0.5272 0.5703 0.0656 0.3876]\n",
      " [0.6404 0.5183 0.6571 0.5851 0.1956 0.4354]\n",
      " [0.6118 0.4965 0.6315 0.5504 0.0693 0.4159]\n",
      " [0.5851 0.6804 0.5851 0.6804 0.1585 0.8849]\n",
      " [0.6404 0.5395 0.6493 0.5374 0.0822 0.6957]\n",
      " [0.6189 0.5892 0.6019 0.6481 0.171  0.5123]\n",
      " [0.6766 0.6336 0.6766 0.6336 0.1212 0.8426]\n",
      " [0.3913 0.4426 0.3863 0.4475 0.583  0.    ]\n",
      " [0.3824 0.4569 0.3823 0.4701 0.0993 0.5625]\n",
      " [0.4631 0.4476 0.4631 0.4477 0.0727 0.6955]\n",
      " [0.404  0.4786 0.4016 0.4757 0.0616 0.6878]\n",
      " [0.3917 0.5224 0.3867 0.5329 0.1186 0.6809]\n",
      " [0.2877 0.4636 0.249  0.5541 0.     0.2227]\n",
      " [0.4054 0.4256 0.4054 0.4256 0.0237 0.6829]\n",
      " [0.4331 0.416  0.4329 0.4164 0.1169 0.5477]\n",
      " [0.3569 0.4665 0.3492 0.4744 0.0344 0.5259]\n",
      " [0.2072 0.3597 0.2184 0.5166 0.0358 0.3277]\n",
      " [0.3026 0.3818 0.2935 0.4007 0.0689 0.5324]\n",
      " [1.1318 1.277  0.2961 0.4989 0.     0.5881]\n",
      " [0.3718 0.4476 0.3472 0.487  0.0438 0.6621]\n",
      " [0.3966 0.506  0.3888 0.557  0.1461 0.6374]\n",
      " [0.2581 0.5574 0.2952 0.6844 0.     0.066 ]\n",
      " [0.256  0.3991 0.2341 0.454  0.0556 0.5146]\n",
      " [0.2924 0.5416 0.271  0.5649 0.0269 0.2571]\n",
      " [0.4068 0.5024 0.3796 0.5332 0.0937 0.7152]\n",
      " [0.4636 0.7206 0.4586 0.7304 0.0801 1.    ]\n",
      " [0.4649 0.5419 0.4648 0.5412 0.6831 0.5046]\n",
      " [0.4551 0.4419 0.457  0.4385 0.5535 0.4898]\n",
      " [1.4337 1.7101 0.4775 0.4066 0.5132 0.398 ]\n",
      " [0.5479 0.4237 0.6796 0.3258 0.4113 0.7448]\n",
      " [1.4913 0.4143 0.8565 0.1462 0.1846 0.6919]\n",
      " [0.9141 0.2497 0.8136 0.2522 0.3183 0.688 ]\n",
      " [0.5878 0.2253 0.7716 0.1056 0.1333 0.4388]\n",
      " [0.4211 0.3806 0.4392 0.3744 0.4726 0.5681]\n",
      " [0.465  0.3806 0.465  0.3806 0.4804 0.5552]\n",
      " [0.5435 0.6549 0.5436 0.6549 0.8266 0.5902]\n",
      " [0.4948 0.6775 0.4994 0.6796 0.8577 0.3321]\n",
      " [0.6463 0.3004 0.7334 0.2305 0.2909 0.7159]\n",
      " [0.433  0.5502 0.4331 0.5676 0.7164 0.7257]\n",
      " [0.4803 0.743  0.4833 0.7434 0.9383 0.6303]\n",
      " [0.5131 0.7574 0.5099 0.7634 0.9635 0.7881]\n",
      " [0.7779 0.5864 0.8082 0.5564 0.7023 0.9672]\n",
      " [0.5047 0.7276 0.5047 0.7276 0.9183 0.7002]\n",
      " [0.432  0.5101 0.4268 0.5233 0.6605 0.2956]\n",
      " [0.7903 0.566  0.8325 0.5299 0.6688 0.957 ]\n",
      " [0.5866 0.6603 0.5796 0.6716 0.8476 0.5558]\n",
      " [0.4664 0.4195 0.4664 0.4195 0.5295 0.5704]\n",
      " [0.4437 0.3954 0.4452 0.3938 0.497  0.5387]\n",
      " [0.5519 0.5976 0.5548 0.5999 0.8598 0.    ]\n",
      " [0.5675 0.6306 0.5732 0.6347 0.6715 0.    ]\n",
      " [0.5942 0.5913 0.5978 0.5944 0.5153 0.    ]\n",
      " [0.6012 0.6047 0.6081 0.6117 0.9234 0.    ]\n",
      " [0.6352 0.6188 0.6352 0.6188 0.     0.8261]\n",
      " [0.6292 0.5917 0.6291 0.5916 0.871  0.    ]\n",
      " [0.6473 0.6635 0.6411 0.6622 0.7211 0.    ]\n",
      " [0.6155 0.5101 0.6156 0.504  0.1436 0.6262]\n",
      " [0.3925 0.3843 0.3972 0.3936 0.3777 0.    ]\n",
      " [0.4295 0.4525 0.4916 0.5137 0.6193 0.    ]\n",
      " [0.3604 0.4593 0.3434 0.4773 0.1109 0.5714]\n",
      " [0.3706 0.4469 0.3579 0.4762 0.2699 0.165 ]\n",
      " [0.4583 0.4786 0.4584 0.4784 0.6398 0.    ]\n",
      " [0.5069 0.4736 0.5069 0.4736 0.5347 0.    ]\n",
      " [0.4544 0.5015 0.4549 0.501  0.5251 0.    ]\n",
      " [0.5274 0.5437 0.5277 0.5436 0.4488 0.    ]\n",
      " [0.449  0.506  0.6813 0.6439 0.5651 0.    ]\n",
      " [0.3581 0.5613 0.3582 0.8369 0.     0.7515]\n",
      " [0.3159 0.5803 0.3151 0.7379 0.0875 0.6162]\n",
      " [0.3666 0.3431 0.3666 0.3431 0.5367 0.    ]\n",
      " [0.5903 0.4595 0.5901 0.4595 0.01   0.4613]\n",
      " [0.6705 0.5802 0.6701 0.5802 0.9459 0.    ]\n",
      " [0.612  0.6042 0.6125 0.6046 0.9198 0.    ]\n",
      " [0.5415 0.6623 0.5417 0.6617 0.8976 0.    ]\n",
      " [0.5119 0.5382 0.5257 0.5787 0.5511 0.    ]\n",
      " [1.2171 0.3053 0.7468 0.1812 0.688  0.    ]\n",
      " [0.5326 0.4173 0.5362 0.4148 0.1998 0.    ]\n",
      " [0.449  0.5312 0.4417 0.5614 0.0453 0.7161]\n",
      " [0.5022 0.4527 0.5022 0.4527 0.7458 0.    ]\n",
      " [0.4592 0.4091 0.4592 0.4092 0.571  0.    ]\n",
      " [0.5737 0.6502 0.5745 0.6493 0.     0.9911]\n",
      " [0.5991 0.5898 0.6026 0.5933 1.     0.    ]\n",
      " [0.5707 0.5936 0.5707 0.5936 0.7967 0.    ]\n",
      " [0.5033 0.6426 0.5028 0.6506 0.9489 0.    ]\n",
      " [0.4244 0.4329 0.4261 0.4313 0.6058 0.    ]\n",
      " [0.4338 0.4818 0.4342 0.4815 0.5696 0.    ]\n",
      " [0.3836 0.3183 0.3893 0.3164 0.5042 0.    ]\n",
      " [0.4053 0.4669 0.4053 0.4669 0.0408 0.5825]\n",
      " [0.421  0.5199 0.4144 0.5198 0.0635 0.7339]\n",
      " [0.4683 0.4466 0.4664 0.4446 0.1611 0.6379]\n",
      " [0.3402 0.455  0.3375 0.5158 0.0346 0.5903]\n",
      " [0.4186 0.4534 0.4187 0.4533 0.6312 0.    ]\n",
      " [0.5511 0.5998 0.5516 0.5994 0.7794 0.    ]\n",
      " [0.3187 0.3784 0.3213 0.3968 0.4066 0.    ]\n",
      " [0.455  0.4059 0.455  0.4059 0.7127 0.    ]\n",
      " [0.455  0.4059 0.455  0.4059 0.7127 0.    ]\n",
      " [0.5022 0.4306 0.5035 0.4251 0.8861 0.    ]\n",
      " [0.3945 0.3511 0.4034 0.3505 0.6154 0.    ]\n",
      " [0.4538 0.4393 0.4547 0.4391 0.7387 0.    ]\n",
      " [0.4632 0.4352 0.4686 0.4295 0.7395 0.    ]]\n",
      "Index of chosen Support Vectors: [  3   6   8  12  13  14  30  31  32  34  40  41  43  48  54  55  58  61\n",
      "  63  64  67  70  71  72  73  74  75  76  77  83  84  85  88  90  91  93\n",
      "  94  95  98 204 206 216 219 231 233 248 249 254 255 256 266 267 279 402\n",
      " 403 410 420 422 426 427 429 430 434 436 439 443 446 452 465 469 484 495\n",
      " 100 101 107 108 118 124 131 134 138 140 141 145 151 163 165 172 173 174\n",
      " 177 182 192 199 300 302 303 308 309 311 312 314 318 334 336 342 350 351\n",
      " 352 353 356 361 362 363 365 378 379 380 386 395 396 399 503 512 521 522\n",
      " 523 524 533 546 564 565 566 567 571 572 573 576 580 581 583 584 585 586]\n",
      "Labels of Support Vectors: [-1. -1. -1. -1. -1. -1. -1. -1. -1. -1. -1. -1. -1. -1. -1. -1. -1. -1.\n",
      " -1. -1. -1. -1. -1. -1. -1. -1. -1. -1. -1. -1. -1. -1. -1. -1. -1. -1.\n",
      " -1. -1. -1. -1. -1. -1. -1. -1. -1. -1. -1. -1. -1. -1. -1. -1. -1. -1.\n",
      " -1. -1. -1. -1. -1. -1. -1. -1. -1. -1. -1. -1. -1. -1. -1. -1. -1. -1.\n",
      "  1.  1.  1.  1.  1.  1.  1.  1.  1.  1.  1.  1.  1.  1.  1.  1.  1.  1.\n",
      "  1.  1.  1.  1.  1.  1.  1.  1.  1.  1.  1.  1.  1.  1.  1.  1.  1.  1.\n",
      "  1.  1.  1.  1.  1.  1.  1.  1.  1.  1.  1.  1.  1.  1.  1.  1.  1.  1.\n",
      "  1.  1.  1.  1.  1.  1.  1.  1.  1.  1.  1.  1.  1.  1.  1.  1.  1.  1.]\n",
      "f: [[-0.25       -0.25       -0.25       -0.25       -0.25       -0.25\n",
      "  -0.25       -0.25       -0.25       -0.25       -0.25       -0.25\n",
      "  -0.25       -0.25       -0.25       -0.25       -0.25       -0.25\n",
      "  -0.25       -0.25       -0.25       -0.25       -0.25       -0.25\n",
      "  -0.25       -0.25       -0.25       -0.25       -0.25       -0.25\n",
      "  -0.25       -0.25       -0.1355857  -0.25       -0.25       -0.25\n",
      "  -0.25       -0.25       -0.25       -0.13633232 -0.25       -0.25\n",
      "  -0.25       -0.17982472 -0.25       -0.25       -0.25       -0.25\n",
      "  -0.25       -0.25       -0.25       -0.25       -0.25       -0.25\n",
      "  -0.25       -0.25       -0.25       -0.25       -0.25       -0.25\n",
      "  -0.25       -0.16924027 -0.25       -0.25       -0.25       -0.25\n",
      "  -0.25       -0.25       -0.25       -0.04992853 -0.00407197 -0.25\n",
      "   0.25        0.25        0.25        0.25        0.25        0.09279767\n",
      "   0.25        0.25        0.25        0.25        0.25        0.25\n",
      "   0.25        0.25        0.03085607  0.11452576  0.25        0.25\n",
      "   0.25        0.25        0.24200654  0.25        0.25        0.25\n",
      "   0.25        0.25        0.25        0.25        0.25        0.25\n",
      "   0.25        0.25        0.25        0.25        0.25        0.1782607\n",
      "   0.25        0.25        0.25        0.25        0.25        0.25\n",
      "   0.25        0.25        0.25        0.25        0.25        0.13288443\n",
      "   0.25        0.25        0.25        0.13365234  0.25        0.25\n",
      "   0.25        0.25        0.25        0.25        0.25        0.25\n",
      "   0.25        0.25        0.25        0.25        0.25        0.25\n",
      "   0.25        0.25        0.25        0.25        0.25        0.25      ]]\n"
     ]
    }
   ],
   "source": [
    "i0 = model2.support_          # indices of support vectors\n",
    "nsv = model2.n_support_       # number of support vectors in class 0 and class 1\n",
    "sv = model2.support_vectors_  # Support Vectors\n",
    "f = model2.dual_coef_        # this is the vector f = alpha.*d\n",
    "\n",
    "\n",
    "print(\"Number of Support Vectors for each class: \" + str(nsv))\n",
    "print(\"Chosen Support Vectors: \\n\" + str(sv))\n",
    "print(\"Index of chosen Support Vectors: \" + str(i0))\n",
    "print(\"Labels of Support Vectors: \" + str(y1[i0]))\n",
    "print(\"f: \" + str(f))"
   ]
  },
  {
   "cell_type": "code",
   "execution_count": 18,
   "metadata": {},
   "outputs": [
    {
     "name": "stdout",
     "output_type": "stream",
     "text": [
      "w: \n",
      "[[ 1.39486729]\n",
      " [-0.741521  ]\n",
      " [ 1.44231459]\n",
      " [-1.25415678]\n",
      " [ 1.24747038]\n",
      " [-0.15952854]]\n",
      "b: [0.26678328]\n"
     ]
    }
   ],
   "source": [
    "## Compute hyper-plane parameters\n",
    "w = np.dot(sv.T, f.T)   # Note we need to transpose f as it is stored as a row vector not a column vector\n",
    "b = model2.intercept_\n",
    "\n",
    "print(\"w: \\n\" + str(w))\n",
    "print(\"b: \" + str(b))"
   ]
  },
  {
   "cell_type": "code",
   "execution_count": 19,
   "metadata": {},
   "outputs": [
    {
     "name": "stdout",
     "output_type": "stream",
     "text": [
      "Accuracy: 92.33333333333333%\n"
     ]
    }
   ],
   "source": [
    "yhat = model2.predict(R2)\n",
    "\n",
    "#Compute Accuracy\n",
    "Acc = 1- np.sum(np.abs(yhat - y2))/R2.shape[0]\n",
    "print(\"Accuracy: \" + str(100*Acc) + \"%\")"
   ]
  },
  {
   "cell_type": "code",
   "execution_count": 20,
   "metadata": {},
   "outputs": [],
   "source": [
    "yt2 = model1.predict(p2)"
   ]
  },
  {
   "cell_type": "code",
   "execution_count": 21,
   "metadata": {},
   "outputs": [
    {
     "name": "stdout",
     "output_type": "stream",
     "text": [
      "Confusion matrix:\n",
      "[[100.   7.]\n",
      " [  0.  93.]]\n"
     ]
    },
    {
     "data": {
      "image/png": "[encoded data removed]",
      "text/plain": [
       "<Figure size 864x720 with 2 Axes>"
      ]
     },
     "metadata": {
      "needs_background": "light"
     },
     "output_type": "display_data"
    }
   ],
   "source": [
    "c_mat2 = np.zeros((2,2))\n",
    "for i in range(p2.shape[0]):\n",
    "    c_mat2[int((yt2[i]+1)/2), int((t2[i]+1)/2)] += 1\n",
    "\n",
    "print(\"Confusion matrix:\\n\" + str(c_mat2))\n",
    "\n",
    "group_counts = [\"{0:0.0f}\".format(value) for value in c_mat2.flatten()]\n",
    "group_percentages = [\"{0:.2%}\".format(value) for value in c_mat2.flatten()/np.sum(c_mat2)]\n",
    "labels = [f\"{v1}\\n{v2}\" for v1, v2 in zip(group_counts, group_percentages)]\n",
    "labels = np.asarray(labels).reshape(c_mat2.shape[0], c_mat2.shape[1])\n",
    "\n",
    "accuracy = (np.sum(np.logical_and(yt2, t2))/ t2.shape[0]) * 100\n",
    "\n",
    "plt.figure(figsize=(12,10))\n",
    "sn.heatmap(c_mat2, annot=labels, fmt='', cmap='rocket_r')\n",
    "plt.title(\"Confusion Matrix\")\n",
    "plt.ylabel('Output Class')\n",
    "_ = plt.xlabel('Target Class \\n Accuracy: ' + '%.2f'%accuracy + \"%\")"
   ]
  },
  {
   "cell_type": "markdown",
   "metadata": {},
   "source": [
    "## Model 3"
   ]
  },
  {
   "cell_type": "code",
   "execution_count": 22,
   "metadata": {},
   "outputs": [
    {
     "data": {
      "text/plain": [
       "SVC(C=0.25)"
      ]
     },
     "execution_count": 22,
     "metadata": {},
     "output_type": "execute_result"
    }
   ],
   "source": [
    "model3 = svm.SVC(kernel='rbf',C=0.25)\n",
    "model3.fit(R3,y3)"
   ]
  },
  {
   "cell_type": "code",
   "execution_count": 23,
   "metadata": {
    "scrolled": true
   },
   "outputs": [
    {
     "name": "stdout",
     "output_type": "stream",
     "text": [
      "Number of Support Vectors for each class: [41 38]\n",
      "Chosen Support Vectors: \n",
      "[[0.4471 0.7371 0.4371 0.7478 0.0188 0.9594]\n",
      " [0.6545 0.6811 0.6545 0.681  0.1435 0.9607]\n",
      " [0.4974 0.7816 0.455  0.8337 0.1332 0.634 ]\n",
      " [0.4635 0.7403 0.4693 0.7403 0.0277 0.9725]\n",
      " [0.6159 0.6102 0.616  0.6102 0.0846 0.8725]\n",
      " [0.5342 0.5282 0.5158 0.5784 0.0571 0.2374]\n",
      " [0.4928 0.5525 0.5272 0.5703 0.0656 0.3876]\n",
      " [0.6404 0.5183 0.6571 0.5851 0.1956 0.4354]\n",
      " [0.6118 0.4965 0.6315 0.5504 0.0693 0.4159]\n",
      " [0.5859 0.6536 0.5859 0.6536 0.0303 1.    ]\n",
      " [0.6404 0.5395 0.6493 0.5374 0.0822 0.6957]\n",
      " [0.6189 0.5892 0.6019 0.6481 0.171  0.5123]\n",
      " [0.6766 0.6336 0.6766 0.6336 0.1212 0.8426]\n",
      " [0.6151 0.603  0.6152 0.5974 0.     0.7082]\n",
      " [0.3913 0.4426 0.3863 0.4475 0.583  0.    ]\n",
      " [0.4631 0.4476 0.4631 0.4477 0.0727 0.6955]\n",
      " [0.2877 0.4636 0.249  0.5541 0.     0.2227]\n",
      " [0.4054 0.4256 0.4054 0.4256 0.0237 0.6829]\n",
      " [0.4331 0.416  0.4329 0.4164 0.1169 0.5477]\n",
      " [1.1318 1.277  0.2961 0.4989 0.     0.5881]\n",
      " [0.2581 0.5574 0.2952 0.6844 0.     0.066 ]\n",
      " [0.2924 0.5416 0.271  0.5649 0.0269 0.2571]\n",
      " [0.4636 0.7206 0.4586 0.7304 0.0801 1.    ]\n",
      " [0.3336 0.3474 0.334  0.4275 0.0329 0.4269]\n",
      " [0.3053 0.5791 0.2787 0.6241 0.     0.7854]\n",
      " [0.3898 0.4155 0.3843 0.4759 0.0306 0.7439]\n",
      " [0.3162 0.4843 0.2774 0.518  0.     0.2632]\n",
      " [0.4067 0.3865 0.4229 0.4543 0.0637 0.5357]\n",
      " [0.3088 0.4426 0.282  0.5037 0.1243 0.4344]\n",
      " [0.2666 0.3497 0.2355 0.4003 0.0561 0.1708]\n",
      " [0.38   0.4684 0.3815 0.4684 0.05   0.7733]\n",
      " [0.3947 0.3956 0.4002 0.4328 0.0909 0.694 ]\n",
      " [0.2542 0.352  0.2424 0.3747 0.0353 0.3258]\n",
      " [0.2863 0.3439 0.2735 0.3512 0.0495 0.3175]\n",
      " [0.3922 0.6207 0.3719 0.6488 0.0589 0.9268]\n",
      " [0.3903 0.8654 0.2434 0.5795 0.     0.2866]\n",
      " [0.3644 0.6133 0.3654 0.6118 0.0557 0.8883]\n",
      " [0.4257 0.7263 0.4172 0.7415 0.0403 1.    ]\n",
      " [0.4861 0.7023 0.4788 0.7122 0.3829 0.9854]\n",
      " [0.2079 0.2906 0.2456 0.4509 0.0516 0.4173]\n",
      " [0.2065 0.3594 0.1951 0.4725 0.     0.2999]\n",
      " [0.6352 0.6188 0.6352 0.6188 0.     0.8261]\n",
      " [0.8594 0.5115 0.8765 0.4931 1.     0.    ]\n",
      " [0.6155 0.5101 0.6156 0.504  0.1436 0.6262]\n",
      " [0.4393 0.2836 0.4581 0.2618 0.1942 0.    ]\n",
      " [0.3604 0.4593 0.3434 0.4773 0.1109 0.5714]\n",
      " [0.3706 0.4469 0.3579 0.4762 0.2699 0.165 ]\n",
      " [0.3581 0.5613 0.3582 0.8369 0.     0.7515]\n",
      " [0.3159 0.5803 0.3151 0.7379 0.0875 0.6162]\n",
      " [0.5903 0.4595 0.5901 0.4595 0.01   0.4613]\n",
      " [0.5415 0.6623 0.5417 0.6617 0.8976 0.    ]\n",
      " [1.2171 0.3053 0.7468 0.1812 0.688  0.    ]\n",
      " [0.5326 0.4173 0.5362 0.4148 0.1998 0.    ]\n",
      " [0.7497 0.5918 0.7496 0.5919 0.3353 0.    ]\n",
      " [0.449  0.5312 0.4417 0.5614 0.0453 0.7161]\n",
      " [0.6916 0.3087 1.0947 0.2333 0.28   0.    ]\n",
      " [0.5737 0.6502 0.5745 0.6493 0.     0.9911]\n",
      " [0.5033 0.6426 0.5028 0.6506 0.9489 0.    ]\n",
      " [0.7019 0.5885 0.7019 0.5885 0.3545 0.    ]\n",
      " [0.4053 0.4669 0.4053 0.4669 0.0408 0.5825]\n",
      " [0.421  0.5199 0.4144 0.5198 0.0635 0.7339]\n",
      " [0.4683 0.4466 0.4664 0.4446 0.1611 0.6379]\n",
      " [0.3402 0.455  0.3375 0.5158 0.0346 0.5903]\n",
      " [0.3187 0.3784 0.3213 0.3968 0.4066 0.    ]\n",
      " [0.8002 0.2222 0.9805 0.2198 0.7918 0.    ]\n",
      " [0.37   0.3556 0.391  0.3638 0.2769 0.    ]\n",
      " [0.4438 0.436  0.5371 0.4813 0.2819 0.    ]\n",
      " [0.6455 0.6405 0.6453 0.6404 1.     0.    ]\n",
      " [0.48   0.505  0.4767 0.5017 0.1508 0.7152]\n",
      " [0.3058 0.2711 0.3212 0.2696 0.4216 0.    ]\n",
      " [0.3128 0.2919 0.3407 0.2803 0.3763 0.    ]\n",
      " [0.3395 0.1775 0.4032 0.1424 0.3414 0.    ]\n",
      " [0.4447 0.5452 0.4468 0.5613 0.0322 0.7637]\n",
      " [0.3575 0.451  0.3439 0.4732 0.1152 0.5227]\n",
      " [1.215  0.6142 0.595  0.4196 0.6054 0.    ]\n",
      " [0.4297 0.3    0.5087 0.2649 0.1969 0.    ]\n",
      " [0.4445 0.485  0.4497 0.4963 0.1872 0.5471]\n",
      " [0.7838 0.3385 0.8175 0.3161 0.1011 0.    ]\n",
      " [0.4856 0.5985 0.4857 0.5984 0.0436 0.8984]]\n",
      "Index of chosen Support Vectors: [  4   6  10  26  31  48  49  54  55  57  66  67  79  90 202 210 226 227\n",
      " 229 239 252 269 295 404 410 414 415 416 423 438 445 454 460 462 464 465\n",
      " 468 474 475 484 485 109 113 114 117 136 142 161 162 165 180 195 196 197\n",
      " 199 309 321 324 348 365 366 367 371 376 389 511 512 517 521 524 525 527\n",
      " 536 542 553 562 565 586 590]\n",
      "Labels of Support Vectors: [-1. -1. -1. -1. -1. -1. -1. -1. -1. -1. -1. -1. -1. -1. -1. -1. -1. -1.\n",
      " -1. -1. -1. -1. -1. -1. -1. -1. -1. -1. -1. -1. -1. -1. -1. -1. -1. -1.\n",
      " -1. -1. -1. -1. -1.  1.  1.  1.  1.  1.  1.  1.  1.  1.  1.  1.  1.  1.\n",
      "  1.  1.  1.  1.  1.  1.  1.  1.  1.  1.  1.  1.  1.  1.  1.  1.  1.  1.\n",
      "  1.  1.  1.  1.  1.  1.  1.]\n",
      "f: [[-0.25       -0.25       -0.22017349 -0.05481673 -0.00903151 -0.25\n",
      "  -0.25       -0.25       -0.25       -0.25       -0.25       -0.25\n",
      "  -0.25       -0.15343379 -0.25       -0.25       -0.25       -0.14725377\n",
      "  -0.25       -0.25       -0.25       -0.09185653 -0.05032407 -0.25\n",
      "  -0.09907736 -0.25       -0.25       -0.25       -0.25       -0.25\n",
      "  -0.25       -0.25       -0.25       -0.25       -0.25       -0.25\n",
      "  -0.0721393  -0.25       -0.25       -0.25       -0.03166163  0.25\n",
      "   0.22591334  0.25        0.25        0.25        0.25        0.25\n",
      "   0.25        0.25        0.16575367  0.25        0.25        0.25\n",
      "   0.25        0.25        0.25        0.25        0.08944851  0.25\n",
      "   0.25        0.25        0.25        0.25        0.17274195  0.25\n",
      "   0.25        0.09261469  0.25        0.25        0.25        0.01027383\n",
      "   0.25        0.25        0.25        0.25        0.25        0.17302217\n",
      "   0.25      ]]\n"
     ]
    }
   ],
   "source": [
    "i0 = model3.support_          # indices of support vectors\n",
    "nsv = model3.n_support_       # number of support vectors in class 0 and class 1\n",
    "sv = model3.support_vectors_  # Support Vectors\n",
    "f = model3.dual_coef_        # this is the vector f = alpha.*d\n",
    "\n",
    "\n",
    "print(\"Number of Support Vectors for each class: \" + str(nsv))\n",
    "print(\"Chosen Support Vectors: \\n\" + str(sv))\n",
    "print(\"Index of chosen Support Vectors: \" + str(i0))\n",
    "print(\"Labels of Support Vectors: \" + str(y1[i0]))\n",
    "print(\"f: \" + str(f))"
   ]
  },
  {
   "cell_type": "code",
   "execution_count": 24,
   "metadata": {},
   "outputs": [
    {
     "name": "stdout",
     "output_type": "stream",
     "text": [
      "w: \n",
      "[[ 0.66058183]\n",
      " [-0.69576381]\n",
      " [ 0.85943303]\n",
      " [-0.68270666]\n",
      " [ 1.58962555]\n",
      " [-1.92333306]]\n",
      "b: [0.10221351]\n"
     ]
    }
   ],
   "source": [
    "## Compute hyper-plane parameters\n",
    "w = np.dot(sv.T, f.T)   # Note we need to transpose f as it is stored as a row vector not a column vector\n",
    "b = model3.intercept_\n",
    "\n",
    "print(\"w: \\n\" + str(w))\n",
    "print(\"b: \" + str(b))"
   ]
  },
  {
   "cell_type": "code",
   "execution_count": 25,
   "metadata": {},
   "outputs": [
    {
     "name": "stdout",
     "output_type": "stream",
     "text": [
      "Accuracy: 94.0%\n"
     ]
    }
   ],
   "source": [
    "yhat = model3.predict(R3)\n",
    "\n",
    "#Compute Accuracy\n",
    "Acc = 1- np.sum(np.abs(yhat - y3))/R3.shape[0]\n",
    "print(\"Accuracy: \" + str(100*Acc) + \"%\")"
   ]
  },
  {
   "cell_type": "code",
   "execution_count": 26,
   "metadata": {},
   "outputs": [],
   "source": [
    "yt3 = model1.predict(p3)"
   ]
  },
  {
   "cell_type": "code",
   "execution_count": 27,
   "metadata": {},
   "outputs": [
    {
     "name": "stdout",
     "output_type": "stream",
     "text": [
      "Confusion matrix:\n",
      "[[94.  1.]\n",
      " [ 6. 99.]]\n"
     ]
    },
    {
     "data": {
      "image/png": "[encoded data removed]",
      "text/plain": [
       "<Figure size 864x720 with 2 Axes>"
      ]
     },
     "metadata": {
      "needs_background": "light"
     },
     "output_type": "display_data"
    }
   ],
   "source": [
    "c_mat3 = np.zeros((2,2))\n",
    "for i in range(p3.shape[0]):\n",
    "    c_mat3[int((yt3[i]+1)/2), int((t3[i]+1)/2)] += 1\n",
    "\n",
    "print(\"Confusion matrix:\\n\" + str(c_mat3))\n",
    "\n",
    "group_counts = [\"{0:0.0f}\".format(value) for value in c_mat3.flatten()]\n",
    "group_percentages = [\"{0:.2%}\".format(value) for value in c_mat3.flatten()/np.sum(c_mat3)]\n",
    "labels = [f\"{v1}\\n{v2}\" for v1, v2 in zip(group_counts, group_percentages)]\n",
    "labels = np.asarray(labels).reshape(c_mat3.shape[0], c_mat3.shape[1])\n",
    "\n",
    "accuracy = (np.sum(np.logical_and(yt3, t3))/ t3.shape[0]) * 100\n",
    "\n",
    "plt.figure(figsize=(12,10))\n",
    "sn.heatmap(c_mat3, annot=labels, fmt='', cmap='rocket_r')\n",
    "plt.title(\"Confusion Matrix\")\n",
    "plt.ylabel('Output Class')\n",
    "_ = plt.xlabel('Target Class \\n Accuracy: ' + '%.2f'%accuracy + \"%\")"
   ]
  },
  {
   "cell_type": "markdown",
   "metadata": {},
   "source": [
    "## Model 4"
   ]
  },
  {
   "cell_type": "code",
   "execution_count": 28,
   "metadata": {},
   "outputs": [
    {
     "data": {
      "text/plain": [
       "SVC(C=0.25)"
      ]
     },
     "execution_count": 28,
     "metadata": {},
     "output_type": "execute_result"
    }
   ],
   "source": [
    "model4 = svm.SVC(kernel='rbf',C=0.25)\n",
    "model4.fit(R4,y4)"
   ]
  },
  {
   "cell_type": "code",
   "execution_count": 29,
   "metadata": {},
   "outputs": [
    {
     "name": "stdout",
     "output_type": "stream",
     "text": [
      "Number of Support Vectors for each class: [66 70]\n",
      "Chosen Support Vectors: \n",
      "[[0.3913 0.4426 0.3863 0.4475 0.583  0.    ]\n",
      " [0.3824 0.4569 0.3823 0.4701 0.0993 0.5625]\n",
      " [0.4919 0.6829 0.4967 0.688  0.0985 0.9726]\n",
      " [0.5112 0.669  0.501  0.6738 0.0962 0.9704]\n",
      " [0.4631 0.4476 0.4631 0.4477 0.0727 0.6955]\n",
      " [0.404  0.4786 0.4016 0.4757 0.0616 0.6878]\n",
      " [0.4054 0.4256 0.4054 0.4256 0.0237 0.6829]\n",
      " [0.4331 0.416  0.4329 0.4164 0.1169 0.5477]\n",
      " [0.3026 0.3818 0.2935 0.4007 0.0689 0.5324]\n",
      " [1.1318 1.277  0.2961 0.4989 0.     0.5881]\n",
      " [0.3966 0.506  0.3888 0.557  0.1461 0.6374]\n",
      " [0.5687 0.6627 0.5687 0.6627 0.     0.9363]\n",
      " [0.5374 0.6671 0.5375 0.6671 0.0686 0.7465]\n",
      " [0.2581 0.5574 0.2952 0.6844 0.     0.066 ]\n",
      " [0.5004 0.5938 0.5013 0.5926 0.1082 0.7239]\n",
      " [0.498  0.5916 0.495  0.6011 0.0983 0.6672]\n",
      " [0.5646 0.6059 0.5646 0.6059 0.0695 0.9321]\n",
      " [0.4636 0.7206 0.4586 0.7304 0.0801 1.    ]\n",
      " [0.3336 0.3474 0.334  0.4275 0.0329 0.4269]\n",
      " [0.3898 0.4155 0.3843 0.4759 0.0306 0.7439]\n",
      " [0.4067 0.3865 0.4229 0.4543 0.0637 0.5357]\n",
      " [0.2666 0.3497 0.2355 0.4003 0.0561 0.1708]\n",
      " [0.3947 0.3956 0.4002 0.4328 0.0909 0.694 ]\n",
      " [0.2542 0.352  0.2424 0.3747 0.0353 0.3258]\n",
      " [0.2863 0.3439 0.2735 0.3512 0.0495 0.3175]\n",
      " [0.3903 0.8654 0.2434 0.5795 0.     0.2866]\n",
      " [0.4861 0.7023 0.4788 0.7122 0.3829 0.9854]\n",
      " [0.2079 0.2906 0.2456 0.4509 0.0516 0.4173]\n",
      " [0.2919 0.3959 0.2823 0.4136 0.522  0.0652]\n",
      " [0.391  0.5633 0.3668 0.5996 0.7568 0.0341]\n",
      " [0.4054 0.4852 0.4013 0.5035 0.6355 0.0979]\n",
      " [0.3685 0.5117 0.3573 0.5654 0.7136 0.0387]\n",
      " [0.3942 0.5477 0.3793 0.5836 0.7365 0.05  ]\n",
      " [0.3764 0.5465 0.3459 0.5885 0.7428 0.039 ]\n",
      " [0.3769 0.5347 0.3511 0.5895 0.744  0.1395]\n",
      " [0.3844 0.583  0.3766 0.5959 0.7522 0.0761]\n",
      " [0.4149 0.5043 0.4154 0.5083 0.6416 0.5223]\n",
      " [0.3503 0.459  0.3177 0.5168 0.6523 0.    ]\n",
      " [0.3872 0.5538 0.3795 0.5658 0.7142 0.0277]\n",
      " [0.3621 0.4433 0.3656 0.4699 0.593  0.0582]\n",
      " [0.32   0.431  0.2852 0.5934 0.749  0.0217]\n",
      " [0.3439 0.5462 0.333  0.5685 0.7175 0.0733]\n",
      " [0.3767 0.4548 0.3704 0.4969 0.6271 0.0609]\n",
      " [0.363  0.5326 0.3347 0.5899 0.7445 0.    ]\n",
      " [0.3641 0.531  0.3445 0.5592 0.7058 0.0327]\n",
      " [0.3804 0.5263 0.361  0.5839 0.7369 0.0573]\n",
      " [0.4031 0.4691 0.3922 0.4796 0.6053 0.    ]\n",
      " [0.3658 0.496  0.3551 0.5223 0.6593 0.1756]\n",
      " [0.3065 0.4322 0.3017 0.5117 0.6458 0.0553]\n",
      " [0.3402 0.503  0.3414 0.5026 0.6344 0.0465]\n",
      " [0.5372 0.624  0.5278 0.6349 0.8014 0.046 ]\n",
      " [0.3752 0.4941 0.3539 0.5304 0.6695 0.0413]\n",
      " [0.2881 0.4744 0.2538 0.5074 0.6404 0.    ]\n",
      " [0.2523 0.4778 0.2312 0.4948 0.6245 0.    ]\n",
      " [0.4995 0.6837 0.501  0.6826 0.8616 0.1444]\n",
      " [0.4932 0.6642 0.4909 0.6606 0.8338 0.    ]\n",
      " [0.5538 0.6167 0.5524 0.6203 0.783  0.1451]\n",
      " [0.5538 0.6167 0.5524 0.6203 0.783  0.1451]\n",
      " [0.4673 0.6305 0.4673 0.6305 0.7958 0.0485]\n",
      " [0.5219 0.6958 0.5134 0.7096 0.8956 0.    ]\n",
      " [0.4915 0.6757 0.4699 0.7065 0.8918 0.1246]\n",
      " [0.5123 0.681  0.5123 0.681  0.8595 0.0296]\n",
      " [0.4777 0.6704 0.4804 0.6681 0.8432 0.    ]\n",
      " [0.5314 0.7172 0.5209 0.7324 0.9244 0.    ]\n",
      " [0.5555 0.6252 0.5577 0.6286 0.7934 0.0489]\n",
      " [0.5264 0.6684 0.5277 0.6679 0.8429 0.2835]\n",
      " [0.5392 0.4669 0.5368 0.4679 0.7535 0.    ]\n",
      " [0.5022 0.4527 0.5022 0.4527 0.7458 0.    ]\n",
      " [0.6916 0.3087 1.0947 0.2333 0.28   0.    ]\n",
      " [0.5737 0.6502 0.5745 0.6493 0.     0.9911]\n",
      " [0.5991 0.5898 0.6026 0.5933 1.     0.    ]\n",
      " [0.5707 0.5936 0.5707 0.5936 0.7967 0.    ]\n",
      " [0.5033 0.6426 0.5028 0.6506 0.9489 0.    ]\n",
      " [0.4244 0.4329 0.4261 0.4313 0.6058 0.    ]\n",
      " [0.4338 0.4818 0.4342 0.4815 0.5696 0.    ]\n",
      " [0.7019 0.5885 0.7019 0.5885 0.3545 0.    ]\n",
      " [0.4053 0.4669 0.4053 0.4669 0.0408 0.5825]\n",
      " [0.421  0.5199 0.4144 0.5198 0.0635 0.7339]\n",
      " [0.4683 0.4466 0.4664 0.4446 0.1611 0.6379]\n",
      " [0.3402 0.455  0.3375 0.5158 0.0346 0.5903]\n",
      " [0.4186 0.4534 0.4187 0.4533 0.6312 0.    ]\n",
      " [0.5511 0.5998 0.5516 0.5994 0.7794 0.    ]\n",
      " [0.3187 0.3784 0.3213 0.3968 0.4066 0.    ]\n",
      " [0.455  0.4059 0.455  0.4059 0.7127 0.    ]\n",
      " [0.455  0.4059 0.455  0.4059 0.7127 0.    ]\n",
      " [0.5022 0.4306 0.5035 0.4251 0.8861 0.    ]\n",
      " [0.3945 0.3511 0.4034 0.3505 0.6154 0.    ]\n",
      " [0.4538 0.4393 0.4547 0.4391 0.7387 0.    ]\n",
      " [0.4632 0.4352 0.4686 0.4295 0.7395 0.    ]\n",
      " [0.527  0.5039 0.527  0.5039 0.6786 0.    ]\n",
      " [0.37   0.3556 0.391  0.3638 0.2769 0.    ]\n",
      " [0.4438 0.436  0.5371 0.4813 0.2819 0.    ]\n",
      " [0.6455 0.6405 0.6453 0.6404 1.     0.    ]\n",
      " [0.48   0.505  0.4767 0.5017 0.1508 0.7152]\n",
      " [0.3058 0.2711 0.3212 0.2696 0.4216 0.    ]\n",
      " [0.3128 0.2919 0.3407 0.2803 0.3763 0.    ]\n",
      " [0.5916 0.5131 0.591  0.5132 0.7101 0.    ]\n",
      " [0.4447 0.5452 0.4468 0.5613 0.0322 0.7637]\n",
      " [0.3575 0.451  0.3439 0.4732 0.1152 0.5227]\n",
      " [0.4784 0.4845 0.4784 0.4846 0.6727 0.    ]\n",
      " [0.4508 0.5434 0.4584 0.5563 0.7307 0.    ]\n",
      " [1.215  0.6142 0.595  0.4196 0.6054 0.    ]\n",
      " [0.4341 0.4886 0.45   0.5014 0.5832 0.    ]\n",
      " [0.4082 0.5459 0.4082 0.5647 0.7375 0.    ]\n",
      " [0.4953 0.4961 0.5047 0.5021 0.6356 0.    ]\n",
      " [0.4445 0.485  0.4497 0.4963 0.1872 0.5471]\n",
      " [0.4267 0.4782 0.4293 0.4827 0.5438 0.    ]\n",
      " [0.4845 0.4496 0.4845 0.4498 0.5909 0.    ]\n",
      " [0.391  0.4794 0.3937 0.4822 0.582  0.    ]\n",
      " [0.391  0.4794 0.3937 0.4822 0.582  0.    ]\n",
      " [0.4856 0.5985 0.4857 0.5984 0.0436 0.8984]\n",
      " [0.5099 0.4645 0.5153 0.4652 0.7001 0.    ]\n",
      " [0.4473 0.4656 0.4473 0.4656 0.5816 0.    ]\n",
      " [0.4649 0.5419 0.4648 0.5412 0.6831 0.5046]\n",
      " [0.4551 0.4419 0.457  0.4385 0.5535 0.4898]\n",
      " [0.5298 0.2511 0.5934 0.1937 0.2445 0.4632]\n",
      " [0.4949 0.3369 0.4949 0.3369 0.4252 0.6125]\n",
      " [1.4337 1.7101 0.4775 0.4066 0.5132 0.398 ]\n",
      " [0.8932 0.1628 0.9281 0.1685 0.2126 0.3272]\n",
      " [1.4913 0.4143 0.8565 0.1462 0.1846 0.6919]\n",
      " [0.9141 0.2497 0.8136 0.2522 0.3183 0.688 ]\n",
      " [0.5878 0.2253 0.7716 0.1056 0.1333 0.4388]\n",
      " [0.4211 0.3806 0.4392 0.3744 0.4726 0.5681]\n",
      " [0.465  0.3806 0.465  0.3806 0.4804 0.5552]\n",
      " [0.5435 0.6549 0.5436 0.6549 0.8266 0.5902]\n",
      " [0.4948 0.6775 0.4994 0.6796 0.8577 0.3321]\n",
      " [0.6463 0.3004 0.7334 0.2305 0.2909 0.7159]\n",
      " [0.433  0.5502 0.4331 0.5676 0.7164 0.7257]\n",
      " [0.4803 0.743  0.4833 0.7434 0.9383 0.6303]\n",
      " [0.5131 0.7574 0.5099 0.7634 0.9635 0.7881]\n",
      " [0.7779 0.5864 0.8082 0.5564 0.7023 0.9672]\n",
      " [0.5047 0.7276 0.5047 0.7276 0.9183 0.7002]\n",
      " [0.432  0.5101 0.4268 0.5233 0.6605 0.2956]\n",
      " [0.7903 0.566  0.8325 0.5299 0.6688 0.957 ]\n",
      " [0.5866 0.6603 0.5796 0.6716 0.8476 0.5558]\n",
      " [0.4437 0.3954 0.4452 0.3938 0.497  0.5387]]\n",
      "Index of chosen Support Vectors: [  2   3   5   7  10  20  27  29  36  39  46  48  49  52  81  82  94  95\n",
      " 204 214 216 238 254 260 262 265 275 284 406 408 412 413 414 430 431 432\n",
      " 434 440 441 443 444 446 448 453 454 455 458 461 463 464 467 470 471 472\n",
      " 473 475 476 477 484 485 490 491 493 494 495 498 101 103 109 121 122 123\n",
      " 124 133 146 148 165 166 167 171 172 173 176 180 181 183 184 185 186 308\n",
      " 311 312 317 321 324 325 328 336 342 345 352 353 354 355 356 365 374 377\n",
      " 378 384 390 394 399 500 501 502 504 507 511 518 524 531 534 538 540 541\n",
      " 545 551 563 565 572 573 574 577 582 599]\n",
      "Labels of Support Vectors: [-1. -1. -1. -1. -1. -1. -1. -1. -1. -1. -1. -1. -1. -1. -1. -1. -1. -1.\n",
      " -1. -1. -1. -1. -1. -1. -1. -1. -1. -1. -1. -1. -1. -1. -1. -1. -1. -1.\n",
      " -1. -1. -1. -1. -1. -1. -1. -1. -1. -1. -1. -1. -1. -1. -1. -1. -1. -1.\n",
      " -1. -1. -1. -1. -1. -1. -1. -1. -1. -1. -1. -1.  1.  1.  1.  1.  1.  1.\n",
      "  1.  1.  1.  1.  1.  1.  1.  1.  1.  1.  1.  1.  1.  1.  1.  1.  1.  1.\n",
      "  1.  1.  1.  1.  1.  1.  1.  1.  1.  1.  1.  1.  1.  1.  1.  1.  1.  1.\n",
      "  1.  1.  1.  1.  1.  1.  1.  1.  1.  1.  1.  1.  1.  1.  1.  1.  1.  1.\n",
      "  1.  1.  1.  1.  1.  1.  1.  1.  1.  1.]\n",
      "f: [[-0.25       -0.25       -0.25       -0.25       -0.25       -0.25\n",
      "  -0.25       -0.25       -0.25       -0.25       -0.25       -0.25\n",
      "  -0.23539416 -0.25       -0.25       -0.25       -0.25       -0.24702873\n",
      "  -0.25       -0.05328009 -0.25       -0.25       -0.25       -0.25\n",
      "  -0.25       -0.25       -0.25       -0.12463416 -0.25       -0.25\n",
      "  -0.25       -0.25       -0.25       -0.25       -0.25       -0.25\n",
      "  -0.25       -0.25       -0.25       -0.25       -0.25       -0.25\n",
      "  -0.25       -0.0821387  -0.25       -0.25       -0.25       -0.25\n",
      "  -0.25       -0.25       -0.25       -0.25       -0.25       -0.25\n",
      "  -0.25       -0.25       -0.25       -0.25       -0.25       -0.25\n",
      "  -0.25       -0.25       -0.25       -0.25       -0.25       -0.25\n",
      "   0.25        0.25        0.08478504  0.25        0.25        0.25\n",
      "   0.25        0.25        0.25        0.01241045  0.25        0.25\n",
      "   0.25        0.25        0.25        0.25        0.25        0.25\n",
      "   0.25        0.25        0.25        0.25        0.25        0.25\n",
      "   0.25        0.25        0.25        0.25        0.25        0.25\n",
      "   0.25        0.25        0.25        0.25        0.25        0.25\n",
      "   0.25        0.25        0.25        0.25        0.25        0.13474449\n",
      "   0.25        0.25        0.25        0.25        0.25        0.25\n",
      "   0.25        0.03092194  0.12839205  0.25        0.10760897  0.25\n",
      "   0.03692408  0.25        0.25        0.23095678  0.25        0.25\n",
      "   0.25        0.25        0.25        0.11379785  0.11193418  0.25\n",
      "   0.25        0.25        0.25        0.25      ]]\n"
     ]
    }
   ],
   "source": [
    "i0 = model4.support_          # indices of support vectors\n",
    "nsv = model4.n_support_       # number of support vectors in class 0 and class 1\n",
    "sv = model4.support_vectors_  # Support Vectors\n",
    "f = model4.dual_coef_        # this is the vector f = alpha.*d\n",
    "\n",
    "\n",
    "print(\"Number of Support Vectors for each class: \" + str(nsv))\n",
    "print(\"Chosen Support Vectors: \\n\" + str(sv))\n",
    "print(\"Index of chosen Support Vectors: \" + str(i0))\n",
    "print(\"Labels of Support Vectors: \" + str(y1[i0]))\n",
    "print(\"f: \" + str(f))"
   ]
  },
  {
   "cell_type": "code",
   "execution_count": 30,
   "metadata": {},
   "outputs": [
    {
     "name": "stdout",
     "output_type": "stream",
     "text": [
      "w: \n",
      "[[ 1.57681271]\n",
      " [-0.70994686]\n",
      " [ 1.55213379]\n",
      " [-1.28540658]\n",
      " [ 1.2612016 ]\n",
      " [-0.17439474]]\n",
      "b: [0.17208446]\n"
     ]
    }
   ],
   "source": [
    "## Compute hyper-plane parameters\n",
    "w = np.dot(sv.T, f.T)   # Note we need to transpose f as it is stored as a row vector not a column vector\n",
    "b = model4.intercept_\n",
    "\n",
    "print(\"w: \\n\" + str(w))\n",
    "print(\"b: \" + str(b))"
   ]
  },
  {
   "cell_type": "code",
   "execution_count": 31,
   "metadata": {},
   "outputs": [
    {
     "name": "stdout",
     "output_type": "stream",
     "text": [
      "Accuracy: 93.33333333333333%\n"
     ]
    }
   ],
   "source": [
    "yhat = model4.predict(R4)\n",
    "\n",
    "#Compute Accuracy\n",
    "Acc = 1- np.sum(np.abs(yhat - y4))/R4.shape[0]\n",
    "print(\"Accuracy: \" + str(100*Acc) + \"%\")"
   ]
  },
  {
   "cell_type": "code",
   "execution_count": 32,
   "metadata": {},
   "outputs": [],
   "source": [
    "yt4 = model1.predict(p4)"
   ]
  },
  {
   "cell_type": "code",
   "execution_count": 33,
   "metadata": {},
   "outputs": [
    {
     "name": "stdout",
     "output_type": "stream",
     "text": [
      "Confusion matrix:\n",
      "[[99.  9.]\n",
      " [ 1. 91.]]\n"
     ]
    },
    {
     "data": {
      "image/png": "[encoded data removed]",
      "text/plain": [
       "<Figure size 864x720 with 2 Axes>"
      ]
     },
     "metadata": {
      "needs_background": "light"
     },
     "output_type": "display_data"
    }
   ],
   "source": [
    "c_mat4 = np.zeros((2,2))\n",
    "for i in range(p4.shape[0]):\n",
    "    c_mat4[int((yt4[i]+1)/2), int((t4[i]+1)/2)] += 1\n",
    "\n",
    "print(\"Confusion matrix:\\n\" + str(c_mat4))\n",
    "\n",
    "group_counts = [\"{0:0.0f}\".format(value) for value in c_mat4.flatten()]\n",
    "group_percentages = [\"{0:.2%}\".format(value) for value in c_mat4.flatten()/np.sum(c_mat4)]\n",
    "labels = [f\"{v1}\\n{v2}\" for v1, v2 in zip(group_counts, group_percentages)]\n",
    "labels = np.asarray(labels).reshape(c_mat4.shape[0], c_mat4.shape[1])\n",
    "\n",
    "accuracy = (np.sum(np.logical_and(yt4, t4))/ t4.shape[0]) * 100\n",
    "\n",
    "plt.figure(figsize=(12,10))\n",
    "sn.heatmap(c_mat4, annot=labels, fmt='', cmap='rocket_r')\n",
    "plt.title(\"Confusion Matrix\")\n",
    "plt.ylabel('Output Class')\n",
    "_ = plt.xlabel('Target Class \\n Accuracy: ' + '%.2f'%accuracy + \"%\")"
   ]
  },
  {
   "cell_type": "code",
   "execution_count": 34,
   "metadata": {},
   "outputs": [
    {
     "name": "stdout",
     "output_type": "stream",
     "text": [
      "Combined confusion matrix:\n",
      "[[391.  23.]\n",
      " [  9. 377.]]\n"
     ]
    }
   ],
   "source": [
    "c_mat = c_mat1 + c_mat2 + c_mat3 +c_mat4\n",
    "print(\"Combined confusion matrix:\\n\" + str(c_mat))"
   ]
  },
  {
   "cell_type": "code",
   "execution_count": 35,
   "metadata": {},
   "outputs": [
    {
     "data": {
      "text/plain": [
       "Text(87.0, 0.5, 'Output Class')"
      ]
     },
     "execution_count": 35,
     "metadata": {},
     "output_type": "execute_result"
    },
    {
     "data": {
      "image/png": "[encoded data removed]",
      "text/plain": [
       "<Figure size 864x720 with 2 Axes>"
      ]
     },
     "metadata": {
      "needs_background": "light"
     },
     "output_type": "display_data"
    }
   ],
   "source": [
    "group_counts = [\"{0:0.0f}\".format(value) for value in c_mat.flatten()]\n",
    "group_percentages = [\"{0:.2%}\".format(value) for value in c_mat.flatten()/np.sum(c_mat)]\n",
    "labels = [f\"{v1}\\n{v2}\" for v1, v2 in zip(group_counts, group_percentages)]\n",
    "labels = np.asarray(labels).reshape(c_mat.shape[0], c_mat.shape[1])\n",
    "\n",
    "plt.figure(figsize=(12,10))\n",
    "sn.heatmap(c_mat, annot=labels, fmt='', cmap='rocket_r')\n",
    "plt.title(\"Confusion Matrix\")\n",
    "plt.ylabel('Output Class')"
   ]
  },
  {
   "cell_type": "code",
   "execution_count": 36,
   "metadata": {},
   "outputs": [
    {
     "name": "stdout",
     "output_type": "stream",
     "text": [
      "Sensitivity is: 94.44444444444444%\n",
      "Specificity is: 97.66839378238342%\n"
     ]
    }
   ],
   "source": [
    "sen = c_mat[0,0]/(c_mat[0,0] + c_mat[0,1]) #Sensitivity\n",
    "spe = c_mat[1,1]/(c_mat[1,0] + c_mat[1,1]) #Specificity\n",
    "print(\"Sensitivity is: \" + str(100 * sen) + \"%\")\n",
    "print(\"Specificity is: \" + str(100 * spe) + \"%\")"
   ]
  },
  {
   "cell_type": "code",
   "execution_count": null,
   "metadata": {},
   "outputs": [],
   "source": []
  }
 ],
 "metadata": {
  "colab": {
   "name": "hw11.ipynb",
   "provenance": []
  },
  "kernelspec": {
   "display_name": "Python 3 (ipykernel)",
   "language": "python",
   "name": "python3"
  },
  "language_info": {
   "codemirror_mode": {
    "name": "ipython",
    "version": 3
   },
   "file_extension": ".py",
   "mimetype": "text/x-python",
   "name": "python",
   "nbconvert_exporter": "python",
   "pygments_lexer": "ipython3",
   "version": "3.8.11"
  },
  "varInspector": {
   "cols": {
    "lenName": 16,
    "lenType": 16,
    "lenVar": 40
   },
   "kernels_config": {
    "python": {
     "delete_cmd_postfix": "",
     "delete_cmd_prefix": "del ",
     "library": "var_list.py",
     "varRefreshCmd": "print(var_dic_list())"
    },
    "r": {
     "delete_cmd_postfix": ") ",
     "delete_cmd_prefix": "rm(",
     "library": "var_list.r",
     "varRefreshCmd": "cat(var_dic_list()) "
    }
   },
   "types_to_exclude": [
    "module",
    "function",
    "builtin_function_or_method",
    "instance",
    "_Feature"
   ],
   "window_display": false
  }
 },
 "nbformat": 4,
 "nbformat_minor": 1
}
