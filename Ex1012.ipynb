{
 "cells": [
  {
   "cell_type": "markdown",
   "metadata": {},
   "source": [
    "## Problem 1"
   ]
  },
  {
   "cell_type": "code",
   "execution_count": 1,
   "metadata": {},
   "outputs": [],
   "source": [
    "import numpy as np"
   ]
  },
  {
   "cell_type": "code",
   "execution_count": 11,
   "metadata": {},
   "outputs": [],
   "source": [
    "X = np.mat([[1,0,0],[1,0,1],[1,1,0],[1,1,1]])\n",
    "w = np.mat([[-0.1],[0.3],[-0.2]])\n",
    "d = np.mat([[0],[0],[0],[1]])"
   ]
  },
  {
   "cell_type": "code",
   "execution_count": 6,
   "metadata": {},
   "outputs": [],
   "source": [
    "u = X.dot(w)"
   ]
  },
  {
   "cell_type": "code",
   "execution_count": 7,
   "metadata": {},
   "outputs": [
    {
     "data": {
      "text/plain": [
       "matrix([[-1.00000000e-01],\n",
       "        [-3.00000000e-01],\n",
       "        [ 2.00000000e-01],\n",
       "        [-2.77555756e-17]])"
      ]
     },
     "execution_count": 7,
     "metadata": {},
     "output_type": "execute_result"
    }
   ],
   "source": [
    "u"
   ]
  },
  {
   "cell_type": "code",
   "execution_count": 30,
   "metadata": {},
   "outputs": [],
   "source": [
    "def sigmoid(x):\n",
    "    return 1. / (1 + np.exp(-x))\n",
    "\n",
    "def dfsigmod(x):\n",
    "    return np.multiply(sigmoid(x),1-sigmoid(x))"
   ]
  },
  {
   "cell_type": "code",
   "execution_count": 16,
   "metadata": {},
   "outputs": [],
   "source": [
    "z = sigmoid(u)"
   ]
  },
  {
   "cell_type": "code",
   "execution_count": 17,
   "metadata": {},
   "outputs": [
    {
     "data": {
      "text/plain": [
       "matrix([[0.47502081],\n",
       "        [0.42555748],\n",
       "        [0.549834  ],\n",
       "        [0.5       ]])"
      ]
     },
     "execution_count": 17,
     "metadata": {},
     "output_type": "execute_result"
    }
   ],
   "source": [
    "z"
   ]
  },
  {
   "cell_type": "code",
   "execution_count": 18,
   "metadata": {},
   "outputs": [],
   "source": [
    "e = d - z"
   ]
  },
  {
   "cell_type": "code",
   "execution_count": 19,
   "metadata": {},
   "outputs": [
    {
     "data": {
      "text/plain": [
       "matrix([[-0.47502081],\n",
       "        [-0.42555748],\n",
       "        [-0.549834  ],\n",
       "        [ 0.5       ]])"
      ]
     },
     "execution_count": 19,
     "metadata": {},
     "output_type": "execute_result"
    }
   ],
   "source": [
    "e"
   ]
  },
  {
   "cell_type": "code",
   "execution_count": 32,
   "metadata": {},
   "outputs": [],
   "source": [
    "delta = np.multiply(dfsigmod(u),e)"
   ]
  },
  {
   "cell_type": "code",
   "execution_count": 33,
   "metadata": {},
   "outputs": [
    {
     "data": {
      "text/plain": [
       "matrix([[-0.11845881],\n",
       "        [-0.10403106],\n",
       "        [-0.13609303],\n",
       "        [ 0.125     ]])"
      ]
     },
     "execution_count": 33,
     "metadata": {},
     "output_type": "execute_result"
    }
   ],
   "source": [
    "delta"
   ]
  },
  {
   "cell_type": "code",
   "execution_count": 35,
   "metadata": {},
   "outputs": [],
   "source": [
    "lr = 0.1"
   ]
  },
  {
   "cell_type": "code",
   "execution_count": 36,
   "metadata": {},
   "outputs": [],
   "source": [
    "w = w + lr * X.T.dot(delta)"
   ]
  },
  {
   "cell_type": "code",
   "execution_count": 37,
   "metadata": {},
   "outputs": [
    {
     "data": {
      "text/plain": [
       "matrix([[-0.12335829],\n",
       "        [ 0.2988907 ],\n",
       "        [-0.19790311]])"
      ]
     },
     "execution_count": 37,
     "metadata": {},
     "output_type": "execute_result"
    }
   ],
   "source": [
    "w"
   ]
  },
  {
   "cell_type": "markdown",
   "metadata": {},
   "source": [
    "## Problem 2"
   ]
  },
  {
   "cell_type": "markdown",
   "metadata": {},
   "source": [
    "## $\\delta_{i}^{(l)}(k)=\\frac{\\partial E}{\\partial u_i^{(l)}(k)}$$=f^{'}(u_i^{(l)}(k))·\\sum_{m=1}^{N(l+1)}\\delta_{m}^{(l+1)}(k)·\\frac{\\partial u_m^{(l+1)}(k)}{\\partial z_i^{(l)}(k)}$ $=f^{'}(u_i^{(l)}(k))·\\sum_{m=1}^{N(l+1)}w_{im}^{(l+1)}(k)·\\delta_m^{(l+1)}(k)$"
   ]
  },
  {
   "cell_type": "markdown",
   "metadata": {},
   "source": [
    "## where for the output layer:"
   ]
  },
  {
   "cell_type": "markdown",
   "metadata": {},
   "source": [
    "## $\\delta_{1}^{(3)}(k)=f^{'}(u_1^{(3)}(k))·[z_{1}^{(3)}(k)-d_{1}(k)]$"
   ]
  },
  {
   "cell_type": "markdown",
   "metadata": {},
   "source": [
    "## $\\delta_{2}^{(3)}(k)=f^{'}(u_2^{(3)}(k))·[z_{2}^{(3)}(k)-d_{2}(k)]$"
   ]
  },
  {
   "cell_type": "markdown",
   "metadata": {},
   "source": [
    "## for $\\delta_{1}^{(2)}(k)=\\frac{\\partial E}{\\partial u_1^{(2)}(k)}$"
   ]
  },
  {
   "cell_type": "markdown",
   "metadata": {},
   "source": [
    "## $\\delta_{1}^{(2)}(k)= f^{'}(u_1^{(2)}(k))·\\sum_{m=1}^{N(3)}w_{1m}^{(3)}(k)·\\delta_m^{(3)}(k)$"
   ]
  },
  {
   "cell_type": "markdown",
   "metadata": {},
   "source": [
    "## $N(3)=2$"
   ]
  },
  {
   "cell_type": "markdown",
   "metadata": {},
   "source": [
    "## $\\delta_{1}^{(2)}(k)= f^{'}(u_1^{(2)}(k))·\\sum_{m=1}^{2}w_{1m}^{(3)}(k)·\\delta_m^{(3)}(k)$"
   ]
  },
  {
   "cell_type": "markdown",
   "metadata": {},
   "source": [
    "## $\\delta_{1}^{(2)}(k)= f^{'}(u_1^{(2)}(k))·(w_{1,1}^{(3)}(k)·\\delta_1^{(3)}(k)+w_{1,2}^{(3)}(k)·\\delta_2^{(3)}(k))$"
   ]
  },
  {
   "cell_type": "code",
   "execution_count": null,
   "metadata": {},
   "outputs": [],
   "source": []
  }
 ],
 "metadata": {
  "kernelspec": {
   "display_name": "Python 3",
   "language": "python",
   "name": "python3"
  },
  "language_info": {
   "codemirror_mode": {
    "name": "ipython",
    "version": 3
   },
   "file_extension": ".py",
   "mimetype": "text/x-python",
   "name": "python",
   "nbconvert_exporter": "python",
   "pygments_lexer": "ipython3",
   "version": "3.6.9"
  }
 },
 "nbformat": 4,
 "nbformat_minor": 4
}
