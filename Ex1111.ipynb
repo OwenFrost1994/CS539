{
 "cells": [
  {
   "cell_type": "markdown",
   "metadata": {},
   "source": [
    "## Problem 1"
   ]
  },
  {
   "cell_type": "code",
   "execution_count": 1,
   "metadata": {},
   "outputs": [],
   "source": [
    "import numpy as np"
   ]
  },
  {
   "cell_type": "markdown",
   "metadata": {},
   "source": [
    "## (a)"
   ]
  },
  {
   "cell_type": "code",
   "execution_count": 2,
   "metadata": {},
   "outputs": [
    {
     "data": {
      "text/plain": [
       "matrix([[-1, -1],\n",
       "        [-1,  1],\n",
       "        [ 1, -1],\n",
       "        [ 1,  1]])"
      ]
     },
     "execution_count": 2,
     "metadata": {},
     "output_type": "execute_result"
    }
   ],
   "source": [
    "X = np.mat([[-1,-1],[-1,1],[1,-1],[1,1]])\n",
    "X"
   ]
  },
  {
   "cell_type": "code",
   "execution_count": 3,
   "metadata": {},
   "outputs": [],
   "source": [
    "def fi(x):\n",
    "    return np.mat([[1,x[0,0]**2,x[0,1]**2,np.sqrt(2)*x[0,0],np.sqrt(2)*x[0,1],np.sqrt(2)*x[0,0]*x[0,1]]])"
   ]
  },
  {
   "cell_type": "code",
   "execution_count": 4,
   "metadata": {},
   "outputs": [
    {
     "data": {
      "text/plain": [
       "array([[ 1.        ,  1.        ,  1.        , -1.41421356, -1.41421356,\n",
       "         1.41421356],\n",
       "       [ 1.        ,  1.        ,  1.        , -1.41421356,  1.41421356,\n",
       "        -1.41421356],\n",
       "       [ 1.        ,  1.        ,  1.        ,  1.41421356, -1.41421356,\n",
       "        -1.41421356],\n",
       "       [ 1.        ,  1.        ,  1.        ,  1.41421356,  1.41421356,\n",
       "         1.41421356]])"
      ]
     },
     "execution_count": 4,
     "metadata": {},
     "output_type": "execute_result"
    }
   ],
   "source": [
    "FI = np.zeros([4,6])\n",
    "for i in range(X.shape[0]):\n",
    "    FI[i,:] = fi(X[i,:])\n",
    "FI"
   ]
  },
  {
   "cell_type": "code",
   "execution_count": 5,
   "metadata": {},
   "outputs": [
    {
     "data": {
      "text/plain": [
       "array([[9., 1., 1., 1.],\n",
       "       [1., 9., 1., 1.],\n",
       "       [1., 1., 9., 1.],\n",
       "       [1., 1., 1., 9.]])"
      ]
     },
     "execution_count": 5,
     "metadata": {},
     "output_type": "execute_result"
    }
   ],
   "source": [
    "K = FI.dot(FI.T)\n",
    "K"
   ]
  },
  {
   "cell_type": "markdown",
   "metadata": {},
   "source": [
    "## (b)"
   ]
  },
  {
   "cell_type": "code",
   "execution_count": 6,
   "metadata": {},
   "outputs": [
    {
     "data": {
      "text/plain": [
       "matrix([[-1],\n",
       "        [ 1],\n",
       "        [ 1],\n",
       "        [-1]])"
      ]
     },
     "execution_count": 6,
     "metadata": {},
     "output_type": "execute_result"
    }
   ],
   "source": [
    "y = np.mat([[-1],[1],[1],[-1]])\n",
    "y"
   ]
  },
  {
   "cell_type": "code",
   "execution_count": 7,
   "metadata": {},
   "outputs": [
    {
     "data": {
      "text/plain": [
       "array([[9., 1., 1., 1.],\n",
       "       [1., 9., 1., 1.],\n",
       "       [1., 1., 9., 1.],\n",
       "       [1., 1., 1., 9.]])"
      ]
     },
     "execution_count": 7,
     "metadata": {},
     "output_type": "execute_result"
    }
   ],
   "source": [
    "K = np.zeros([4,4])\n",
    "for i in range(4):\n",
    "    for j in range(4):\n",
    "        K[i,j] = (1+X[i,:].dot(X[j,:].T))**2\n",
    "K"
   ]
  },
  {
   "cell_type": "markdown",
   "metadata": {},
   "source": [
    "## (c)"
   ]
  },
  {
   "cell_type": "code",
   "execution_count": 8,
   "metadata": {},
   "outputs": [
    {
     "data": {
      "text/plain": [
       "matrix([[ 0.        ],\n",
       "        [ 0.        ],\n",
       "        [ 0.        ],\n",
       "        [ 0.        ],\n",
       "        [ 0.        ],\n",
       "        [-0.70710678]])"
      ]
     },
     "execution_count": 8,
     "metadata": {},
     "output_type": "execute_result"
    }
   ],
   "source": [
    "f = y/8\n",
    "w = FI.T.dot(f)\n",
    "w"
   ]
  },
  {
   "cell_type": "code",
   "execution_count": 9,
   "metadata": {},
   "outputs": [
    {
     "data": {
      "text/plain": [
       "matrix([[0.14]])"
      ]
     },
     "execution_count": 9,
     "metadata": {},
     "output_type": "execute_result"
    }
   ],
   "source": [
    "K = np.zeros([4,1])\n",
    "y = np.mat([[0.7,-0.2]])\n",
    "for i in range(X.shape[0]):\n",
    "    K[i,0] = (1+X[i,:].dot(y.T))**2\n",
    "K.T.dot(f)"
   ]
  },
  {
   "cell_type": "markdown",
   "metadata": {},
   "source": [
    "## Problem 2"
   ]
  },
  {
   "cell_type": "markdown",
   "metadata": {},
   "source": [
    "#SVM Demo\n",
    "We use LibSVM programs to perform pattern classification using the iris dataset."
   ]
  },
  {
   "cell_type": "code",
   "execution_count": 18,
   "metadata": {
    "scrolled": true
   },
   "outputs": [],
   "source": [
    "import pandas as pd\n",
    "\n",
    "# Load Data\n",
    "tmp = pd.read_csv('iris.csv',header=None).to_numpy()\n",
    "X = tmp[:,2:4]"
   ]
  },
  {
   "cell_type": "code",
   "execution_count": 19,
   "metadata": {},
   "outputs": [
    {
     "data": {
      "text/plain": [
       "array([0., 0., 0., 0., 0., 0., 0., 0., 0., 0., 0., 0., 0., 0., 0., 0., 0.,\n",
       "       0., 0., 0., 0., 0., 0., 0., 0., 0., 0., 0., 0., 0., 0., 0., 0., 0.,\n",
       "       0., 0., 0., 0., 0., 0., 0., 0., 0., 0., 0., 0., 0., 0., 0., 0., 1.,\n",
       "       1., 1., 1., 1., 1., 1., 1., 1., 1., 1., 1., 1., 1., 1., 1., 1., 1.,\n",
       "       1., 1., 1., 1., 1., 1., 1., 1., 1., 1., 1., 1., 1., 1., 1., 1., 1.,\n",
       "       1., 1., 1., 1., 1., 1., 1., 1., 1., 1., 1., 1., 1., 1., 1., 0., 0.,\n",
       "       0., 0., 0., 0., 0., 0., 0., 0., 0., 0., 0., 0., 0., 0., 0., 0., 0.,\n",
       "       0., 0., 0., 0., 0., 0., 0., 0., 0., 0., 0., 0., 0., 0., 0., 0., 0.,\n",
       "       0., 0., 0., 0., 0., 0., 0., 0., 0., 0., 0., 0., 0., 0.])"
      ]
     },
     "execution_count": 19,
     "metadata": {},
     "output_type": "execute_result"
    }
   ],
   "source": [
    "y = (tmp[:,4] == 2).astype('float')\n",
    "K = X.shape[0]\n",
    "y"
   ]
  },
  {
   "cell_type": "code",
   "execution_count": 25,
   "metadata": {},
   "outputs": [
    {
     "data": {
      "text/plain": [
       "SVC(C=0.25)"
      ]
     },
     "execution_count": 25,
     "metadata": {},
     "output_type": "execute_result"
    }
   ],
   "source": [
    "from sklearn import svm\n",
    "## Fit an SVM classifier. We can specify the \n",
    "\n",
    "clf = svm.SVC(kernel='rbf',C=0.25)\n",
    "clf.fit(X, y)"
   ]
  },
  {
   "cell_type": "code",
   "execution_count": 26,
   "metadata": {
    "scrolled": false
   },
   "outputs": [
    {
     "name": "stdout",
     "output_type": "stream",
     "text": [
      "Number of Support Vectors for each class: [34 34]\n",
      "Chosen Support Vectors: \n",
      "[[1.7 0.4]\n",
      " [1.7 0.3]\n",
      " [1.7 0.2]\n",
      " [1.7 0.5]\n",
      " [1.9 0.2]\n",
      " [1.6 0.6]\n",
      " [1.9 0.4]\n",
      " [5.1 1.9]\n",
      " [5.6 1.8]\n",
      " [4.5 1.7]\n",
      " [5.1 2. ]\n",
      " [5.3 1.9]\n",
      " [5.5 2.1]\n",
      " [5.  2. ]\n",
      " [5.1 2.4]\n",
      " [5.3 2.3]\n",
      " [5.5 1.8]\n",
      " [5.  1.5]\n",
      " [4.9 2. ]\n",
      " [4.9 1.8]\n",
      " [4.8 1.8]\n",
      " [4.9 1.8]\n",
      " [5.8 1.6]\n",
      " [5.1 1.5]\n",
      " [5.6 1.4]\n",
      " [5.5 1.8]\n",
      " [4.8 1.8]\n",
      " [5.4 2.1]\n",
      " [5.1 2.3]\n",
      " [5.1 1.9]\n",
      " [5.2 2.3]\n",
      " [5.  1.9]\n",
      " [5.2 2. ]\n",
      " [5.1 1.8]\n",
      " [4.7 1.4]\n",
      " [4.5 1.5]\n",
      " [4.9 1.5]\n",
      " [4.6 1.5]\n",
      " [4.5 1.3]\n",
      " [4.7 1.6]\n",
      " [3.3 1. ]\n",
      " [4.6 1.3]\n",
      " [4.2 1.5]\n",
      " [4.7 1.4]\n",
      " [4.4 1.4]\n",
      " [4.5 1.5]\n",
      " [4.5 1.5]\n",
      " [4.8 1.8]\n",
      " [4.9 1.5]\n",
      " [4.7 1.2]\n",
      " [4.3 1.3]\n",
      " [4.4 1.4]\n",
      " [4.8 1.4]\n",
      " [5.  1.7]\n",
      " [4.5 1.5]\n",
      " [5.1 1.6]\n",
      " [4.5 1.5]\n",
      " [4.5 1.6]\n",
      " [4.7 1.5]\n",
      " [4.4 1.3]\n",
      " [4.4 1.2]\n",
      " [4.6 1.4]\n",
      " [3.3 1. ]\n",
      " [4.2 1.3]\n",
      " [4.2 1.3]\n",
      " [4.3 1.3]\n",
      " [3.  1.1]\n",
      " [4.1 1.3]]\n",
      "Index of chosen Support Vectors: [  5  18  20  23  24  43  44 101 103 106 110 111 112 113 114 115 116 119\n",
      " 121 123 126 127 129 133 134 137 138 139 141 142 145 146 147 149  50  51\n",
      "  52  54  55  56  57  58  61  63  65  66  68  70  72  73  74  75  76  77\n",
      "  78  83  84  85  86  87  90  91  93  94  96  97  98  99]\n",
      "Labels of Support Vectors: [0. 0. 0. 0. 0. 0. 0. 0. 0. 0. 0. 0. 0. 0. 0. 0. 0. 0. 0. 0. 0. 0. 0. 0.\n",
      " 0. 0. 0. 0. 0. 0. 0. 0. 0. 0. 1. 1. 1. 1. 1. 1. 1. 1. 1. 1. 1. 1. 1. 1.\n",
      " 1. 1. 1. 1. 1. 1. 1. 1. 1. 1. 1. 1. 1. 1. 1. 1. 1. 1. 1. 1.]\n",
      "f: [[-0.25       -0.25       -0.14522152 -0.25       -0.25       -0.25\n",
      "  -0.25       -0.25       -0.25       -0.25       -0.25       -0.25\n",
      "  -0.25       -0.25       -0.25       -0.25       -0.25       -0.25\n",
      "  -0.25       -0.25       -0.25       -0.25       -0.25       -0.25\n",
      "  -0.25       -0.25       -0.25       -0.25       -0.25       -0.25\n",
      "  -0.25       -0.25       -0.25       -0.25        0.25        0.25\n",
      "   0.25        0.25        0.25        0.25        0.25        0.25\n",
      "   0.25        0.25        0.25        0.25        0.25        0.25\n",
      "   0.25        0.25        0.25        0.25        0.25        0.25\n",
      "   0.25        0.25        0.25        0.25        0.25        0.25\n",
      "   0.25        0.25        0.25        0.25        0.25        0.25\n",
      "   0.25        0.14522152]]\n"
     ]
    }
   ],
   "source": [
    "# We now explore a bit about the model\n",
    "i0 = clf.support_          # indices of support vectors\n",
    "nsv = clf.n_support_       # number of support vectors in class 0 and class 1\n",
    "sv = clf.support_vectors_  # Support Vectors\n",
    "f = clf.dual_coef_        # this is the vector f = alpha.*d\n",
    "\n",
    "\n",
    "print(\"Number of Support Vectors for each class: \" + str(nsv))\n",
    "print(\"Chosen Support Vectors: \\n\" + str(sv))\n",
    "print(\"Index of chosen Support Vectors: \" + str(i0))\n",
    "print(\"Labels of Support Vectors: \" + str(y[i0]))\n",
    "print(\"f: \" + str(f))"
   ]
  },
  {
   "cell_type": "code",
   "execution_count": 27,
   "metadata": {},
   "outputs": [
    {
     "name": "stdout",
     "output_type": "stream",
     "text": [
      "w: \n",
      "[[-0.45146835]\n",
      " [-1.66525633]]\n",
      "b: [-0.9594184]\n"
     ]
    }
   ],
   "source": [
    "## Compute hyper-plane parameters\n",
    "w = np.dot(sv.T, f.T)   # Note we need to transpose f as it is stored as a row vector not a column vector\n",
    "b = clf.intercept_\n",
    "\n",
    "print(\"w: \\n\" + str(w))\n",
    "print(\"b: \" + str(b))"
   ]
  },
  {
   "cell_type": "code",
   "execution_count": 28,
   "metadata": {},
   "outputs": [
    {
     "name": "stdout",
     "output_type": "stream",
     "text": [
      "Accuracy: 96.0%\n"
     ]
    }
   ],
   "source": [
    "## We can test the accuracy of the model using predict\n",
    "# Perform estimation based on the data\n",
    "yhat = clf.predict(X)\n",
    "\n",
    "#Compute Accuracy\n",
    "Acc = 1- np.sum(np.abs(yhat - y))/K\n",
    "print(\"Accuracy: \" + str(100*Acc) + \"%\")"
   ]
  },
  {
   "cell_type": "markdown",
   "metadata": {},
   "source": [
    "Finally we can display our decision boundary. We plot the decision boundary, margins, and highlight the support vectors."
   ]
  },
  {
   "cell_type": "code",
   "execution_count": 29,
   "metadata": {},
   "outputs": [
    {
     "data": {
      "image/png": "[encoded data removed]",
      "text/plain": [
       "<Figure size 432x288 with 1 Axes>"
      ]
     },
     "metadata": {
      "needs_background": "light"
     },
     "output_type": "display_data"
    }
   ],
   "source": [
    "import matplotlib.pyplot as plt\n",
    "plt.scatter(X[:, 0], X[:, 1], c=y, s=30, cmap=plt.cm.Paired)\n",
    "\n",
    "# plot the decision function\n",
    "ax = plt.gca()\n",
    "xlim = ax.get_xlim()\n",
    "ylim = ax.get_ylim()\n",
    "\n",
    "# create grid to evaluate model\n",
    "xx = np.linspace(xlim[0], xlim[1], 30)\n",
    "yy = np.linspace(ylim[0], ylim[1], 30)\n",
    "YY, XX = np.meshgrid(yy, xx)\n",
    "xy = np.vstack([XX.ravel(), YY.ravel()]).T\n",
    "Z = clf.decision_function(xy).reshape(XX.shape)\n",
    "\n",
    "# plot decision boundary and margins\n",
    "ax.contour(XX, YY, Z, colors='k', levels=[-1, 0, 1], alpha=0.5,\n",
    "           linestyles=['--', '-', '--'])\n",
    "# plot support vectors\n",
    "ax.scatter(clf.support_vectors_[:, 0], clf.support_vectors_[:, 1], s=100,\n",
    "           linewidth=1, facecolors='none', edgecolors='k')\n",
    "plt.show()"
   ]
  },
  {
   "cell_type": "code",
   "execution_count": null,
   "metadata": {},
   "outputs": [],
   "source": []
  }
 ],
 "metadata": {
  "kernelspec": {
   "display_name": "Python 3",
   "language": "python",
   "name": "python3"
  },
  "language_info": {
   "codemirror_mode": {
    "name": "ipython",
    "version": 3
   },
   "file_extension": ".py",
   "mimetype": "text/x-python",
   "name": "python",
   "nbconvert_exporter": "python",
   "pygments_lexer": "ipython3",
   "version": "3.6.9"
  },
  "varInspector": {
   "cols": {
    "lenName": 16,
    "lenType": 16,
    "lenVar": 40
   },
   "kernels_config": {
    "python": {
     "delete_cmd_postfix": "",
     "delete_cmd_prefix": "del ",
     "library": "var_list.py",
     "varRefreshCmd": "print(var_dic_list())"
    },
    "r": {
     "delete_cmd_postfix": ") ",
     "delete_cmd_prefix": "rm(",
     "library": "var_list.r",
     "varRefreshCmd": "cat(var_dic_list()) "
    }
   },
   "types_to_exclude": [
    "module",
    "function",
    "builtin_function_or_method",
    "instance",
    "_Feature"
   ],
   "window_display": false
  }
 },
 "nbformat": 4,
 "nbformat_minor": 4
}
