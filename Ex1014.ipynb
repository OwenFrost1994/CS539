{
 "cells": [
  {
   "cell_type": "markdown",
   "metadata": {},
   "source": [
    "## the activation function 5 softmax: y = exp(u)/sum(exp(u(k,:)), yp(k) = y(k)*(1-y(k)) has bugs. I cannot find what is the problem even I sv = np.mat(np.sum(eu,axis=1)).T into sv = np.mat(np.sum(eu,axis=1)), the dimension problem is still."
   ]
  },
  {
   "cell_type": "markdown",
   "metadata": {},
   "source": [
    "## Problem 1"
   ]
  },
  {
   "cell_type": "markdown",
   "metadata": {},
   "source": [
    "### (a) \"self.ActFn = ActFn\""
   ]
  },
  {
   "cell_type": "markdown",
   "metadata": {},
   "source": [
    "### (b) \"para[\"epoch\"] = 16\""
   ]
  },
  {
   "cell_type": "markdown",
   "metadata": {},
   "source": [
    "### (c) # of rows =5 # of columns = 3"
   ]
  },
  {
   "cell_type": "markdown",
   "metadata": {},
   "source": [
    "### (d) # of epochs/iter =10 Total # of epochs run till training ends = 1000"
   ]
  },
  {
   "cell_type": "markdown",
   "metadata": {},
   "source": [
    "## Problem 2"
   ]
  },
  {
   "cell_type": "code",
   "execution_count": 7,
   "metadata": {},
   "outputs": [],
   "source": [
    "import numpy as np\n",
    "import pandas as pd\n",
    "\n",
    "#Read iris.csv\n",
    "tmp = pd.read_csv('iris.csv').to_numpy()\n",
    "X = tmp[:,0:4]\n",
    "[K,d]  = np.shape(X)\n",
    "C = 3\n",
    "\n",
    "Label = np.mat([tmp[:,4] == 1, tmp[:,4] == 2,tmp[:,4] == 3]).T"
   ]
  },
  {
   "cell_type": "code",
   "execution_count": 8,
   "metadata": {},
   "outputs": [],
   "source": [
    "Iv = [[]] * 3\n",
    "Ir = [[]] * 3\n",
    "for m in range(3):\n",
    "    Iv[m] = range(m,K,3) # Indices of 10 validation sets.\n",
    "    Ir[m] = np.setdiff1d(range(K),Iv[m])"
   ]
  },
  {
   "cell_type": "code",
   "execution_count": 43,
   "metadata": {},
   "outputs": [],
   "source": [
    "def actfn(u,tp=1, par=1):\n",
    "    # Usage: [y,yp]=actfunp(u, tp, par)\n",
    "    # Compute activation functions and their derivatives\n",
    "    # u: net function, a K x N matrix\n",
    "    # y: activation function, a K x N matrix\n",
    "    # tp: 1 - sigmoid, 2 - tanh, 3- linear, 4 - radial 5 - softmax\n",
    "    #       6 - ReLu,  7, Hardlim (step)\n",
    "    # par: parameter list\n",
    "    #    sigmoid: T,  y=1/(1+exp(-u/T)), yp=y*(1-y)/T\n",
    "    #    tanh: T,     y=(exp(u/T)-exp(-u/T))/(exp(u/T)+exp(-u/T))\n",
    "    #                 yp=(1-y*y)/T\n",
    "    #    linear:m,b   y=au+b, yp=a\n",
    "    #    radial:m,sig y=exp(-(u-m)^2/sig^2), yp=-2(u-m)*y/sig^2\n",
    "    #    softmax: y = exp(u)/sum(exp(u(k,:)), yp(k) = y(k)*(1-y(k))\n",
    "    #    ReLU:  y = u if u >0 and = 0 otherwise.  yp = 1 if u > 0 and = 0 o.w.\n",
    "    #    Step, hardlim: y = 1 if u>=0, = 0 if u < 0, yp = 0 for all u\n",
    "\n",
    "    (K,N) = np.shape(u)\n",
    "\n",
    "    if tp == 1:\n",
    "        T = par\n",
    "        y = np.reciprocal(1 + np.exp(-u/T))\n",
    "        yp  = np.multiply(y, np.ones(np.shape(y)) - y)/T\n",
    "    if tp == 2:\n",
    "        T = par\n",
    "        tmp = np.exp(u/T)\n",
    "        y = np.divide(tmp - np.reciprocal(tmp),tmp + np.reciprocal(tmp))\n",
    "        yp = (np.ones(np.shape(y)) - np.multiply(y, y))/T\n",
    "    if tp == 3:\n",
    "        a = par[0]\n",
    "        b = par[1]\n",
    "        y = a*u + b\n",
    "        yp = a* np.ones(np.shape(y))\n",
    "    if tp == 4:\n",
    "        m = par[0]\n",
    "        sig = par[1]\n",
    "        s = sig**2\n",
    "        tmp = np.multiply(u - m, u - m)\n",
    "        y = np.exp(-tmp/s)\n",
    "        yp = np.multiply((-2/s) * (u - m), y)\n",
    "    if tp == 5:\n",
    "        eu = np.exp(u)\n",
    "        sv = np.mat(np.sum(eu,axis=1))\n",
    "        y = np.divide(eu, sv*np.ones((1,N)))\n",
    "        yp = np.multiply(y,np.ones((K,N)) - y)\n",
    "    if tp == 6:\n",
    "        yp = (u > 0).astype(int)\n",
    "        y = np.multiply(u, yp)\n",
    "    if tp == 7:\n",
    "        yp = np.zeros(np.shape(u))\n",
    "        y = (u >= 0).astype(int)\n",
    " \n",
    "    return y, yp"
   ]
  },
  {
   "cell_type": "code",
   "execution_count": 44,
   "metadata": {},
   "outputs": [],
   "source": [
    "class mlpdef:\n",
    "    def __init__(self, d,C,Lsize = [],ActFn=[2,1]):\n",
    "        if len(Lsize) == 0:\n",
    "            Lsize = [2, C]\n",
    "        self.Nlayers = len(Lsize)\n",
    "        self.Lsize = Lsize\n",
    "        self.ActFn = ActFn\n",
    "        self.FeatureDim = d\n",
    "        self.OutDim = C\n",
    "\n",
    "        self.W = [[]] * self.Nlayers\n",
    "        self.W[0] = 0.01 * np.random.randn(d+1, self.Lsize[0])\n",
    "        for n in range(1,self.Nlayers):\n",
    "              self.W[n] = 0.01 * np.random.randn(self.Lsize[n-1] + 1, self.Lsize[n])\n",
    "    \n",
    "        self.A = [[]] * self.Nlayers\n",
    "        self.Ap = [[]] * self.Nlayers\n",
    "\n",
    "    def train(self, X, y, para):\n",
    "        #Train the network using the backpropagation algorithm.\n",
    "        #1. setup parameters\n",
    "        K,d = np.shape(X)\n",
    "        Kr = para[\"epoch\"]\n",
    "        dw = [[]] * self.Nlayers\n",
    "        delta = [[]] * self.Nlayers\n",
    "\n",
    "        # 2. Start each epoch\n",
    "        for m in range(para[\"Nepoch\"]):\n",
    "            # 2a. Draw Kr samples randomly from X for current epoch\n",
    "            ide  = np.random.choice(range(K),Kr)\n",
    "            Xr = X[ide,:]\n",
    "            Lr = y[ide,:]\n",
    "\n",
    "            # 2b. feed forward output and error\n",
    "            self.ffnet(Xr)\n",
    "            # 2c. Delta Error Back-Propagation\n",
    "            # compute output error and delta errors at each layer\n",
    "            # delta error is computed for each neuron. The bias input is a constant\n",
    "            # and has no parent node. and has no delta error. \n",
    "            error = Lr - self.A[self.Nlayers - 1]\n",
    "            delta[self.Nlayers - 1] = np.multiply(self.Ap[self.Nlayers - 1], error)\n",
    "            for n in reversed(range(self.Nlayers-1)):\n",
    "                # delta{n}=mlp.Ap{n}.*(delta{n+1}*(mlp.W{n+1}(2:end,:))');\n",
    "                delta[n] =np.multiply(self.Ap[n],np.dot(delta[n+1], self.W[n+1][1:,:].T))\n",
    "                # 2d. Weight update\n",
    "                # initialize weight updates dw using delta error\n",
    "            dw[0] = np.zeros((d+1, self.Lsize[0]))\n",
    "            for n in range(1,self.Nlayers):\n",
    "                dw[n] = np.zeros((self.Lsize[n-1] + 1, self.Lsize[n]))\n",
    "\n",
    "            one_mat = np.ones((Kr,1))\n",
    "            dw[0] = np.dot(para[\"LR\"]*np.concatenate((one_mat,Xr),axis=1).T,delta[0]) + np.dot(para[\"Mom\"],dw[0]) + 0.01 * np.random.randn(np.shape(dw[0])[0],np.shape(dw[0])[1])\n",
    "            self.W[0] += dw[0]\n",
    "            for n in range(1,self.Nlayers):\n",
    "                dw[n] = np.dot(para[\"LR\"]*np.concatenate((one_mat,self.A[n - 1]),axis=1).T,delta[n]) + np.dot(para[\"Mom\"],dw[n]) + 0.01 * np.random.randn(np.shape(dw[n])[0],np.shape(dw[n])[1])\n",
    "                self.W[n] += dw[n]\n",
    "                                              \n",
    "\n",
    "    def eval(self, Xr, Lr, Xv, Lv):\n",
    "        # Evaluate the classification error of the network.\n",
    "        Kr, C = np.shape(Lr)\n",
    "        Kv = np.shape(Lv)[0]\n",
    "        Ic = np.eye(C)\n",
    "    \n",
    "        self.ffnet(Xr)\n",
    "        out = self.A[self.Nlayers -1]\n",
    "        err_train  = Lr - out\n",
    "        er = np.sum(np.square(np.sum(err_train))) / np.dot(Kr, C)\n",
    "        idx = np.argmax(out,axis=1)\n",
    "        Cmatr = np.dot(Lr.T, Ic[idx, :])\n",
    "\n",
    "        self.ffnet(Xv)\n",
    "        out = self.A[self.Nlayers - 1]\n",
    "        err_test = Lv - out\n",
    "        et = np.sum(np.square(np.sum(err_train))) / np.dot(Kv, C)\n",
    "        idx = np.argmax(out,axis=1)\n",
    "        Cmatt = np.dot(Lv.T, Ic[idx,:])\n",
    "\n",
    "        return er, et, Cmatr, Cmatt\n",
    "    \n",
    "    def ffnet(self, X):\n",
    "        # Feed data forward through the network.\n",
    "        K = np.shape(X)[0]\n",
    "        one_mat = np.ones((K,1))\n",
    "        u = np.dot(np.concatenate((one_mat,X),axis=1),self.W[0])\n",
    "        self.A[0], self.Ap[0] = actfn(u,self.ActFn[0])\n",
    "        for n in range(1,self.Nlayers):\n",
    "            u = np.dot(np.concatenate((one_mat,self.A[n-1]),axis=1),self.W[n])\n",
    "            self.A[n], self.Ap[n] = actfn(u,self.ActFn[n])"
   ]
  },
  {
   "cell_type": "code",
   "execution_count": 45,
   "metadata": {},
   "outputs": [],
   "source": [
    "para = {}\n",
    "para[\"LR\"] = 0.1\n",
    "para[\"Mom\"] = 0.8\n",
    "para[\"epoch\"] = 16\n",
    "para[\"Nepoch\"] = 10"
   ]
  },
  {
   "cell_type": "code",
   "execution_count": 50,
   "metadata": {},
   "outputs": [
    {
     "name": "stdout",
     "output_type": "stream",
     "text": [
      "Training Confusion Matrix: \n",
      "[[32.  0.  0.]\n",
      " [34.  0.  0.]\n",
      " [33.  0.  0.]]\n",
      "Epoch #: 100\n",
      "Validation Confusion Matrix: \n",
      "[[17.  0.  0.]\n",
      " [16.  0.  0.]\n",
      " [17.  0.  0.]]\n",
      "Training Confusion Matrix: \n",
      "[[ 0.  0. 32.]\n",
      " [ 0.  0. 34.]\n",
      " [ 0.  0. 33.]]\n",
      "Epoch #: 200\n",
      "Validation Confusion Matrix: \n",
      "[[ 0.  0. 17.]\n",
      " [ 0.  0. 16.]\n",
      " [ 0.  0. 17.]]\n",
      "Training Confusion Matrix: \n",
      "[[ 0. 32.  0.]\n",
      " [ 0. 34.  0.]\n",
      " [ 0. 33.  0.]]\n",
      "Epoch #: 300\n",
      "Validation Confusion Matrix: \n",
      "[[ 0. 17.  0.]\n",
      " [ 0. 16.  0.]\n",
      " [ 0. 17.  0.]]\n",
      "Training Confusion Matrix: \n",
      "[[ 0.  0. 32.]\n",
      " [ 0.  0. 34.]\n",
      " [ 0.  0. 33.]]\n",
      "Epoch #: 400\n",
      "Validation Confusion Matrix: \n",
      "[[ 0.  0. 17.]\n",
      " [ 0.  0. 16.]\n",
      " [ 0.  0. 17.]]\n",
      "Training Confusion Matrix: \n",
      "[[ 0.  0. 32.]\n",
      " [ 0.  0. 34.]\n",
      " [ 0.  0. 33.]]\n",
      "Epoch #: 500\n",
      "Validation Confusion Matrix: \n",
      "[[ 0.  0. 17.]\n",
      " [ 0.  0. 16.]\n",
      " [ 0.  0. 17.]]\n",
      "Training Confusion Matrix: \n",
      "[[ 0.  0. 32.]\n",
      " [ 0.  0. 34.]\n",
      " [ 0.  0. 33.]]\n",
      "Epoch #: 600\n",
      "Validation Confusion Matrix: \n",
      "[[ 0.  0. 17.]\n",
      " [ 0.  0. 16.]\n",
      " [ 0.  0. 17.]]\n",
      "Training Confusion Matrix: \n",
      "[[ 0. 32.  0.]\n",
      " [ 0. 34.  0.]\n",
      " [ 0. 33.  0.]]\n",
      "Epoch #: 700\n",
      "Validation Confusion Matrix: \n",
      "[[ 0. 17.  0.]\n",
      " [ 0. 16.  0.]\n",
      " [ 0. 17.  0.]]\n",
      "Training Confusion Matrix: \n",
      "[[ 0.  0. 32.]\n",
      " [ 0.  0. 34.]\n",
      " [ 0.  0. 33.]]\n",
      "Epoch #: 800\n",
      "Validation Confusion Matrix: \n",
      "[[ 0.  0. 17.]\n",
      " [ 0.  0. 16.]\n",
      " [ 0.  0. 17.]]\n",
      "Training Confusion Matrix: \n",
      "[[ 0.  0. 32.]\n",
      " [ 0.  0. 34.]\n",
      " [ 0.  0. 33.]]\n",
      "Epoch #: 900\n",
      "Validation Confusion Matrix: \n",
      "[[ 0.  0. 17.]\n",
      " [ 0.  0. 16.]\n",
      " [ 0.  0. 17.]]\n",
      "Reached Max iteration #: 99, Stop!\n"
     ]
    },
    {
     "data": {
      "image/png": "[encoded data removed]",
      "text/plain": [
       "<Figure size 432x288 with 1 Axes>"
      ]
     },
     "metadata": {
      "needs_background": "light"
     },
     "output_type": "display_data"
    }
   ],
   "source": [
    "import matplotlib.pyplot as plt\n",
    "\n",
    "fnet = mlpdef(d,C,[10,C], [6,2])\n",
    "\n",
    "Xr = X[Ir[0],:]\n",
    "Lr = Label[Ir[0],:]\n",
    "Xv = X[Iv[0],:]\n",
    "Lv = Label[Iv[0],:]\n",
    "\n",
    "Converged = False\n",
    "iter = 0\n",
    "itermax = 100\n",
    "Er = np.zeros(itermax)\n",
    "Et = np.zeros(itermax)\n",
    "while not Converged:\n",
    "    iter = iter + 1\n",
    "    fnet.train(Xr, Lr, para)\n",
    "    Er[iter], Et[iter],Cmatr, Cmatt = fnet.eval(Xr,Lr, Xv, Lv)\n",
    "    if (iter % 10) == 0:\n",
    "        print(\"Training Confusion Matrix: \\n\" + str(Cmatr))\n",
    "        print(\"Epoch #: \" + str(iter * para[\"Nepoch\"]))\n",
    "        print(\"Validation Confusion Matrix: \\n\" + str(Cmatt))\n",
    "    \n",
    "    if iter >= itermax - 1:\n",
    "        Converged = True\n",
    "        print(\"Reached Max iteration #: \" + str(iter) + \", Stop!\")\n",
    "\n",
    "plt.plot(range(iter), Er[range(iter)],'r')\n",
    "plt.plot(range(iter), Et[range(iter)],'b')\n",
    "plt.show()"
   ]
  },
  {
   "cell_type": "code",
   "execution_count": 51,
   "metadata": {},
   "outputs": [
    {
     "data": {
      "text/plain": [
       "matrix([[1, 2, 3],\n",
       "        [4, 6, 2]])"
      ]
     },
     "execution_count": 51,
     "metadata": {},
     "output_type": "execute_result"
    }
   ],
   "source": [
    "u = np.mat([[1,2,3],[4,6,2]])\n",
    "u"
   ]
  },
  {
   "cell_type": "code",
   "execution_count": 35,
   "metadata": {},
   "outputs": [
    {
     "data": {
      "text/plain": [
       "matrix([[  2.71828183,   7.3890561 ,  20.08553692],\n",
       "        [ 54.59815003, 403.42879349,   7.3890561 ]])"
      ]
     },
     "execution_count": 35,
     "metadata": {},
     "output_type": "execute_result"
    }
   ],
   "source": [
    "(K,N) = np.shape(u)\n",
    "eu = np.exp(u)\n",
    "eu"
   ]
  },
  {
   "cell_type": "code",
   "execution_count": 40,
   "metadata": {},
   "outputs": [
    {
     "data": {
      "text/plain": [
       "matrix([[ 30.19287485],\n",
       "        [465.41599962]])"
      ]
     },
     "execution_count": 40,
     "metadata": {},
     "output_type": "execute_result"
    }
   ],
   "source": [
    "sv = np.mat(np.sum(eu,axis=1))\n",
    "sv"
   ]
  },
  {
   "cell_type": "code",
   "execution_count": 41,
   "metadata": {},
   "outputs": [
    {
     "data": {
      "text/plain": [
       "matrix([[0.09003057, 0.24472847, 0.66524096],\n",
       "        [0.11731043, 0.86681333, 0.01587624]])"
      ]
     },
     "execution_count": 41,
     "metadata": {},
     "output_type": "execute_result"
    }
   ],
   "source": [
    "y = np.divide(eu, sv*np.ones((1,N)))\n",
    "y"
   ]
  },
  {
   "cell_type": "code",
   "execution_count": 48,
   "metadata": {},
   "outputs": [
    {
     "data": {
      "text/plain": [
       "matrix([[0.08192507, 0.18483645, 0.22269543],\n",
       "        [0.10354869, 0.11544798, 0.01562418]])"
      ]
     },
     "execution_count": 48,
     "metadata": {},
     "output_type": "execute_result"
    }
   ],
   "source": [
    "yp = np.multiply(y,np.ones((K,N)) - y)\n",
    "yp"
   ]
  },
  {
   "cell_type": "code",
   "execution_count": null,
   "metadata": {},
   "outputs": [],
   "source": []
  },
  {
   "cell_type": "code",
   "execution_count": null,
   "metadata": {},
   "outputs": [],
   "source": []
  }
 ],
 "metadata": {
  "kernelspec": {
   "display_name": "Python 3",
   "language": "python",
   "name": "python3"
  },
  "language_info": {
   "codemirror_mode": {
    "name": "ipython",
    "version": 3
   },
   "file_extension": ".py",
   "mimetype": "text/x-python",
   "name": "python",
   "nbconvert_exporter": "python",
   "pygments_lexer": "ipython3",
   "version": "3.6.9"
  }
 },
 "nbformat": 4,
 "nbformat_minor": 4
}
