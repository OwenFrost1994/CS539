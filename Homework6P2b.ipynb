{
 "cells": [
  {
   "cell_type": "code",
   "execution_count": 1,
   "metadata": {},
   "outputs": [],
   "source": [
    "import numpy as np\n",
    "import matplotlib.pyplot as plt"
   ]
  },
  {
   "cell_type": "code",
   "execution_count": 2,
   "metadata": {},
   "outputs": [],
   "source": [
    "class perceptron():\n",
    "  def __init__(self, Label, K, d):\n",
    "    self.Nlayers = 2                       # Number of Layers\n",
    "    self.Lsize = [10, np.shape(Label)[1]]  # 1x Nlayers vector of Integers\n",
    "    # Number of neurons per layer. Last layer is output layer.\n",
    "    # f(): Nonlinear transfer function call actfunp()\n",
    "    #      1 - sigmoid (logsig), 2 - tanh ( tansig), 3 - linear (purelin),\n",
    "    #      4 - radial, 5 - softmax (softmax), 6 - Relu, 8 - step (hardlim)  \n",
    "    self.TransferFn = [7, 7]\n",
    "    self.Nsamples = K\n",
    "    self.featureDimension = d\n",
    "\n",
    "    # Activation is evaluated as A[0] = f([1 X]*W[0]) and\n",
    "    # A[i] = f([1 A[i-1]]) where\n",
    "    # A[i]: K x Lsize(i) i-th layer activation matrix, \n",
    "    # W[i]: (1+ Lsize(i-1)) x Lsize(i) i-th layer weight matrix\n",
    "    #        first row of W(i) is the bias\n",
    "    # W[0]: (1+d) x Lsize(1)\n",
    "    A = []\n",
    "    self.W = []\n",
    "    self.W.append(np.mat([[.5, 28,-6],[1.5,-4,1/3],[-1,-1,1]]))\n",
    "    self.W.append(np.mat([[-3],[1],[1],[1]]))\n",
    "    \n",
    "    self.A = [[]] * 2\n"
   ]
  },
  {
   "cell_type": "code",
   "execution_count": 3,
   "metadata": {},
   "outputs": [],
   "source": [
    "def actfunp1(u,tp=1, par=1):\n",
    "  # Usage: [y,yp]=actfunp(u, tp, par)\n",
    "  # Compute activation functions and their derivatives\n",
    "  # u: net function, a K x N matrix\n",
    "  # y: activation function, a K x N matrix\n",
    "  # tp: 1 - sigmoid, 2 - tanh, 3- linear, 4 - radial 5 - softmax\n",
    "  #       6 - ReLu,  7, Hardlim (step)\n",
    "  # par: parameter list\n",
    "  #    sigmoid: T,  y=1/(1+exp(-u/T)), yp=y*(1-y)/T\n",
    "  #    tanh: T,     y=(exp(u/T)-exp(-u/T))/(exp(u/T)+exp(-u/T))\n",
    "  #                 yp=(1-y*y)/T\n",
    "  #    linear:m,b   y=au+b, yp=a\n",
    "  #    radial:m,sig y=exp(-(u-m)^2/sig^2), yp=-2(u-m)*y/sig^2\n",
    "  #    softmax: y = exp(u)/sum(exp(u(k,:)), yp(k) = y(k)*(1-y(k))\n",
    "  #    ReLU:  y = u if u >0 and = 0 otherwise.  yp = 1 if u > 0 and = 0 o.w.\n",
    "  #    Step, hardlim: y = 1 if u>=0, = 0 if u < 0, yp = 0 for all u\n",
    "\n",
    "  (K,N) = np.shape(u)\n",
    "\n",
    "  if tp == 1:\n",
    "    T = par\n",
    "    y = np.reciprocal(1 + np.exp(-u/T))\n",
    "    yp  = np.multiply(y, np.ones(np.shape(y)) - y)/T\n",
    "  if tp == 2:\n",
    "    T = par\n",
    "    tmp = np.exp(u/T)\n",
    "    y = np.divide(tmp - np.reciprocal(tmp),tmp + np.reciprocal(tmp))\n",
    "    yp = (np.ones(np.shape(y)) - np.multiply(y, y))/T\n",
    "  if tp == 3:\n",
    "    a = par[0]\n",
    "    b = par[1]\n",
    "    y = a*u + b\n",
    "    yp = a* np.ones(np.shape(y))\n",
    "  if tp == 4:\n",
    "    m = par[0]\n",
    "    sig = par[1]\n",
    "    s = sig**2\n",
    "    tmp = np.multiply(u - m, u - m)\n",
    "    y = np.exp(-tmp/s)\n",
    "    yp = np.multiply((-2/s) * (u - m), y)\n",
    "  if tp == 5:\n",
    "    eu = np.exp(u)\n",
    "    sv = np.mat(np.sum(eu,axis=1)).T\n",
    "    y = np.divide(eu, sv*np.ones((1,N)))\n",
    "    yp = np.multiply(y,np.ones((K,N)) - y)\n",
    "  if tp == 6:\n",
    "    yp = (u > 0).astype(int)\n",
    "    y = np.multiply(u, yp)\n",
    "  if tp == 7:\n",
    "    yp = np.zeros(np.shape(u))\n",
    "    y = (u >= 0).astype(int)\n",
    "\n",
    "  return y, yp\n"
   ]
  },
  {
   "cell_type": "code",
   "execution_count": 4,
   "metadata": {},
   "outputs": [
    {
     "name": "stdout",
     "output_type": "stream",
     "text": [
      "Outputs are: [[0 1 1 0]]\n"
     ]
    }
   ],
   "source": [
    "X = np.mat([[0,0],[4,5],[5,7],[9,9]])\n",
    "(K,d) = np.shape(X)\n",
    "Label = [[0],[1],[1],[0]]\n",
    "mlp = perceptron(Label, K, d)\n",
    "one_mat = np.ones((K,1))\n",
    "u = np.concatenate((one_mat,X),axis=1)*mlp.W[0]\n",
    "mlp.A[0],_ = actfunp1(u,mlp.TransferFn[0])\n",
    "u = np.concatenate((one_mat, mlp.A[0]),axis=1)*mlp.W[1]\n",
    "mlp.A[1],_ = actfunp1(u,mlp.TransferFn[1])\n",
    "\n",
    "print(\"Outputs are: \" + str(mlp.A[1].T))"
   ]
  },
  {
   "cell_type": "code",
   "execution_count": 5,
   "metadata": {},
   "outputs": [
    {
     "data": {
      "image/png": "[encoded data removed]",
      "text/plain": [
       "<Figure size 432x288 with 1 Axes>"
      ]
     },
     "metadata": {
      "needs_background": "light"
     },
     "output_type": "display_data"
    }
   ],
   "source": [
    "X2, X1 = np.meshgrid(np.linspace(0,10,100), np.linspace(0,10,100))\n",
    "X1 = X1.flatten()\n",
    "X2 = X2.flatten()\n",
    "K1 = len(X1)\n",
    "one_mat = np.ones((K1,1))\n",
    "##### Below are the solutions\n",
    "#A1 is the hidden layer activation\n",
    "u = np.concatenate((one_mat,np.array([X1,X2]).T),axis=1)*mlp.W[0]\n",
    "A1,_ = actfunp1(u,mlp.TransferFn[0])\n",
    "# out is the output of the 2nd layer neuron.\n",
    "u = np.concatenate((one_mat, A1),axis=1)*mlp.W[1]\n",
    "out,_ = actfunp1(u,mlp.TransferFn[1])\n",
    "##### above are the solutions.\n",
    "\n",
    "id1,_ = np.nonzero(out)\n",
    "id2,_ = np.nonzero(out == 0)\n",
    "plt.scatter(X1[id1],X2[id1],color='white',edgecolors='green')\n",
    "plt.scatter(X1[id2],X2[id2],color='white',edgecolors='red')\n",
    "plt.legend([1,0])\n",
    "plt.show()"
   ]
  },
  {
   "cell_type": "code",
   "execution_count": null,
   "metadata": {},
   "outputs": [],
   "source": []
  }
 ],
 "metadata": {
  "kernelspec": {
   "display_name": "Python 3 (ipykernel)",
   "language": "python",
   "name": "python3"
  },
  "language_info": {
   "codemirror_mode": {
    "name": "ipython",
    "version": 3
   },
   "file_extension": ".py",
   "mimetype": "text/x-python",
   "name": "python",
   "nbconvert_exporter": "python",
   "pygments_lexer": "ipython3",
   "version": "3.8.11"
  }
 },
 "nbformat": 4,
 "nbformat_minor": 4
}
