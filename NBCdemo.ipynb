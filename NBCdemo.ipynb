{
 "cells": [
  {
   "cell_type": "markdown",
   "metadata": {
    "id": "EoFVMOCFNgOE"
   },
   "source": [
    "# Naive Bayes Classifier Demo\n",
    "\n",
    "1) Load Iris data set, we use only the 3rd and 4th feature as feature vectors X, and partition it into 3-way cross validation. We create a 150 x 3 Label matrix so that a class 1 sample  is labeled as 1 0 0 , a class 2 sample 0 1 0 and a class 3 sample 0 0 1.  "
   ]
  },
  {
   "cell_type": "code",
   "execution_count": null,
   "metadata": {
    "colab": {
     "base_uri": "https://localhost:8080/",
     "height": 295
    },
    "id": "iUht4lhXkzQn",
    "outputId": "49830344-2f8f-474f-81af-d57765d1af06"
   },
   "outputs": [
    {
     "data": {
      "image/png": "[encoded data removed]",
      "text/plain": [
       "<Figure size 432x288 with 1 Axes>"
      ]
     },
     "metadata": {
      "needs_background": "light",
      "tags": []
     },
     "output_type": "display_data"
    }
   ],
   "source": [
    "import numpy  as np\n",
    "import pandas as pd\n",
    "import matplotlib.pyplot as plt\n",
    "\n",
    "tmp = pd.read_csv('/content/drive/My Drive/Colab Notebooks/iris.csv',header=None).to_numpy()\n",
    "X = tmp[:,2:4]        # 150 x 2\n",
    "K = np.shape(tmp)[0]  # K = 150 = # of feature vectors, size of training data set.\n",
    "C = 3     # Number of class labels\n",
    "# tmp[:,4] contains labels 1,2, or 3.\n",
    "# Below, we convert the label vector tmp[:,4] to a K x 3 matrix label. \n",
    "# Each row is a 1 in 3 encoding of the corresponding label. \n",
    "Label = [tmp[:,4] == 1, tmp[:,4] == 2, tmp[:,4] == 3]\n",
    "\n",
    "# Scatter plot the 2D data.\n",
    "\n",
    "plt.scatter(X[Label[0],0],X[Label[0],1],c='white', edgecolors = 'red')\n",
    "plt.scatter(X[Label[1],0],X[Label[1],1],c='white',edgecolors = 'green')\n",
    "plt.scatter(X[Label[2],0],X[Label[2],1],c='white',edgecolors ='blue')\n",
    "plt.xlabel('3rd Feature'), plt.ylabel('4th Feature')\n",
    "plt.title('3rd and 4th dimension of the iris dataset')\n",
    "plt.legend([1,2,3])\n",
    "plt.show()\n",
    "\n"
   ]
  },
  {
   "cell_type": "markdown",
   "metadata": {
    "id": "H5NWChzyNtDg"
   },
   "source": [
    "First, we use the entire Iris dataset as training data and develop a Naive Bayesian classifier, nbc, and visualize the decision region the classifier implements."
   ]
  },
  {
   "cell_type": "code",
   "execution_count": null,
   "metadata": {
    "colab": {
     "base_uri": "https://localhost:8080/",
     "height": 90
    },
    "id": "lJD-bnianqsT",
    "outputId": "cff3075d-469c-4e33-a2b7-7110d72a34f0"
   },
   "outputs": [
    {
     "name": "stdout",
     "output_type": "stream",
     "text": [
      "Confusion Matrix when substituting training data for testing: \n",
      "[[50.  0.  0.]\n",
      " [ 0. 49.  1.]\n",
      " [ 0.  2. 48.]]\n"
     ]
    }
   ],
   "source": [
    "nbmodel = nbc(X,np.mat(Label).T)\n",
    "out = nbclassify(nbmodel, X)\n",
    "Cmat = np.mat(Label)*out\n",
    "print('Confusion Matrix when substituting training data for testing: ')\n",
    "print(Cmat)"
   ]
  },
  {
   "cell_type": "markdown",
   "metadata": {
    "id": "6tTaY5bPNxGD"
   },
   "source": [
    "Resubstitution error (a.k.a. training error) is the probability of mis-classification when the training data is also used as testing (or validation) data. "
   ]
  },
  {
   "cell_type": "code",
   "execution_count": null,
   "metadata": {
    "colab": {
     "base_uri": "https://localhost:8080/",
     "height": 35
    },
    "id": "5Jb0tWzpouir",
    "outputId": "069bba5a-1bd8-4195-8d7d-86fb091d4acc"
   },
   "outputs": [
    {
     "name": "stdout",
     "output_type": "stream",
     "text": [
      "Resubstitution Error: 0.020000000000000018\n"
     ]
    }
   ],
   "source": [
    "Er_resubstitution = 1 - np.sum(np.diag(Cmat))/np.sum(Cmat)\n",
    "print(\"Resubstitution Error: \" + str(Er_resubstitution))"
   ]
  },
  {
   "cell_type": "markdown",
   "metadata": {
    "id": "gwJ00bYbN1Rr"
   },
   "source": [
    "**Plot training samples that are mis-classified:** \n",
    "\n",
    "First compute a K x C matrix tmp = out - Label; Entries of tmp are all 0 if correctly classified. Otherwise the row will have 1 entry equals to +1 and another entry = -1. \n",
    "\n",
    "Therefore, we sum up each row of the absolute value of tmp will yield a K x 1 vector whose value equals to 0 if that sample is correctly classified, and 2 if not. \n",
    "\n",
    "We use Matlab command find to find indices of those entries equal to 2."
   ]
  },
  {
   "cell_type": "code",
   "execution_count": null,
   "metadata": {
    "colab": {
     "base_uri": "https://localhost:8080/",
     "height": 313
    },
    "id": "SbcArYFSpKGX",
    "outputId": "a58be58b-868c-49a2-d0dd-6fff0195ebaa"
   },
   "outputs": [
    {
     "name": "stdout",
     "output_type": "stream",
     "text": [
      "[ 70 119 133]\n"
     ]
    },
    {
     "data": {
      "image/png": "[encoded data removed]",
      "text/plain": [
       "<Figure size 432x288 with 1 Axes>"
      ]
     },
     "metadata": {
      "needs_background": "light",
      "tags": []
     },
     "output_type": "display_data"
    }
   ],
   "source": [
    "tmp = out - np.mat(Label).T\n",
    "idxmis,_ = np.nonzero(np.sum(np.abs(tmp),1))\n",
    "print(idxmis)\n",
    "\n",
    "plt.scatter(X[Label[0],0],X[Label[0],1],c='white', edgecolors = 'red')\n",
    "plt.scatter(X[Label[1],0],X[Label[1],1],c='white',edgecolors = 'green')\n",
    "plt.scatter(X[Label[2],0],X[Label[2],1],c='white',edgecolors ='blue')\n",
    "plt.scatter(X[idxmis,0],X[idxmis,1],c='black')\n",
    "plt.xlabel('3rd Feature'), plt.ylabel('4th Feature')\n",
    "plt.title('3rd and 4th dimension of the iris dataset')\n",
    "plt.legend([1,2,3])\n",
    "plt.show()"
   ]
  },
  {
   "cell_type": "markdown",
   "metadata": {
    "id": "TXnn6s30OBxL"
   },
   "source": [
    "# Naive Bayesian Classification with 3-way Cross Validation\n",
    "\n",
    "Partition indices for 3-way cross validation, stratified with respect to each class. In the iris.csv, the first 50 observations (rows) are class 1, the next 50 class 2 and the last 50 class 3. Each partition should contain all 3 classes with similar prior probability distribution. To verify this partition is properly stratified, we compute the prior probaility using the Label matrix."
   ]
  },
  {
   "cell_type": "code",
   "execution_count": null,
   "metadata": {
    "id": "47Zcgwv1nxEY"
   },
   "outputs": [],
   "source": [
    "Iv = [[]] * 3\n",
    "Ir = [[]] * 3\n",
    "\n",
    "for m in range(3):\n",
    "  Iv[m] = range(m,K,3) # Indices of 10 validation sets.\n",
    "  Ir[m] = np.setdiff1d(range(K),Iv[m])\n"
   ]
  },
  {
   "cell_type": "markdown",
   "metadata": {
    "id": "U550wxzXOHzs"
   },
   "source": [
    "Call nbc to create the classifier for each training data partition and validate using nbclassify \n",
    "\n",
    "Since there are 3 classes, Give the indices of the training data Ir{m}, and the validation data Iv{m}, the NBC classifier consists of a mean vector mu, a covarince matrix C and a prior probability for each of the 3 classes. "
   ]
  },
  {
   "cell_type": "code",
   "execution_count": null,
   "metadata": {
    "colab": {
     "base_uri": "https://localhost:8080/",
     "height": 90
    },
    "id": "l4UQA0WPvuzS",
    "outputId": "3bfb987e-d278-4739-a9d0-612484121f7f"
   },
   "outputs": [
    {
     "name": "stdout",
     "output_type": "stream",
     "text": [
      "Confusion matrix is: \n",
      "[[50.  0.  0.]\n",
      " [ 0. 49.  1.]\n",
      " [ 0.  2. 48.]]\n"
     ]
    }
   ],
   "source": [
    "ConfusionMatrix = np.zeros((C,C))\n",
    "for m in range(3):\n",
    "  NBmodel = nbc(X[Ir[m],:],np.mat(Label).T[Ir[m]])\n",
    "  out = nbclassify(NBmodel, X[Iv[m],:])\n",
    "  ConfusionMatrix = ConfusionMatrix + np.mat(Label)[:,Iv[m]]*out\n",
    "\n",
    "print('Confusion matrix is: ')\n",
    "print(ConfusionMatrix)"
   ]
  },
  {
   "cell_type": "markdown",
   "metadata": {
    "id": "r2W8K8a-ONKK"
   },
   "source": [
    "This is the function nbc that create a classifier object nbmodel using training data (X, Y). Assume each row of X is a 1 x d feature vector of a sample. Feature dimension = d. Each row of Y is an 1 of C encoding of the class label with C classes. The classifier object is a structured data object defined in the end of the function. "
   ]
  },
  {
   "cell_type": "code",
   "execution_count": null,
   "metadata": {
    "id": "jgT_Sy6iwv-t"
   },
   "outputs": [],
   "source": [
    "def nbc(X,Y):\n",
    "  # Usage: nbmodel = nbc(X,Y)\n",
    "  # developing a naive Bayesian classifier using\n",
    "  # X: training featuer, K by d matrix. Each row of X is an\n",
    "  #    observation, d is the feature dimension, K is the total\n",
    "  #    number of feature vectors in the training set. \n",
    "  # Y: K x C label matrix encoded in 1 of C format where C is the number\n",
    "  #    of classes\n",
    "\n",
    "  (K,d) = np.shape(X)\n",
    "  C = np.shape(Y)[1]\n",
    "  prp = np.sum(Y,axis=0)/np.sum(Y)\n",
    "  mu = [[]] * C\n",
    "  covmat = [[]] * C\n",
    "  \n",
    "  for c in range(C):\n",
    "    idx = (Y[:,c] == 1).A1\n",
    "    if len(idx) > 1:\n",
    "      mu[c] =np.mean(X[idx,:],axis=0)\n",
    "      covmat[c] = np.cov(X[idx,:].T)\n",
    "    elif len(idx) == 1:\n",
    "      mu[c] = X[idx,:]\n",
    "      covmat[c] = np.eye(d)\n",
    "\n",
    "  nbmodel = {}\n",
    "  nbmodel['Nsamples'] = K\n",
    "  nbmodel['FeatureDimension'] = d\n",
    "  nbmodel['Nclass'] = C\n",
    "  nbmodel['TrainingSamples'] = X\n",
    "  nbmodel['TrainingLabels'] = Y\n",
    "  nbmodel['smean'] = mu\n",
    "  nbmodel['scov'] = covmat\n",
    "  nbmodel['prior'] = prp\n",
    "\n",
    "  return nbmodel"
   ]
  },
  {
   "cell_type": "markdown",
   "metadata": {
    "id": "2jL6gbPDORUp"
   },
   "source": [
    "Applying testing data and label to a trained Naive Bayes Classifier to estimate the testing error. "
   ]
  },
  {
   "cell_type": "code",
   "execution_count": null,
   "metadata": {
    "id": "yBmNrBl02GOv"
   },
   "outputs": [],
   "source": [
    "import scipy.stats as stats\n",
    "\n",
    "def nbclassify(nbmodel, X):\n",
    "  C = nbmodel['Nclass']\n",
    "  mu = nbmodel['smean']\n",
    "  covmat = nbmodel['scov']\n",
    "  Kt = np.shape(X)[0]\n",
    "  Lh = np.zeros((Kt,C))\n",
    "\n",
    "  for c in range(C):\n",
    "    Lh[:,c] = stats.multivariate_normal(mu[c],covmat[c]).pdf(X)\n",
    "\n",
    "  PosP = np.mat(Lh *  np.diag(nbmodel['prior']))\n",
    "  out = (PosP - np.max(PosP,axis=1)*np.ones((1,C)) == 0).astype('double')\n",
    "  \n",
    "  return out"
   ]
  }
 ],
 "metadata": {
  "colab": {
   "collapsed_sections": [],
   "name": "NBCdemo.ipynb",
   "provenance": []
  },
  "kernelspec": {
   "display_name": "Python 3",
   "language": "python",
   "name": "python3"
  },
  "language_info": {
   "codemirror_mode": {
    "name": "ipython",
    "version": 3
   },
   "file_extension": ".py",
   "mimetype": "text/x-python",
   "name": "python",
   "nbconvert_exporter": "python",
   "pygments_lexer": "ipython3",
   "version": "3.6.9"
  }
 },
 "nbformat": 4,
 "nbformat_minor": 1
}
