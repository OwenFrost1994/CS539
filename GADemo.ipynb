{
 "cells": [
  {
   "cell_type": "code",
   "execution_count": 1,
   "metadata": {
    "id": "TrCF7pPHwiNM"
   },
   "outputs": [],
   "source": [
    "from math import cos\n",
    "from math import sin\n",
    "from math import pi\n",
    "from random import shuffle\n",
    "from sklearn.metrics.pairwise import euclidean_distances\n",
    "\n",
    "# Set up TSP problem size \n",
    "N = 8\n",
    "\n",
    "# Generate a TSP problem for N cities\n",
    "dr = (2 * pi) / N\n",
    "\n",
    "x0 = []\n",
    "for i in range(0,N):\n",
    "    radians = dr * i  \n",
    "    x0.append([0.4*cos(radians) + .5, 0.4*sin(radians)+ .5])\n",
    "\n",
    "#shuffle(x0)\n",
    "\n",
    "citydistance = euclidean_distances(x0) # a matrix containing city to city distance"
   ]
  },
  {
   "cell_type": "code",
   "execution_count": 7,
   "metadata": {},
   "outputs": [
    {
     "data": {
      "text/plain": [
       "array([[0.        , 0.30614675, 0.56568542, 0.73910363, 0.8       ,\n",
       "        0.73910363, 0.56568542, 0.30614675],\n",
       "       [0.30614675, 0.        , 0.30614675, 0.56568542, 0.73910363,\n",
       "        0.8       , 0.73910363, 0.56568542],\n",
       "       [0.56568542, 0.30614675, 0.        , 0.30614675, 0.56568542,\n",
       "        0.73910363, 0.8       , 0.73910363],\n",
       "       [0.73910363, 0.56568542, 0.30614675, 0.        , 0.30614675,\n",
       "        0.56568542, 0.73910363, 0.8       ],\n",
       "       [0.8       , 0.73910363, 0.56568542, 0.30614675, 0.        ,\n",
       "        0.30614675, 0.56568542, 0.73910363],\n",
       "       [0.73910363, 0.8       , 0.73910363, 0.56568542, 0.30614675,\n",
       "        0.        , 0.30614675, 0.56568542],\n",
       "       [0.56568542, 0.73910363, 0.8       , 0.73910363, 0.56568542,\n",
       "        0.30614675, 0.        , 0.30614675],\n",
       "       [0.30614675, 0.56568542, 0.73910363, 0.8       , 0.73910363,\n",
       "        0.56568542, 0.30614675, 0.        ]])"
      ]
     },
     "execution_count": 7,
     "metadata": {},
     "output_type": "execute_result"
    }
   ],
   "source": [
    "citydistance"
   ]
  },
  {
   "cell_type": "code",
   "execution_count": 2,
   "metadata": {
    "colab": {
     "base_uri": "https://localhost:8080/",
     "height": 281
    },
    "id": "n_DBQXyRxCZM",
    "outputId": "8cd6995b-1839-485a-aefa-e3e3dc157aad"
   },
   "outputs": [
    {
     "name": "stderr",
     "output_type": "stream",
     "text": [
      "In /home/hp/.local/lib/python3.6/site-packages/matplotlib/mpl-data/stylelib/_classic_test.mplstyle: \n",
      "The text.latex.preview rcparam was deprecated in Matplotlib 3.3 and will be removed two minor releases later.\n",
      "In /home/hp/.local/lib/python3.6/site-packages/matplotlib/mpl-data/stylelib/_classic_test.mplstyle: \n",
      "The mathtext.fallback_to_cm rcparam was deprecated in Matplotlib 3.3 and will be removed two minor releases later.\n",
      "In /home/hp/.local/lib/python3.6/site-packages/matplotlib/mpl-data/stylelib/_classic_test.mplstyle: Support for setting the 'mathtext.fallback_to_cm' rcParam is deprecated since 3.3 and will be removed two minor releases later; use 'mathtext.fallback : 'cm' instead.\n",
      "In /home/hp/.local/lib/python3.6/site-packages/matplotlib/mpl-data/stylelib/_classic_test.mplstyle: \n",
      "The validate_bool_maybe_none function was deprecated in Matplotlib 3.3 and will be removed two minor releases later.\n",
      "In /home/hp/.local/lib/python3.6/site-packages/matplotlib/mpl-data/stylelib/_classic_test.mplstyle: \n",
      "The savefig.jpeg_quality rcparam was deprecated in Matplotlib 3.3 and will be removed two minor releases later.\n",
      "In /home/hp/.local/lib/python3.6/site-packages/matplotlib/mpl-data/stylelib/_classic_test.mplstyle: \n",
      "The keymap.all_axes rcparam was deprecated in Matplotlib 3.3 and will be removed two minor releases later.\n",
      "In /home/hp/.local/lib/python3.6/site-packages/matplotlib/mpl-data/stylelib/_classic_test.mplstyle: \n",
      "The animation.avconv_path rcparam was deprecated in Matplotlib 3.3 and will be removed two minor releases later.\n",
      "In /home/hp/.local/lib/python3.6/site-packages/matplotlib/mpl-data/stylelib/_classic_test.mplstyle: \n",
      "The animation.avconv_args rcparam was deprecated in Matplotlib 3.3 and will be removed two minor releases later.\n"
     ]
    },
    {
     "data": {
      "image/png": "[encoded data removed]",
      "text/plain": [
       "<Figure size 432x288 with 1 Axes>"
      ]
     },
     "metadata": {
      "needs_background": "light"
     },
     "output_type": "display_data"
    }
   ],
   "source": [
    "import matplotlib.pyplot as plt\n",
    "# Display the shuffled datapoints\n",
    "plt_x,plt_y = zip(*x0)\n",
    "fig, ax = plt.subplots()\n",
    "ax.scatter(plt_x, plt_y)\n",
    "ax.plot(plt_x, plt_y)\n",
    "\n",
    "for i in range(N):\n",
    "  ax.annotate(str(i), (plt_x[i], plt_y[i]))\n",
    "plt.title(\"City Locations\")\n",
    "plt.show()\n"
   ]
  },
  {
   "cell_type": "code",
   "execution_count": 3,
   "metadata": {
    "id": "SfNst3ecxuHP"
   },
   "outputs": [],
   "source": [
    "import numpy as np\n",
    "########################################### \n",
    "# Genetic Search\n",
    "ngen = 1000\n",
    "ngpool = N\n",
    "\n",
    "gpool = np.zeros((ngpool,N)).astype('int')\n",
    " \n",
    "for i in range(ngpool):\n",
    "  # We ensure that the first element remains 0\n",
    "#  if i == 0:\n",
    "#    gpool[i] = range(N)\n",
    "#  else:\n",
    "  gpool[i,1:] = (np.random.permutation(N-1) + 1)\n",
    "\n",
    "  costmin = N\n",
    "  tourmin = np.zeros(N)\n",
    "  cost = np.zeros(ngpool)\n",
    "for i in range(ngen):\n",
    "  # step 1. evaluate the fitness of current chromosomes\n",
    "  # for tsp problem it is the trip length. the smaller the better\n",
    "  for j in range(ngpool):\n",
    "    id_shift = gpool[j,-1:].tolist() + gpool[j,:-1].tolist()\n",
    "    cost[j] = np.sum(np.diag(citydistance[gpool[j,:].tolist(),id_shift]))\n",
    "\n",
    "  # Record the current best solution\n",
    "  costmin = np.amin(cost)\n",
    "  idx = np.argmin(cost)\n",
    "  tourmin = gpool[idx,:]\n",
    "\n",
    "  #print(cost)\n",
    "  #print(costmin)\n",
    "  # step 2. cross breeding and mutation\n",
    "  # since each chromosome is an integer vector, cross breeding\n",
    "  # can not be done simply by combining binary vectors. \n",
    "  # Instead, we let the off-spring to keep the common genes of\n",
    "  # the parents, and randomly shuffle genes when parents disagree\n",
    "  # for simplicity, we only cross-breed the two best solutions. \n",
    "\n",
    "  ridx = sorted(range(len(cost)), key=lambda k: cost[k])\n",
    "\n",
    "\n",
    "  # parents\n",
    "  mother = gpool[ridx[0],:]\n",
    "  father = gpool[ridx[1],:]\n",
    "  # find index of genes that are the same in father and mother\n",
    "  sameidx = father == mother\n",
    "  diffidx = np.nonzero(1 - sameidx)[0]\n",
    "\n",
    "\n",
    "  if len(diffidx <= 4): # father and mother too close!\n",
    "    # do mutation\n",
    "    boy = [0] + (np.random.permutation(N-1) + 1).tolist()\n",
    "    girl = [0] + (np.random.permutation(N-1) + 1).tolist()\n",
    "  else:\n",
    "    boy = father * sameidx\n",
    "    boy[diffidx] = father[diffidx[np.random.permutation(len(diffidx))]]\n",
    "    girl = mother * sameidx\n",
    "    girl[diffidx] = mother[diffidx[np.random.permutation(len(diffidx))]]\n",
    "  \n",
    "  #Replace the worst two\n",
    "  gpool[ridx[-2]] = boy\n",
    "  gpool[ridx[-1]] = girl\n"
   ]
  },
  {
   "cell_type": "code",
   "execution_count": 4,
   "metadata": {
    "colab": {
     "base_uri": "https://localhost:8080/"
    },
    "id": "oUOCwElrRgAn",
    "outputId": "77a86992-2232-4245-d716-6669413ef54e"
   },
   "outputs": [
    {
     "name": "stdout",
     "output_type": "stream",
     "text": [
      "cost function evaluation: 2008 times!\n",
      "Minimum trip length = 2.4491739671365753\n",
      "optimum tour = [0 7 6 5 4 3 2 1]\n"
     ]
    }
   ],
   "source": [
    "print(\"cost function evaluation: \" + str(ngen*2 + ngpool) + \" times!\")\n",
    "print(\"Minimum trip length = \" + str(costmin))\n",
    "print(\"optimum tour = \" + str(tourmin))"
   ]
  },
  {
   "cell_type": "code",
   "execution_count": 5,
   "metadata": {
    "colab": {
     "base_uri": "https://localhost:8080/",
     "height": 281
    },
    "id": "vBb9n2mncH4d",
    "outputId": "cef251e3-18c5-42b8-8c66-5e6bdcfbbafe"
   },
   "outputs": [
    {
     "data": {
      "image/png": "[encoded data removed]",
      "text/plain": [
       "<Figure size 432x288 with 1 Axes>"
      ]
     },
     "metadata": {
      "needs_background": "light"
     },
     "output_type": "display_data"
    }
   ],
   "source": [
    "import matplotlib.pyplot as plt\n",
    "# Display the shuffled datapoints\n",
    "plt_x,plt_y = zip(*x0)\n",
    "fig, ax = plt.subplots()\n",
    "ax.scatter(plt_x, plt_y)\n",
    "ax.plot(np.array(plt_x)[tourmin],np.array(plt_y)[tourmin])\n",
    "\n",
    "for i in range(N):\n",
    "  ax.annotate(str(i), (plt_x[i], plt_y[i]))\n",
    "plt.title(\"Genetic Search, cost = \" + str(costmin))\n",
    "plt.show()"
   ]
  },
  {
   "cell_type": "code",
   "execution_count": null,
   "metadata": {
    "id": "E7qNuhicdfSt"
   },
   "outputs": [],
   "source": []
  }
 ],
 "metadata": {
  "colab": {
   "collapsed_sections": [],
   "name": "GADemo.ipynb",
   "provenance": []
  },
  "kernelspec": {
   "display_name": "Python 3",
   "language": "python",
   "name": "python3"
  },
  "language_info": {
   "codemirror_mode": {
    "name": "ipython",
    "version": 3
   },
   "file_extension": ".py",
   "mimetype": "text/x-python",
   "name": "python",
   "nbconvert_exporter": "python",
   "pygments_lexer": "ipython3",
   "version": "3.6.9"
  },
  "varInspector": {
   "cols": {
    "lenName": 16,
    "lenType": 16,
    "lenVar": 40
   },
   "kernels_config": {
    "python": {
     "delete_cmd_postfix": "",
     "delete_cmd_prefix": "del ",
     "library": "var_list.py",
     "varRefreshCmd": "print(var_dic_list())"
    },
    "r": {
     "delete_cmd_postfix": ") ",
     "delete_cmd_prefix": "rm(",
     "library": "var_list.r",
     "varRefreshCmd": "cat(var_dic_list()) "
    }
   },
   "types_to_exclude": [
    "module",
    "function",
    "builtin_function_or_method",
    "instance",
    "_Feature"
   ],
   "window_display": false
  }
 },
 "nbformat": 4,
 "nbformat_minor": 1
}
