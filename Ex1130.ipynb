{
 "cells": [
  {
   "cell_type": "code",
   "execution_count": 2,
   "metadata": {},
   "outputs": [
    {
     "name": "stdout",
     "output_type": "stream",
     "text": [
      "Simulated Annealing Algorithm for shortest path：\n",
      "The best path is： [4, 0, 3, 2, 1]\n",
      "The corresponding cities ['Madison', 'Minneapolis', 'Chicago', 'Greenbay', 'Iowacity']\n",
      "The number of nodes in path： 5\n",
      "The minimum cost is： 934\n"
     ]
    }
   ],
   "source": [
    "import os\n",
    "import sys\n",
    "import math\n",
    "import numpy as np\n",
    "\n",
    "import matplotlib.pyplot as plt\n",
    "from random import choice, shuffle, sample, uniform\n",
    "\n",
    "names = ['Madison', 'Minneapolis', 'Chicago', 'Greenbay', 'Iowacity']\n",
    "arr = ([0,270,150,140,175],\n",
    "       [270,0,408,280,304],\n",
    "       [150,408,0,211,221],\n",
    "       [140,280,211,0,315],\n",
    "       [175,304,221,315,0])\n",
    "\n",
    "num = len(arr)\n",
    "\n",
    "print(\"Simulated Annealing Algorithm for shortest path：\")\n",
    "\n",
    "def valSimulateAnnealSum(curnode, nextnodeList, t):\n",
    "\n",
    "    if nextnodeList == None or len(nextnodeList) < 1:\n",
    "        print(\"empty\")\n",
    "        return 0\n",
    "\n",
    "    maxcost = sys.maxsize\n",
    "    retnode = 0\n",
    "\n",
    "    for node in nextnodeList:\n",
    "        # print \"curnode : \",curnode ,\" node: \" ,node ,\" mincost : \",mincost\n",
    "\n",
    "        t *= 0.98  ## 退火因子\n",
    "        if arr[curnode][node] < maxcost:\n",
    "            maxcost = arr[curnode][node]\n",
    "            retnode = node\n",
    "        else:#r = uniform(0, 1)\n",
    "            r = math.exp((arr[curnode][node] - maxcost)/t)\n",
    "            if arr[curnode][node] > maxcost and t > t_min and math.exp((arr[curnode][node] - maxcost) / t) > r:\n",
    "                #print \" t = \" ,t , \"maxcost = \", maxcost , \" arr = \" ,arr[curnode][node],   \"  exp = \",math.exp((arr[curnode][node] - maxcost)/t)  ,  \" r = \",r , \"t_min = \" ,t_min\n",
    "                retnode = node\n",
    "                maxcost = arr[curnode][node]\n",
    "                return(retnode, maxcost, t)\n",
    "\n",
    "    return (retnode, maxcost, t)\n",
    "\n",
    "\n",
    "indexList = [i for i in range(num)]\n",
    "selectedList = []\n",
    "\n",
    "mincost = sys.maxsize\n",
    "\n",
    "count = 0\n",
    "t = 100\n",
    "t_min = 50\n",
    "while count < num:\n",
    "    count += 1\n",
    "    leftItemNum = len(indexList)\n",
    "    #  print \"leftItemNum:\" ,leftItemNum\n",
    "    #nextnum = leftItemNum // 10 if leftItemNum >= 10 else leftItemNum % 10\n",
    "    #nextnodeList = sample(indexList, nextnum)\n",
    "    if leftItemNum < 2:\n",
    "        leftItemNum = 1\n",
    "    else:\n",
    "        leftItemNum -= 1\n",
    "    \n",
    "    nextnodeList = sample(indexList, leftItemNum)\n",
    "    \n",
    "    if len(selectedList) == 0:\n",
    "        item = choice(nextnodeList)\n",
    "        selectedList.append(item)\n",
    "        indexList.remove(item)\n",
    "        mincost = 0\n",
    "        continue\n",
    "\n",
    "    curnode = selectedList[len(selectedList) - 1]\n",
    "    # print \"nextnodeList:\" ,nextnodeList\n",
    "    nextnode, maxcost, t = valSimulateAnnealSum(curnode, indexList, t)\n",
    "    \n",
    "    mincost += maxcost\n",
    "    indexList.remove(nextnode)\n",
    "    selectedList.append(nextnode)\n",
    "\n",
    "print(\"The best path is：\", selectedList)\n",
    "print(\"The corresponding cities\",names)\n",
    "print(\"The number of nodes in path：\", len(selectedList))\n",
    "print(\"The minimum cost is：\", mincost)"
   ]
  },
  {
   "cell_type": "code",
   "execution_count": null,
   "metadata": {},
   "outputs": [],
   "source": []
  }
 ],
 "metadata": {
  "kernelspec": {
   "display_name": "Python 3",
   "language": "python",
   "name": "python3"
  },
  "language_info": {
   "codemirror_mode": {
    "name": "ipython",
    "version": 3
   },
   "file_extension": ".py",
   "mimetype": "text/x-python",
   "name": "python",
   "nbconvert_exporter": "python",
   "pygments_lexer": "ipython3",
   "version": "3.6.9"
  },
  "varInspector": {
   "cols": {
    "lenName": 16,
    "lenType": 16,
    "lenVar": 40
   },
   "kernels_config": {
    "python": {
     "delete_cmd_postfix": "",
     "delete_cmd_prefix": "del ",
     "library": "var_list.py",
     "varRefreshCmd": "print(var_dic_list())"
    },
    "r": {
     "delete_cmd_postfix": ") ",
     "delete_cmd_prefix": "rm(",
     "library": "var_list.r",
     "varRefreshCmd": "cat(var_dic_list()) "
    }
   },
   "types_to_exclude": [
    "module",
    "function",
    "builtin_function_or_method",
    "instance",
    "_Feature"
   ],
   "window_display": false
  }
 },
 "nbformat": 4,
 "nbformat_minor": 4
}
